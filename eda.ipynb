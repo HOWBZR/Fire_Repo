{
 "cells": [
  {
   "cell_type": "code",
   "execution_count": 1,
   "id": "f0e852e6-8d48-414d-ad9e-b7220838fd6b",
   "metadata": {},
   "outputs": [],
   "source": [
    "import pandas as pd\n",
    "import seaborn as sns\n",
    "import matplotlib.pyplot as plt \n",
    "import numpy as np\n",
    "from plotnine import ggplot, aes, geom_bar, geom_point #datavis library"
   ]
  },
  {
   "cell_type": "code",
   "execution_count": 2,
   "id": "25dabd75-2a09-4ca0-ae00-9967c83bca8b",
   "metadata": {},
   "outputs": [],
   "source": [
    "df = pd.read_csv('Data/complete_fire.csv')"
   ]
  },
  {
   "cell_type": "code",
   "execution_count": 3,
   "id": "7f9b2b2b-2aa2-4925-b0b3-b5b79ae9a5f2",
   "metadata": {},
   "outputs": [
    {
     "data": {
      "text/plain": [
       "unique_fire_identifier        0\n",
       "lattitude                     0\n",
       "longitude                     0\n",
       "acres_burned                  0\n",
       "fire_cause                    0\n",
       "incident_name                 0\n",
       "IsFSAssisted                  0\n",
       "origin_county                 0\n",
       "state                         0\n",
       "year                          0\n",
       "month                         0\n",
       "value                     40987\n",
       "anomaly                   40987\n",
       "area (acres)              39756\n",
       "population                39756\n",
       "d0                        34889\n",
       "d1                        34889\n",
       "d2                        34889\n",
       "d3                        34889\n",
       "d4                        34889\n",
       "DSCI_avg                  34889\n",
       "DSCI_summed               34889\n",
       "precipitation(in)         42654\n",
       "dtype: int64"
      ]
     },
     "execution_count": 3,
     "metadata": {},
     "output_type": "execute_result"
    }
   ],
   "source": [
    "df.isnull().sum()"
   ]
  },
  {
   "cell_type": "code",
   "execution_count": 4,
   "id": "605b2554-2d98-4ccd-bd25-5902e032b7da",
   "metadata": {},
   "outputs": [],
   "source": [
    "#Load libraries\n",
    "import os"
   ]
  },
  {
   "cell_type": "code",
   "execution_count": 5,
   "id": "e124a188-9e57-407b-a5bd-01328e061683",
   "metadata": {},
   "outputs": [],
   "source": [
    "from sklearn.impute import KNNImputer"
   ]
  },
  {
   "cell_type": "code",
   "execution_count": 6,
   "id": "24bbc816-2634-4598-998a-f98224566b0b",
   "metadata": {},
   "outputs": [],
   "source": [
    "imp = KNNImputer(n_neighbors = 5)"
   ]
  },
  {
   "cell_type": "code",
   "execution_count": null,
   "id": "2defd914-949b-4e71-994a-5f17bb41721c",
   "metadata": {},
   "outputs": [],
   "source": []
  },
  {
   "cell_type": "code",
   "execution_count": 4,
   "id": "4af03f9c-be3d-4ec0-9422-b21e534f237c",
   "metadata": {},
   "outputs": [],
   "source": [
    "df2 = df.dropna()"
   ]
  },
  {
   "cell_type": "code",
   "execution_count": null,
   "id": "9c91f76b-96f1-4f51-aa19-b03057e5fbea",
   "metadata": {},
   "outputs": [],
   "source": [
    "#sns.pairplot(df2) # i think this is kind of unreadable"
   ]
  },
  {
   "cell_type": "code",
   "execution_count": null,
   "id": "1e4cd27a-85a1-4e2b-afb4-399649af418e",
   "metadata": {},
   "outputs": [],
   "source": [
    "corr = df2.corr()[['acres_burned']].sort_values('acres_burned' ,ascending =False) "
   ]
  },
  {
   "cell_type": "code",
   "execution_count": null,
   "id": "317965c5-1ea9-421a-b736-db11d5dc3d90",
   "metadata": {},
   "outputs": [],
   "source": [
    "plt.figure(figsize = (30, 30))\n",
    "sns.heatmap(corr, annot =True, cmap = 'winter', vmin=-1, vmax =1);\n",
    "plt.title('corr plot'); #heatmap"
   ]
  },
  {
   "cell_type": "code",
   "execution_count": null,
   "id": "b7f2507d-9f0d-458a-b782-5e304a0c64b7",
   "metadata": {},
   "outputs": [],
   "source": [
    "plt.hist(df2['year'], bins = 6);"
   ]
  },
  {
   "cell_type": "code",
   "execution_count": null,
   "id": "cc5d7bbe-0f1e-4191-b272-dc9a1aad6eac",
   "metadata": {},
   "outputs": [],
   "source": [
    "plt.hist(df2['precipitation(in)']);"
   ]
  },
  {
   "cell_type": "code",
   "execution_count": null,
   "id": "0567c9b4-4704-427f-98c1-833c8c46bd21",
   "metadata": {},
   "outputs": [],
   "source": [
    "plt.hist(df2['value']);"
   ]
  },
  {
   "cell_type": "code",
   "execution_count": null,
   "id": "89d84a71-1cc2-485b-968d-2d29db6dde4b",
   "metadata": {},
   "outputs": [],
   "source": [
    "plt.hist(df2['anomaly']);"
   ]
  },
  {
   "cell_type": "code",
   "execution_count": null,
   "id": "00b3468c-a7ce-4a44-af97-a5f6ff11adfc",
   "metadata": {},
   "outputs": [],
   "source": [
    "plt.hist(df2['month'], bins = 12);"
   ]
  },
  {
   "cell_type": "code",
   "execution_count": null,
   "id": "8d23b4a7-b4c7-4497-9200-6cf1fc8bff1b",
   "metadata": {},
   "outputs": [],
   "source": [
    "plt.hist(df2['population']);"
   ]
  },
  {
   "cell_type": "code",
   "execution_count": null,
   "id": "e2f351ca-c180-4827-af16-569532546b25",
   "metadata": {},
   "outputs": [],
   "source": [
    "df['state'].value_counts()"
   ]
  },
  {
   "cell_type": "code",
   "execution_count": 5,
   "id": "96319f32-2089-406d-9ac6-55946cd1e64e",
   "metadata": {},
   "outputs": [],
   "source": [
    "bins = [0, 0.2501, 9.901, 99.901, 299.01, 999.01, 4999.01, 9999.01, 49999.01, 99999.01]\n",
    "group_names = ['A','B','C','D','E','F','G','H','I','J']\n"
   ]
  },
  {
   "cell_type": "code",
   "execution_count": 6,
   "id": "2ff8eb42-505b-4366-871a-65ed2d458c58",
   "metadata": {},
   "outputs": [
    {
     "name": "stderr",
     "output_type": "stream",
     "text": [
      "C:\\Users\\dmarm\\AppData\\Local\\Temp\\ipykernel_13264\\1920520338.py:3: SettingWithCopyWarning: \n",
      "A value is trying to be set on a copy of a slice from a DataFrame.\n",
      "Try using .loc[row_indexer,col_indexer] = value instead\n",
      "\n",
      "See the caveats in the documentation: https://pandas.pydata.org/pandas-docs/stable/user_guide/indexing.html#returning-a-view-versus-a-copy\n"
     ]
    }
   ],
   "source": [
    "d = dict(enumerate(group_names, 1))\n",
    "\n",
    "df2['class'] = np.vectorize(d.get)(np.digitize(df2['acres_burned'], bins))"
   ]
  },
  {
   "cell_type": "code",
   "execution_count": null,
   "id": "bf5d0ff5-6933-4f9a-8f64-f60b44633cfe",
   "metadata": {},
   "outputs": [],
   "source": [
    "df2.head()"
   ]
  },
  {
   "cell_type": "code",
   "execution_count": null,
   "id": "6e46e7c5-4c40-4c7e-96f2-9b3c3b9a4074",
   "metadata": {},
   "outputs": [],
   "source": []
  },
  {
   "cell_type": "code",
   "execution_count": null,
   "id": "e692d0f3-7a01-4aa0-94c0-1e33b90c9e1c",
   "metadata": {},
   "outputs": [],
   "source": [
    "df2.info()"
   ]
  },
  {
   "cell_type": "code",
   "execution_count": null,
   "id": "3464ef3e-d2eb-43af-a1aa-5b76ca0a925f",
   "metadata": {},
   "outputs": [],
   "source": [
    "df2['class'].value_counts()"
   ]
  },
  {
   "cell_type": "code",
   "execution_count": 17,
   "id": "366d1a2e-ee41-4a0f-bb7f-3f37957f6dd5",
   "metadata": {},
   "outputs": [
    {
     "data": {
      "text/plain": [
       "0.3306212000741303"
      ]
     },
     "execution_count": 17,
     "metadata": {},
     "output_type": "execute_result"
    }
   ],
   "source": [
    "baseline = 55304/167273\n",
    "baseline"
   ]
  },
  {
   "cell_type": "code",
   "execution_count": null,
   "id": "0757a4fe-e35d-4bef-80f0-f111df22c633",
   "metadata": {},
   "outputs": [],
   "source": [
    "plt.figure(figsize = (50, 50))\n",
    "ggplot(aes(x = 'state', fill = 'class'), data = df2) + geom_bar()"
   ]
  },
  {
   "cell_type": "code",
   "execution_count": null,
   "id": "d95a4419-e47d-43de-95d4-1bdeeb9f3d17",
   "metadata": {},
   "outputs": [],
   "source": [
    "plt.figure(figsize = (50, 50))\n",
    "ggplot(aes(x = 'value', y= 'precipitation(in)', fill = 'class'), data = df2) + geom_point()"
   ]
  },
  {
   "cell_type": "code",
   "execution_count": 8,
   "id": "2f0ee64d-af90-4404-b8be-f7a2e382213c",
   "metadata": {},
   "outputs": [
    {
     "data": {
      "text/plain": [
       "<Figure size 3600x3600 with 0 Axes>"
      ]
     },
     "metadata": {},
     "output_type": "display_data"
    },
    {
     "data": {
      "image/png": "[encoded data removed]",
      "text/plain": [
       "<Figure size 640x480 with 1 Axes>"
      ]
     },
     "metadata": {},
     "output_type": "display_data"
    },
    {
     "data": {
      "text/plain": [
       "<ggplot: (132821197719)>"
      ]
     },
     "execution_count": 8,
     "metadata": {},
     "output_type": "execute_result"
    }
   ],
   "source": [
    "plt.figure(figsize = (50, 50))\n",
    "ggplot(aes(x = 'year', fill = 'class'), data = df2) + geom_bar()"
   ]
  },
  {
   "cell_type": "code",
   "execution_count": 7,
   "id": "f8de8fd2-ffde-42cf-b6c5-64fe31992c38",
   "metadata": {},
   "outputs": [
    {
     "data": {
      "text/plain": [
       "<Figure size 3600x3600 with 0 Axes>"
      ]
     },
     "metadata": {},
     "output_type": "display_data"
    },
    {
     "data": {
      "image/png": "[encoded data removed]",
      "text/plain": [
       "<Figure size 640x480 with 1 Axes>"
      ]
     },
     "metadata": {},
     "output_type": "display_data"
    },
    {
     "data": {
      "text/plain": [
       "<ggplot: (132813311103)>"
      ]
     },
     "execution_count": 7,
     "metadata": {},
     "output_type": "execute_result"
    }
   ],
   "source": [
    "plt.figure(figsize = (50, 50))\n",
    "ggplot(aes(x = 'month', fill = 'class'), data = df2) + geom_bar()"
   ]
  },
  {
   "cell_type": "code",
   "execution_count": null,
   "id": "25863005-cf5a-40f8-ac48-386b818c3097",
   "metadata": {},
   "outputs": [],
   "source": [
    "df2['origin_county'].value_counts().head(15)"
   ]
  },
  {
   "cell_type": "code",
   "execution_count": null,
   "id": "caefa406-6556-41fe-8255-848ff9ed5706",
   "metadata": {},
   "outputs": [],
   "source": [
    "df2['fire_cause'].value_counts()"
   ]
  },
  {
   "cell_type": "code",
   "execution_count": null,
   "id": "4fbbeb4d-e6ab-47ac-b51b-93cd6e6f1137",
   "metadata": {},
   "outputs": [],
   "source": [
    "ca_fire = df2[df2[\"state\"] == 'CA']"
   ]
  },
  {
   "cell_type": "code",
   "execution_count": null,
   "id": "64c687b5-925f-47c4-b5e9-3f48b208e9f9",
   "metadata": {},
   "outputs": [],
   "source": [
    "corr2 = ca_fire.corr()[['acres_burned']].sort_values('acres_burned' ,ascending =False) "
   ]
  },
  {
   "cell_type": "code",
   "execution_count": null,
   "id": "46a996c5-401b-49f4-ba22-422634d81680",
   "metadata": {},
   "outputs": [],
   "source": [
    "plt.figure(figsize = (30, 30))\n",
    "sns.heatmap(corr2, annot =True, cmap = 'winter', vmin=-1, vmax =1);\n",
    "plt.title('corr plot'); #heatmap"
   ]
  },
  {
   "cell_type": "code",
   "execution_count": null,
   "id": "8a507224-efe4-4323-9389-e2eb7357d197",
   "metadata": {},
   "outputs": [],
   "source": [
    "la_county_fire = ca_fire[ca_fire[\"origin_county\"] == 'Los Angeles']"
   ]
  },
  {
   "cell_type": "code",
   "execution_count": null,
   "id": "052869d7-ba22-4c37-9db7-f219c692a743",
   "metadata": {},
   "outputs": [],
   "source": [
    "corr3 = la_county_fire.corr()[['acres_burned']].sort_values('acres_burned' ,ascending =False) "
   ]
  },
  {
   "cell_type": "code",
   "execution_count": null,
   "id": "d7e6c98d-dacc-4c93-ace4-0552dad0c58c",
   "metadata": {},
   "outputs": [],
   "source": [
    "plt.figure(figsize = (30, 30))\n",
    "sns.heatmap(corr3, annot =True, cmap = 'winter', vmin=-1, vmax =1);\n",
    "plt.title('corr plot'); #heatmap"
   ]
  },
  {
   "cell_type": "code",
   "execution_count": null,
   "id": "02f8419c-8018-4c7c-b070-57288e03e3c3",
   "metadata": {},
   "outputs": [],
   "source": [
    "plt.hist(la_county_fire['month'], bins = 12);"
   ]
  },
  {
   "cell_type": "code",
   "execution_count": null,
   "id": "97342964-750a-48d1-b256-899bf3493cd6",
   "metadata": {},
   "outputs": [],
   "source": [
    "plt.figure(figsize = (50, 50))\n",
    "ggplot(aes(x = 'year', fill = 'class'), data = la_county_fire) + geom_bar()"
   ]
  },
  {
   "cell_type": "code",
   "execution_count": null,
   "id": "ea5ca8f1-d654-4e01-9b6a-1bdb0bfc1046",
   "metadata": {},
   "outputs": [],
   "source": [
    "la_county_fire['class'].value_counts()"
   ]
  },
  {
   "cell_type": "code",
   "execution_count": null,
   "id": "106b7a68-8012-4558-bbb3-d9ce985be78b",
   "metadata": {},
   "outputs": [],
   "source": [
    "big_fire = df2[df2[\"acres_burned\"] > 99.9]"
   ]
  },
  {
   "cell_type": "code",
   "execution_count": null,
   "id": "bd91c975-971a-4191-b81c-eff210206c53",
   "metadata": {},
   "outputs": [],
   "source": [
    "big_fire['class'].value_counts()"
   ]
  },
  {
   "cell_type": "code",
   "execution_count": null,
   "id": "9d783f67-f71c-435e-98ba-8dfe1463bbae",
   "metadata": {},
   "outputs": [],
   "source": [
    "corr4 = big_fire.corr()[['acres_burned']].sort_values('acres_burned' ,ascending =False) "
   ]
  },
  {
   "cell_type": "code",
   "execution_count": null,
   "id": "0074f608-0040-4e85-b262-1611b8073d2a",
   "metadata": {},
   "outputs": [],
   "source": [
    "plt.figure(figsize = (30, 30))\n",
    "sns.heatmap(corr4, annot =True, cmap = 'winter', vmin=-1, vmax =1);\n",
    "plt.title('corr plot'); #heatmap"
   ]
  },
  {
   "cell_type": "code",
   "execution_count": null,
   "id": "d4a01013-a3f5-4fde-9082-e8c97c7fec52",
   "metadata": {},
   "outputs": [],
   "source": [
    "plt.figure(figsize = (50, 50))\n",
    "ggplot(aes(x = 'fire_cause', fill = 'class'), data = df2) + geom_bar()"
   ]
  },
  {
   "cell_type": "code",
   "execution_count": null,
   "id": "0c1d2eb0-d686-48d6-9cfd-63e4ba52d84d",
   "metadata": {},
   "outputs": [],
   "source": [
    "class_map = {\n",
    "    'A' : 1,\n",
    "    'B' : 2,\n",
    "    'C' : 3, \n",
    "    'D' : 4, \n",
    "    'E' : 5, \n",
    "    'F' : 6, \n",
    "    'G' : 7, \n",
    "    'H' : 8, \n",
    "    'I' : 9, \n",
    "    'J' : 10\n",
    "}"
   ]
  },
  {
   "cell_type": "code",
   "execution_count": null,
   "id": "b81fb14f-c0a9-41e0-a8b7-f4d0eceef9ee",
   "metadata": {},
   "outputs": [],
   "source": [
    "df2['class'] = df2['class'].map(class_map)"
   ]
  },
  {
   "cell_type": "code",
   "execution_count": null,
   "id": "74930d9d-d50a-400e-9af3-d642d0402c6a",
   "metadata": {},
   "outputs": [],
   "source": [
    "class_map = {\n",
    "    1 : 0,\n",
    "    2 : 1,\n",
    "    3 : 2, \n",
    "    4 : 3, \n",
    "    5 : 4, \n",
    "    6 : 5, \n",
    "    7 : 6, \n",
    "    8 : 7, \n",
    "    9 : 8, \n",
    "    10 : 9\n",
    "}"
   ]
  },
  {
   "cell_type": "code",
   "execution_count": null,
   "id": "62f1d508-71c3-4dac-b0f9-ecaeced3d026",
   "metadata": {},
   "outputs": [],
   "source": [
    "df2['class'] = df2['class'].map(class_map)"
   ]
  },
  {
   "cell_type": "code",
   "execution_count": null,
   "id": "b77c10e9-327a-4fd2-b8c8-f6c8473b421f",
   "metadata": {
    "tags": []
   },
   "outputs": [],
   "source": [
    "df2.head()"
   ]
  },
  {
   "cell_type": "code",
   "execution_count": null,
   "id": "2f55db40-a993-4613-b608-e788887717af",
   "metadata": {},
   "outputs": [],
   "source": [
    "df2.info()"
   ]
  },
  {
   "cell_type": "code",
   "execution_count": 6,
   "id": "014d2bd4-1220-4c19-888a-fec2d30be1e2",
   "metadata": {},
   "outputs": [],
   "source": [
    "X = df2[['precipitation(in)', 'value', 'anomaly', 'area (acres)', 'population', 'd0', 'd1', 'd2', 'd3', 'd4', 'DSCI_avg', 'DSCI_summed']]\n",
    "y = df2['class']"
   ]
  },
  {
   "cell_type": "code",
   "execution_count": 7,
   "id": "77c0deb6-001a-4b72-90d9-dbc3cbae39bd",
   "metadata": {},
   "outputs": [],
   "source": [
    "from sklearn.model_selection import train_test_split\n",
    "from sklearn.preprocessing import StandardScaler\n",
    "from sklearn.ensemble import RandomForestClassifier, GradientBoostingClassifier\n",
    "from sklearn.metrics import confusion_matrix"
   ]
  },
  {
   "cell_type": "code",
   "execution_count": 8,
   "id": "04a01447-0a67-483f-84ac-0ce58b2316c1",
   "metadata": {},
   "outputs": [],
   "source": [
    "X_train, X_test, y_train, y_test = train_test_split(X, y)"
   ]
  },
  {
   "cell_type": "code",
   "execution_count": 9,
   "id": "43b582cd-276d-4a57-9563-38c2f7d0e2ed",
   "metadata": {},
   "outputs": [],
   "source": [
    "scaler = StandardScaler()\n",
    "X_train = scaler.fit_transform(X_train)\n",
    "X_test = scaler.transform(X_test)"
   ]
  },
  {
   "cell_type": "code",
   "execution_count": 10,
   "id": "4fda2032-b27f-49e8-9c52-400465cf8a36",
   "metadata": {},
   "outputs": [
    {
     "data": {
      "text/plain": [
       "RandomForestClassifier(n_estimators=10)"
      ]
     },
     "execution_count": 10,
     "metadata": {},
     "output_type": "execute_result"
    }
   ],
   "source": [
    "rf = RandomForestClassifier(n_estimators = 10)\n",
    "rf.fit(X_train, y_train)"
   ]
  },
  {
   "cell_type": "code",
   "execution_count": 11,
   "id": "8f7e9a52-3541-4848-9d99-0e2806ae62f9",
   "metadata": {},
   "outputs": [
    {
     "data": {
      "text/plain": [
       "0.6115787459945478"
      ]
     },
     "execution_count": 11,
     "metadata": {},
     "output_type": "execute_result"
    }
   ],
   "source": [
    "rf.score(X_train, y_train) "
   ]
  },
  {
   "cell_type": "code",
   "execution_count": 12,
   "id": "154d73e1-e0a3-4b4a-9731-3f2b66029170",
   "metadata": {},
   "outputs": [
    {
     "data": {
      "text/plain": [
       "0.5958057342356345"
      ]
     },
     "execution_count": 12,
     "metadata": {},
     "output_type": "execute_result"
    }
   ],
   "source": [
    "rf.score(X_test, y_test)"
   ]
  },
  {
   "cell_type": "code",
   "execution_count": 13,
   "id": "656c3987-d821-460b-b8a3-4866ce4526df",
   "metadata": {},
   "outputs": [
    {
     "data": {
      "text/plain": [
       "GradientBoostingClassifier(n_estimators=10)"
      ]
     },
     "execution_count": 13,
     "metadata": {},
     "output_type": "execute_result"
    }
   ],
   "source": [
    "gb = GradientBoostingClassifier(n_estimators = 10)\n",
    "gb.fit(X_train, y_train)"
   ]
  },
  {
   "cell_type": "code",
   "execution_count": 14,
   "id": "512aceb5-9b27-4658-8d8c-b2c89b6b96f9",
   "metadata": {},
   "outputs": [
    {
     "data": {
      "text/plain": [
       "0.5432987389800246"
      ]
     },
     "execution_count": 14,
     "metadata": {},
     "output_type": "execute_result"
    }
   ],
   "source": [
    "gb.score(X_train, y_train) "
   ]
  },
  {
   "cell_type": "code",
   "execution_count": 15,
   "id": "42079a02-5615-4f01-9078-bf36310fcbf6",
   "metadata": {},
   "outputs": [
    {
     "data": {
      "text/plain": [
       "0.5428632918051604"
      ]
     },
     "execution_count": 15,
     "metadata": {},
     "output_type": "execute_result"
    }
   ],
   "source": [
    "gb.score(X_test, y_test)"
   ]
  },
  {
   "cell_type": "code",
   "execution_count": 16,
   "id": "271dc142-6be3-4bb6-b042-380ee36a6703",
   "metadata": {},
   "outputs": [],
   "source": [
    "df2.to_csv('data.csv')"
   ]
  },
  {
   "cell_type": "code",
   "execution_count": null,
   "id": "f861ba56-90d4-486b-8e78-b468eb9b2d54",
   "metadata": {},
   "outputs": [],
   "source": []
  }
 ],
 "metadata": {
  "kernelspec": {
   "display_name": "Python [conda env:root] *",
   "language": "python",
   "name": "conda-root-py"
  },
  "language_info": {
   "codemirror_mode": {
    "name": "ipython",
    "version": 3
   },
   "file_extension": ".py",
   "mimetype": "text/x-python",
   "name": "python",
   "nbconvert_exporter": "python",
   "pygments_lexer": "ipython3",
   "version": "3.9.7"
  }
 },
 "nbformat": 4,
 "nbformat_minor": 5
}
