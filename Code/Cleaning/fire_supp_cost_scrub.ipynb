{
 "cells": [
  {
   "cell_type": "code",
   "execution_count": 9,
   "id": "259e545e-94f1-4891-82c9-4d2c80967443",
   "metadata": {},
   "outputs": [],
   "source": [
    "\n",
    "# general data and data viz imports\n",
    "import pandas as pd\n",
    "import os\n",
    "\n",
    "import numpy as np\n",
    "import matplotlib.pyplot as plt\n",
    "import seaborn as sns\n",
    "import missingno as msno\n",
    "\n",
    "from copy import copy\n",
    "# adjusting display restrictions \n",
    "pd.options.display.max_columns = 100\n",
    "pd.options.display.max_rows = 3000\n",
    "# setting preference to remove scientific notation \n",
    "pd.options.display.float_format = '{:,.2f}'.format\n",
    "\n",
    "%matplotlib inline"
   ]
  },
  {
   "cell_type": "code",
   "execution_count": 11,
   "id": "6d77b458-e47d-4e4d-829f-041e64237c22",
   "metadata": {},
   "outputs": [
    {
     "data": {
      "text/plain": [
       "year            int64\n",
       "fires           int64\n",
       "acres           int64\n",
       "doi_agencies    int64\n",
       "total           int64\n",
       "dtype: object"
      ]
     },
     "execution_count": 11,
     "metadata": {},
     "output_type": "execute_result"
    }
   ],
   "source": [
    "suppression = pd.read_csv('../data/to_clean_fire_supp.csv')\n",
    "\n",
    "suppression.dtypes"
   ]
  },
  {
   "cell_type": "code",
   "execution_count": 12,
   "id": "2a86c9f4-186c-47bc-bf68-643e81377a86",
   "metadata": {},
   "outputs": [
    {
     "data": {
      "text/html": [
       "<div>\n",
       "<style scoped>\n",
       "    .dataframe tbody tr th:only-of-type {\n",
       "        vertical-align: middle;\n",
       "    }\n",
       "\n",
       "    .dataframe tbody tr th {\n",
       "        vertical-align: top;\n",
       "    }\n",
       "\n",
       "    .dataframe thead th {\n",
       "        text-align: right;\n",
       "    }\n",
       "</style>\n",
       "<table border=\"1\" class=\"dataframe\">\n",
       "  <thead>\n",
       "    <tr style=\"text-align: right;\">\n",
       "      <th></th>\n",
       "      <th>year</th>\n",
       "      <th>fires</th>\n",
       "      <th>acres</th>\n",
       "      <th>doi_agencies</th>\n",
       "      <th>total</th>\n",
       "    </tr>\n",
       "  </thead>\n",
       "  <tbody>\n",
       "    <tr>\n",
       "      <th>0</th>\n",
       "      <td>1985</td>\n",
       "      <td>82591</td>\n",
       "      <td>2896147</td>\n",
       "      <td>78438000</td>\n",
       "      <td>239943000</td>\n",
       "    </tr>\n",
       "    <tr>\n",
       "      <th>1</th>\n",
       "      <td>1986</td>\n",
       "      <td>85907</td>\n",
       "      <td>2719162</td>\n",
       "      <td>91153000</td>\n",
       "      <td>202778000</td>\n",
       "    </tr>\n",
       "    <tr>\n",
       "      <th>2</th>\n",
       "      <td>1987</td>\n",
       "      <td>71300</td>\n",
       "      <td>2442296</td>\n",
       "      <td>81452000</td>\n",
       "      <td>335109000</td>\n",
       "    </tr>\n",
       "    <tr>\n",
       "      <th>3</th>\n",
       "      <td>1988</td>\n",
       "      <td>72750</td>\n",
       "      <td>5009290</td>\n",
       "      <td>149317000</td>\n",
       "      <td>578926000</td>\n",
       "    </tr>\n",
       "    <tr>\n",
       "      <th>4</th>\n",
       "      <td>1989</td>\n",
       "      <td>48949</td>\n",
       "      <td>1827310</td>\n",
       "      <td>168115000</td>\n",
       "      <td>499787000</td>\n",
       "    </tr>\n",
       "  </tbody>\n",
       "</table>\n",
       "</div>"
      ],
      "text/plain": [
       "   year  fires   acres   doi_agencies      total\n",
       "0  1985  82591  2896147      78438000  239943000\n",
       "1  1986  85907  2719162      91153000  202778000\n",
       "2  1987  71300  2442296      81452000  335109000\n",
       "3  1988  72750  5009290     149317000  578926000\n",
       "4  1989  48949  1827310     168115000  499787000"
      ]
     },
     "execution_count": 12,
     "metadata": {},
     "output_type": "execute_result"
    }
   ],
   "source": [
    "suppression.head()"
   ]
  },
  {
   "cell_type": "code",
   "execution_count": 14,
   "id": "1fb6f226-b57d-4912-8270-9345d3ed225f",
   "metadata": {},
   "outputs": [
    {
     "data": {
      "text/plain": [
       "Index(['year', 'fires', 'acres ', 'doi_agencies', 'total'], dtype='object')"
      ]
     },
     "execution_count": 14,
     "metadata": {},
     "output_type": "execute_result"
    }
   ],
   "source": [
    "suppression.columns"
   ]
  },
  {
   "cell_type": "code",
   "execution_count": 16,
   "id": "c61ea0b5",
   "metadata": {},
   "outputs": [
    {
     "data": {
      "text/html": [
       "<div>\n",
       "<style scoped>\n",
       "    .dataframe tbody tr th:only-of-type {\n",
       "        vertical-align: middle;\n",
       "    }\n",
       "\n",
       "    .dataframe tbody tr th {\n",
       "        vertical-align: top;\n",
       "    }\n",
       "\n",
       "    .dataframe thead th {\n",
       "        text-align: right;\n",
       "    }\n",
       "</style>\n",
       "<table border=\"1\" class=\"dataframe\">\n",
       "  <thead>\n",
       "    <tr style=\"text-align: right;\">\n",
       "      <th></th>\n",
       "      <th>year</th>\n",
       "      <th>doi_agencies</th>\n",
       "      <th>total</th>\n",
       "    </tr>\n",
       "  </thead>\n",
       "  <tbody>\n",
       "    <tr>\n",
       "      <th>0</th>\n",
       "      <td>1985</td>\n",
       "      <td>78438000</td>\n",
       "      <td>239943000</td>\n",
       "    </tr>\n",
       "    <tr>\n",
       "      <th>1</th>\n",
       "      <td>1986</td>\n",
       "      <td>91153000</td>\n",
       "      <td>202778000</td>\n",
       "    </tr>\n",
       "    <tr>\n",
       "      <th>2</th>\n",
       "      <td>1987</td>\n",
       "      <td>81452000</td>\n",
       "      <td>335109000</td>\n",
       "    </tr>\n",
       "    <tr>\n",
       "      <th>3</th>\n",
       "      <td>1988</td>\n",
       "      <td>149317000</td>\n",
       "      <td>578926000</td>\n",
       "    </tr>\n",
       "    <tr>\n",
       "      <th>4</th>\n",
       "      <td>1989</td>\n",
       "      <td>168115000</td>\n",
       "      <td>499787000</td>\n",
       "    </tr>\n",
       "  </tbody>\n",
       "</table>\n",
       "</div>"
      ],
      "text/plain": [
       "   year  doi_agencies      total\n",
       "0  1985      78438000  239943000\n",
       "1  1986      91153000  202778000\n",
       "2  1987      81452000  335109000\n",
       "3  1988     149317000  578926000\n",
       "4  1989     168115000  499787000"
      ]
     },
     "execution_count": 16,
     "metadata": {},
     "output_type": "execute_result"
    }
   ],
   "source": [
    "suppression=suppression[['year','doi_agencies', 'total']]\n",
    "suppression.head()"
   ]
  },
  {
   "cell_type": "code",
   "execution_count": 17,
   "id": "569a787d-4491-484f-8b83-8396edad7e37",
   "metadata": {},
   "outputs": [],
   "source": [
    "suppression.to_csv('../data/clean_fire_supp_data.csv')"
   ]
  },
  {
   "cell_type": "code",
   "execution_count": null,
   "id": "83446811-045f-41e4-9f0c-0479735a12f6",
   "metadata": {},
   "outputs": [],
   "source": []
  }
 ],
 "metadata": {
  "kernelspec": {
   "display_name": "Python 3",
   "language": "python",
   "name": "python3"
  },
  "language_info": {
   "codemirror_mode": {
    "name": "ipython",
    "version": 3
   },
   "file_extension": ".py",
   "mimetype": "text/x-python",
   "name": "python",
   "nbconvert_exporter": "python",
   "pygments_lexer": "ipython3",
   "version": "3.8.8"
  }
 },
 "nbformat": 4,
 "nbformat_minor": 5
}
