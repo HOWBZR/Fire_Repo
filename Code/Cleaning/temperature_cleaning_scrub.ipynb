{
 "cells": [
  {
   "cell_type": "code",
   "execution_count": 14,
   "id": "cea9ec22-417a-4bc1-8cd7-8a9d71beff9c",
   "metadata": {},
   "outputs": [],
   "source": [
    "\n",
    "# general data and data viz imports\n",
    "import pandas as pd\n",
    "import os\n",
    "\n",
    "import numpy as np\n",
    "import matplotlib.pyplot as plt\n",
    "import seaborn as sns\n",
    "import missingno as msno\n",
    "\n",
    "from copy import copy\n",
    "# adjusting display restrictions \n",
    "pd.options.display.max_columns = 100\n",
    "pd.options.display.max_rows = 3000\n",
    "# setting preference to remove scientific notation \n",
    "pd.options.display.float_format = '{:,.2f}'.format\n",
    "\n",
    "%matplotlib inline"
   ]
  },
  {
   "cell_type": "markdown",
   "id": "1c31942a-fb78-46cd-b552-2f3e9a0e881c",
   "metadata": {},
   "source": [
    "---\n",
    "## Concentating temp_csv files\n",
    "Originally downloaded individually "
   ]
  },
  {
   "cell_type": "code",
   "execution_count": 15,
   "id": "ee7ae779-a61f-4f9c-88d3-988ec4faf49f",
   "metadata": {},
   "outputs": [
    {
     "data": {
      "text/plain": [
       "['18-tavg-all-12-2016-2021.csv',\n",
       " '36-tavg-all-12-2016-2021.csv',\n",
       " '41-tavg-all-12-2016-2021.csv',\n",
       " '2-tavg-all-12-2016-2021.csv',\n",
       " '10-tavg-all-12-2016-2021.csv',\n",
       " '23-tavg-all-12-2016-2021.csv',\n",
       " '24-tavg-all-12-2016-2021.csv',\n",
       " '39-tavg-all-12-2016-2021.csv',\n",
       " '17-tavg-all-12-2016-2021.csv',\n",
       " '5-tavg-all-12-2016-2021.csv']"
      ]
     },
     "execution_count": 15,
     "metadata": {},
     "output_type": "execute_result"
    }
   ],
   "source": [
    "# Create a files variable that contains all of our data files.\n",
    "files = os.listdir('../data/temp_csvs/')\n",
    "files[:10]"
   ]
  },
  {
   "cell_type": "code",
   "execution_count": 16,
   "id": "ac179fae-850c-41d4-b5f8-18dd3d91e86c",
   "metadata": {},
   "outputs": [
    {
     "data": {
      "text/html": [
       "<div>\n",
       "<style scoped>\n",
       "    .dataframe tbody tr th:only-of-type {\n",
       "        vertical-align: middle;\n",
       "    }\n",
       "\n",
       "    .dataframe tbody tr th {\n",
       "        vertical-align: top;\n",
       "    }\n",
       "\n",
       "    .dataframe thead th {\n",
       "        text-align: right;\n",
       "    }\n",
       "</style>\n",
       "<table border=\"1\" class=\"dataframe\">\n",
       "  <thead>\n",
       "    <tr style=\"text-align: right;\">\n",
       "      <th></th>\n",
       "      <th>Date</th>\n",
       "      <th>Value</th>\n",
       "      <th>Anomaly</th>\n",
       "      <th>State</th>\n",
       "    </tr>\n",
       "  </thead>\n",
       "  <tbody>\n",
       "    <tr>\n",
       "      <th>0</th>\n",
       "      <td>201601</td>\n",
       "      <td>32.10</td>\n",
       "      <td>-0.30</td>\n",
       "      <td>Maryland</td>\n",
       "    </tr>\n",
       "    <tr>\n",
       "      <th>1</th>\n",
       "      <td>201602</td>\n",
       "      <td>36.90</td>\n",
       "      <td>3.10</td>\n",
       "      <td>Maryland</td>\n",
       "    </tr>\n",
       "    <tr>\n",
       "      <th>2</th>\n",
       "      <td>201603</td>\n",
       "      <td>49.40</td>\n",
       "      <td>6.90</td>\n",
       "      <td>Maryland</td>\n",
       "    </tr>\n",
       "    <tr>\n",
       "      <th>3</th>\n",
       "      <td>201604</td>\n",
       "      <td>53.10</td>\n",
       "      <td>1.00</td>\n",
       "      <td>Maryland</td>\n",
       "    </tr>\n",
       "    <tr>\n",
       "      <th>4</th>\n",
       "      <td>201605</td>\n",
       "      <td>60.90</td>\n",
       "      <td>-1.40</td>\n",
       "      <td>Maryland</td>\n",
       "    </tr>\n",
       "  </tbody>\n",
       "</table>\n",
       "</div>"
      ],
      "text/plain": [
       "     Date  Value  Anomaly     State\n",
       "0  201601  32.10    -0.30  Maryland\n",
       "1  201602  36.90     3.10  Maryland\n",
       "2  201603  49.40     6.90  Maryland\n",
       "3  201604  53.10     1.00  Maryland\n",
       "4  201605  60.90    -1.40  Maryland"
      ]
     },
     "execution_count": 16,
     "metadata": {},
     "output_type": "execute_result"
    }
   ],
   "source": [
    "# importing one file to check out the shape for compariason post concatentation\n",
    "sample_df = pd.read_csv('../data/temp_csvs/18-tavg-all-12-2016-2021.csv')\n",
    "sample_df.head()"
   ]
  },
  {
   "cell_type": "code",
   "execution_count": 17,
   "id": "37a70319-8756-4321-881c-08082d849a92",
   "metadata": {},
   "outputs": [
    {
     "name": "stdout",
     "output_type": "stream",
     "text": [
      "      Date  Value  Anomaly      State\n",
      "67  202108  77.20     1.20  Tennessee\n",
      "68  202109  69.70    -0.50  Tennessee\n",
      "69  202110  63.40     4.60  Tennessee\n",
      "70  202111  45.60    -1.80  Tennessee\n",
      "71  202112  50.50    11.30  Tennessee\n"
     ]
    },
    {
     "data": {
      "text/html": [
       "<div>\n",
       "<style scoped>\n",
       "    .dataframe tbody tr th:only-of-type {\n",
       "        vertical-align: middle;\n",
       "    }\n",
       "\n",
       "    .dataframe tbody tr th {\n",
       "        vertical-align: top;\n",
       "    }\n",
       "\n",
       "    .dataframe thead th {\n",
       "        text-align: right;\n",
       "    }\n",
       "</style>\n",
       "<table border=\"1\" class=\"dataframe\">\n",
       "  <thead>\n",
       "    <tr style=\"text-align: right;\">\n",
       "      <th></th>\n",
       "      <th>Date</th>\n",
       "      <th>Value</th>\n",
       "      <th>Anomaly</th>\n",
       "      <th>State</th>\n",
       "    </tr>\n",
       "  </thead>\n",
       "  <tbody>\n",
       "    <tr>\n",
       "      <th>0</th>\n",
       "      <td>201601</td>\n",
       "      <td>32.10</td>\n",
       "      <td>-0.30</td>\n",
       "      <td>Maryland</td>\n",
       "    </tr>\n",
       "    <tr>\n",
       "      <th>1</th>\n",
       "      <td>201602</td>\n",
       "      <td>36.90</td>\n",
       "      <td>3.10</td>\n",
       "      <td>Maryland</td>\n",
       "    </tr>\n",
       "    <tr>\n",
       "      <th>2</th>\n",
       "      <td>201603</td>\n",
       "      <td>49.40</td>\n",
       "      <td>6.90</td>\n",
       "      <td>Maryland</td>\n",
       "    </tr>\n",
       "    <tr>\n",
       "      <th>3</th>\n",
       "      <td>201604</td>\n",
       "      <td>53.10</td>\n",
       "      <td>1.00</td>\n",
       "      <td>Maryland</td>\n",
       "    </tr>\n",
       "    <tr>\n",
       "      <th>4</th>\n",
       "      <td>201605</td>\n",
       "      <td>60.90</td>\n",
       "      <td>-1.40</td>\n",
       "      <td>Maryland</td>\n",
       "    </tr>\n",
       "  </tbody>\n",
       "</table>\n",
       "</div>"
      ],
      "text/plain": [
       "     Date  Value  Anomaly     State\n",
       "0  201601  32.10    -0.30  Maryland\n",
       "1  201602  36.90     3.10  Maryland\n",
       "2  201603  49.40     6.90  Maryland\n",
       "3  201604  53.10     1.00  Maryland\n",
       "4  201605  60.90    -1.40  Maryland"
      ]
     },
     "execution_count": 17,
     "metadata": {},
     "output_type": "execute_result"
    }
   ],
   "source": [
    "# concatenating all files in temp folder \n",
    "for file in files:\n",
    "    #print(file)\n",
    "    \n",
    "    df_list = [pd.read_csv(f'../data/temp_csvs/{file}') for file in files]    \n",
    "\n",
    "temp_df = pd.concat(df_list)\n",
    "    \n",
    "print(temp_df.tail())\n",
    "temp_df.head()\n"
   ]
  },
  {
   "cell_type": "code",
   "execution_count": 18,
   "id": "c977f49c-3275-46c6-8379-279bcf7f88bf",
   "metadata": {},
   "outputs": [],
   "source": [
    "assert temp_df.shape[0] ==sample_df.shape[0]*48 # no errors shape checked out "
   ]
  },
  {
   "cell_type": "code",
   "execution_count": 19,
   "id": "9cdb66ef-1b0e-4cda-84ae-a2ed8aa46e6d",
   "metadata": {},
   "outputs": [
    {
     "data": {
      "text/plain": [
       "Index(['Date', 'Value', 'Anomaly', 'State'], dtype='object')"
      ]
     },
     "execution_count": 19,
     "metadata": {},
     "output_type": "execute_result"
    }
   ],
   "source": [
    "# beginning cleaning and required minimal EDA for cleaning to export\n",
    "temp_df.columns"
   ]
  },
  {
   "cell_type": "code",
   "execution_count": 20,
   "id": "bca8160f-78a9-4a00-8efe-9408f20b810a",
   "metadata": {},
   "outputs": [
    {
     "data": {
      "image/png": "[encoded data removed]",
      "text/plain": [
       "<Figure size 1728x720 with 3 Axes>"
      ]
     },
     "metadata": {
      "needs_background": "light"
     },
     "output_type": "display_data"
    }
   ],
   "source": [
    "msno.bar(temp_df);"
   ]
  },
  {
   "cell_type": "markdown",
   "id": "74d97bd7-7223-4177-b08a-be0769dfe3b9",
   "metadata": {},
   "source": [
    "No missing data which is great but also expected from returning to our data source. "
   ]
  },
  {
   "cell_type": "markdown",
   "id": "471adcc9-abb3-4aeb-8d21-d087386cac20",
   "metadata": {},
   "source": [
    "---\n",
    "## Extracting month and year from 'Date' column "
   ]
  },
  {
   "cell_type": "code",
   "execution_count": 21,
   "id": "bd4ab4c8-e443-422a-ac73-1863f30588df",
   "metadata": {},
   "outputs": [
    {
     "data": {
      "text/html": [
       "<div>\n",
       "<style scoped>\n",
       "    .dataframe tbody tr th:only-of-type {\n",
       "        vertical-align: middle;\n",
       "    }\n",
       "\n",
       "    .dataframe tbody tr th {\n",
       "        vertical-align: top;\n",
       "    }\n",
       "\n",
       "    .dataframe thead th {\n",
       "        text-align: right;\n",
       "    }\n",
       "</style>\n",
       "<table border=\"1\" class=\"dataframe\">\n",
       "  <thead>\n",
       "    <tr style=\"text-align: right;\">\n",
       "      <th></th>\n",
       "      <th>date</th>\n",
       "      <th>value</th>\n",
       "      <th>anomaly</th>\n",
       "      <th>state</th>\n",
       "    </tr>\n",
       "  </thead>\n",
       "  <tbody>\n",
       "    <tr>\n",
       "      <th>0</th>\n",
       "      <td>201601</td>\n",
       "      <td>32.10</td>\n",
       "      <td>-0.30</td>\n",
       "      <td>Maryland</td>\n",
       "    </tr>\n",
       "    <tr>\n",
       "      <th>1</th>\n",
       "      <td>201602</td>\n",
       "      <td>36.90</td>\n",
       "      <td>3.10</td>\n",
       "      <td>Maryland</td>\n",
       "    </tr>\n",
       "  </tbody>\n",
       "</table>\n",
       "</div>"
      ],
      "text/plain": [
       "     date  value  anomaly     state\n",
       "0  201601  32.10    -0.30  Maryland\n",
       "1  201602  36.90     3.10  Maryland"
      ]
     },
     "execution_count": 21,
     "metadata": {},
     "output_type": "execute_result"
    }
   ],
   "source": [
    "# quickly lowercasing all the column names\n",
    "temp_df.columns = temp_df.columns.str.lower()\n",
    "temp_df.head(2)"
   ]
  },
  {
   "cell_type": "code",
   "execution_count": 22,
   "id": "09cf02cb-4a61-4cc3-8454-3a488987d48b",
   "metadata": {},
   "outputs": [
    {
     "data": {
      "text/html": [
       "<div>\n",
       "<style scoped>\n",
       "    .dataframe tbody tr th:only-of-type {\n",
       "        vertical-align: middle;\n",
       "    }\n",
       "\n",
       "    .dataframe tbody tr th {\n",
       "        vertical-align: top;\n",
       "    }\n",
       "\n",
       "    .dataframe thead th {\n",
       "        text-align: right;\n",
       "    }\n",
       "</style>\n",
       "<table border=\"1\" class=\"dataframe\">\n",
       "  <thead>\n",
       "    <tr style=\"text-align: right;\">\n",
       "      <th></th>\n",
       "      <th>value</th>\n",
       "      <th>anomaly</th>\n",
       "      <th>state</th>\n",
       "      <th>month</th>\n",
       "      <th>year</th>\n",
       "    </tr>\n",
       "  </thead>\n",
       "  <tbody>\n",
       "    <tr>\n",
       "      <th>0</th>\n",
       "      <td>32.10</td>\n",
       "      <td>-0.30</td>\n",
       "      <td>Maryland</td>\n",
       "      <td>01</td>\n",
       "      <td>2016</td>\n",
       "    </tr>\n",
       "    <tr>\n",
       "      <th>1</th>\n",
       "      <td>36.90</td>\n",
       "      <td>3.10</td>\n",
       "      <td>Maryland</td>\n",
       "      <td>02</td>\n",
       "      <td>2016</td>\n",
       "    </tr>\n",
       "    <tr>\n",
       "      <th>2</th>\n",
       "      <td>49.40</td>\n",
       "      <td>6.90</td>\n",
       "      <td>Maryland</td>\n",
       "      <td>03</td>\n",
       "      <td>2016</td>\n",
       "    </tr>\n",
       "    <tr>\n",
       "      <th>3</th>\n",
       "      <td>53.10</td>\n",
       "      <td>1.00</td>\n",
       "      <td>Maryland</td>\n",
       "      <td>04</td>\n",
       "      <td>2016</td>\n",
       "    </tr>\n",
       "    <tr>\n",
       "      <th>4</th>\n",
       "      <td>60.90</td>\n",
       "      <td>-1.40</td>\n",
       "      <td>Maryland</td>\n",
       "      <td>05</td>\n",
       "      <td>2016</td>\n",
       "    </tr>\n",
       "  </tbody>\n",
       "</table>\n",
       "</div>"
      ],
      "text/plain": [
       "   value  anomaly     state month  year\n",
       "0  32.10    -0.30  Maryland    01  2016\n",
       "1  36.90     3.10  Maryland    02  2016\n",
       "2  49.40     6.90  Maryland    03  2016\n",
       "3  53.10     1.00  Maryland    04  2016\n",
       "4  60.90    -1.40  Maryland    05  2016"
      ]
     },
     "execution_count": 22,
     "metadata": {},
     "output_type": "execute_result"
    }
   ],
   "source": [
    "def split_on_len(ref_len,length,df,column):\n",
    "    yr_list=[]\n",
    "    mnth_lst=[]\n",
    "    for obs in df[column]:\n",
    "        string = str(obs)\n",
    "        if len(string) != ref_len:\n",
    "            print('does not match format')\n",
    "        else:\n",
    "            year = string[:length]\n",
    "            yr_list.append(year)\n",
    "            month = string[length:]\n",
    "            mnth_lst.append(month)\n",
    "    return mnth_lst,yr_list\n",
    "\n",
    "mnth_lst,yr_list= split_on_len(6,4,temp_df,'date')\n",
    "\n",
    "temp_df['month']=mnth_lst\n",
    "temp_df['year']= yr_list\n",
    "temp_df.drop(columns='date',inplace=True)\n",
    "temp_df.head()"
   ]
  },
  {
   "cell_type": "markdown",
   "id": "cc19fa5b-3150-47b9-8157-2b861811e6b3",
   "metadata": {},
   "source": [
    "## Formatting state column to abbreviations"
   ]
  },
  {
   "cell_type": "code",
   "execution_count": 29,
   "id": "2d962ade-a1f0-4776-814c-77df580aa0cf",
   "metadata": {},
   "outputs": [
    {
     "name": "stdout",
     "output_type": "stream",
     "text": [
      "Requirement already satisfied: us in /opt/anaconda3/lib/python3.8/site-packages (2.0.2)\n",
      "Requirement already satisfied: jellyfish==0.6.1 in /opt/anaconda3/lib/python3.8/site-packages (from us) (0.6.1)\n"
     ]
    }
   ],
   "source": [
    "!pip install us\n",
    "import us"
   ]
  },
  {
   "cell_type": "code",
   "execution_count": 41,
   "id": "f6a7b90c-0b7f-420e-9f63-54218b1f69a5",
   "metadata": {},
   "outputs": [
    {
     "data": {
      "text/plain": [
       "dict_keys(['Alabama', 'Alaska', 'Arizona', 'Arkansas', 'California', 'Colorado', 'Connecticut', 'Delaware', 'Florida', 'Georgia', 'Hawaii', 'Idaho', 'Illinois', 'Indiana', 'Iowa', 'Kansas', 'Kentucky', 'Louisiana', 'Maine', 'Maryland', 'Massachusetts', 'Michigan', 'Minnesota', 'Mississippi', 'Missouri', 'Montana', 'Nebraska', 'Nevada', 'New Hampshire', 'New Jersey', 'New Mexico', 'New York', 'North Carolina', 'North Dakota', 'Ohio', 'Oklahoma', 'Oregon', 'Pennsylvania', 'Rhode Island', 'South Carolina', 'South Dakota', 'Tennessee', 'Texas', 'Utah', 'Vermont', 'Virginia', 'Washington', 'West Virginia', 'Wisconsin', 'Wyoming', 'American Samoa', 'Guam', 'Northern Mariana Islands', 'Puerto Rico', 'Virgin Islands', 'District of Columbia', 'Dakota', 'Orleans', 'Philippine Islands'])"
      ]
     },
     "execution_count": 41,
     "metadata": {},
     "output_type": "execute_result"
    }
   ],
   "source": [
    "\n",
    "statez = us.states.mapping('name', 'abbr')\n",
    "lst_of_abbrv = statez.keys()\n",
    "lst_of_states = statez.values()\n",
    "lst_of_abbrv"
   ]
  },
  {
   "cell_type": "code",
   "execution_count": 42,
   "id": "d14c6b28-dd11-41ee-8a09-af70a54e60a9",
   "metadata": {},
   "outputs": [
    {
     "data": {
      "text/plain": [
       "dict_values(['AL', 'AK', 'AZ', 'AR', 'CA', 'CO', 'CT', 'DE', 'FL', 'GA', 'HI', 'ID', 'IL', 'IN', 'IA', 'KS', 'KY', 'LA', 'ME', 'MD', 'MA', 'MI', 'MN', 'MS', 'MO', 'MT', 'NE', 'NV', 'NH', 'NJ', 'NM', 'NY', 'NC', 'ND', 'OH', 'OK', 'OR', 'PA', 'RI', 'SC', 'SD', 'TN', 'TX', 'UT', 'VT', 'VA', 'WA', 'WV', 'WI', 'WY', 'AS', 'GU', 'MP', 'PR', 'VI', 'DC', 'DK', 'OL', 'PI'])"
      ]
     },
     "execution_count": 42,
     "metadata": {},
     "output_type": "execute_result"
    }
   ],
   "source": [
    "lst_of_states"
   ]
  },
  {
   "cell_type": "code",
   "execution_count": 48,
   "id": "ab5d4bb9-9c80-426c-92d4-a7ef99bad5a1",
   "metadata": {},
   "outputs": [
    {
     "ename": "KeyError",
     "evalue": "'Arkanas'",
     "output_type": "error",
     "traceback": [
      "\u001b[0;31m---------------------------------------------------------------------------\u001b[0m",
      "\u001b[0;31mKeyError\u001b[0m                                  Traceback (most recent call last)",
      "\u001b[0;32m<ipython-input-48-f94c3c24c6d5>\u001b[0m in \u001b[0;36m<module>\u001b[0;34m\u001b[0m\n\u001b[0;32m----> 1\u001b[0;31m \u001b[0mstatez\u001b[0m\u001b[0;34m[\u001b[0m\u001b[0;34m'Arkanas'\u001b[0m\u001b[0;34m]\u001b[0m\u001b[0;34m\u001b[0m\u001b[0;34m\u001b[0m\u001b[0m\n\u001b[0m",
      "\u001b[0;31mKeyError\u001b[0m: 'Arkanas'"
     ]
    }
   ],
   "source": [
    "statez['Arkanas']"
   ]
  },
  {
   "cell_type": "code",
   "execution_count": 65,
   "id": "ef01d5b0-6407-457c-8e16-9cf32edacbb6",
   "metadata": {},
   "outputs": [],
   "source": [
    "def replace_states(state):\n",
    "    # find all states that exist in the string\n",
    "    \n",
    "    # replace each state with its abbreviation\n",
    "    if state in statez:\n",
    "        state = state.replace(state, statez[state])\n",
    "    else: \n",
    "        pass\n",
    "\n",
    "    # return the modified string (or original if no states were found)\n",
    "    return state\n",
    "\n",
    "temp_df['new_state']=temp_df['state'].apply(replace_states)"
   ]
  },
  {
   "cell_type": "code",
   "execution_count": 56,
   "id": "e95cf221-17a0-49cf-9872-d150a9502fa6",
   "metadata": {},
   "outputs": [
    {
     "data": {
      "text/html": [
       "<div>\n",
       "<style scoped>\n",
       "    .dataframe tbody tr th:only-of-type {\n",
       "        vertical-align: middle;\n",
       "    }\n",
       "\n",
       "    .dataframe tbody tr th {\n",
       "        vertical-align: top;\n",
       "    }\n",
       "\n",
       "    .dataframe thead th {\n",
       "        text-align: right;\n",
       "    }\n",
       "</style>\n",
       "<table border=\"1\" class=\"dataframe\">\n",
       "  <thead>\n",
       "    <tr style=\"text-align: right;\">\n",
       "      <th></th>\n",
       "      <th>value</th>\n",
       "      <th>anomaly</th>\n",
       "      <th>state</th>\n",
       "      <th>month</th>\n",
       "      <th>year</th>\n",
       "      <th>new_state</th>\n",
       "    </tr>\n",
       "  </thead>\n",
       "  <tbody>\n",
       "    <tr>\n",
       "      <th>67</th>\n",
       "      <td>77.20</td>\n",
       "      <td>1.20</td>\n",
       "      <td>Tennessee</td>\n",
       "      <td>08</td>\n",
       "      <td>2021</td>\n",
       "      <td>TN</td>\n",
       "    </tr>\n",
       "    <tr>\n",
       "      <th>68</th>\n",
       "      <td>69.70</td>\n",
       "      <td>-0.50</td>\n",
       "      <td>Tennessee</td>\n",
       "      <td>09</td>\n",
       "      <td>2021</td>\n",
       "      <td>TN</td>\n",
       "    </tr>\n",
       "    <tr>\n",
       "      <th>69</th>\n",
       "      <td>63.40</td>\n",
       "      <td>4.60</td>\n",
       "      <td>Tennessee</td>\n",
       "      <td>10</td>\n",
       "      <td>2021</td>\n",
       "      <td>TN</td>\n",
       "    </tr>\n",
       "    <tr>\n",
       "      <th>70</th>\n",
       "      <td>45.60</td>\n",
       "      <td>-1.80</td>\n",
       "      <td>Tennessee</td>\n",
       "      <td>11</td>\n",
       "      <td>2021</td>\n",
       "      <td>TN</td>\n",
       "    </tr>\n",
       "    <tr>\n",
       "      <th>71</th>\n",
       "      <td>50.50</td>\n",
       "      <td>11.30</td>\n",
       "      <td>Tennessee</td>\n",
       "      <td>12</td>\n",
       "      <td>2021</td>\n",
       "      <td>TN</td>\n",
       "    </tr>\n",
       "  </tbody>\n",
       "</table>\n",
       "</div>"
      ],
      "text/plain": [
       "    value  anomaly      state month  year new_state\n",
       "67  77.20     1.20  Tennessee    08  2021        TN\n",
       "68  69.70    -0.50  Tennessee    09  2021        TN\n",
       "69  63.40     4.60  Tennessee    10  2021        TN\n",
       "70  45.60    -1.80  Tennessee    11  2021        TN\n",
       "71  50.50    11.30  Tennessee    12  2021        TN"
      ]
     },
     "execution_count": 56,
     "metadata": {},
     "output_type": "execute_result"
    }
   ],
   "source": [
    "temp_df.tail()"
   ]
  },
  {
   "cell_type": "code",
   "execution_count": 64,
   "id": "2035cc5c-5078-4303-89bc-327063bcad9a",
   "metadata": {},
   "outputs": [
    {
     "data": {
      "text/plain": [
       "{'Arkanas'}"
      ]
     },
     "execution_count": 64,
     "metadata": {},
     "output_type": "execute_result"
    }
   ],
   "source": [
    "# checking the state column for non abbv states \n",
    "states_not_identified = []\n",
    "for state in temp_df['new_state']:\n",
    "    if len(state)!=2:\n",
    "        states_not_identified.append(state)\n",
    "set(states_not_identified)"
   ]
  },
  {
   "cell_type": "code",
   "execution_count": 69,
   "id": "585e6c59-ef32-4fb5-9e4f-6139ca2a7955",
   "metadata": {},
   "outputs": [],
   "source": [
    "temp_df['new_state'].replace('Arkanas','AK',inplace=True)\n",
    "temp_df.drop(columns='state',inplace=True)\n",
    "temp_df.rename(columns={'new_state':'state'},inplace=True)"
   ]
  },
  {
   "cell_type": "code",
   "execution_count": 68,
   "id": "6de287e2-e349-44a8-9317-3d02cd5d3ff5",
   "metadata": {},
   "outputs": [
    {
     "data": {
      "text/html": [
       "<div>\n",
       "<style scoped>\n",
       "    .dataframe tbody tr th:only-of-type {\n",
       "        vertical-align: middle;\n",
       "    }\n",
       "\n",
       "    .dataframe tbody tr th {\n",
       "        vertical-align: top;\n",
       "    }\n",
       "\n",
       "    .dataframe thead th {\n",
       "        text-align: right;\n",
       "    }\n",
       "</style>\n",
       "<table border=\"1\" class=\"dataframe\">\n",
       "  <thead>\n",
       "    <tr style=\"text-align: right;\">\n",
       "      <th></th>\n",
       "      <th>value</th>\n",
       "      <th>anomaly</th>\n",
       "      <th>month</th>\n",
       "      <th>year</th>\n",
       "      <th>state</th>\n",
       "    </tr>\n",
       "  </thead>\n",
       "  <tbody>\n",
       "    <tr>\n",
       "      <th>0</th>\n",
       "      <td>32.10</td>\n",
       "      <td>-0.30</td>\n",
       "      <td>01</td>\n",
       "      <td>2016</td>\n",
       "      <td>MD</td>\n",
       "    </tr>\n",
       "    <tr>\n",
       "      <th>1</th>\n",
       "      <td>36.90</td>\n",
       "      <td>3.10</td>\n",
       "      <td>02</td>\n",
       "      <td>2016</td>\n",
       "      <td>MD</td>\n",
       "    </tr>\n",
       "    <tr>\n",
       "      <th>2</th>\n",
       "      <td>49.40</td>\n",
       "      <td>6.90</td>\n",
       "      <td>03</td>\n",
       "      <td>2016</td>\n",
       "      <td>MD</td>\n",
       "    </tr>\n",
       "    <tr>\n",
       "      <th>3</th>\n",
       "      <td>53.10</td>\n",
       "      <td>1.00</td>\n",
       "      <td>04</td>\n",
       "      <td>2016</td>\n",
       "      <td>MD</td>\n",
       "    </tr>\n",
       "    <tr>\n",
       "      <th>4</th>\n",
       "      <td>60.90</td>\n",
       "      <td>-1.40</td>\n",
       "      <td>05</td>\n",
       "      <td>2016</td>\n",
       "      <td>MD</td>\n",
       "    </tr>\n",
       "  </tbody>\n",
       "</table>\n",
       "</div>"
      ],
      "text/plain": [
       "   value  anomaly month  year state\n",
       "0  32.10    -0.30    01  2016    MD\n",
       "1  36.90     3.10    02  2016    MD\n",
       "2  49.40     6.90    03  2016    MD\n",
       "3  53.10     1.00    04  2016    MD\n",
       "4  60.90    -1.40    05  2016    MD"
      ]
     },
     "execution_count": 68,
     "metadata": {},
     "output_type": "execute_result"
    }
   ],
   "source": [
    "temp_df.head()"
   ]
  },
  {
   "cell_type": "code",
   "execution_count": 70,
   "id": "88e1e122-1dfe-4ab6-ac87-ca96de05d565",
   "metadata": {},
   "outputs": [
    {
     "data": {
      "text/html": [
       "<div>\n",
       "<style scoped>\n",
       "    .dataframe tbody tr th:only-of-type {\n",
       "        vertical-align: middle;\n",
       "    }\n",
       "\n",
       "    .dataframe tbody tr th {\n",
       "        vertical-align: top;\n",
       "    }\n",
       "\n",
       "    .dataframe thead th {\n",
       "        text-align: right;\n",
       "    }\n",
       "</style>\n",
       "<table border=\"1\" class=\"dataframe\">\n",
       "  <thead>\n",
       "    <tr style=\"text-align: right;\">\n",
       "      <th></th>\n",
       "      <th>value</th>\n",
       "      <th>anomaly</th>\n",
       "      <th>month</th>\n",
       "      <th>year</th>\n",
       "      <th>state</th>\n",
       "    </tr>\n",
       "  </thead>\n",
       "  <tbody>\n",
       "    <tr>\n",
       "      <th>67</th>\n",
       "      <td>77.20</td>\n",
       "      <td>1.20</td>\n",
       "      <td>08</td>\n",
       "      <td>2021</td>\n",
       "      <td>TN</td>\n",
       "    </tr>\n",
       "    <tr>\n",
       "      <th>68</th>\n",
       "      <td>69.70</td>\n",
       "      <td>-0.50</td>\n",
       "      <td>09</td>\n",
       "      <td>2021</td>\n",
       "      <td>TN</td>\n",
       "    </tr>\n",
       "    <tr>\n",
       "      <th>69</th>\n",
       "      <td>63.40</td>\n",
       "      <td>4.60</td>\n",
       "      <td>10</td>\n",
       "      <td>2021</td>\n",
       "      <td>TN</td>\n",
       "    </tr>\n",
       "    <tr>\n",
       "      <th>70</th>\n",
       "      <td>45.60</td>\n",
       "      <td>-1.80</td>\n",
       "      <td>11</td>\n",
       "      <td>2021</td>\n",
       "      <td>TN</td>\n",
       "    </tr>\n",
       "    <tr>\n",
       "      <th>71</th>\n",
       "      <td>50.50</td>\n",
       "      <td>11.30</td>\n",
       "      <td>12</td>\n",
       "      <td>2021</td>\n",
       "      <td>TN</td>\n",
       "    </tr>\n",
       "  </tbody>\n",
       "</table>\n",
       "</div>"
      ],
      "text/plain": [
       "    value  anomaly month  year state\n",
       "67  77.20     1.20    08  2021    TN\n",
       "68  69.70    -0.50    09  2021    TN\n",
       "69  63.40     4.60    10  2021    TN\n",
       "70  45.60    -1.80    11  2021    TN\n",
       "71  50.50    11.30    12  2021    TN"
      ]
     },
     "execution_count": 70,
     "metadata": {},
     "output_type": "execute_result"
    }
   ],
   "source": [
    "temp_df.tail()"
   ]
  },
  {
   "cell_type": "code",
   "execution_count": 71,
   "id": "def7c6c4-1ac0-44ad-a828-634d1ee8f8f8",
   "metadata": {},
   "outputs": [],
   "source": [
    "temp_df.to_csv('../data/temp_cleaned.csv',index=False)"
   ]
  },
  {
   "cell_type": "code",
   "execution_count": 2,
   "id": "23439719-7487-46b5-aa23-acb65b367cb4",
   "metadata": {},
   "outputs": [],
   "source": [
    "import pandas as pd"
   ]
  },
  {
   "cell_type": "code",
   "execution_count": 14,
   "id": "c3a9b0cd-97ee-498b-82cd-4b3a1486f555",
   "metadata": {},
   "outputs": [],
   "source": [
    "# cleaned data is posted on drive demo to pull \n",
    "url = 'https://drive.google.com/file/d/1K3Z-IDEU439wL0d395CZMUcKqQeWkNxW/view?usp=sharing'\n",
    "path = 'https://drive.google.com/uc?export=download&id='+url.split('/')[-2]\n",
    "df = pd.read_csv(path)"
   ]
  },
  {
   "cell_type": "code",
   "execution_count": 15,
   "id": "e3bb9249-2272-4461-8263-312d45b9d052",
   "metadata": {},
   "outputs": [
    {
     "data": {
      "text/html": [
       "<div>\n",
       "<style scoped>\n",
       "    .dataframe tbody tr th:only-of-type {\n",
       "        vertical-align: middle;\n",
       "    }\n",
       "\n",
       "    .dataframe tbody tr th {\n",
       "        vertical-align: top;\n",
       "    }\n",
       "\n",
       "    .dataframe thead th {\n",
       "        text-align: right;\n",
       "    }\n",
       "</style>\n",
       "<table border=\"1\" class=\"dataframe\">\n",
       "  <thead>\n",
       "    <tr style=\"text-align: right;\">\n",
       "      <th></th>\n",
       "      <th>year</th>\n",
       "      <th>month</th>\n",
       "      <th>state</th>\n",
       "      <th>d0</th>\n",
       "      <th>d1</th>\n",
       "      <th>d2</th>\n",
       "      <th>d3</th>\n",
       "      <th>d4</th>\n",
       "      <th>DSCI_avg</th>\n",
       "      <th>DSCI_summed</th>\n",
       "    </tr>\n",
       "  </thead>\n",
       "  <tbody>\n",
       "    <tr>\n",
       "      <th>0</th>\n",
       "      <td>2016</td>\n",
       "      <td>4</td>\n",
       "      <td>AK</td>\n",
       "      <td>22.620000</td>\n",
       "      <td>0.000000</td>\n",
       "      <td>0.000000</td>\n",
       "      <td>0.000000</td>\n",
       "      <td>0.000000</td>\n",
       "      <td>22.620000</td>\n",
       "      <td>67.86</td>\n",
       "    </tr>\n",
       "    <tr>\n",
       "      <th>1</th>\n",
       "      <td>2016</td>\n",
       "      <td>4</td>\n",
       "      <td>AL</td>\n",
       "      <td>2.963333</td>\n",
       "      <td>0.000000</td>\n",
       "      <td>0.000000</td>\n",
       "      <td>0.000000</td>\n",
       "      <td>0.000000</td>\n",
       "      <td>2.963333</td>\n",
       "      <td>8.89</td>\n",
       "    </tr>\n",
       "    <tr>\n",
       "      <th>2</th>\n",
       "      <td>2016</td>\n",
       "      <td>4</td>\n",
       "      <td>AR</td>\n",
       "      <td>21.286667</td>\n",
       "      <td>0.000000</td>\n",
       "      <td>0.000000</td>\n",
       "      <td>0.000000</td>\n",
       "      <td>0.000000</td>\n",
       "      <td>21.286667</td>\n",
       "      <td>63.86</td>\n",
       "    </tr>\n",
       "    <tr>\n",
       "      <th>3</th>\n",
       "      <td>2016</td>\n",
       "      <td>4</td>\n",
       "      <td>AZ</td>\n",
       "      <td>32.776667</td>\n",
       "      <td>65.580000</td>\n",
       "      <td>1.170000</td>\n",
       "      <td>0.000000</td>\n",
       "      <td>0.000000</td>\n",
       "      <td>167.446667</td>\n",
       "      <td>502.34</td>\n",
       "    </tr>\n",
       "    <tr>\n",
       "      <th>4</th>\n",
       "      <td>2016</td>\n",
       "      <td>4</td>\n",
       "      <td>CA</td>\n",
       "      <td>5.736667</td>\n",
       "      <td>15.883333</td>\n",
       "      <td>23.176667</td>\n",
       "      <td>26.596667</td>\n",
       "      <td>24.586667</td>\n",
       "      <td>346.403333</td>\n",
       "      <td>1039.21</td>\n",
       "    </tr>\n",
       "  </tbody>\n",
       "</table>\n",
       "</div>"
      ],
      "text/plain": [
       "   year  month state         d0         d1         d2         d3         d4  \\\n",
       "0  2016      4    AK  22.620000   0.000000   0.000000   0.000000   0.000000   \n",
       "1  2016      4    AL   2.963333   0.000000   0.000000   0.000000   0.000000   \n",
       "2  2016      4    AR  21.286667   0.000000   0.000000   0.000000   0.000000   \n",
       "3  2016      4    AZ  32.776667  65.580000   1.170000   0.000000   0.000000   \n",
       "4  2016      4    CA   5.736667  15.883333  23.176667  26.596667  24.586667   \n",
       "\n",
       "     DSCI_avg  DSCI_summed  \n",
       "0   22.620000        67.86  \n",
       "1    2.963333         8.89  \n",
       "2   21.286667        63.86  \n",
       "3  167.446667       502.34  \n",
       "4  346.403333      1039.21  "
      ]
     },
     "execution_count": 15,
     "metadata": {},
     "output_type": "execute_result"
    }
   ],
   "source": [
    "df.head()"
   ]
  },
  {
   "cell_type": "code",
   "execution_count": null,
   "id": "ca60b6aa-5c9a-4e50-a045-5ca65796d19f",
   "metadata": {},
   "outputs": [],
   "source": []
  }
 ],
 "metadata": {
  "kernelspec": {
   "display_name": "Python 3",
   "language": "python",
   "name": "python3"
  },
  "language_info": {
   "codemirror_mode": {
    "name": "ipython",
    "version": 3
   },
   "file_extension": ".py",
   "mimetype": "text/x-python",
   "name": "python",
   "nbconvert_exporter": "python",
   "pygments_lexer": "ipython3",
   "version": "3.8.8"
  }
 },
 "nbformat": 4,
 "nbformat_minor": 5
}
