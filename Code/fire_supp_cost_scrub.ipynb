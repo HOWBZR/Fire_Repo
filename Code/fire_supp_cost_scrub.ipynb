{
 "cells": [
  {
   "cell_type": "code",
   "execution_count": 5,
   "id": "259e545e-94f1-4891-82c9-4d2c80967443",
   "metadata": {},
   "outputs": [],
   "source": [
    "\n",
    "# general data and data viz imports\n",
    "import pandas as pd\n",
    "import os\n",
    "\n",
    "import numpy as np\n",
    "import matplotlib.pyplot as plt\n",
    "import seaborn as sns\n",
    "import missingno as msno\n",
    "\n",
    "from copy import copy\n",
    "# adjusting display restrictions \n",
    "pd.options.display.max_columns = 100\n",
    "pd.options.display.max_rows = 3000\n",
    "# setting preference to remove scientific notation \n",
    "pd.options.display.float_format = '{:,.2f}'.format\n",
    "\n",
    "%matplotlib inline"
   ]
  },
  {
   "cell_type": "code",
   "execution_count": 11,
   "id": "6d77b458-e47d-4e4d-829f-041e64237c22",
   "metadata": {},
   "outputs": [
    {
     "data": {
      "text/html": [
       "<div>\n",
       "<style scoped>\n",
       "    .dataframe tbody tr th:only-of-type {\n",
       "        vertical-align: middle;\n",
       "    }\n",
       "\n",
       "    .dataframe tbody tr th {\n",
       "        vertical-align: top;\n",
       "    }\n",
       "\n",
       "    .dataframe thead th {\n",
       "        text-align: right;\n",
       "    }\n",
       "</style>\n",
       "<table border=\"1\" class=\"dataframe\">\n",
       "  <thead>\n",
       "    <tr style=\"text-align: right;\">\n",
       "      <th></th>\n",
       "      <th>Year</th>\n",
       "      <th>Fires</th>\n",
       "      <th>Acres</th>\n",
       "      <th>Forest Service</th>\n",
       "      <th>DOI Agencies</th>\n",
       "      <th>Total</th>\n",
       "    </tr>\n",
       "  </thead>\n",
       "  <tbody>\n",
       "    <tr>\n",
       "      <th>30</th>\n",
       "      <td>2015</td>\n",
       "      <td>68,151</td>\n",
       "      <td>10,125,149</td>\n",
       "      <td>1,713,000,000</td>\n",
       "      <td>417,543,000</td>\n",
       "      <td>2,130,543,000</td>\n",
       "    </tr>\n",
       "    <tr>\n",
       "      <th>31</th>\n",
       "      <td>2016</td>\n",
       "      <td>67,595</td>\n",
       "      <td>5,503,538</td>\n",
       "      <td>1,603,806,000</td>\n",
       "      <td>371,739,000</td>\n",
       "      <td>1,975,545,000</td>\n",
       "    </tr>\n",
       "    <tr>\n",
       "      <th>32</th>\n",
       "      <td>2017</td>\n",
       "      <td>71,499</td>\n",
       "      <td>10,026,086</td>\n",
       "      <td>2,410,165,000</td>\n",
       "      <td>508,000,000</td>\n",
       "      <td>2,918,165,000</td>\n",
       "    </tr>\n",
       "    <tr>\n",
       "      <th>33</th>\n",
       "      <td>2018</td>\n",
       "      <td>58,083</td>\n",
       "      <td>8,767,492</td>\n",
       "      <td>2,615,256,000</td>\n",
       "      <td>528,000,000</td>\n",
       "      <td>3,143,256,000</td>\n",
       "    </tr>\n",
       "    <tr>\n",
       "      <th>34</th>\n",
       "      <td>2019</td>\n",
       "      <td>50,477</td>\n",
       "      <td>4,664,364</td>\n",
       "      <td>1,150,000,000</td>\n",
       "      <td>440,000,000</td>\n",
       "      <td>1,590,000,000</td>\n",
       "    </tr>\n",
       "  </tbody>\n",
       "</table>\n",
       "</div>"
      ],
      "text/plain": [
       "    Year   Fires       Acres Forest Service DOI Agencies          Total\n",
       "30  2015  68,151  10,125,149  1,713,000,000  417,543,000  2,130,543,000\n",
       "31  2016  67,595   5,503,538  1,603,806,000  371,739,000  1,975,545,000\n",
       "32  2017  71,499  10,026,086  2,410,165,000  508,000,000  2,918,165,000\n",
       "33  2018  58,083   8,767,492  2,615,256,000  528,000,000  3,143,256,000\n",
       "34  2019  50,477   4,664,364  1,150,000,000  440,000,000  1,590,000,000"
      ]
     },
     "execution_count": 11,
     "metadata": {},
     "output_type": "execute_result"
    }
   ],
   "source": [
    "suppression= pd.read_csv('../data/fire_supp_data.csv')\n",
    "#suppression= pd.read_excel('../data/Data Checklist.xlsx')\n",
    "\n",
    "suppression.tail()"
   ]
  },
  {
   "cell_type": "code",
   "execution_count": 263,
   "id": "2a86c9f4-186c-47bc-bf68-643e81377a86",
   "metadata": {},
   "outputs": [
    {
     "data": {
      "text/plain": [
       "Year              float64\n",
       "Fires             float64\n",
       "Acres              object\n",
       "Forest Service     object\n",
       "DOI Agencies       object\n",
       "Total              object\n",
       "dtype: object"
      ]
     },
     "execution_count": 263,
     "metadata": {},
     "output_type": "execute_result"
    }
   ],
   "source": [
    "suppression=suppression[['Year','Fires','Acres','Forest Service','DOI Agencies','Total']]\n",
    "suppression.dtypes"
   ]
  },
  {
   "cell_type": "code",
   "execution_count": 264,
   "id": "c61ea0b5",
   "metadata": {},
   "outputs": [
    {
     "data": {
      "text/plain": [
       "Year              object\n",
       "Fires             object\n",
       "Acres             object\n",
       "Forest Service    object\n",
       "DOI Agencies      object\n",
       "Total             object\n",
       "dtype: object"
      ]
     },
     "execution_count": 264,
     "metadata": {},
     "output_type": "execute_result"
    }
   ],
   "source": [
    "suppression=suppression.astype('str')\n",
    "suppression.dtypes"
   ]
  },
  {
   "cell_type": "code",
   "execution_count": 265,
   "id": "8f83bd53-17ed-47b9-8210-671414233d44",
   "metadata": {},
   "outputs": [],
   "source": [
    "####################################### preprocessing function ##########################\n",
    "# to pass in a series using apply functions\n",
    "import re\n",
    "def pre_process(sentences):\n",
    "    '''\n",
    "    inputs:\n",
    "    sentences = text\n",
    "\n",
    "    description:\n",
    "    The function is utilized to remove emoticons, urls (https,eee,etc), special characters,\n",
    "    and new line break stings('\\n'). (Does NOT remove spaces).\n",
    "\n",
    "    use cases:\n",
    "    This was specifically created to pass in use df['new_column']=df['text_column'].apply(pre_preprocess)\n",
    "    OR individual strings.\n",
    "    '''\n",
    "    # removing emoticons\n",
    "    sentences = re.sub(':d', '', str(sentences)).strip()\n",
    "    sentences = re.sub(':p', '', str(sentences)).strip()\n",
    "\n",
    "    # removing urls\n",
    "    sentences = re.sub('(https?:\\/\\/)(\\s)*(www\\.)?(\\s)*((\\w|\\s)+\\.)*([\\w\\-\\s]+\\/)*([\\w\\-]+)((\\?)?[\\w\\s]*=\\s*[\\w\\%&]*)*','  ', sentences)\n",
    "\n",
    "    # removing special characters (https://stackoverflow.com/questions/5843518/remove-all-special-characters-punctuation-and-spaces-from-string)\n",
    "    sentences = re.sub('[^A-Za-z0-9]+', ' ', str(sentences))\n",
    "\n",
    "    sentences = re.sub('[^a-zA-Z\\s]', '', str(sentences)).rstrip()\n",
    "\n",
    "    # removing the '\\n' new line breaks in sentences\n",
    "    sentences = sentences.replace('\\n',' ')\n",
    "    sentences = sentences.replace('\\$','')\n",
    "    #sentences - sentences.replace(r'[^\\w\\s]+', '')\n",
    "\n",
    "    return sentences"
   ]
  },
  {
   "cell_type": "code",
   "execution_count": 266,
   "id": "4e7dc79e",
   "metadata": {},
   "outputs": [
    {
     "data": {
      "text/html": [
       "<div>\n",
       "<style scoped>\n",
       "    .dataframe tbody tr th:only-of-type {\n",
       "        vertical-align: middle;\n",
       "    }\n",
       "\n",
       "    .dataframe tbody tr th {\n",
       "        vertical-align: top;\n",
       "    }\n",
       "\n",
       "    .dataframe thead th {\n",
       "        text-align: right;\n",
       "    }\n",
       "</style>\n",
       "<table border=\"1\" class=\"dataframe\">\n",
       "  <thead>\n",
       "    <tr style=\"text-align: right;\">\n",
       "      <th></th>\n",
       "      <th>Year</th>\n",
       "      <th>Fires</th>\n",
       "      <th>Acres</th>\n",
       "      <th>Forest Service</th>\n",
       "      <th>DOI Agencies</th>\n",
       "      <th>Total</th>\n",
       "    </tr>\n",
       "  </thead>\n",
       "  <tbody>\n",
       "    <tr>\n",
       "      <th>34</th>\n",
       "      <td>20190</td>\n",
       "      <td>504770</td>\n",
       "      <td>4664364</td>\n",
       "      <td>1150000000</td>\n",
       "      <td>440000</td>\n",
       "      <td>1590000000</td>\n",
       "    </tr>\n",
       "    <tr>\n",
       "      <th>35</th>\n",
       "      <td>nan</td>\n",
       "      <td>nan</td>\n",
       "      <td>5 year average</td>\n",
       "      <td>1956295500</td>\n",
       "      <td>430295200</td>\n",
       "      <td>2337931600</td>\n",
       "    </tr>\n",
       "    <tr>\n",
       "      <th>36</th>\n",
       "      <td>nan</td>\n",
       "      <td>nan</td>\n",
       "      <td>10 year average</td>\n",
       "      <td>1437740333</td>\n",
       "      <td>378492800</td>\n",
       "      <td>1843759100</td>\n",
       "    </tr>\n",
       "  </tbody>\n",
       "</table>\n",
       "</div>"
      ],
      "text/plain": [
       "     Year   Fires             Acres Forest Service DOI Agencies       Total\n",
       "34  20190  504770           4664364     1150000000       440000  1590000000\n",
       "35    nan     nan    5 year average     1956295500    430295200  2337931600\n",
       "36    nan     nan  10 year average      1437740333    378492800  1843759100"
      ]
     },
     "execution_count": 266,
     "metadata": {},
     "output_type": "execute_result"
    }
   ],
   "source": [
    "suppression.apply(pre_process)\n",
    "suppression = suppression.replace({'\\$':''}, regex = True)\n",
    "suppression = suppression.replace({'\\\\.':''}, regex = True)\n",
    "\n",
    "suppression.tail(3)"
   ]
  },
  {
   "cell_type": "code",
   "execution_count": 267,
   "id": "1426c4ec",
   "metadata": {},
   "outputs": [
    {
     "data": {
      "text/html": [
       "<div>\n",
       "<style scoped>\n",
       "    .dataframe tbody tr th:only-of-type {\n",
       "        vertical-align: middle;\n",
       "    }\n",
       "\n",
       "    .dataframe tbody tr th {\n",
       "        vertical-align: top;\n",
       "    }\n",
       "\n",
       "    .dataframe thead th {\n",
       "        text-align: right;\n",
       "    }\n",
       "</style>\n",
       "<table border=\"1\" class=\"dataframe\">\n",
       "  <thead>\n",
       "    <tr style=\"text-align: right;\">\n",
       "      <th></th>\n",
       "      <th>Year</th>\n",
       "      <th>Fires</th>\n",
       "      <th>Acres</th>\n",
       "      <th>Forest Service</th>\n",
       "      <th>DOI Agencies</th>\n",
       "      <th>Total</th>\n",
       "    </tr>\n",
       "  </thead>\n",
       "  <tbody>\n",
       "    <tr>\n",
       "      <th>32</th>\n",
       "      <td>20170</td>\n",
       "      <td>71499</td>\n",
       "      <td>10026086</td>\n",
       "      <td>2410165000</td>\n",
       "      <td>508000000</td>\n",
       "      <td>2918165000</td>\n",
       "    </tr>\n",
       "    <tr>\n",
       "      <th>33</th>\n",
       "      <td>20180</td>\n",
       "      <td>58083</td>\n",
       "      <td>8767492</td>\n",
       "      <td>2615256000</td>\n",
       "      <td>528000000</td>\n",
       "      <td>3143256000</td>\n",
       "    </tr>\n",
       "    <tr>\n",
       "      <th>34</th>\n",
       "      <td>20190</td>\n",
       "      <td>504770</td>\n",
       "      <td>4664364</td>\n",
       "      <td>1150000000</td>\n",
       "      <td>440000</td>\n",
       "      <td>1590000000</td>\n",
       "    </tr>\n",
       "  </tbody>\n",
       "</table>\n",
       "</div>"
      ],
      "text/plain": [
       "     Year   Fires     Acres Forest Service DOI Agencies       Total\n",
       "32  20170   71499  10026086     2410165000    508000000  2918165000\n",
       "33  20180   58083   8767492     2615256000    528000000  3143256000\n",
       "34  20190  504770   4664364     1150000000       440000  1590000000"
      ]
     },
     "execution_count": 267,
     "metadata": {},
     "output_type": "execute_result"
    }
   ],
   "source": [
    "# need to drop two bottom rows\n",
    "suppression.drop([35,36],inplace=True)\n",
    "suppression.tail(3)"
   ]
  },
  {
   "cell_type": "code",
   "execution_count": 268,
   "id": "ac5cf179",
   "metadata": {},
   "outputs": [
    {
     "data": {
      "text/plain": [
       "Year     object\n",
       "Fires    object\n",
       "dtype: object"
      ]
     },
     "execution_count": 268,
     "metadata": {},
     "output_type": "execute_result"
    }
   ],
   "source": [
    "# will convert year to int\n",
    "suppression.dtypes[:2]"
   ]
  },
  {
   "cell_type": "code",
   "execution_count": 269,
   "id": "1f498d3b",
   "metadata": {},
   "outputs": [
    {
     "data": {
      "text/plain": [
       "Index(['year', 'fires', 'acres', 'forest service', 'doi agencies', 'total'], dtype='object')"
      ]
     },
     "execution_count": 269,
     "metadata": {},
     "output_type": "execute_result"
    }
   ],
   "source": [
    "suppression.columns=suppression.columns.str.lower()\n",
    "suppression.columns"
   ]
  },
  {
   "cell_type": "code",
   "execution_count": 270,
   "id": "c44887ee",
   "metadata": {},
   "outputs": [
    {
     "data": {
      "text/plain": [
       "year      int64\n",
       "fires    object\n",
       "dtype: object"
      ]
     },
     "execution_count": 270,
     "metadata": {},
     "output_type": "execute_result"
    }
   ],
   "source": [
    "suppression['year'] = suppression['year'].replace({'\\\\.':''}, regex = True)\n",
    "\n",
    "def split_on_period(obs):\n",
    "    obs = int(obs[:4])\n",
    "\n",
    "    return obs\n",
    "suppression['year'] = suppression['year'].apply(split_on_period)\n",
    "suppression.dtypes[:2]"
   ]
  },
  {
   "cell_type": "code",
   "execution_count": null,
   "id": "014b2d5c",
   "metadata": {},
   "outputs": [],
   "source": []
  },
  {
   "cell_type": "code",
   "execution_count": 271,
   "id": "e7f6ee88",
   "metadata": {},
   "outputs": [
    {
     "data": {
      "text/html": [
       "<div>\n",
       "<style scoped>\n",
       "    .dataframe tbody tr th:only-of-type {\n",
       "        vertical-align: middle;\n",
       "    }\n",
       "\n",
       "    .dataframe tbody tr th {\n",
       "        vertical-align: top;\n",
       "    }\n",
       "\n",
       "    .dataframe thead th {\n",
       "        text-align: right;\n",
       "    }\n",
       "</style>\n",
       "<table border=\"1\" class=\"dataframe\">\n",
       "  <thead>\n",
       "    <tr style=\"text-align: right;\">\n",
       "      <th></th>\n",
       "      <th>year</th>\n",
       "      <th>fires</th>\n",
       "      <th>acres</th>\n",
       "      <th>forest service</th>\n",
       "      <th>doi agencies</th>\n",
       "      <th>total</th>\n",
       "    </tr>\n",
       "  </thead>\n",
       "  <tbody>\n",
       "    <tr>\n",
       "      <th>0</th>\n",
       "      <td>1985</td>\n",
       "      <td>82591</td>\n",
       "      <td>2896147</td>\n",
       "      <td>161505000</td>\n",
       "      <td>78438000</td>\n",
       "      <td>239943000</td>\n",
       "    </tr>\n",
       "    <tr>\n",
       "      <th>1</th>\n",
       "      <td>1986</td>\n",
       "      <td>859070</td>\n",
       "      <td>2719162</td>\n",
       "      <td>111625000</td>\n",
       "      <td>91153000</td>\n",
       "      <td>202778000</td>\n",
       "    </tr>\n",
       "    <tr>\n",
       "      <th>2</th>\n",
       "      <td>1987</td>\n",
       "      <td>713</td>\n",
       "      <td>2447296</td>\n",
       "      <td>253657000</td>\n",
       "      <td>81452000</td>\n",
       "      <td>335109000</td>\n",
       "    </tr>\n",
       "  </tbody>\n",
       "</table>\n",
       "</div>"
      ],
      "text/plain": [
       "   year   fires    acres forest service doi agencies      total\n",
       "0  1985   82591  2896147      161505000     78438000  239943000\n",
       "1  1986  859070  2719162      111625000     91153000  202778000\n",
       "2  1987     713  2447296      253657000     81452000  335109000"
      ]
     },
     "execution_count": 271,
     "metadata": {},
     "output_type": "execute_result"
    }
   ],
   "source": [
    "suppression.head(3)"
   ]
  },
  {
   "cell_type": "code",
   "execution_count": 272,
   "id": "fb4a1ac5",
   "metadata": {},
   "outputs": [
    {
     "data": {
      "text/plain": [
       "0"
      ]
     },
     "execution_count": 272,
     "metadata": {},
     "output_type": "execute_result"
    }
   ],
   "source": [
    "suppression.isnull().sum().sum()"
   ]
  },
  {
   "cell_type": "markdown",
   "id": "889fc33b-0ea4-4c7d-a1f5-e66866ecf725",
   "metadata": {},
   "source": [
    "### Dealing with fires column\n",
    "\n",
    "After inspection every value should have been 5 values in length so will append 0s to set to appropriate order of magnitude"
   ]
  },
  {
   "cell_type": "code",
   "execution_count": null,
   "id": "b2320243-bf08-4919-bdcf-538216120d22",
   "metadata": {},
   "outputs": [],
   "source": []
  },
  {
   "cell_type": "code",
   "execution_count": 291,
   "id": "2062be8a-86fe-4e69-898f-f191834f5f17",
   "metadata": {},
   "outputs": [
    {
     "data": {
      "text/html": [
       "<div>\n",
       "<style scoped>\n",
       "    .dataframe tbody tr th:only-of-type {\n",
       "        vertical-align: middle;\n",
       "    }\n",
       "\n",
       "    .dataframe tbody tr th {\n",
       "        vertical-align: top;\n",
       "    }\n",
       "\n",
       "    .dataframe thead th {\n",
       "        text-align: right;\n",
       "    }\n",
       "</style>\n",
       "<table border=\"1\" class=\"dataframe\">\n",
       "  <thead>\n",
       "    <tr style=\"text-align: right;\">\n",
       "      <th></th>\n",
       "      <th>year</th>\n",
       "      <th>fires</th>\n",
       "      <th>acres</th>\n",
       "      <th>forest service</th>\n",
       "      <th>doi agencies</th>\n",
       "      <th>total</th>\n",
       "    </tr>\n",
       "  </thead>\n",
       "  <tbody>\n",
       "    <tr>\n",
       "      <th>0</th>\n",
       "      <td>1985</td>\n",
       "      <td>82591</td>\n",
       "      <td>2896147</td>\n",
       "      <td>161505000</td>\n",
       "      <td>78438000</td>\n",
       "      <td>239943000</td>\n",
       "    </tr>\n",
       "    <tr>\n",
       "      <th>1</th>\n",
       "      <td>1986</td>\n",
       "      <td>85907</td>\n",
       "      <td>2719162</td>\n",
       "      <td>111625000</td>\n",
       "      <td>91153000</td>\n",
       "      <td>202778000</td>\n",
       "    </tr>\n",
       "    <tr>\n",
       "      <th>2</th>\n",
       "      <td>1987</td>\n",
       "      <td>71300</td>\n",
       "      <td>2447296</td>\n",
       "      <td>253657000</td>\n",
       "      <td>81452000</td>\n",
       "      <td>335109000</td>\n",
       "    </tr>\n",
       "    <tr>\n",
       "      <th>3</th>\n",
       "      <td>1988</td>\n",
       "      <td>72750</td>\n",
       "      <td>500929</td>\n",
       "      <td>429609000</td>\n",
       "      <td>149317000</td>\n",
       "      <td>578926000</td>\n",
       "    </tr>\n",
       "    <tr>\n",
       "      <th>4</th>\n",
       "      <td>1989</td>\n",
       "      <td>48949</td>\n",
       "      <td>1827310</td>\n",
       "      <td>331672000</td>\n",
       "      <td>168115000</td>\n",
       "      <td>499787000</td>\n",
       "    </tr>\n",
       "  </tbody>\n",
       "</table>\n",
       "</div>"
      ],
      "text/plain": [
       "   year  fires    acres forest service doi agencies      total\n",
       "0  1985  82591  2896147      161505000     78438000  239943000\n",
       "1  1986  85907  2719162      111625000     91153000  202778000\n",
       "2  1987  71300  2447296      253657000     81452000  335109000\n",
       "3  1988  72750   500929      429609000    149317000  578926000\n",
       "4  1989  48949  1827310      331672000    168115000  499787000"
      ]
     },
     "execution_count": 291,
     "metadata": {},
     "output_type": "execute_result"
    }
   ],
   "source": [
    "# checking lengths of each fire count then depending on lenght will add 0s or remove last values\n",
    "fires_lst=[]\n",
    "for fire in suppression['fires']:\n",
    "    if len(fire)==5:\n",
    "        #print('ok')\n",
    "        pass\n",
    "    elif len(fire)<5:\n",
    "        #adding supplemental 0s\n",
    "        zeros_to_add=5-len(fire)\n",
    "        fire = int(str(fire)+(str(0)*zeros_to_add))\n",
    "        \n",
    "        #removing trailing values\n",
    "        elif len(fire)>5:\n",
    "        #print('more than 5:',fire)\n",
    "        fire = fire[:5]\n",
    "        #print('more than 5:',fire)\n",
    "    fires_lst.append(fire)\n",
    "suppression['fires']=fires_lst\n",
    "suppression.head()"
   ]
  },
  {
   "cell_type": "code",
   "execution_count": null,
   "id": "46efbb5b-9cc3-47ac-a4c5-8837ed8905fb",
   "metadata": {},
   "outputs": [],
   "source": [
    "# checking lengths of each acre observation  depending on lenght will add 0s or remove last values\n",
    "acre_lst=[]\n",
    "for acre in suppression['acres']:\n",
    "    if len(fire)==5:\n",
    "        #print('ok')\n",
    "        pass\n",
    "    elif len(fire)<5:\n",
    "        #adding supplemental 0s\n",
    "        zeros_to_add=5-len(fire)\n",
    "        fire = int(str(fire)+(str(0)*zeros_to_add))\n",
    "        \n",
    "        #removing trailing values\n",
    "        elif len(fire)>5:\n",
    "        #print('more than 5:',fire)\n",
    "        fire = fire[:5]\n",
    "        #print('more than 5:',fire)\n",
    "    fires_lst.append(fire)\n",
    "suppression['fires']=fires_lst\n",
    "suppression.head()"
   ]
  },
  {
   "cell_type": "code",
   "execution_count": null,
   "id": "569a787d-4491-484f-8b83-8396edad7e37",
   "metadata": {},
   "outputs": [],
   "source": []
  }
 ],
 "metadata": {
  "kernelspec": {
   "display_name": "Python 3",
   "language": "python",
   "name": "python3"
  },
  "language_info": {
   "codemirror_mode": {
    "name": "ipython",
    "version": 3
   },
   "file_extension": ".py",
   "mimetype": "text/x-python",
   "name": "python",
   "nbconvert_exporter": "python",
   "pygments_lexer": "ipython3",
   "version": "3.8.8"
  }
 },
 "nbformat": 4,
 "nbformat_minor": 5
}
