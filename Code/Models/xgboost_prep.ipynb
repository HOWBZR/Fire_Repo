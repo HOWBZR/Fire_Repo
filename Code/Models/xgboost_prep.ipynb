{
 "cells": [
  {
   "cell_type": "code",
   "execution_count": null,
   "id": "5c6eeba1-c3dc-474e-8be7-68db7ac37470",
   "metadata": {},
   "outputs": [],
   "source": [
    "import pandas as pd\n",
    "import numpy as np\n",
    "from sklearn.model_selection import train_test_split\n",
    "from sklearn.metrics import accuracy_score, classification_report\n",
    "from sklearn.ensemble import RandomForestRegressor\n",
    "df = pd.read_csv('../../Data/complete_fire.csv')\n",
    "df.head()"
   ]
  },
  {
   "cell_type": "code",
   "execution_count": null,
   "id": "f9fd4975-632d-4307-86b4-bbc64886be16",
   "metadata": {},
   "outputs": [],
   "source": []
  },
  {
   "cell_type": "code",
   "execution_count": null,
   "id": "835b2de4-3bba-40b6-8550-215d72a32f88",
   "metadata": {},
   "outputs": [],
   "source": [
    "numerics = ['int16', 'int32', 'int64', 'float16', 'float32', 'float64']\n",
    "categorical = ['object']\n",
    "numdf = df_clean.copy().select_dtypes(include=numerics)\n",
    "catdf = df_clean.copy().select_dtypes(include=categorical)\n",
    "catdf.drop(columns=['unique_fire_identifier','incident_name'],inplace=True)\n",
    "catdf.head()"
   ]
  },
  {
   "cell_type": "code",
   "execution_count": null,
   "id": "add20d01-f569-4832-ac5d-7ece3665007a",
   "metadata": {},
   "outputs": [],
   "source": [
    "# will dummify these features to obtain correlations  \n",
    "dummified_1 = pd.get_dummies(data=catdf,drop_first=False) \n",
    "dummified_1 = pd.concat([numdf,dummified_1],axis=1)\n",
    "dummified_1.head()"
   ]
  },
  {
   "cell_type": "code",
   "execution_count": null,
   "id": "b6fb50f5-c0e3-4cc4-b488-ea0f83eb4f6e",
   "metadata": {},
   "outputs": [],
   "source": [
    "fire_class = []\n",
    "for obs in df['acres_burned']:\n",
    "    if 0<=obs <= 0.26:\n",
    "        fire_class.append('A')\n",
    "    elif 0.26 <= obs <10.0:\n",
    "        fire_class.append('B')\n",
    "    elif 10.0<=obs<100.0:\n",
    "        fire_class.append('C')\n",
    "    elif 100.0<=obs<300:\n",
    "        fire_class.append('D')\n",
    "    elif 300.0 <= obs <1_000:\n",
    "        fire_class.append('E')\n",
    "    elif 1_000.0<=obs<5_000.0:\n",
    "        fire_class.append('F')\n",
    "    elif 5_000.0 <= obs <10_000:\n",
    "        fire_class.append('G')\n",
    "    elif 10_000.0 <=obs<50_000:\n",
    "        fire_class.append('H')\n",
    "    elif 50_000.0<=obs<100_000:\n",
    "        fire_class.append('I')\n",
    "    elif 100_000.0<=obs<500_000.0:\n",
    "        fire_class.append('J')\n",
    "    elif 500_000.0 <= obs <1_000_000:\n",
    "        fire_class.append('K')\n",
    "    elif obs >= 1_000_000.0:\n",
    "        fire_class.append('L')\n",
    "    else:\n",
    "        print(obs)\n",
    "dummified_1['fire_class'] = fire_class "
   ]
  },
  {
   "cell_type": "code",
   "execution_count": null,
   "id": "df8b155a-cbe8-4b61-b066-53454f175dd1",
   "metadata": {},
   "outputs": [],
   "source": [
    "model_1 = dummified_1.drop(columns='acres_burned')\n",
    "model_1.sort_values(by=['year','month']).head()"
   ]
  },
  {
   "cell_type": "code",
   "execution_count": null,
   "id": "a966b2e8-5856-4b51-8113-b21e9190efc2",
   "metadata": {},
   "outputs": [],
   "source": [
    "X =mode1_1.drop(columns = 'fire_class') \n",
    "y= mode1_1['fire_class']\n",
    "Xtrain, Xtest, ytrain, ytest = train_test_split(model_1.iloc[:, :500], y, test_size=0.2,shuffle=False)\n",
    "\n",
    "#random_model = RandomForestRegressor(n_estimators=300, random_state = 42, n_jobs = -1)\n"
   ]
  },
  {
   "cell_type": "code",
   "execution_count": null,
   "id": "f1ee5039-6d0b-424f-9a71-6c09ded69808",
   "metadata": {},
   "outputs": [],
   "source": []
  },
  {
   "cell_type": "code",
   "execution_count": null,
   "id": "da00b378-2ca7-4ffb-99ff-7a6849ac1446",
   "metadata": {},
   "outputs": [],
   "source": []
  },
  {
   "cell_type": "code",
   "execution_count": null,
   "id": "81f21c6e-6948-4752-847a-0b28fc831e93",
   "metadata": {},
   "outputs": [],
   "source": []
  }
 ],
 "metadata": {
  "kernelspec": {
   "display_name": "Python 3",
   "language": "python",
   "name": "python3"
  },
  "language_info": {
   "codemirror_mode": {
    "name": "ipython",
    "version": 3
   },
   "file_extension": ".py",
   "mimetype": "text/x-python",
   "name": "python",
   "nbconvert_exporter": "python",
   "pygments_lexer": "ipython3",
   "version": "3.8.8"
  }
 },
 "nbformat": 4,
 "nbformat_minor": 5
}
