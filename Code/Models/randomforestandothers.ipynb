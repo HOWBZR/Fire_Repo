{
 "cells": [
  {
   "cell_type": "code",
   "execution_count": 1,
   "id": "cbf0da2a-4267-42d5-aad4-000945684311",
   "metadata": {},
   "outputs": [],
   "source": [
    "from sklearn.model_selection import train_test_split, GridSearchCV, cross_val_score\n",
    "from sklearn.preprocessing import StandardScaler\n",
    "from sklearn.ensemble import RandomForestClassifier, GradientBoostingClassifier, AdaBoostClassifier\n",
    "from sklearn.metrics import confusion_matrix\n",
    "from sklearn.metrics import accuracy_score, classification_report, f1_score\n",
    "from sklearn.neighbors import KNeighborsClassifier\n",
    "from sklearn.pipeline import Pipeline\n",
    "import pandas as pd\n",
    "from sklearn.metrics import cohen_kappa_score\n",
    "from sklearn.metrics import multilabel_confusion_matrix\n",
    "import seaborn as sns\n",
    "import matplotlib.pyplot as plt \n",
    "import numpy as np\n",
    "import pickle"
   ]
  },
  {
   "cell_type": "code",
   "execution_count": 2,
   "id": "466844b6-8aff-4132-9aa5-12de27d63356",
   "metadata": {},
   "outputs": [],
   "source": [
    "import imblearn\n",
    "from imblearn.under_sampling import RandomUnderSampler\n",
    "from imblearn.over_sampling import RandomOverSampler"
   ]
  },
  {
   "cell_type": "code",
   "execution_count": 3,
   "id": "d387cd28-6c00-4579-9fdf-3815e012db0c",
   "metadata": {},
   "outputs": [],
   "source": [
    "df = pd.read_csv('../../data.csv')"
   ]
  },
  {
   "cell_type": "code",
   "execution_count": 4,
   "id": "d6dc3dcb-e9c1-4f2d-922d-5c710ab85981",
   "metadata": {},
   "outputs": [
    {
     "data": {
      "text/html": [
       "<div>\n",
       "<style scoped>\n",
       "    .dataframe tbody tr th:only-of-type {\n",
       "        vertical-align: middle;\n",
       "    }\n",
       "\n",
       "    .dataframe tbody tr th {\n",
       "        vertical-align: top;\n",
       "    }\n",
       "\n",
       "    .dataframe thead th {\n",
       "        text-align: right;\n",
       "    }\n",
       "</style>\n",
       "<table border=\"1\" class=\"dataframe\">\n",
       "  <thead>\n",
       "    <tr style=\"text-align: right;\">\n",
       "      <th></th>\n",
       "      <th>Unnamed: 0</th>\n",
       "      <th>unique_fire_identifier</th>\n",
       "      <th>lattitude</th>\n",
       "      <th>longitude</th>\n",
       "      <th>acres_burned</th>\n",
       "      <th>fire_cause</th>\n",
       "      <th>incident_name</th>\n",
       "      <th>IsFSAssisted</th>\n",
       "      <th>origin_county</th>\n",
       "      <th>state</th>\n",
       "      <th>...</th>\n",
       "      <th>population</th>\n",
       "      <th>d0</th>\n",
       "      <th>d1</th>\n",
       "      <th>d2</th>\n",
       "      <th>d3</th>\n",
       "      <th>d4</th>\n",
       "      <th>DSCI_avg</th>\n",
       "      <th>DSCI_summed</th>\n",
       "      <th>precipitation(in)</th>\n",
       "      <th>class</th>\n",
       "    </tr>\n",
       "  </thead>\n",
       "  <tbody>\n",
       "    <tr>\n",
       "      <th>0</th>\n",
       "      <td>34889</td>\n",
       "      <td>2016-IDBOD-000058</td>\n",
       "      <td>-116.330913</td>\n",
       "      <td>43.406206</td>\n",
       "      <td>0.1</td>\n",
       "      <td>Human</td>\n",
       "      <td>SOUTH CLOVER</td>\n",
       "      <td>1.0</td>\n",
       "      <td>Ada</td>\n",
       "      <td>ID</td>\n",
       "      <td>...</td>\n",
       "      <td>1684036.0</td>\n",
       "      <td>8.043333</td>\n",
       "      <td>0.000000</td>\n",
       "      <td>0.000000</td>\n",
       "      <td>0.0</td>\n",
       "      <td>0.0</td>\n",
       "      <td>8.043333</td>\n",
       "      <td>24.13</td>\n",
       "      <td>0.040772</td>\n",
       "      <td>A</td>\n",
       "    </tr>\n",
       "    <tr>\n",
       "      <th>1</th>\n",
       "      <td>34890</td>\n",
       "      <td>2016-MNRLA-000184</td>\n",
       "      <td>-94.916910</td>\n",
       "      <td>48.017407</td>\n",
       "      <td>0.1</td>\n",
       "      <td>Undetermined</td>\n",
       "      <td>RL 130</td>\n",
       "      <td>0.0</td>\n",
       "      <td>Beltrami</td>\n",
       "      <td>MN</td>\n",
       "      <td>...</td>\n",
       "      <td>5525360.0</td>\n",
       "      <td>9.663333</td>\n",
       "      <td>1.026667</td>\n",
       "      <td>0.000000</td>\n",
       "      <td>0.0</td>\n",
       "      <td>0.0</td>\n",
       "      <td>11.716667</td>\n",
       "      <td>35.15</td>\n",
       "      <td>0.040886</td>\n",
       "      <td>A</td>\n",
       "    </tr>\n",
       "    <tr>\n",
       "      <th>2</th>\n",
       "      <td>34891</td>\n",
       "      <td>2016-MNRLA-000185</td>\n",
       "      <td>-95.015306</td>\n",
       "      <td>47.875908</td>\n",
       "      <td>0.1</td>\n",
       "      <td>Undetermined</td>\n",
       "      <td>RL 131</td>\n",
       "      <td>0.0</td>\n",
       "      <td>Beltrami</td>\n",
       "      <td>MN</td>\n",
       "      <td>...</td>\n",
       "      <td>5525360.0</td>\n",
       "      <td>9.663333</td>\n",
       "      <td>1.026667</td>\n",
       "      <td>0.000000</td>\n",
       "      <td>0.0</td>\n",
       "      <td>0.0</td>\n",
       "      <td>11.716667</td>\n",
       "      <td>35.15</td>\n",
       "      <td>0.040886</td>\n",
       "      <td>A</td>\n",
       "    </tr>\n",
       "    <tr>\n",
       "      <th>3</th>\n",
       "      <td>34892</td>\n",
       "      <td>2016-AZA5S-002056</td>\n",
       "      <td>-112.761608</td>\n",
       "      <td>34.201307</td>\n",
       "      <td>0.5</td>\n",
       "      <td>Undetermined</td>\n",
       "      <td>KRISTEE</td>\n",
       "      <td>0.0</td>\n",
       "      <td>Yavapai</td>\n",
       "      <td>AZ</td>\n",
       "      <td>...</td>\n",
       "      <td>6944767.0</td>\n",
       "      <td>32.776667</td>\n",
       "      <td>65.580000</td>\n",
       "      <td>1.170000</td>\n",
       "      <td>0.0</td>\n",
       "      <td>0.0</td>\n",
       "      <td>167.446667</td>\n",
       "      <td>502.34</td>\n",
       "      <td>0.031042</td>\n",
       "      <td>B</td>\n",
       "    </tr>\n",
       "    <tr>\n",
       "      <th>4</th>\n",
       "      <td>34893</td>\n",
       "      <td>2016-AZNAA-000033</td>\n",
       "      <td>-108.537233</td>\n",
       "      <td>36.744172</td>\n",
       "      <td>0.5</td>\n",
       "      <td>Human</td>\n",
       "      <td>HOGBACK 1</td>\n",
       "      <td>1.0</td>\n",
       "      <td>San Juan</td>\n",
       "      <td>NM</td>\n",
       "      <td>...</td>\n",
       "      <td>2092555.0</td>\n",
       "      <td>53.023333</td>\n",
       "      <td>43.686667</td>\n",
       "      <td>0.086667</td>\n",
       "      <td>0.0</td>\n",
       "      <td>0.0</td>\n",
       "      <td>140.656667</td>\n",
       "      <td>421.97</td>\n",
       "      <td>0.235141</td>\n",
       "      <td>B</td>\n",
       "    </tr>\n",
       "  </tbody>\n",
       "</table>\n",
       "<p>5 rows × 25 columns</p>\n",
       "</div>"
      ],
      "text/plain": [
       "   Unnamed: 0 unique_fire_identifier   lattitude  longitude  acres_burned  \\\n",
       "0       34889      2016-IDBOD-000058 -116.330913  43.406206           0.1   \n",
       "1       34890      2016-MNRLA-000184  -94.916910  48.017407           0.1   \n",
       "2       34891      2016-MNRLA-000185  -95.015306  47.875908           0.1   \n",
       "3       34892      2016-AZA5S-002056 -112.761608  34.201307           0.5   \n",
       "4       34893      2016-AZNAA-000033 -108.537233  36.744172           0.5   \n",
       "\n",
       "     fire_cause incident_name  IsFSAssisted origin_county state  ...  \\\n",
       "0         Human  SOUTH CLOVER           1.0           Ada    ID  ...   \n",
       "1  Undetermined        RL 130           0.0      Beltrami    MN  ...   \n",
       "2  Undetermined        RL 131           0.0      Beltrami    MN  ...   \n",
       "3  Undetermined       KRISTEE           0.0       Yavapai    AZ  ...   \n",
       "4         Human     HOGBACK 1           1.0      San Juan    NM  ...   \n",
       "\n",
       "   population         d0         d1        d2   d3   d4    DSCI_avg  \\\n",
       "0   1684036.0   8.043333   0.000000  0.000000  0.0  0.0    8.043333   \n",
       "1   5525360.0   9.663333   1.026667  0.000000  0.0  0.0   11.716667   \n",
       "2   5525360.0   9.663333   1.026667  0.000000  0.0  0.0   11.716667   \n",
       "3   6944767.0  32.776667  65.580000  1.170000  0.0  0.0  167.446667   \n",
       "4   2092555.0  53.023333  43.686667  0.086667  0.0  0.0  140.656667   \n",
       "\n",
       "   DSCI_summed  precipitation(in)  class  \n",
       "0        24.13           0.040772      A  \n",
       "1        35.15           0.040886      A  \n",
       "2        35.15           0.040886      A  \n",
       "3       502.34           0.031042      B  \n",
       "4       421.97           0.235141      B  \n",
       "\n",
       "[5 rows x 25 columns]"
      ]
     },
     "execution_count": 4,
     "metadata": {},
     "output_type": "execute_result"
    }
   ],
   "source": [
    "df.head()"
   ]
  },
  {
   "cell_type": "code",
   "execution_count": 5,
   "id": "a9bf11c5-bbe3-48c1-abc1-f75b6fd658fd",
   "metadata": {},
   "outputs": [],
   "source": [
    "dict2 = { 'A':0, 'B':1, 'C':2, 'D':3, 'E':4, 'F':5, 'G':6, 'H':7, 'I':8, 'J':9} # the classes need to be numeric"
   ]
  },
  {
   "cell_type": "code",
   "execution_count": 6,
   "id": "a483a898-fcdb-488a-93a2-20f83272e5c4",
   "metadata": {},
   "outputs": [],
   "source": [
    "df['class'] = df['class'].replace(dict2)"
   ]
  },
  {
   "cell_type": "code",
   "execution_count": 7,
   "id": "33e890bb-35bf-402a-be47-767f6bef5c1a",
   "metadata": {},
   "outputs": [
    {
     "data": {
      "text/html": [
       "<div>\n",
       "<style scoped>\n",
       "    .dataframe tbody tr th:only-of-type {\n",
       "        vertical-align: middle;\n",
       "    }\n",
       "\n",
       "    .dataframe tbody tr th {\n",
       "        vertical-align: top;\n",
       "    }\n",
       "\n",
       "    .dataframe thead th {\n",
       "        text-align: right;\n",
       "    }\n",
       "</style>\n",
       "<table border=\"1\" class=\"dataframe\">\n",
       "  <thead>\n",
       "    <tr style=\"text-align: right;\">\n",
       "      <th></th>\n",
       "      <th>Unnamed: 0</th>\n",
       "      <th>unique_fire_identifier</th>\n",
       "      <th>lattitude</th>\n",
       "      <th>longitude</th>\n",
       "      <th>acres_burned</th>\n",
       "      <th>fire_cause</th>\n",
       "      <th>incident_name</th>\n",
       "      <th>IsFSAssisted</th>\n",
       "      <th>origin_county</th>\n",
       "      <th>state</th>\n",
       "      <th>...</th>\n",
       "      <th>population</th>\n",
       "      <th>d0</th>\n",
       "      <th>d1</th>\n",
       "      <th>d2</th>\n",
       "      <th>d3</th>\n",
       "      <th>d4</th>\n",
       "      <th>DSCI_avg</th>\n",
       "      <th>DSCI_summed</th>\n",
       "      <th>precipitation(in)</th>\n",
       "      <th>class</th>\n",
       "    </tr>\n",
       "  </thead>\n",
       "  <tbody>\n",
       "    <tr>\n",
       "      <th>0</th>\n",
       "      <td>34889</td>\n",
       "      <td>2016-IDBOD-000058</td>\n",
       "      <td>-116.330913</td>\n",
       "      <td>43.406206</td>\n",
       "      <td>0.1</td>\n",
       "      <td>Human</td>\n",
       "      <td>SOUTH CLOVER</td>\n",
       "      <td>1.0</td>\n",
       "      <td>Ada</td>\n",
       "      <td>ID</td>\n",
       "      <td>...</td>\n",
       "      <td>1684036.0</td>\n",
       "      <td>8.043333</td>\n",
       "      <td>0.000000</td>\n",
       "      <td>0.000000</td>\n",
       "      <td>0.0</td>\n",
       "      <td>0.0</td>\n",
       "      <td>8.043333</td>\n",
       "      <td>24.13</td>\n",
       "      <td>0.040772</td>\n",
       "      <td>0</td>\n",
       "    </tr>\n",
       "    <tr>\n",
       "      <th>1</th>\n",
       "      <td>34890</td>\n",
       "      <td>2016-MNRLA-000184</td>\n",
       "      <td>-94.916910</td>\n",
       "      <td>48.017407</td>\n",
       "      <td>0.1</td>\n",
       "      <td>Undetermined</td>\n",
       "      <td>RL 130</td>\n",
       "      <td>0.0</td>\n",
       "      <td>Beltrami</td>\n",
       "      <td>MN</td>\n",
       "      <td>...</td>\n",
       "      <td>5525360.0</td>\n",
       "      <td>9.663333</td>\n",
       "      <td>1.026667</td>\n",
       "      <td>0.000000</td>\n",
       "      <td>0.0</td>\n",
       "      <td>0.0</td>\n",
       "      <td>11.716667</td>\n",
       "      <td>35.15</td>\n",
       "      <td>0.040886</td>\n",
       "      <td>0</td>\n",
       "    </tr>\n",
       "    <tr>\n",
       "      <th>2</th>\n",
       "      <td>34891</td>\n",
       "      <td>2016-MNRLA-000185</td>\n",
       "      <td>-95.015306</td>\n",
       "      <td>47.875908</td>\n",
       "      <td>0.1</td>\n",
       "      <td>Undetermined</td>\n",
       "      <td>RL 131</td>\n",
       "      <td>0.0</td>\n",
       "      <td>Beltrami</td>\n",
       "      <td>MN</td>\n",
       "      <td>...</td>\n",
       "      <td>5525360.0</td>\n",
       "      <td>9.663333</td>\n",
       "      <td>1.026667</td>\n",
       "      <td>0.000000</td>\n",
       "      <td>0.0</td>\n",
       "      <td>0.0</td>\n",
       "      <td>11.716667</td>\n",
       "      <td>35.15</td>\n",
       "      <td>0.040886</td>\n",
       "      <td>0</td>\n",
       "    </tr>\n",
       "    <tr>\n",
       "      <th>3</th>\n",
       "      <td>34892</td>\n",
       "      <td>2016-AZA5S-002056</td>\n",
       "      <td>-112.761608</td>\n",
       "      <td>34.201307</td>\n",
       "      <td>0.5</td>\n",
       "      <td>Undetermined</td>\n",
       "      <td>KRISTEE</td>\n",
       "      <td>0.0</td>\n",
       "      <td>Yavapai</td>\n",
       "      <td>AZ</td>\n",
       "      <td>...</td>\n",
       "      <td>6944767.0</td>\n",
       "      <td>32.776667</td>\n",
       "      <td>65.580000</td>\n",
       "      <td>1.170000</td>\n",
       "      <td>0.0</td>\n",
       "      <td>0.0</td>\n",
       "      <td>167.446667</td>\n",
       "      <td>502.34</td>\n",
       "      <td>0.031042</td>\n",
       "      <td>1</td>\n",
       "    </tr>\n",
       "    <tr>\n",
       "      <th>4</th>\n",
       "      <td>34893</td>\n",
       "      <td>2016-AZNAA-000033</td>\n",
       "      <td>-108.537233</td>\n",
       "      <td>36.744172</td>\n",
       "      <td>0.5</td>\n",
       "      <td>Human</td>\n",
       "      <td>HOGBACK 1</td>\n",
       "      <td>1.0</td>\n",
       "      <td>San Juan</td>\n",
       "      <td>NM</td>\n",
       "      <td>...</td>\n",
       "      <td>2092555.0</td>\n",
       "      <td>53.023333</td>\n",
       "      <td>43.686667</td>\n",
       "      <td>0.086667</td>\n",
       "      <td>0.0</td>\n",
       "      <td>0.0</td>\n",
       "      <td>140.656667</td>\n",
       "      <td>421.97</td>\n",
       "      <td>0.235141</td>\n",
       "      <td>1</td>\n",
       "    </tr>\n",
       "  </tbody>\n",
       "</table>\n",
       "<p>5 rows × 25 columns</p>\n",
       "</div>"
      ],
      "text/plain": [
       "   Unnamed: 0 unique_fire_identifier   lattitude  longitude  acres_burned  \\\n",
       "0       34889      2016-IDBOD-000058 -116.330913  43.406206           0.1   \n",
       "1       34890      2016-MNRLA-000184  -94.916910  48.017407           0.1   \n",
       "2       34891      2016-MNRLA-000185  -95.015306  47.875908           0.1   \n",
       "3       34892      2016-AZA5S-002056 -112.761608  34.201307           0.5   \n",
       "4       34893      2016-AZNAA-000033 -108.537233  36.744172           0.5   \n",
       "\n",
       "     fire_cause incident_name  IsFSAssisted origin_county state  ...  \\\n",
       "0         Human  SOUTH CLOVER           1.0           Ada    ID  ...   \n",
       "1  Undetermined        RL 130           0.0      Beltrami    MN  ...   \n",
       "2  Undetermined        RL 131           0.0      Beltrami    MN  ...   \n",
       "3  Undetermined       KRISTEE           0.0       Yavapai    AZ  ...   \n",
       "4         Human     HOGBACK 1           1.0      San Juan    NM  ...   \n",
       "\n",
       "   population         d0         d1        d2   d3   d4    DSCI_avg  \\\n",
       "0   1684036.0   8.043333   0.000000  0.000000  0.0  0.0    8.043333   \n",
       "1   5525360.0   9.663333   1.026667  0.000000  0.0  0.0   11.716667   \n",
       "2   5525360.0   9.663333   1.026667  0.000000  0.0  0.0   11.716667   \n",
       "3   6944767.0  32.776667  65.580000  1.170000  0.0  0.0  167.446667   \n",
       "4   2092555.0  53.023333  43.686667  0.086667  0.0  0.0  140.656667   \n",
       "\n",
       "   DSCI_summed  precipitation(in)  class  \n",
       "0        24.13           0.040772      0  \n",
       "1        35.15           0.040886      0  \n",
       "2        35.15           0.040886      0  \n",
       "3       502.34           0.031042      1  \n",
       "4       421.97           0.235141      1  \n",
       "\n",
       "[5 rows x 25 columns]"
      ]
     },
     "execution_count": 7,
     "metadata": {},
     "output_type": "execute_result"
    }
   ],
   "source": [
    "df.head() #now we have class 0-9"
   ]
  },
  {
   "cell_type": "code",
   "execution_count": 8,
   "id": "6fe90137-620f-42e9-8396-dab5c87d5800",
   "metadata": {},
   "outputs": [],
   "source": [
    "def over_sampler(df,column_name):\n",
    "    ''' Params: df,column_name=\"string\" \n",
    "    The function will oversample based on the class you want to match. Save as df and then use train_test_split to cut down \n",
    "    the data.\n",
    "      '''\n",
    "    \n",
    "    df=df.copy()\n",
    "    # gathering the classes/counts and respective percentages to convert to dictionary for easy accesiblilty later\n",
    "    classes = df[column_name].value_counts(normalize=False).index.tolist()\n",
    "    counts = df[column_name].value_counts(normalize=False).tolist()\n",
    "    percentages = (round(df[column_name].value_counts(normalize=True)*100,3)).tolist()\n",
    "    diction=dict(zip(classes,counts))\n",
    "    \n",
    "    # getting input data so we can quckly iterate\n",
    "    input_user = int(input('What class do we want from needs to be an INT(our case ~ 0-9)?'))\n",
    "    count_goal = diction.get(input_user)\n",
    "    # creating list of dataframes of randomly oversample observations \n",
    "    #            Note: not usable for time series w/o adjustment as to what df passed in \n",
    "    df_list = []\n",
    "    for k,v in diction.items():\n",
    "        # ensuring oversampling classes w/counts below the designated input class\n",
    "        if v < count_goal:\n",
    "            n_samples=count_goal-v\n",
    "            rows_to_append = df[df[column_name]==k].sample(n =n_samples,replace=True,random_state=42) # oversampling here\n",
    "            df_list.append(rows_to_append)\n",
    "\n",
    "    # merging list of dfs into on whole df \n",
    "    samples_df = pd.concat(df_list)\n",
    "    # merging dataframe of oversamples obs to original passed in df to return\n",
    "    over_sample_class =pd.concat([df,samples_df])\n",
    "    \n",
    "    return over_sample_class\n",
    "\n",
    "        "
   ]
  },
  {
   "cell_type": "code",
   "execution_count": 10,
   "id": "e108731f-369b-4d43-a8f9-fd0ca36ccf69",
   "metadata": {},
   "outputs": [
    {
     "name": "stdin",
     "output_type": "stream",
     "text": [
      "What class do we want from needs to be an INT(our case ~ 0-9)? 3\n"
     ]
    },
    {
     "name": "stdout",
     "output_type": "stream",
     "text": [
      "219739\n"
     ]
    },
    {
     "data": {
      "text/plain": [
       "0    55304\n",
       "1    38521\n",
       "2    22983\n",
       "5    18769\n",
       "4    17182\n",
       "3    13396\n",
       "8    13396\n",
       "6    13396\n",
       "7    13396\n",
       "9    13396\n",
       "Name: class, dtype: int64"
      ]
     },
     "execution_count": 10,
     "metadata": {},
     "output_type": "execute_result"
    }
   ],
   "source": [
    "over_class = over_sampler(df,'class')\n",
    "print(over_class.shape[0])\n",
    "over_class['class'].value_counts()"
   ]
  },
  {
   "cell_type": "markdown",
   "id": "515dac55-df59-427d-9c02-9b469b007fd5",
   "metadata": {},
   "source": [
    "We oversample the smaller classes to build a more balanced model. Now each class smaller then class 3 is the same size as class 3. "
   ]
  },
  {
   "cell_type": "code",
   "execution_count": 11,
   "id": "d52e43e7-c033-4c5f-bd75-11dfd83ef161",
   "metadata": {},
   "outputs": [],
   "source": [
    "X = over_class[['precipitation(in)', 'value', 'area (acres)', 'population', 'lattitude', 'longitude', 'month', 'year']] #these features gave me the best results\n",
    "y = over_class['class']"
   ]
  },
  {
   "cell_type": "code",
   "execution_count": 12,
   "id": "917c20c8-4884-4767-9491-40c13f7dbbd6",
   "metadata": {},
   "outputs": [],
   "source": [
    "X_train, X_test, y_train, y_test = train_test_split(X, y, stratify =y, random_state =42)"
   ]
  },
  {
   "cell_type": "code",
   "execution_count": 13,
   "id": "896ba54e-2224-4b31-98ff-0bb2bde67900",
   "metadata": {},
   "outputs": [],
   "source": [
    "scaler = StandardScaler()\n",
    "X_train = scaler.fit_transform(X_train)\n",
    "X_test = scaler.transform(X_test)"
   ]
  },
  {
   "cell_type": "code",
   "execution_count": 14,
   "id": "ab08bcff-53b4-4ac1-b65b-bbcfdca00922",
   "metadata": {},
   "outputs": [
    {
     "data": {
      "text/plain": [
       "RandomForestClassifier(n_estimators=10)"
      ]
     },
     "execution_count": 14,
     "metadata": {},
     "output_type": "execute_result"
    }
   ],
   "source": [
    "rf = RandomForestClassifier(n_estimators = 10)\n",
    "rf.fit(X_train, y_train)"
   ]
  },
  {
   "cell_type": "code",
   "execution_count": 15,
   "id": "7109a2a6-60c5-4799-8c07-c98862972c1c",
   "metadata": {},
   "outputs": [
    {
     "data": {
      "text/plain": [
       "0.9797699084973666"
      ]
     },
     "execution_count": 15,
     "metadata": {},
     "output_type": "execute_result"
    }
   ],
   "source": [
    "rf.score(X_train, y_train) "
   ]
  },
  {
   "cell_type": "code",
   "execution_count": 16,
   "id": "df754502-0cb2-403c-ba50-558f37e5a2bd",
   "metadata": {},
   "outputs": [
    {
     "data": {
      "text/plain": [
       "0.7098571038500046"
      ]
     },
     "execution_count": 16,
     "metadata": {},
     "output_type": "execute_result"
    }
   ],
   "source": [
    "rf.score(X_test, y_test)"
   ]
  },
  {
   "cell_type": "code",
   "execution_count": 18,
   "id": "1085fef4-93d9-4ce4-b4b0-83ea19efe4e5",
   "metadata": {},
   "outputs": [],
   "source": [
    "y_pred = rf.predict(X_test)"
   ]
  },
  {
   "cell_type": "code",
   "execution_count": 19,
   "id": "33cd8fc5-e755-4490-9a47-25751f330380",
   "metadata": {},
   "outputs": [
    {
     "data": {
      "text/plain": [
       "0.7786070420844855"
      ]
     },
     "execution_count": 19,
     "metadata": {},
     "output_type": "execute_result"
    }
   ],
   "source": [
    "f1_score(y_test, y_pred, average = 'macro')"
   ]
  },
  {
   "cell_type": "markdown",
   "id": "14f4aa37-e9bf-4284-800e-b796a0dcd4cf",
   "metadata": {},
   "source": [
    "f1 score is our target metric."
   ]
  },
  {
   "cell_type": "code",
   "execution_count": 20,
   "id": "5b3c4b89-21ee-43a7-b138-d93b46b1c687",
   "metadata": {},
   "outputs": [],
   "source": [
    "cm = confusion_matrix(y_test, y_pred)"
   ]
  },
  {
   "cell_type": "code",
   "execution_count": 21,
   "id": "fabb8a64-5613-4c9d-8e5f-f50c305d2867",
   "metadata": {},
   "outputs": [],
   "source": [
    "cm_df = pd.DataFrame(cm,\n",
    "                     index = ['A','B','C', 'D','E','F','G','H','I','J'], \n",
    "                     columns = ['A','B','C', 'D','E','F','G','H','I','J'])"
   ]
  },
  {
   "cell_type": "code",
   "execution_count": 22,
   "id": "03f50db3-7533-446a-b522-00c940b8ca4b",
   "metadata": {},
   "outputs": [
    {
     "data": {
      "image/png": "[encoded data removed]",
      "text/plain": [
       "<Figure size 1440x1440 with 2 Axes>"
      ]
     },
     "metadata": {
      "needs_background": "light"
     },
     "output_type": "display_data"
    }
   ],
   "source": [
    "#Plotting the confusion matrix\n",
    "plt.figure(figsize=(20,20))\n",
    "sns.heatmap(cm_df, annot=True, cmap = 'winter')\n",
    "plt.title('Confusion Matrix')\n",
    "plt.ylabel('Actal Values')\n",
    "plt.xlabel('Predicted Values')\n",
    "plt.show()"
   ]
  },
  {
   "cell_type": "code",
   "execution_count": 23,
   "id": "399e1b3c-3655-4a24-9a9c-045f7b305f67",
   "metadata": {},
   "outputs": [
    {
     "data": {
      "text/plain": [
       "GradientBoostingClassifier(n_estimators=10)"
      ]
     },
     "execution_count": 23,
     "metadata": {},
     "output_type": "execute_result"
    }
   ],
   "source": [
    "gb = GradientBoostingClassifier(n_estimators = 10)\n",
    "gb.fit(X_train, y_train)"
   ]
  },
  {
   "cell_type": "code",
   "execution_count": 24,
   "id": "5c8c84ed-471f-4266-81a4-26fc154ad30c",
   "metadata": {},
   "outputs": [
    {
     "data": {
      "text/plain": [
       "0.4529744423679037"
      ]
     },
     "execution_count": 24,
     "metadata": {},
     "output_type": "execute_result"
    }
   ],
   "source": [
    "gb.score(X_train, y_train) "
   ]
  },
  {
   "cell_type": "code",
   "execution_count": 25,
   "id": "b7a69e39-5760-4ec9-83d6-5914080a358e",
   "metadata": {},
   "outputs": [
    {
     "data": {
      "text/plain": [
       "0.45022299080731776"
      ]
     },
     "execution_count": 25,
     "metadata": {},
     "output_type": "execute_result"
    }
   ],
   "source": [
    "gb.score(X_test, y_test)"
   ]
  },
  {
   "cell_type": "code",
   "execution_count": 26,
   "id": "3cce65fa-0509-4a54-b815-9bc4ac966eda",
   "metadata": {},
   "outputs": [],
   "source": [
    "y_pred2 = gb.predict(X_test)"
   ]
  },
  {
   "cell_type": "code",
   "execution_count": 27,
   "id": "322cdb18-dc47-4e38-93ef-ee083c90399f",
   "metadata": {},
   "outputs": [
    {
     "data": {
      "text/plain": [
       "0.3778893685831448"
      ]
     },
     "execution_count": 27,
     "metadata": {},
     "output_type": "execute_result"
    }
   ],
   "source": [
    "f1_score(y_test, y_pred2, average = 'macro')"
   ]
  },
  {
   "cell_type": "markdown",
   "id": "72491520-da94-41cb-bf9e-6c102fb6fe70",
   "metadata": {},
   "source": [
    "The random forest model is better"
   ]
  },
  {
   "cell_type": "code",
   "execution_count": 28,
   "id": "1240ff92-630c-46de-b1c3-b5324465dbce",
   "metadata": {},
   "outputs": [
    {
     "data": {
      "text/plain": [
       "AdaBoostClassifier(n_estimators=10)"
      ]
     },
     "execution_count": 28,
     "metadata": {},
     "output_type": "execute_result"
    }
   ],
   "source": [
    "ab = AdaBoostClassifier(n_estimators = 10)\n",
    "ab.fit(X_train, y_train)"
   ]
  },
  {
   "cell_type": "code",
   "execution_count": 29,
   "id": "9a103589-4039-4362-a9f6-c27793378e7e",
   "metadata": {},
   "outputs": [
    {
     "data": {
      "text/plain": [
       "0.3519817480158249"
      ]
     },
     "execution_count": 29,
     "metadata": {},
     "output_type": "execute_result"
    }
   ],
   "source": [
    "ab.score(X_train, y_train) "
   ]
  },
  {
   "cell_type": "code",
   "execution_count": 30,
   "id": "c2f4e2b2-476b-4d34-a4a8-3a160641321c",
   "metadata": {},
   "outputs": [
    {
     "data": {
      "text/plain": [
       "0.35181578228815874"
      ]
     },
     "execution_count": 30,
     "metadata": {},
     "output_type": "execute_result"
    }
   ],
   "source": [
    "ab.score(X_test, y_test)"
   ]
  },
  {
   "cell_type": "code",
   "execution_count": 31,
   "id": "54b6fb3d-d7cd-4434-bcf1-e6adf7b6af6e",
   "metadata": {},
   "outputs": [],
   "source": [
    "y_pred3 = ab.predict(X_test)"
   ]
  },
  {
   "cell_type": "code",
   "execution_count": 32,
   "id": "cbe79535-bb45-4856-9df6-00ab34239517",
   "metadata": {},
   "outputs": [
    {
     "data": {
      "text/plain": [
       "0.19828222148013502"
      ]
     },
     "execution_count": 32,
     "metadata": {},
     "output_type": "execute_result"
    }
   ],
   "source": [
    "f1_score(y_test, y_pred3, average = 'macro')"
   ]
  },
  {
   "cell_type": "markdown",
   "id": "637712b3-dc81-4994-aa6e-c64791bba1d6",
   "metadata": {},
   "source": [
    "The random forest model is better"
   ]
  },
  {
   "cell_type": "code",
   "execution_count": 34,
   "id": "3fa50890-4435-453a-8b12-de3e9d6a13ad",
   "metadata": {},
   "outputs": [
    {
     "data": {
      "text/plain": [
       "KNeighborsClassifier()"
      ]
     },
     "execution_count": 34,
     "metadata": {},
     "output_type": "execute_result"
    }
   ],
   "source": [
    "kn = KNeighborsClassifier()\n",
    "kn.fit(X_train, y_train)"
   ]
  },
  {
   "cell_type": "code",
   "execution_count": 35,
   "id": "0dae94c0-935e-430c-a966-8acf0d3c17ea",
   "metadata": {},
   "outputs": [
    {
     "data": {
      "text/plain": [
       "0.7883121768889104"
      ]
     },
     "execution_count": 35,
     "metadata": {},
     "output_type": "execute_result"
    }
   ],
   "source": [
    "kn.score(X_train, y_train) "
   ]
  },
  {
   "cell_type": "code",
   "execution_count": 36,
   "id": "146c5bc0-60a9-4995-a461-f837379508a1",
   "metadata": {},
   "outputs": [
    {
     "data": {
      "text/plain": [
       "0.7084372440156549"
      ]
     },
     "execution_count": 36,
     "metadata": {},
     "output_type": "execute_result"
    }
   ],
   "source": [
    "kn.score(X_test, y_test)"
   ]
  },
  {
   "cell_type": "code",
   "execution_count": 37,
   "id": "1e17b3f0-773b-4f0b-b6ba-0a80c5a2de49",
   "metadata": {},
   "outputs": [],
   "source": [
    "y_pred4 = kn.predict(X_test)"
   ]
  },
  {
   "cell_type": "code",
   "execution_count": 38,
   "id": "30e3743e-b8a9-41b0-b5f7-b302fc39bbf5",
   "metadata": {},
   "outputs": [
    {
     "data": {
      "text/plain": [
       "0.7731192660029682"
      ]
     },
     "execution_count": 38,
     "metadata": {},
     "output_type": "execute_result"
    }
   ],
   "source": [
    "f1_score(y_test, y_pred4, average = 'macro')"
   ]
  },
  {
   "cell_type": "code",
   "execution_count": null,
   "id": "4867923a-4734-421e-84be-4fafcd3bc7b0",
   "metadata": {},
   "outputs": [],
   "source": []
  }
 ],
 "metadata": {
  "kernelspec": {
   "display_name": "Python 3 (ipykernel)",
   "language": "python",
   "name": "python3"
  },
  "language_info": {
   "codemirror_mode": {
    "name": "ipython",
    "version": 3
   },
   "file_extension": ".py",
   "mimetype": "text/x-python",
   "name": "python",
   "nbconvert_exporter": "python",
   "pygments_lexer": "ipython3",
   "version": "3.9.7"
  }
 },
 "nbformat": 4,
 "nbformat_minor": 5
}
