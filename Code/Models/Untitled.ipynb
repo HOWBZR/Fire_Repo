{
 "cells": [
  {
   "cell_type": "markdown",
   "id": "889080d5-92ed-4534-8d3c-eb1884e68254",
   "metadata": {},
   "source": [
    "Blank\n"
   ]
  },
  {
   "cell_type": "code",
   "execution_count": null,
   "id": "cbf0da2a-4267-42d5-aad4-000945684311",
   "metadata": {},
   "outputs": [],
   "source": []
  }
 ],
 "metadata": {
  "kernelspec": {
   "display_name": "Python 3 (ipykernel)",
   "language": "python",
   "name": "python3"
  },
  "language_info": {
   "codemirror_mode": {
    "name": "ipython",
    "version": 3
   },
   "file_extension": ".py",
   "mimetype": "text/x-python",
   "name": "python",
   "nbconvert_exporter": "python",
   "pygments_lexer": "ipython3",
   "version": "3.9.7"
  }
 },
 "nbformat": 4,
 "nbformat_minor": 5
}
