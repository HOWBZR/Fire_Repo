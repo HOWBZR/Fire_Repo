{
 "cells": [
  {
   "cell_type": "code",
   "execution_count": 1,
   "id": "cbf0da2a-4267-42d5-aad4-000945684311",
   "metadata": {},
   "outputs": [],
   "source": [
    "from sklearn.model_selection import train_test_split, GridSearchCV, cross_val_score\n",
    "from sklearn.preprocessing import StandardScaler\n",
    "from sklearn.ensemble import RandomForestClassifier, GradientBoostingClassifier, AdaBoostClassifier\n",
    "from sklearn.metrics import confusion_matrix\n",
    "from sklearn.metrics import accuracy_score, classification_report, f1_score\n",
    "from sklearn.neighbors import KNeighborsClassifier\n",
    "from sklearn.pipeline import Pipeline\n",
    "import pandas as pd\n",
    "from sklearn.metrics import cohen_kappa_score\n",
    "from sklearn.metrics import multilabel_confusion_matrix\n",
    "import seaborn as sns\n",
    "import matplotlib.pyplot as plt \n",
    "import numpy as np"
   ]
  },
  {
   "cell_type": "code",
   "execution_count": 6,
   "id": "6fe90137-620f-42e9-8396-dab5c87d5800",
   "metadata": {},
   "outputs": [],
   "source": [
    "def over_sampler(df,column_name):\n",
    "    ''' Params: df,column_name=\"string\" \n",
    "    The function will oversample based on the class you want to match. Save as df and then use train_test_split to cut down \n",
    "    the data.\n",
    "      '''\n",
    "    \n",
    "    df=df.copy()\n",
    "    # gathering the classes/counts and respective percentages to convert to dictionary for easy accesiblilty later\n",
    "    classes = df[column_name].value_counts(normalize=False).index.tolist()\n",
    "    counts = df[column_name].value_counts(normalize=False).tolist()\n",
    "    percentages = (round(df[column_name].value_counts(normalize=True)*100,3)).tolist()\n",
    "    diction=dict(zip(classes,counts))\n",
    "    \n",
    "    # getting input data so we can quckly iterate\n",
    "    input_user = int(input('What class do we want from needs to be an INT(our case ~ 0-9)?'))\n",
    "    count_goal = diction.get(input_user)\n",
    "    # creating list of dataframes of randomly oversample observations \n",
    "    #            Note: not usable for time series w/o adjustment as to what df passed in \n",
    "    df_list = []\n",
    "    for k,v in diction.items():\n",
    "        # ensuring oversampling classes w/counts below the designated input class\n",
    "        if v < count_goal:\n",
    "            n_samples=count_goal-v\n",
    "            rows_to_append = df[df[column_name]==k].sample(n =n_samples,replace=True,random_state=42) # oversampling here\n",
    "            df_list.append(rows_to_append)\n",
    "\n",
    "    # merging list of dfs into on whole df \n",
    "    samples_df = pd.concat(df_list)\n",
    "    # merging dataframe of oversamples obs to original passed in df to return\n",
    "    over_sample_class =pd.concat([df,samples_df])\n",
    "    \n",
    "    return over_sample_class\n",
    "\n",
    "        "
   ]
  },
  {
   "cell_type": "code",
   "execution_count": 7,
   "id": "e108731f-369b-4d43-a8f9-fd0ca36ccf69",
   "metadata": {},
   "outputs": [
    {
     "name": "stdin",
     "output_type": "stream",
     "text": [
      "What class do we want from needs to be an INT(our case ~ 0-9)? 5\n"
     ]
    },
    {
     "name": "stdout",
     "output_type": "stream",
     "text": [
      "248191\n"
     ]
    },
    {
     "data": {
      "text/plain": [
       "0    55304\n",
       "1    38521\n",
       "2    22983\n",
       "3    18769\n",
       "5    18769\n",
       "4    18769\n",
       "8    18769\n",
       "6    18769\n",
       "7    18769\n",
       "9    18769\n",
       "Name: class, dtype: int64"
      ]
     },
     "execution_count": 7,
     "metadata": {},
     "output_type": "execute_result"
    }
   ],
   "source": [
    "over_class = over_sampler(df,'class')\n",
    "print(over_class.shape[0])\n",
    "over_class['class'].value_counts()"
   ]
  },
  {
   "cell_type": "code",
   "execution_count": 2,
   "id": "466844b6-8aff-4132-9aa5-12de27d63356",
   "metadata": {},
   "outputs": [],
   "source": [
    "import imblearn\n",
    "from imblearn.under_sampling import RandomUnderSampler\n",
    "from imblearn.over_sampling import RandomOverSampler"
   ]
  },
  {
   "cell_type": "code",
   "execution_count": 3,
   "id": "5f427c91-8352-4c70-94e0-f30b2d6f0324",
   "metadata": {},
   "outputs": [],
   "source": [
    "df = pd.read_csv('../../data.csv')"
   ]
  },
  {
   "cell_type": "code",
   "execution_count": 4,
   "id": "a9bf11c5-bbe3-48c1-abc1-f75b6fd658fd",
   "metadata": {},
   "outputs": [],
   "source": [
    "dict2 = { 'A':0, 'B':1, 'C':2, 'D':3, 'E':4, 'F':5, 'G':6, 'H':7, 'I':8, 'J':9}"
   ]
  },
  {
   "cell_type": "code",
   "execution_count": 5,
   "id": "a483a898-fcdb-488a-93a2-20f83272e5c4",
   "metadata": {},
   "outputs": [],
   "source": [
    "df['class'] = df['class'].replace(dict2)"
   ]
  },
  {
   "cell_type": "code",
   "execution_count": 61,
   "id": "33e890bb-35bf-402a-be47-767f6bef5c1a",
   "metadata": {},
   "outputs": [
    {
     "data": {
      "text/html": [
       "<div>\n",
       "<style scoped>\n",
       "    .dataframe tbody tr th:only-of-type {\n",
       "        vertical-align: middle;\n",
       "    }\n",
       "\n",
       "    .dataframe tbody tr th {\n",
       "        vertical-align: top;\n",
       "    }\n",
       "\n",
       "    .dataframe thead th {\n",
       "        text-align: right;\n",
       "    }\n",
       "</style>\n",
       "<table border=\"1\" class=\"dataframe\">\n",
       "  <thead>\n",
       "    <tr style=\"text-align: right;\">\n",
       "      <th></th>\n",
       "      <th>Unnamed: 0</th>\n",
       "      <th>unique_fire_identifier</th>\n",
       "      <th>lattitude</th>\n",
       "      <th>longitude</th>\n",
       "      <th>acres_burned</th>\n",
       "      <th>fire_cause</th>\n",
       "      <th>incident_name</th>\n",
       "      <th>IsFSAssisted</th>\n",
       "      <th>origin_county</th>\n",
       "      <th>state</th>\n",
       "      <th>...</th>\n",
       "      <th>population</th>\n",
       "      <th>d0</th>\n",
       "      <th>d1</th>\n",
       "      <th>d2</th>\n",
       "      <th>d3</th>\n",
       "      <th>d4</th>\n",
       "      <th>DSCI_avg</th>\n",
       "      <th>DSCI_summed</th>\n",
       "      <th>precipitation(in)</th>\n",
       "      <th>class</th>\n",
       "    </tr>\n",
       "  </thead>\n",
       "  <tbody>\n",
       "    <tr>\n",
       "      <th>0</th>\n",
       "      <td>34889</td>\n",
       "      <td>2016-IDBOD-000058</td>\n",
       "      <td>-116.330913</td>\n",
       "      <td>43.406206</td>\n",
       "      <td>0.1</td>\n",
       "      <td>Human</td>\n",
       "      <td>SOUTH CLOVER</td>\n",
       "      <td>1.0</td>\n",
       "      <td>Ada</td>\n",
       "      <td>ID</td>\n",
       "      <td>...</td>\n",
       "      <td>1684036.0</td>\n",
       "      <td>8.043333</td>\n",
       "      <td>0.000000</td>\n",
       "      <td>0.000000</td>\n",
       "      <td>0.0</td>\n",
       "      <td>0.0</td>\n",
       "      <td>8.043333</td>\n",
       "      <td>24.13</td>\n",
       "      <td>0.040772</td>\n",
       "      <td>0</td>\n",
       "    </tr>\n",
       "    <tr>\n",
       "      <th>1</th>\n",
       "      <td>34890</td>\n",
       "      <td>2016-MNRLA-000184</td>\n",
       "      <td>-94.916910</td>\n",
       "      <td>48.017407</td>\n",
       "      <td>0.1</td>\n",
       "      <td>Undetermined</td>\n",
       "      <td>RL 130</td>\n",
       "      <td>0.0</td>\n",
       "      <td>Beltrami</td>\n",
       "      <td>MN</td>\n",
       "      <td>...</td>\n",
       "      <td>5525360.0</td>\n",
       "      <td>9.663333</td>\n",
       "      <td>1.026667</td>\n",
       "      <td>0.000000</td>\n",
       "      <td>0.0</td>\n",
       "      <td>0.0</td>\n",
       "      <td>11.716667</td>\n",
       "      <td>35.15</td>\n",
       "      <td>0.040886</td>\n",
       "      <td>0</td>\n",
       "    </tr>\n",
       "    <tr>\n",
       "      <th>2</th>\n",
       "      <td>34891</td>\n",
       "      <td>2016-MNRLA-000185</td>\n",
       "      <td>-95.015306</td>\n",
       "      <td>47.875908</td>\n",
       "      <td>0.1</td>\n",
       "      <td>Undetermined</td>\n",
       "      <td>RL 131</td>\n",
       "      <td>0.0</td>\n",
       "      <td>Beltrami</td>\n",
       "      <td>MN</td>\n",
       "      <td>...</td>\n",
       "      <td>5525360.0</td>\n",
       "      <td>9.663333</td>\n",
       "      <td>1.026667</td>\n",
       "      <td>0.000000</td>\n",
       "      <td>0.0</td>\n",
       "      <td>0.0</td>\n",
       "      <td>11.716667</td>\n",
       "      <td>35.15</td>\n",
       "      <td>0.040886</td>\n",
       "      <td>0</td>\n",
       "    </tr>\n",
       "    <tr>\n",
       "      <th>3</th>\n",
       "      <td>34892</td>\n",
       "      <td>2016-AZA5S-002056</td>\n",
       "      <td>-112.761608</td>\n",
       "      <td>34.201307</td>\n",
       "      <td>0.5</td>\n",
       "      <td>Undetermined</td>\n",
       "      <td>KRISTEE</td>\n",
       "      <td>0.0</td>\n",
       "      <td>Yavapai</td>\n",
       "      <td>AZ</td>\n",
       "      <td>...</td>\n",
       "      <td>6944767.0</td>\n",
       "      <td>32.776667</td>\n",
       "      <td>65.580000</td>\n",
       "      <td>1.170000</td>\n",
       "      <td>0.0</td>\n",
       "      <td>0.0</td>\n",
       "      <td>167.446667</td>\n",
       "      <td>502.34</td>\n",
       "      <td>0.031042</td>\n",
       "      <td>1</td>\n",
       "    </tr>\n",
       "    <tr>\n",
       "      <th>4</th>\n",
       "      <td>34893</td>\n",
       "      <td>2016-AZNAA-000033</td>\n",
       "      <td>-108.537233</td>\n",
       "      <td>36.744172</td>\n",
       "      <td>0.5</td>\n",
       "      <td>Human</td>\n",
       "      <td>HOGBACK 1</td>\n",
       "      <td>1.0</td>\n",
       "      <td>San Juan</td>\n",
       "      <td>NM</td>\n",
       "      <td>...</td>\n",
       "      <td>2092555.0</td>\n",
       "      <td>53.023333</td>\n",
       "      <td>43.686667</td>\n",
       "      <td>0.086667</td>\n",
       "      <td>0.0</td>\n",
       "      <td>0.0</td>\n",
       "      <td>140.656667</td>\n",
       "      <td>421.97</td>\n",
       "      <td>0.235141</td>\n",
       "      <td>1</td>\n",
       "    </tr>\n",
       "  </tbody>\n",
       "</table>\n",
       "<p>5 rows × 25 columns</p>\n",
       "</div>"
      ],
      "text/plain": [
       "   Unnamed: 0 unique_fire_identifier   lattitude  longitude  acres_burned  \\\n",
       "0       34889      2016-IDBOD-000058 -116.330913  43.406206           0.1   \n",
       "1       34890      2016-MNRLA-000184  -94.916910  48.017407           0.1   \n",
       "2       34891      2016-MNRLA-000185  -95.015306  47.875908           0.1   \n",
       "3       34892      2016-AZA5S-002056 -112.761608  34.201307           0.5   \n",
       "4       34893      2016-AZNAA-000033 -108.537233  36.744172           0.5   \n",
       "\n",
       "     fire_cause incident_name  IsFSAssisted origin_county state  ...  \\\n",
       "0         Human  SOUTH CLOVER           1.0           Ada    ID  ...   \n",
       "1  Undetermined        RL 130           0.0      Beltrami    MN  ...   \n",
       "2  Undetermined        RL 131           0.0      Beltrami    MN  ...   \n",
       "3  Undetermined       KRISTEE           0.0       Yavapai    AZ  ...   \n",
       "4         Human     HOGBACK 1           1.0      San Juan    NM  ...   \n",
       "\n",
       "   population         d0         d1        d2   d3   d4    DSCI_avg  \\\n",
       "0   1684036.0   8.043333   0.000000  0.000000  0.0  0.0    8.043333   \n",
       "1   5525360.0   9.663333   1.026667  0.000000  0.0  0.0   11.716667   \n",
       "2   5525360.0   9.663333   1.026667  0.000000  0.0  0.0   11.716667   \n",
       "3   6944767.0  32.776667  65.580000  1.170000  0.0  0.0  167.446667   \n",
       "4   2092555.0  53.023333  43.686667  0.086667  0.0  0.0  140.656667   \n",
       "\n",
       "   DSCI_summed  precipitation(in)  class  \n",
       "0        24.13           0.040772      0  \n",
       "1        35.15           0.040886      0  \n",
       "2        35.15           0.040886      0  \n",
       "3       502.34           0.031042      1  \n",
       "4       421.97           0.235141      1  \n",
       "\n",
       "[5 rows x 25 columns]"
      ]
     },
     "execution_count": 61,
     "metadata": {},
     "output_type": "execute_result"
    }
   ],
   "source": [
    "df.head()"
   ]
  },
  {
   "cell_type": "code",
   "execution_count": 8,
   "id": "4850ebe6-3c28-493d-8782-b712491ff1e8",
   "metadata": {},
   "outputs": [
    {
     "data": {
      "text/plain": [
       "0    55304\n",
       "1    38521\n",
       "2    22983\n",
       "5    18769\n",
       "4    17182\n",
       "3    13396\n",
       "7      499\n",
       "6      445\n",
       "8       91\n",
       "9       83\n",
       "Name: class, dtype: int64"
      ]
     },
     "execution_count": 8,
     "metadata": {},
     "output_type": "execute_result"
    }
   ],
   "source": [
    "df['class'].value_counts()"
   ]
  },
  {
   "cell_type": "code",
   "execution_count": 7,
   "id": "48bedd99-c016-412a-94e0-c35d71e824ac",
   "metadata": {},
   "outputs": [],
   "source": [
    "undersample = RandomUnderSampler(sampling_strategy='majority')"
   ]
  },
  {
   "cell_type": "code",
   "execution_count": 40,
   "id": "57f21592-357b-4fe3-ac1a-74cbd8a5a6e6",
   "metadata": {},
   "outputs": [],
   "source": [
    "oversample = RandomOverSampler()"
   ]
  },
  {
   "cell_type": "code",
   "execution_count": 41,
   "id": "31d20592-5d25-4ee1-95a6-9d74afca9ee6",
   "metadata": {},
   "outputs": [],
   "source": [
    "X_b, y_b = oversample.fit_resample(X, y)"
   ]
  },
  {
   "cell_type": "code",
   "execution_count": 42,
   "id": "16919dfe-ac85-4fbb-865e-4886a930784f",
   "metadata": {},
   "outputs": [
    {
     "data": {
      "text/plain": [
       "A    55304\n",
       "B    55304\n",
       "D    55304\n",
       "C    55304\n",
       "F    55304\n",
       "E    55304\n",
       "I    55304\n",
       "G    55304\n",
       "H    55304\n",
       "J    55304\n",
       "Name: class, dtype: int64"
      ]
     },
     "execution_count": 42,
     "metadata": {},
     "output_type": "execute_result"
    }
   ],
   "source": [
    "y_b.value_counts()"
   ]
  },
  {
   "cell_type": "code",
   "execution_count": 14,
   "id": "389a7711-2784-4290-a158-dcea8a2f3df3",
   "metadata": {},
   "outputs": [],
   "source": [
    "X_2, y_2 = undersample.fit_resample(X, y)"
   ]
  },
  {
   "cell_type": "code",
   "execution_count": 15,
   "id": "82add2e1-6283-4d7f-a593-af5136979aa8",
   "metadata": {},
   "outputs": [
    {
     "data": {
      "text/plain": [
       "B    38521\n",
       "C    22983\n",
       "F    18769\n",
       "E    17182\n",
       "D    13396\n",
       "H      499\n",
       "G      445\n",
       "I       91\n",
       "A       83\n",
       "J       83\n",
       "Name: class, dtype: int64"
      ]
     },
     "execution_count": 15,
     "metadata": {},
     "output_type": "execute_result"
    }
   ],
   "source": [
    "y_2.value_counts()"
   ]
  },
  {
   "cell_type": "code",
   "execution_count": 16,
   "id": "0ef5f203-935f-4d09-ad61-172bd2919736",
   "metadata": {},
   "outputs": [],
   "source": [
    "undersample2 = RandomUnderSampler(sampling_strategy='majority')"
   ]
  },
  {
   "cell_type": "code",
   "execution_count": 17,
   "id": "8d39f95d-2102-4dc3-a567-364cabccdc7d",
   "metadata": {},
   "outputs": [],
   "source": [
    "X_3, y_3 = undersample.fit_resample(X_2, y_2)"
   ]
  },
  {
   "cell_type": "code",
   "execution_count": 18,
   "id": "68d996a2-71ab-4c71-bb49-444b913d1332",
   "metadata": {},
   "outputs": [
    {
     "data": {
      "text/plain": [
       "C    22983\n",
       "F    18769\n",
       "E    17182\n",
       "D    13396\n",
       "H      499\n",
       "G      445\n",
       "I       91\n",
       "A       83\n",
       "B       83\n",
       "J       83\n",
       "Name: class, dtype: int64"
      ]
     },
     "execution_count": 18,
     "metadata": {},
     "output_type": "execute_result"
    }
   ],
   "source": [
    "y_3.value_counts()"
   ]
  },
  {
   "cell_type": "code",
   "execution_count": 19,
   "id": "bf7722b1-1906-46d1-b015-b961e4c5cff1",
   "metadata": {},
   "outputs": [],
   "source": [
    "undersample4 = RandomUnderSampler(sampling_strategy='majority')"
   ]
  },
  {
   "cell_type": "code",
   "execution_count": 20,
   "id": "8be133ab-2534-4718-892d-6e3e1b8cc16d",
   "metadata": {},
   "outputs": [],
   "source": [
    "X_4, y_4 = undersample.fit_resample(X_3, y_3)"
   ]
  },
  {
   "cell_type": "code",
   "execution_count": 21,
   "id": "76902bb7-bb60-470c-98d7-2a02de2a248d",
   "metadata": {},
   "outputs": [],
   "source": [
    "undersample5 = RandomUnderSampler(sampling_strategy='majority')"
   ]
  },
  {
   "cell_type": "code",
   "execution_count": 22,
   "id": "862a5846-57d6-4699-b9da-999e46e7e8be",
   "metadata": {},
   "outputs": [],
   "source": [
    "X_5, y_5 = undersample.fit_resample(X_4, y_4)"
   ]
  },
  {
   "cell_type": "code",
   "execution_count": 23,
   "id": "24dfaf0e-7642-4a2d-a3ec-91f39e14d25a",
   "metadata": {},
   "outputs": [],
   "source": [
    "undersample6 = RandomUnderSampler(sampling_strategy='majority')"
   ]
  },
  {
   "cell_type": "code",
   "execution_count": 24,
   "id": "4a588546-d130-45fd-8072-fa2db14f180a",
   "metadata": {},
   "outputs": [],
   "source": [
    "X_6, y_6 = undersample.fit_resample(X_5, y_5)"
   ]
  },
  {
   "cell_type": "code",
   "execution_count": 25,
   "id": "9814f5ad-6eb5-4562-8b93-c8ffa507c1c9",
   "metadata": {},
   "outputs": [],
   "source": [
    "undersample7 = RandomUnderSampler(sampling_strategy='majority')"
   ]
  },
  {
   "cell_type": "code",
   "execution_count": 26,
   "id": "0d3b5983-7b19-4959-9865-e73f48f7e81f",
   "metadata": {},
   "outputs": [],
   "source": [
    "X_7, y_7 = undersample.fit_resample(X_6, y_6)"
   ]
  },
  {
   "cell_type": "code",
   "execution_count": 27,
   "id": "f605042f-d528-432d-817e-9bbf23148222",
   "metadata": {},
   "outputs": [],
   "source": [
    "undersample8 = RandomUnderSampler(sampling_strategy='majority')"
   ]
  },
  {
   "cell_type": "code",
   "execution_count": 28,
   "id": "469200e8-ab6b-4cd3-8d46-f2bf485b616b",
   "metadata": {},
   "outputs": [],
   "source": [
    "X_8, y_8 = undersample.fit_resample(X_7, y_7)"
   ]
  },
  {
   "cell_type": "code",
   "execution_count": 29,
   "id": "97f9a5d6-b22a-4b4c-800e-20f76450a07c",
   "metadata": {},
   "outputs": [],
   "source": [
    "undersample9 = RandomUnderSampler(sampling_strategy='majority')"
   ]
  },
  {
   "cell_type": "code",
   "execution_count": 30,
   "id": "68dc889e-a835-43fe-a1aa-7fd4d4938891",
   "metadata": {},
   "outputs": [],
   "source": [
    "X_9, y_9 = undersample.fit_resample(X_8, y_8)"
   ]
  },
  {
   "cell_type": "code",
   "execution_count": 31,
   "id": "e2a05531-0554-456f-8595-d3e55aebc43a",
   "metadata": {},
   "outputs": [
    {
     "data": {
      "text/plain": [
       "I    91\n",
       "A    83\n",
       "B    83\n",
       "C    83\n",
       "D    83\n",
       "E    83\n",
       "F    83\n",
       "G    83\n",
       "H    83\n",
       "J    83\n",
       "Name: class, dtype: int64"
      ]
     },
     "execution_count": 31,
     "metadata": {},
     "output_type": "execute_result"
    }
   ],
   "source": [
    "y_9.value_counts()"
   ]
  },
  {
   "cell_type": "code",
   "execution_count": 32,
   "id": "84614789-8026-48af-9479-37d200e22ac8",
   "metadata": {},
   "outputs": [],
   "source": [
    "undersample10 = RandomUnderSampler(sampling_strategy='majority')"
   ]
  },
  {
   "cell_type": "code",
   "execution_count": 33,
   "id": "4450e542-d55a-4f15-a996-0354188cca03",
   "metadata": {},
   "outputs": [],
   "source": [
    "X_10, y_10 = undersample.fit_resample(X_9, y_9)"
   ]
  },
  {
   "cell_type": "code",
   "execution_count": 8,
   "id": "d52e43e7-c033-4c5f-bd75-11dfd83ef161",
   "metadata": {},
   "outputs": [],
   "source": [
    "X = over_class[['precipitation(in)', 'value', 'anomaly', 'area (acres)', 'population', 'd0', 'd1', 'd2', 'd3', 'd4', 'DSCI_avg', 'DSCI_summed']]\n",
    "y = over_class['class']"
   ]
  },
  {
   "cell_type": "code",
   "execution_count": 9,
   "id": "917c20c8-4884-4767-9491-40c13f7dbbd6",
   "metadata": {},
   "outputs": [],
   "source": [
    "X_train, X_test, y_train, y_test = train_test_split(X, y, stratify =y)"
   ]
  },
  {
   "cell_type": "code",
   "execution_count": 10,
   "id": "896ba54e-2224-4b31-98ff-0bb2bde67900",
   "metadata": {},
   "outputs": [],
   "source": [
    "scaler = StandardScaler()\n",
    "X_train = scaler.fit_transform(X_train)\n",
    "X_test = scaler.transform(X_test)"
   ]
  },
  {
   "cell_type": "code",
   "execution_count": 11,
   "id": "ab08bcff-53b4-4ac1-b65b-bbcfdca00922",
   "metadata": {},
   "outputs": [
    {
     "data": {
      "text/plain": [
       "RandomForestClassifier(n_estimators=10)"
      ]
     },
     "execution_count": 11,
     "metadata": {},
     "output_type": "execute_result"
    }
   ],
   "source": [
    "rf = RandomForestClassifier(n_estimators = 10)\n",
    "rf.fit(X_train, y_train)"
   ]
  },
  {
   "cell_type": "code",
   "execution_count": 16,
   "id": "7109a2a6-60c5-4799-8c07-c98862972c1c",
   "metadata": {},
   "outputs": [
    {
     "data": {
      "text/plain": [
       "0.5048519282015185"
      ]
     },
     "execution_count": 16,
     "metadata": {},
     "output_type": "execute_result"
    }
   ],
   "source": [
    "rf.score(X_train, y_train) "
   ]
  },
  {
   "cell_type": "code",
   "execution_count": 12,
   "id": "df754502-0cb2-403c-ba50-558f37e5a2bd",
   "metadata": {},
   "outputs": [
    {
     "data": {
      "text/plain": [
       "0.4917805569881382"
      ]
     },
     "execution_count": 12,
     "metadata": {},
     "output_type": "execute_result"
    }
   ],
   "source": [
    "rf.score(X_test, y_test)"
   ]
  },
  {
   "cell_type": "code",
   "execution_count": 16,
   "id": "a8d49a31-05b9-47b0-a369-7df27b15c34e",
   "metadata": {},
   "outputs": [
    {
     "data": {
      "text/plain": [
       "0.4917805569881382"
      ]
     },
     "execution_count": 16,
     "metadata": {},
     "output_type": "execute_result"
    }
   ],
   "source": [
    "f1_score(y_test, y_pred, average = 'micro')"
   ]
  },
  {
   "cell_type": "code",
   "execution_count": 20,
   "id": "33cd8fc5-e755-4490-9a47-25751f330380",
   "metadata": {},
   "outputs": [
    {
     "data": {
      "text/plain": [
       "0.48290055024974177"
      ]
     },
     "execution_count": 20,
     "metadata": {},
     "output_type": "execute_result"
    }
   ],
   "source": [
    "f1_score(y_test, y_pred, average = 'macro')"
   ]
  },
  {
   "cell_type": "code",
   "execution_count": 21,
   "id": "6f053bd4-9b43-4906-acbf-d0c58b036ca2",
   "metadata": {},
   "outputs": [
    {
     "data": {
      "text/plain": [
       "0.47993288243474264"
      ]
     },
     "execution_count": 21,
     "metadata": {},
     "output_type": "execute_result"
    }
   ],
   "source": [
    "f1_score(y_test, y_pred, average = 'weighted')"
   ]
  },
  {
   "cell_type": "code",
   "execution_count": 15,
   "id": "1085fef4-93d9-4ce4-b4b0-83ea19efe4e5",
   "metadata": {},
   "outputs": [],
   "source": [
    "y_pred = rf.predict(X_test)"
   ]
  },
  {
   "cell_type": "code",
   "execution_count": 14,
   "id": "5b3c4b89-21ee-43a7-b138-d93b46b1c687",
   "metadata": {},
   "outputs": [
    {
     "ename": "NameError",
     "evalue": "name 'y_pred' is not defined",
     "output_type": "error",
     "traceback": [
      "\u001b[1;31m---------------------------------------------------------------------------\u001b[0m",
      "\u001b[1;31mNameError\u001b[0m                                 Traceback (most recent call last)",
      "\u001b[1;32m~\\AppData\\Local\\Temp/ipykernel_25628/3136594599.py\u001b[0m in \u001b[0;36m<module>\u001b[1;34m\u001b[0m\n\u001b[1;32m----> 1\u001b[1;33m \u001b[0mcm\u001b[0m \u001b[1;33m=\u001b[0m \u001b[0mconfusion_matrix\u001b[0m\u001b[1;33m(\u001b[0m\u001b[0my_test\u001b[0m\u001b[1;33m,\u001b[0m \u001b[0my_pred\u001b[0m\u001b[1;33m)\u001b[0m\u001b[1;33m\u001b[0m\u001b[1;33m\u001b[0m\u001b[0m\n\u001b[0m",
      "\u001b[1;31mNameError\u001b[0m: name 'y_pred' is not defined"
     ]
    }
   ],
   "source": [
    "cm = confusion_matrix(y_test, y_pred)"
   ]
  },
  {
   "cell_type": "code",
   "execution_count": 23,
   "id": "fabb8a64-5613-4c9d-8e5f-f50c305d2867",
   "metadata": {},
   "outputs": [],
   "source": [
    "cm_df = pd.DataFrame(cm,\n",
    "                     index = ['A','B','C', 'D','E','F','G','H','I','J'], \n",
    "                     columns = ['A','B','C', 'D','E','F','G','H','I','J'])"
   ]
  },
  {
   "cell_type": "code",
   "execution_count": 24,
   "id": "03f50db3-7533-446a-b522-00c940b8ca4b",
   "metadata": {},
   "outputs": [
    {
     "data": {
      "image/png": "[encoded data removed]",
      "text/plain": [
       "<Figure size 1440x1440 with 2 Axes>"
      ]
     },
     "metadata": {
      "needs_background": "light"
     },
     "output_type": "display_data"
    }
   ],
   "source": [
    "#Plotting the confusion matrix\n",
    "plt.figure(figsize=(20,20))\n",
    "sns.heatmap(cm_df, annot=True, cmap = 'winter')\n",
    "plt.title('Confusion Matrix')\n",
    "plt.ylabel('Actal Values')\n",
    "plt.xlabel('Predicted Values')\n",
    "plt.show()"
   ]
  },
  {
   "cell_type": "code",
   "execution_count": 15,
   "id": "cc8de7d7-5cd9-4f01-bd0e-a9e4c1a67f0c",
   "metadata": {},
   "outputs": [
    {
     "ename": "NameError",
     "evalue": "name 'precision_score' is not defined",
     "output_type": "error",
     "traceback": [
      "\u001b[1;31m---------------------------------------------------------------------------\u001b[0m",
      "\u001b[1;31mNameError\u001b[0m                                 Traceback (most recent call last)",
      "\u001b[1;32m~\\AppData\\Local\\Temp/ipykernel_1184/4082973553.py\u001b[0m in \u001b[0;36m<module>\u001b[1;34m\u001b[0m\n\u001b[0;32m      1\u001b[0m \u001b[1;31m# Average is assigned micro\u001b[0m\u001b[1;33m\u001b[0m\u001b[1;33m\u001b[0m\u001b[0m\n\u001b[0;32m      2\u001b[0m \u001b[1;31m#\u001b[0m\u001b[1;33m\u001b[0m\u001b[1;33m\u001b[0m\u001b[0m\n\u001b[1;32m----> 3\u001b[1;33m \u001b[0mprecisionScore_sklearn_microavg\u001b[0m \u001b[1;33m=\u001b[0m \u001b[0mprecision_score\u001b[0m\u001b[1;33m(\u001b[0m\u001b[0my_test\u001b[0m\u001b[1;33m,\u001b[0m \u001b[0my_pred\u001b[0m\u001b[1;33m,\u001b[0m \u001b[0maverage\u001b[0m\u001b[1;33m=\u001b[0m\u001b[1;34m'micro'\u001b[0m\u001b[1;33m)\u001b[0m\u001b[1;33m\u001b[0m\u001b[1;33m\u001b[0m\u001b[0m\n\u001b[0m\u001b[0;32m      4\u001b[0m \u001b[1;31m#\u001b[0m\u001b[1;33m\u001b[0m\u001b[1;33m\u001b[0m\u001b[0m\n\u001b[0;32m      5\u001b[0m \u001b[1;31m# Average is assigned macro\u001b[0m\u001b[1;33m\u001b[0m\u001b[1;33m\u001b[0m\u001b[0m\n",
      "\u001b[1;31mNameError\u001b[0m: name 'precision_score' is not defined"
     ]
    }
   ],
   "source": [
    "# Average is assigned micro\n",
    "#\n",
    "precisionScore_sklearn_microavg = precision_score(y_test, y_pred, average='micro')\n",
    "#\n",
    "# Average is assigned macro\n",
    "#\n",
    "precisionScore_sklearn_macroavg = precision_score(y_test, y_pred, average='macro')\n",
    "#\n",
    "# Printing micro and macro average precision score\n",
    "#\n",
    "precisionScore_sklearn_microavg, precisionScore_sklearn_macroavg"
   ]
  },
  {
   "cell_type": "code",
   "execution_count": null,
   "id": "f2bc4709-1624-43e1-9ca7-41839480ba5a",
   "metadata": {},
   "outputs": [],
   "source": [
    "pipe = Pipeline([\n",
    "    ('model', RandomForestClassifier())\n",
    "])"
   ]
  },
  {
   "cell_type": "code",
   "execution_count": null,
   "id": "7ea55ab1-aade-4d55-be48-f59f13c5f140",
   "metadata": {},
   "outputs": [],
   "source": [
    "pipe_params = {\n",
    "    'model__n_estimators': [10,50,100, 200],\n",
    "    'model__max_depth': [None, 1, 2, 3]\n",
    "    \n",
    "}"
   ]
  },
  {
   "cell_type": "code",
   "execution_count": null,
   "id": "ef2f6fa6-5884-4530-85b7-7567bc3b906e",
   "metadata": {},
   "outputs": [],
   "source": [
    "gs = GridSearchCV(pipe, pipe_params, cv =5)"
   ]
  },
  {
   "cell_type": "code",
   "execution_count": null,
   "id": "464061ab-a20d-4734-8fe6-34d02d753a5b",
   "metadata": {},
   "outputs": [],
   "source": [
    "gs.fit(X_train, y_train)"
   ]
  },
  {
   "cell_type": "code",
   "execution_count": null,
   "id": "e5ee9369-65d8-43a6-a3af-0997b1392dfa",
   "metadata": {},
   "outputs": [],
   "source": [
    "print(gs.best_params_)"
   ]
  },
  {
   "cell_type": "code",
   "execution_count": null,
   "id": "802c36ac-d8bf-4994-b867-f2712fbe307d",
   "metadata": {},
   "outputs": [],
   "source": [
    "gs.score(X_test, y_test)"
   ]
  },
  {
   "cell_type": "code",
   "execution_count": null,
   "id": "65113b39-d54f-408e-b436-8e5d97e57a06",
   "metadata": {},
   "outputs": [],
   "source": []
  },
  {
   "cell_type": "code",
   "execution_count": null,
   "id": "399e1b3c-3655-4a24-9a9c-045f7b305f67",
   "metadata": {},
   "outputs": [],
   "source": [
    "gb = GradientBoostingClassifier(n_estimators = 10)\n",
    "gb.fit(X_train, y_train)"
   ]
  },
  {
   "cell_type": "code",
   "execution_count": null,
   "id": "5c8c84ed-471f-4266-81a4-26fc154ad30c",
   "metadata": {},
   "outputs": [],
   "source": [
    "gb.score(X_train, y_train) "
   ]
  },
  {
   "cell_type": "code",
   "execution_count": null,
   "id": "b7a69e39-5760-4ec9-83d6-5914080a358e",
   "metadata": {},
   "outputs": [],
   "source": [
    "gb.score(X_test, y_test)"
   ]
  },
  {
   "cell_type": "code",
   "execution_count": null,
   "id": "3cce65fa-0509-4a54-b815-9bc4ac966eda",
   "metadata": {},
   "outputs": [],
   "source": [
    "y_pred2 = gb.predict(X_test)"
   ]
  },
  {
   "cell_type": "code",
   "execution_count": null,
   "id": "1240ff92-630c-46de-b1c3-b5324465dbce",
   "metadata": {},
   "outputs": [],
   "source": [
    "ab = AdaBoostClassifier(n_estimators = 10)\n",
    "ab.fit(X_train, y_train)"
   ]
  },
  {
   "cell_type": "code",
   "execution_count": null,
   "id": "9a103589-4039-4362-a9f6-c27793378e7e",
   "metadata": {},
   "outputs": [],
   "source": [
    "ab.score(X_train, y_train) "
   ]
  },
  {
   "cell_type": "code",
   "execution_count": null,
   "id": "c2f4e2b2-476b-4d34-a4a8-3a160641321c",
   "metadata": {},
   "outputs": [],
   "source": [
    "ab.score(X_test, y_test)"
   ]
  },
  {
   "cell_type": "code",
   "execution_count": null,
   "id": "3fa50890-4435-453a-8b12-de3e9d6a13ad",
   "metadata": {},
   "outputs": [],
   "source": [
    "kn = KNeighborsClassifier()\n",
    "kn.fit(X_train, y_train)"
   ]
  },
  {
   "cell_type": "code",
   "execution_count": null,
   "id": "0dae94c0-935e-430c-a966-8acf0d3c17ea",
   "metadata": {},
   "outputs": [],
   "source": [
    "kn.score(X_train, y_train) "
   ]
  },
  {
   "cell_type": "code",
   "execution_count": null,
   "id": "146c5bc0-60a9-4995-a461-f837379508a1",
   "metadata": {},
   "outputs": [],
   "source": [
    "kn.score(X_test, y_test)"
   ]
  },
  {
   "cell_type": "code",
   "execution_count": null,
   "id": "1e17b3f0-773b-4f0b-b6ba-0a80c5a2de49",
   "metadata": {},
   "outputs": [],
   "source": []
  }
 ],
 "metadata": {
  "kernelspec": {
   "display_name": "Python 3 (ipykernel)",
   "language": "python",
   "name": "python3"
  },
  "language_info": {
   "codemirror_mode": {
    "name": "ipython",
    "version": 3
   },
   "file_extension": ".py",
   "mimetype": "text/x-python",
   "name": "python",
   "nbconvert_exporter": "python",
   "pygments_lexer": "ipython3",
   "version": "3.9.7"
  }
 },
 "nbformat": 4,
 "nbformat_minor": 5
}
