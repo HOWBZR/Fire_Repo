{
 "cells": [
  {
   "cell_type": "markdown",
   "id": "889080d5-92ed-4534-8d3c-eb1884e68254",
   "metadata": {},
   "source": [
    "Blank\n"
   ]
  },
  {
   "cell_type": "code",
   "execution_count": 30,
   "id": "cbf0da2a-4267-42d5-aad4-000945684311",
   "metadata": {},
   "outputs": [],
   "source": [
    "import pandas as pd\n",
    "import numpy as np\n",
    "\n",
    "from sklearn.preprocessing import StandardScaler\n",
    "from sklearn.model_selection import train_test_split\n",
    "import matplotlib.pyplot as plt\n",
    "\n",
    "from tensorflow.keras.models import Sequential\n",
    "from tensorflow.keras.layers import Dense\n",
    "from tensorflow.keras.utils import to_categorical\n",
    "from tensorflow.keras.metrics import Recall\n",
    "from tensorflow.keras.utils import plot_model\n",
    "from tensorflow.keras.layers import Dropout\n",
    "from tensorflow.keras.callbacks import EarlyStopping\n",
    "# oversampler func\n",
    "from oversampler_funtion import over_sampler\n",
    "from sklearn.metrics import ConfusionMatrixDisplay\n",
    "from sklearn.metrics import classification_report\n",
    "from sklearn.metrics import confusion_matrix\n",
    "import pickle\n",
    "import tensorflow as tf"
   ]
  },
  {
   "cell_type": "code",
   "execution_count": null,
   "id": "aaa75d04-6299-4e47-b170-3464c61a606c",
   "metadata": {},
   "outputs": [],
   "source": []
  },
  {
   "cell_type": "code",
   "execution_count": 31,
   "id": "2840cc1d-c46e-4c47-b94a-6749825da343",
   "metadata": {},
   "outputs": [],
   "source": [
    "df = pd.read_csv('../../Data/complete_fire.csv')"
   ]
  },
  {
   "cell_type": "code",
   "execution_count": 32,
   "id": "5770d848-f7aa-47e7-aef4-cdbc5e0f4e19",
   "metadata": {},
   "outputs": [],
   "source": [
    "df.dropna(inplace = True)"
   ]
  },
  {
   "cell_type": "code",
   "execution_count": 33,
   "id": "a19c6932-b9ea-4a7e-95c1-57ac0f5eed5f",
   "metadata": {},
   "outputs": [
    {
     "data": {
      "text/plain": [
       "(167273, 23)"
      ]
     },
     "execution_count": 33,
     "metadata": {},
     "output_type": "execute_result"
    }
   ],
   "source": [
    "df.shape"
   ]
  },
  {
   "cell_type": "code",
   "execution_count": 34,
   "id": "fbb0290f-927b-453b-80b6-0c593a349450",
   "metadata": {},
   "outputs": [
    {
     "data": {
      "text/plain": [
       "unique_fire_identifier     object\n",
       "lattitude                 float64\n",
       "longitude                 float64\n",
       "acres_burned              float64\n",
       "fire_cause                 object\n",
       "incident_name              object\n",
       "IsFSAssisted              float64\n",
       "origin_county              object\n",
       "state                      object\n",
       "year                        int64\n",
       "month                       int64\n",
       "value                     float64\n",
       "anomaly                   float64\n",
       "area (acres)              float64\n",
       "population                float64\n",
       "d0                        float64\n",
       "d1                        float64\n",
       "d2                        float64\n",
       "d3                        float64\n",
       "d4                        float64\n",
       "DSCI_avg                  float64\n",
       "DSCI_summed               float64\n",
       "precipitation(in)         float64\n",
       "dtype: object"
      ]
     },
     "execution_count": 34,
     "metadata": {},
     "output_type": "execute_result"
    }
   ],
   "source": [
    "df.dtypes"
   ]
  },
  {
   "cell_type": "code",
   "execution_count": 84,
   "id": "38d486f1-11c0-4fcb-934d-bfe8659115a3",
   "metadata": {},
   "outputs": [],
   "source": [
    "conditions = [df['acres_burned'] <= .25,\n",
    "             (df['acres_burned'] > .25) & (df['acres_burned'] <= 9.9),\n",
    "             (df['acres_burned'] > 9.9) & (df['acres_burned'] <= 99.99),\n",
    "             (df['acres_burned'] > 99.99) & (df['acres_burned'] <= 299),\n",
    "             (df['acres_burned'] > 299) & (df['acres_burned'] <= 999),\n",
    "             (df['acres_burned'] > 999) & (df['acres_burned'] <= 5000),\n",
    "             (df['acres_burned'] > 5000) & (df['acres_burned'] <= 9999),\n",
    "             (df['acres_burned'] > 9999) & (df['acres_burned'] <= 49_999),\n",
    "             (df['acres_burned'] > 49_999) & (df['acres_burned'] <= 100_000),\n",
    "              (df['acres_burned'] > 100_000)\n",
    "                \n",
    "             ]\n",
    "# choices = ['A', 'B', 'C', 'D', 'E', 'F', 'G', 'H', 'I', 'J']\n",
    "choices = [0,1,2,3,4,5,6,7,8,9]\n",
    "\n",
    "df['class'] = np.select(conditions, choices, default = 0)"
   ]
  },
  {
   "cell_type": "code",
   "execution_count": 85,
   "id": "58654c01-16fd-49ab-8eb4-4c41740ca1e4",
   "metadata": {},
   "outputs": [
    {
     "data": {
      "text/plain": [
       "unique_fire_identifier      object\n",
       "lattitude                  float64\n",
       "longitude                  float64\n",
       "acres_burned               float64\n",
       "incident_name               object\n",
       "                            ...   \n",
       "origin_county_Zavala         uint8\n",
       "origin_county_Ziebach        uint8\n",
       "fire_cause_Natural           uint8\n",
       "fire_cause_Undetermined      uint8\n",
       "fire_cause_Unknown           uint8\n",
       "Length: 1403, dtype: object"
      ]
     },
     "execution_count": 85,
     "metadata": {},
     "output_type": "execute_result"
    }
   ],
   "source": [
    "df.dtypes"
   ]
  },
  {
   "cell_type": "code",
   "execution_count": 37,
   "id": "9335534b-2faa-42be-9e63-23582bfbdf42",
   "metadata": {},
   "outputs": [
    {
     "data": {
      "text/plain": [
       "0    0.330621\n",
       "1    0.230288\n",
       "2    0.137398\n",
       "5    0.112289\n",
       "4    0.102718\n",
       "3    0.080085\n",
       "7    0.002983\n",
       "6    0.002577\n",
       "8    0.000544\n",
       "9    0.000496\n",
       "Name: class, dtype: float64"
      ]
     },
     "execution_count": 37,
     "metadata": {},
     "output_type": "execute_result"
    }
   ],
   "source": [
    "df['class'].value_counts(normalize = True)"
   ]
  },
  {
   "cell_type": "markdown",
   "id": "90cb7bce",
   "metadata": {},
   "source": []
  },
  {
   "cell_type": "code",
   "execution_count": 38,
   "id": "21010154-bd0c-4904-ba40-8dda6f8b48a2",
   "metadata": {},
   "outputs": [],
   "source": [
    "\n",
    "df = pd.get_dummies(df, columns = ['state', 'origin_county', 'fire_cause'], drop_first = True)"
   ]
  },
  {
   "cell_type": "markdown",
   "id": "a79979bf",
   "metadata": {},
   "source": []
  },
  {
   "cell_type": "code",
   "execution_count": 39,
   "id": "3f6b8aa2-8629-4cbb-879d-d75f27d1f041",
   "metadata": {},
   "outputs": [],
   "source": [
    "X = df.drop(columns = ['incident_name', 'unique_fire_identifier', 'class', 'acres_burned'])\n",
    "y = df['class']"
   ]
  },
  {
   "cell_type": "code",
   "execution_count": 40,
   "id": "8d9b5065-bce8-4925-aa60-e697088c729b",
   "metadata": {},
   "outputs": [],
   "source": [
    "y = to_categorical(y)\n",
    "# y = pd.get_dummies(y)"
   ]
  },
  {
   "cell_type": "code",
   "execution_count": null,
   "id": "5bc81056-9f1f-42a5-99ee-83b09da4e1b0",
   "metadata": {},
   "outputs": [],
   "source": []
  },
  {
   "cell_type": "code",
   "execution_count": 41,
   "id": "35ef5899-1620-4c2b-b20b-efce87466fe4",
   "metadata": {},
   "outputs": [],
   "source": [
    "X_train, X_test, y_train, y_test = train_test_split(X, y, random_state = 5, stratify = y)"
   ]
  },
  {
   "cell_type": "code",
   "execution_count": 42,
   "id": "775f6595-b320-40ae-accb-eac506b85195",
   "metadata": {},
   "outputs": [],
   "source": [
    "sc = StandardScaler()"
   ]
  },
  {
   "cell_type": "code",
   "execution_count": 43,
   "id": "ac49fc4b-21a1-4aa2-9fb4-2c7e460ef226",
   "metadata": {},
   "outputs": [],
   "source": [
    "Z_train = sc.fit_transform(X_train)\n",
    "Z_test = sc.transform(X_test)"
   ]
  },
  {
   "cell_type": "code",
   "execution_count": 44,
   "id": "8446f955-b017-4345-8843-1bc512587ef8",
   "metadata": {},
   "outputs": [
    {
     "data": {
      "text/plain": [
       "(125454, 1399)"
      ]
     },
     "execution_count": 44,
     "metadata": {},
     "output_type": "execute_result"
    }
   ],
   "source": [
    "X_train.shape"
   ]
  },
  {
   "cell_type": "code",
   "execution_count": 45,
   "id": "4c9dc57f-25a7-4fb7-8e2d-41a240b5439a",
   "metadata": {},
   "outputs": [],
   "source": [
    "\n",
    "model = Sequential()\n",
    "model.add(Dense(32,\n",
    "                input_shape = (1399,),\n",
    "                activation = 'relu'))\n",
    "model.add(Dense(10, activation = 'softmax'))"
   ]
  },
  {
   "cell_type": "code",
   "execution_count": 46,
   "id": "f86a13f1-eb40-465f-b5a0-050b62cfe864",
   "metadata": {},
   "outputs": [],
   "source": [
    "model.compile(loss = 'categorical_crossentropy',\n",
    "              optimizer = 'adam',\n",
    "              metrics = ['acc'])"
   ]
  },
  {
   "cell_type": "code",
   "execution_count": 47,
   "id": "d4af40c9-cab5-4493-8dfa-b0140e572b9a",
   "metadata": {},
   "outputs": [
    {
     "name": "stdout",
     "output_type": "stream",
     "text": [
      "Epoch 1/10\n",
      "3921/3921 [==============================] - 15s 4ms/step - loss: 1.3179 - acc: 0.5245 - val_loss: 1.1906 - val_acc: 0.5632\n",
      "Epoch 2/10\n",
      "3921/3921 [==============================] - 12s 3ms/step - loss: 1.1397 - acc: 0.5874 - val_loss: 1.1464 - val_acc: 0.5994\n",
      "Epoch 3/10\n",
      "3921/3921 [==============================] - 6s 2ms/step - loss: 1.0813 - acc: 0.6100 - val_loss: 1.1366 - val_acc: 0.6090\n",
      "Epoch 4/10\n",
      "3921/3921 [==============================] - 6s 2ms/step - loss: 1.0426 - acc: 0.6232 - val_loss: 1.1394 - val_acc: 0.6153\n",
      "Epoch 5/10\n",
      "3921/3921 [==============================] - 6s 1ms/step - loss: 1.0212 - acc: 0.6309 - val_loss: 1.1329 - val_acc: 0.6241\n",
      "Epoch 6/10\n",
      "3921/3921 [==============================] - 6s 2ms/step - loss: 1.0011 - acc: 0.6372 - val_loss: 1.1506 - val_acc: 0.6262\n",
      "Epoch 7/10\n",
      "3921/3921 [==============================] - 6s 1ms/step - loss: 0.9837 - acc: 0.6420 - val_loss: 1.1593 - val_acc: 0.6281\n",
      "Epoch 8/10\n",
      "3921/3921 [==============================] - 6s 1ms/step - loss: 0.9736 - acc: 0.6446 - val_loss: 1.1863 - val_acc: 0.6269\n",
      "Epoch 9/10\n",
      "3921/3921 [==============================] - 6s 1ms/step - loss: 0.9646 - acc: 0.6484 - val_loss: 1.1947 - val_acc: 0.6350\n",
      "Epoch 10/10\n",
      "3921/3921 [==============================] - 6s 1ms/step - loss: 0.9570 - acc: 0.6503 - val_loss: 1.2073 - val_acc: 0.6315\n"
     ]
    }
   ],
   "source": [
    "\n",
    "history = model.fit(Z_train, y_train,\n",
    "                    validation_data = (Z_test, y_test),\n",
    "                    epochs = 10,\n",
    "                    batch_size = 32,\n",
    "                    verbose = 1)"
   ]
  },
  {
   "cell_type": "code",
   "execution_count": 48,
   "id": "86f1f87f-b429-4d83-8c92-d34b5ffd007f",
   "metadata": {},
   "outputs": [],
   "source": [
    "preds = model.predict(Z_test)"
   ]
  },
  {
   "cell_type": "code",
   "execution_count": 49,
   "id": "9a8570ea-836d-43cf-98c1-eb370ec6419b",
   "metadata": {},
   "outputs": [
    {
     "data": {
      "text/plain": [
       "2"
      ]
     },
     "execution_count": 49,
     "metadata": {},
     "output_type": "execute_result"
    }
   ],
   "source": [
    "rounded_preds = np.argmax(preds, axis = -1)\n",
    "rounded_preds[101]"
   ]
  },
  {
   "cell_type": "code",
   "execution_count": 50,
   "id": "aecea721-771b-4e4c-ab67-e25258642704",
   "metadata": {},
   "outputs": [],
   "source": [
    "y_test2 = np.argmax(y_test, axis = -1)"
   ]
  },
  {
   "cell_type": "code",
   "execution_count": 51,
   "id": "da2bead3-b112-4802-8ea4-402108db5174",
   "metadata": {},
   "outputs": [
    {
     "data": {
      "text/plain": [
       "2"
      ]
     },
     "execution_count": 51,
     "metadata": {},
     "output_type": "execute_result"
    }
   ],
   "source": [
    "y_test2[101]"
   ]
  },
  {
   "cell_type": "code",
   "execution_count": 52,
   "id": "8b1ca7d0",
   "metadata": {},
   "outputs": [
    {
     "name": "stdout",
     "output_type": "stream",
     "text": [
      "              precision    recall  f1-score   support\n",
      "\n",
      "           0       0.60      0.85      0.70     13826\n",
      "           1       0.48      0.30      0.37      9630\n",
      "           2       0.58      0.51      0.54      5746\n",
      "           3       0.73      0.54      0.62      3349\n",
      "           4       0.81      0.69      0.75      4295\n",
      "           5       0.85      0.86      0.86      4696\n",
      "           6       0.25      0.02      0.03       108\n",
      "           7       0.12      0.01      0.02       125\n",
      "           8       0.00      0.00      0.00        23\n",
      "           9       0.00      0.00      0.00        21\n",
      "\n",
      "    accuracy                           0.63     41819\n",
      "   macro avg       0.44      0.38      0.39     41819\n",
      "weighted avg       0.62      0.63      0.61     41819\n",
      "\n"
     ]
    },
    {
     "name": "stderr",
     "output_type": "stream",
     "text": [
      "C:\\Users\\dlc90\\anaconda3\\envs\\tensorflow\\lib\\site-packages\\sklearn\\metrics\\_classification.py:1318: UndefinedMetricWarning: Precision and F-score are ill-defined and being set to 0.0 in labels with no predicted samples. Use `zero_division` parameter to control this behavior.\n",
      "  _warn_prf(average, modifier, msg_start, len(result))\n",
      "C:\\Users\\dlc90\\anaconda3\\envs\\tensorflow\\lib\\site-packages\\sklearn\\metrics\\_classification.py:1318: UndefinedMetricWarning: Precision and F-score are ill-defined and being set to 0.0 in labels with no predicted samples. Use `zero_division` parameter to control this behavior.\n",
      "  _warn_prf(average, modifier, msg_start, len(result))\n",
      "C:\\Users\\dlc90\\anaconda3\\envs\\tensorflow\\lib\\site-packages\\sklearn\\metrics\\_classification.py:1318: UndefinedMetricWarning: Precision and F-score are ill-defined and being set to 0.0 in labels with no predicted samples. Use `zero_division` parameter to control this behavior.\n",
      "  _warn_prf(average, modifier, msg_start, len(result))\n"
     ]
    }
   ],
   "source": [
    "from sklearn.metrics import classification_report\n",
    "print(classification_report(y_test2, rounded_preds))"
   ]
  },
  {
   "cell_type": "code",
   "execution_count": 53,
   "id": "224e374f-7516-442a-91a2-95784316b58a",
   "metadata": {},
   "outputs": [
    {
     "data": {
      "image/png": "[encoded data removed]",
      "text/plain": [
       "<Figure size 720x720 with 2 Axes>"
      ]
     },
     "metadata": {
      "needs_background": "light"
     },
     "output_type": "display_data"
    }
   ],
   "source": [
    "\n",
    "cm = confusion_matrix(y_test2, rounded_preds)\n",
    "\n",
    "disp = ConfusionMatrixDisplay(confusion_matrix = cm,)\n",
    "fig, ax = plt.subplots(figsize=(10,10))\n",
    "disp.plot(ax=ax)\n"
   ]
  },
  {
   "cell_type": "code",
   "execution_count": 63,
   "id": "1a8b1a0d-0e34-40f4-9034-b6c51e092606",
   "metadata": {},
   "outputs": [],
   "source": [
    "model2 = Sequential()\n",
    "model2.add(Dense(64,\n",
    "                input_shape = (1399,),\n",
    "                activation = 'relu'))\n",
    "model2.add(Dropout(0.2))\n",
    "model2.add(Dense(64, activation = 'relu'))\n",
    "model2.add(Dense(32, activation = 'relu'))\n",
    "\n",
    "model2.add(Dense(10, activation = 'softmax'))"
   ]
  },
  {
   "cell_type": "code",
   "execution_count": 64,
   "id": "11455591-0e63-430a-a88c-55da74a38d98",
   "metadata": {},
   "outputs": [],
   "source": [
    "model2.compile(loss = 'categorical_crossentropy',\n",
    "              optimizer = 'adam',\n",
    "              metrics = ['acc'])"
   ]
  },
  {
   "cell_type": "code",
   "execution_count": 65,
   "id": "16d45bb3-c5b9-40be-85db-e167f5e262a7",
   "metadata": {},
   "outputs": [
    {
     "name": "stdout",
     "output_type": "stream",
     "text": [
      "Epoch 1/10\n",
      "3921/3921 [==============================] - 15s 4ms/step - loss: 1.1879 - acc: 0.5504 - val_loss: 1.0499 - val_acc: 0.6018\n",
      "Epoch 2/10\n",
      "3921/3921 [==============================] - 16s 4ms/step - loss: 1.0371 - acc: 0.6096 - val_loss: 1.0018 - val_acc: 0.6201\n",
      "Epoch 3/10\n",
      "3921/3921 [==============================] - 16s 4ms/step - loss: 0.9933 - acc: 0.6237 - val_loss: 0.9777 - val_acc: 0.6309\n",
      "Epoch 4/10\n",
      "3921/3921 [==============================] - 15s 4ms/step - loss: 0.9699 - acc: 0.6327 - val_loss: 0.9596 - val_acc: 0.6393\n",
      "Epoch 5/10\n",
      "3921/3921 [==============================] - 14s 4ms/step - loss: 0.9520 - acc: 0.6399 - val_loss: 0.9529 - val_acc: 0.6401\n",
      "Epoch 6/10\n",
      "3921/3921 [==============================] - 13s 3ms/step - loss: 0.9403 - acc: 0.6440 - val_loss: 0.9463 - val_acc: 0.6430\n",
      "Epoch 7/10\n",
      "3921/3921 [==============================] - 13s 3ms/step - loss: 0.9317 - acc: 0.6463 - val_loss: 0.9457 - val_acc: 0.6450\n",
      "Epoch 8/10\n",
      "3921/3921 [==============================] - 20s 5ms/step - loss: 0.9252 - acc: 0.6486 - val_loss: 0.9433 - val_acc: 0.6446\n",
      "Epoch 9/10\n",
      "3921/3921 [==============================] - 16s 4ms/step - loss: 0.9175 - acc: 0.6509 - val_loss: 0.9420 - val_acc: 0.6487\n",
      "Epoch 10/10\n",
      "3921/3921 [==============================] - 16s 4ms/step - loss: 0.9129 - acc: 0.6521 - val_loss: 0.9357 - val_acc: 0.6498\n"
     ]
    }
   ],
   "source": [
    "# early_stop = EarlyStopping(monitor='val_loss', min_delta=0, patience=3, verbose=1, mode='auto')\n",
    "\n",
    "history = model2.fit(Z_train, y_train,\n",
    "                    validation_data = (Z_test, y_test),\n",
    "                    epochs = 10,\n",
    "                    batch_size = 32,\n",
    "                    verbose = 1)"
   ]
  },
  {
   "cell_type": "code",
   "execution_count": 66,
   "id": "3db4b14f-35ae-48cf-9072-77c5410c0aac",
   "metadata": {},
   "outputs": [],
   "source": [
    "model3 = Sequential()\n",
    "model3.add(Dense(128,\n",
    "                input_shape = (1399,),\n",
    "                activation = 'relu'))\n",
    "model3.add(Dropout(0.2))\n",
    "model3.add(Dense(64, activation = 'relu'))\n",
    "model3.add(Dropout(0.2))\n",
    "model3.add(Dense(32, activation = 'relu'))\n",
    "model3.add(Dense(16, activation = 'relu'))\n",
    "\n",
    "model3.add(Dense(10, activation = 'softmax'))\n",
    "\n",
    "model3.compile(loss = 'categorical_crossentropy',\n",
    "              optimizer = 'adam',\n",
    "              metrics = ['acc'])"
   ]
  },
  {
   "cell_type": "code",
   "execution_count": 67,
   "id": "2d0cef96-ecee-401a-996e-b41cefbbcbb7",
   "metadata": {},
   "outputs": [
    {
     "name": "stdout",
     "output_type": "stream",
     "text": [
      "Epoch 1/30\n",
      "981/981 [==============================] - 9s 9ms/step - loss: 1.3235 - acc: 0.4930 - val_loss: 1.1172 - val_acc: 0.5827\n",
      "Epoch 2/30\n",
      "981/981 [==============================] - 10s 10ms/step - loss: 1.1056 - acc: 0.5811 - val_loss: 1.0432 - val_acc: 0.6036\n",
      "Epoch 3/30\n",
      "981/981 [==============================] - 9s 9ms/step - loss: 1.0410 - acc: 0.6045 - val_loss: 1.0029 - val_acc: 0.6179\n",
      "Epoch 4/30\n",
      "981/981 [==============================] - 9s 9ms/step - loss: 1.0052 - acc: 0.6180 - val_loss: 0.9886 - val_acc: 0.6250\n",
      "Epoch 5/30\n",
      "981/981 [==============================] - 9s 10ms/step - loss: 0.9857 - acc: 0.6259 - val_loss: 0.9741 - val_acc: 0.6348\n",
      "Epoch 6/30\n",
      "981/981 [==============================] - 8s 8ms/step - loss: 0.9690 - acc: 0.6318 - val_loss: 0.9633 - val_acc: 0.6377\n",
      "Epoch 7/30\n",
      "981/981 [==============================] - 8s 8ms/step - loss: 0.9576 - acc: 0.6365 - val_loss: 0.9559 - val_acc: 0.6380\n",
      "Epoch 8/30\n",
      "981/981 [==============================] - 8s 8ms/step - loss: 0.9470 - acc: 0.6394 - val_loss: 0.9526 - val_acc: 0.6419\n",
      "Epoch 9/30\n",
      "981/981 [==============================] - 7s 7ms/step - loss: 0.9390 - acc: 0.6422 - val_loss: 0.9433 - val_acc: 0.6460\n",
      "Epoch 10/30\n",
      "981/981 [==============================] - 7s 8ms/step - loss: 0.9307 - acc: 0.6449 - val_loss: 0.9426 - val_acc: 0.6462\n",
      "Epoch 11/30\n",
      "981/981 [==============================] - 7s 7ms/step - loss: 0.9244 - acc: 0.6480 - val_loss: 0.9400 - val_acc: 0.6493\n",
      "Epoch 12/30\n",
      "981/981 [==============================] - 8s 8ms/step - loss: 0.9192 - acc: 0.6491 - val_loss: 0.9407 - val_acc: 0.6481\n",
      "Epoch 13/30\n",
      "981/981 [==============================] - 9s 9ms/step - loss: 0.9142 - acc: 0.6505 - val_loss: 0.9392 - val_acc: 0.6483\n",
      "Epoch 14/30\n",
      "981/981 [==============================] - 9s 9ms/step - loss: 0.9114 - acc: 0.6507 - val_loss: 0.9330 - val_acc: 0.6486\n",
      "Epoch 15/30\n",
      "981/981 [==============================] - 8s 8ms/step - loss: 0.9081 - acc: 0.6536 - val_loss: 0.9352 - val_acc: 0.6493\n",
      "Epoch 16/30\n",
      "981/981 [==============================] - 8s 8ms/step - loss: 0.9033 - acc: 0.6540 - val_loss: 0.9312 - val_acc: 0.6527\n",
      "Epoch 17/30\n",
      "981/981 [==============================] - 9s 9ms/step - loss: 0.9000 - acc: 0.6562 - val_loss: 0.9311 - val_acc: 0.6529\n",
      "Epoch 18/30\n",
      "981/981 [==============================] - 9s 9ms/step - loss: 0.8954 - acc: 0.6568 - val_loss: 0.9311 - val_acc: 0.6520\n",
      "Epoch 19/30\n",
      "981/981 [==============================] - 9s 9ms/step - loss: 0.8928 - acc: 0.6587 - val_loss: 0.9279 - val_acc: 0.6528\n",
      "Epoch 20/30\n",
      "981/981 [==============================] - 9s 9ms/step - loss: 0.8933 - acc: 0.6588 - val_loss: 0.9306 - val_acc: 0.6539\n",
      "Epoch 21/30\n",
      "981/981 [==============================] - 8s 9ms/step - loss: 0.8881 - acc: 0.6607 - val_loss: 0.9307 - val_acc: 0.6553\n",
      "Epoch 22/30\n",
      "981/981 [==============================] - 8s 8ms/step - loss: 0.8860 - acc: 0.6615 - val_loss: 0.9242 - val_acc: 0.6558\n",
      "Epoch 23/30\n",
      "981/981 [==============================] - 9s 9ms/step - loss: 0.8851 - acc: 0.6614 - val_loss: 0.9272 - val_acc: 0.6542\n",
      "Epoch 24/30\n",
      "981/981 [==============================] - 10s 10ms/step - loss: 0.8819 - acc: 0.6618 - val_loss: 0.9284 - val_acc: 0.6552\n",
      "Epoch 25/30\n",
      "981/981 [==============================] - 10s 11ms/step - loss: 0.8809 - acc: 0.6629 - val_loss: 0.9265 - val_acc: 0.6562\n",
      "Epoch 26/30\n",
      "981/981 [==============================] - 9s 9ms/step - loss: 0.8771 - acc: 0.6632 - val_loss: 0.9255 - val_acc: 0.6553\n",
      "Epoch 27/30\n",
      "981/981 [==============================] - 10s 11ms/step - loss: 0.8753 - acc: 0.6634 - val_loss: 0.9266 - val_acc: 0.6562\n",
      "Epoch 28/30\n",
      "981/981 [==============================] - 7s 8ms/step - loss: 0.8743 - acc: 0.6643 - val_loss: 0.9256 - val_acc: 0.6555\n",
      "Epoch 29/30\n",
      "981/981 [==============================] - 8s 8ms/step - loss: 0.8735 - acc: 0.6657 - val_loss: 0.9228 - val_acc: 0.6557\n",
      "Epoch 30/30\n",
      "981/981 [==============================] - 8s 8ms/step - loss: 0.8724 - acc: 0.6651 - val_loss: 0.9207 - val_acc: 0.6579\n"
     ]
    }
   ],
   "source": [
    "history = model3.fit(Z_train, y_train,\n",
    "                    validation_data = (Z_test, y_test),\n",
    "                    epochs = 30,\n",
    "                    batch_size = 128,\n",
    "                    verbose = 1)"
   ]
  },
  {
   "cell_type": "code",
   "execution_count": 68,
   "id": "352c8e0a-6017-4eb9-b861-c2b8f99cef22",
   "metadata": {},
   "outputs": [],
   "source": [
    "model4 = Sequential()\n",
    "model4.add(Dense(128,\n",
    "                input_shape = (1399,),\n",
    "                activation = 'relu'))\n",
    "model4.add(Dropout(0.2))\n",
    "model4.add(Dense(64, activation = 'relu'))\n",
    "model4.add(Dropout(0.2))\n",
    "model4.add(Dense(32, activation = 'relu'))\n",
    "model4.add(Dense(16, activation = 'relu'))\n",
    "model4.add(Dense(16, activation = 'relu'))\n",
    "\n",
    "model4.add(Dense(10, activation = 'softmax'))\n",
    "\n",
    "model4.compile(loss = 'categorical_crossentropy',\n",
    "              optimizer = 'adam',\n",
    "              metrics = ['acc'])"
   ]
  },
  {
   "cell_type": "code",
   "execution_count": 69,
   "id": "ae4bdf21-436c-455b-9615-c5587b7b2ade",
   "metadata": {},
   "outputs": [
    {
     "name": "stdout",
     "output_type": "stream",
     "text": [
      "Epoch 1/100\n",
      "981/981 [==============================] - 9s 8ms/step - loss: 1.3225 - acc: 0.4960 - val_loss: 1.1186 - val_acc: 0.5781\n",
      "Epoch 2/100\n",
      "981/981 [==============================] - 7s 7ms/step - loss: 1.1039 - acc: 0.5807 - val_loss: 1.0436 - val_acc: 0.6066\n",
      "Epoch 3/100\n",
      "981/981 [==============================] - 8s 8ms/step - loss: 1.0442 - acc: 0.6059 - val_loss: 1.0084 - val_acc: 0.6169\n",
      "Epoch 4/100\n",
      "981/981 [==============================] - 7s 8ms/step - loss: 1.0110 - acc: 0.6180 - val_loss: 0.9842 - val_acc: 0.6259\n",
      "Epoch 5/100\n",
      "981/981 [==============================] - 7s 7ms/step - loss: 0.9860 - acc: 0.6253 - val_loss: 0.9728 - val_acc: 0.6315\n",
      "Epoch 6/100\n",
      "981/981 [==============================] - 7s 7ms/step - loss: 0.9699 - acc: 0.6312 - val_loss: 0.9622 - val_acc: 0.6351\n",
      "Epoch 7/100\n",
      "981/981 [==============================] - 7s 7ms/step - loss: 0.9573 - acc: 0.6365 - val_loss: 0.9594 - val_acc: 0.6374\n",
      "Epoch 8/100\n",
      "981/981 [==============================] - 6s 7ms/step - loss: 0.9482 - acc: 0.6399 - val_loss: 0.9498 - val_acc: 0.6408\n",
      "Epoch 9/100\n",
      "981/981 [==============================] - 7s 7ms/step - loss: 0.9384 - acc: 0.6433 - val_loss: 0.9442 - val_acc: 0.6434\n",
      "Epoch 10/100\n",
      "981/981 [==============================] - 8s 8ms/step - loss: 0.9320 - acc: 0.6452 - val_loss: 0.9422 - val_acc: 0.6446\n",
      "Epoch 11/100\n",
      "981/981 [==============================] - 7s 8ms/step - loss: 0.9261 - acc: 0.6475 - val_loss: 0.9387 - val_acc: 0.6455\n",
      "Epoch 12/100\n",
      "981/981 [==============================] - 7s 7ms/step - loss: 0.9190 - acc: 0.6496 - val_loss: 0.9339 - val_acc: 0.6498\n",
      "Epoch 13/100\n",
      "981/981 [==============================] - 7s 7ms/step - loss: 0.9130 - acc: 0.6523 - val_loss: 0.9344 - val_acc: 0.6513\n",
      "Epoch 14/100\n",
      "981/981 [==============================] - 6s 6ms/step - loss: 0.9102 - acc: 0.6516 - val_loss: 0.9296 - val_acc: 0.6504\n",
      "Epoch 15/100\n",
      "981/981 [==============================] - 7s 7ms/step - loss: 0.9052 - acc: 0.6527 - val_loss: 0.9323 - val_acc: 0.6504\n",
      "Epoch 16/100\n",
      "981/981 [==============================] - 7s 7ms/step - loss: 0.9014 - acc: 0.6551 - val_loss: 0.9270 - val_acc: 0.6518\n",
      "Epoch 17/100\n",
      "981/981 [==============================] - 7s 7ms/step - loss: 0.8972 - acc: 0.6571 - val_loss: 0.9362 - val_acc: 0.6493\n",
      "Epoch 18/100\n",
      "981/981 [==============================] - 7s 7ms/step - loss: 0.8955 - acc: 0.6568 - val_loss: 0.9260 - val_acc: 0.6547\n",
      "Epoch 19/100\n",
      "981/981 [==============================] - 7s 7ms/step - loss: 0.8921 - acc: 0.6584 - val_loss: 0.9293 - val_acc: 0.6527\n",
      "Epoch 20/100\n",
      "981/981 [==============================] - 9s 9ms/step - loss: 0.8890 - acc: 0.6594 - val_loss: 0.9273 - val_acc: 0.6531\n",
      "Epoch 21/100\n",
      "981/981 [==============================] - 10s 10ms/step - loss: 0.8863 - acc: 0.6605 - val_loss: 0.9255 - val_acc: 0.6525\n",
      "Epoch 22/100\n",
      "981/981 [==============================] - 7s 7ms/step - loss: 0.8854 - acc: 0.6610 - val_loss: 0.9248 - val_acc: 0.6545\n",
      "Epoch 23/100\n",
      "981/981 [==============================] - 7s 7ms/step - loss: 0.8809 - acc: 0.6618 - val_loss: 0.9250 - val_acc: 0.6545\n",
      "Epoch 24/100\n",
      "981/981 [==============================] - 7s 7ms/step - loss: 0.8796 - acc: 0.6616 - val_loss: 0.9265 - val_acc: 0.6537\n",
      "Epoch 25/100\n",
      "981/981 [==============================] - 10s 10ms/step - loss: 0.8771 - acc: 0.6631 - val_loss: 0.9267 - val_acc: 0.6556\n",
      "Epoch 26/100\n",
      "981/981 [==============================] - 8s 9ms/step - loss: 0.8754 - acc: 0.6635 - val_loss: 0.9233 - val_acc: 0.6558\n",
      "Epoch 27/100\n",
      "981/981 [==============================] - 7s 7ms/step - loss: 0.8743 - acc: 0.6649 - val_loss: 0.9235 - val_acc: 0.6564\n",
      "Epoch 28/100\n",
      "981/981 [==============================] - 7s 7ms/step - loss: 0.8707 - acc: 0.6654 - val_loss: 0.9222 - val_acc: 0.6559\n",
      "Epoch 29/100\n",
      "981/981 [==============================] - 8s 8ms/step - loss: 0.8686 - acc: 0.6660 - val_loss: 0.9243 - val_acc: 0.6538\n",
      "Epoch 30/100\n",
      "981/981 [==============================] - 7s 7ms/step - loss: 0.8693 - acc: 0.6654 - val_loss: 0.9273 - val_acc: 0.6556\n",
      "Epoch 31/100\n",
      "981/981 [==============================] - 7s 7ms/step - loss: 0.8654 - acc: 0.6671 - val_loss: 0.9228 - val_acc: 0.6552\n",
      "Epoch 32/100\n",
      "981/981 [==============================] - 6s 6ms/step - loss: 0.8651 - acc: 0.6681 - val_loss: 0.9264 - val_acc: 0.6567\n",
      "Epoch 33/100\n",
      "981/981 [==============================] - 6s 6ms/step - loss: 0.8650 - acc: 0.6675 - val_loss: 0.9210 - val_acc: 0.6580\n",
      "Epoch 34/100\n",
      "981/981 [==============================] - 6s 7ms/step - loss: 0.8629 - acc: 0.6669 - val_loss: 0.9205 - val_acc: 0.6559\n",
      "Epoch 35/100\n",
      "981/981 [==============================] - 7s 7ms/step - loss: 0.8612 - acc: 0.6679 - val_loss: 0.9236 - val_acc: 0.6573\n",
      "Epoch 36/100\n",
      "981/981 [==============================] - 7s 7ms/step - loss: 0.8600 - acc: 0.6684 - val_loss: 0.9217 - val_acc: 0.6585\n",
      "Epoch 37/100\n",
      "981/981 [==============================] - 9s 9ms/step - loss: 0.8567 - acc: 0.6705 - val_loss: 0.9226 - val_acc: 0.6581\n",
      "Epoch 38/100\n",
      "981/981 [==============================] - 7s 7ms/step - loss: 0.8576 - acc: 0.6689 - val_loss: 0.9252 - val_acc: 0.6589\n",
      "Epoch 39/100\n",
      "981/981 [==============================] - 7s 7ms/step - loss: 0.8557 - acc: 0.6704 - val_loss: 0.9228 - val_acc: 0.6584\n",
      "Epoch 40/100\n",
      "981/981 [==============================] - 7s 7ms/step - loss: 0.8538 - acc: 0.6701 - val_loss: 0.9237 - val_acc: 0.6565\n",
      "Epoch 41/100\n",
      "981/981 [==============================] - 7s 7ms/step - loss: 0.8538 - acc: 0.6714 - val_loss: 0.9195 - val_acc: 0.6566\n",
      "Epoch 42/100\n",
      "981/981 [==============================] - 7s 7ms/step - loss: 0.8516 - acc: 0.6698 - val_loss: 0.9261 - val_acc: 0.6582\n",
      "Epoch 43/100\n",
      "981/981 [==============================] - 7s 7ms/step - loss: 0.8499 - acc: 0.6718 - val_loss: 0.9251 - val_acc: 0.6579\n",
      "Epoch 44/100\n",
      "981/981 [==============================] - 6s 7ms/step - loss: 0.8498 - acc: 0.6728 - val_loss: 0.9255 - val_acc: 0.6586\n",
      "Epoch 45/100\n",
      "981/981 [==============================] - 7s 7ms/step - loss: 0.8493 - acc: 0.6722 - val_loss: 0.9265 - val_acc: 0.6589\n",
      "Epoch 46/100\n",
      "981/981 [==============================] - 7s 7ms/step - loss: 0.8474 - acc: 0.6734 - val_loss: 0.9282 - val_acc: 0.6590\n",
      "Epoch 47/100\n",
      "981/981 [==============================] - 7s 7ms/step - loss: 0.8467 - acc: 0.6732 - val_loss: 0.9251 - val_acc: 0.6593\n",
      "Epoch 48/100\n",
      "981/981 [==============================] - 7s 7ms/step - loss: 0.8476 - acc: 0.6729 - val_loss: 0.9244 - val_acc: 0.6608\n",
      "Epoch 49/100\n",
      "981/981 [==============================] - 8s 8ms/step - loss: 0.8449 - acc: 0.6733 - val_loss: 0.9290 - val_acc: 0.6605\n",
      "Epoch 50/100\n",
      "981/981 [==============================] - 7s 7ms/step - loss: 0.8434 - acc: 0.6742 - val_loss: 0.9230 - val_acc: 0.6592\n",
      "Epoch 51/100\n",
      "981/981 [==============================] - 7s 7ms/step - loss: 0.8421 - acc: 0.6745 - val_loss: 0.9242 - val_acc: 0.6593\n",
      "Epoch 52/100\n",
      "981/981 [==============================] - 7s 7ms/step - loss: 0.8426 - acc: 0.6752 - val_loss: 0.9282 - val_acc: 0.6584\n",
      "Epoch 53/100\n",
      "981/981 [==============================] - 7s 7ms/step - loss: 0.8423 - acc: 0.6730 - val_loss: 0.9276 - val_acc: 0.6575\n",
      "Epoch 54/100\n",
      "981/981 [==============================] - 6s 6ms/step - loss: 0.8404 - acc: 0.6744 - val_loss: 0.9238 - val_acc: 0.6604\n",
      "Epoch 55/100\n",
      "981/981 [==============================] - 6s 6ms/step - loss: 0.8387 - acc: 0.6762 - val_loss: 0.9293 - val_acc: 0.6598\n",
      "Epoch 56/100\n",
      "981/981 [==============================] - 6s 6ms/step - loss: 0.8384 - acc: 0.6748 - val_loss: 0.9254 - val_acc: 0.6599\n",
      "Epoch 57/100\n",
      "981/981 [==============================] - 5s 5ms/step - loss: 0.8381 - acc: 0.6758 - val_loss: 0.9267 - val_acc: 0.6589\n",
      "Epoch 58/100\n",
      "981/981 [==============================] - 5s 5ms/step - loss: 0.8367 - acc: 0.6768 - val_loss: 0.9316 - val_acc: 0.6586\n",
      "Epoch 59/100\n",
      "981/981 [==============================] - 5s 5ms/step - loss: 0.8369 - acc: 0.6753 - val_loss: 0.9334 - val_acc: 0.6603\n",
      "Epoch 60/100\n",
      "981/981 [==============================] - 5s 5ms/step - loss: 0.8370 - acc: 0.6759 - val_loss: 0.9266 - val_acc: 0.6586\n",
      "Epoch 61/100\n",
      "981/981 [==============================] - 5s 5ms/step - loss: 0.8349 - acc: 0.6769 - val_loss: 0.9249 - val_acc: 0.6608\n",
      "Epoch 62/100\n",
      "981/981 [==============================] - 5s 5ms/step - loss: 0.8325 - acc: 0.6778 - val_loss: 0.9278 - val_acc: 0.6602\n",
      "Epoch 63/100\n",
      "981/981 [==============================] - 5s 5ms/step - loss: 0.8339 - acc: 0.6769 - val_loss: 0.9254 - val_acc: 0.6616\n",
      "Epoch 64/100\n",
      "981/981 [==============================] - 5s 5ms/step - loss: 0.8327 - acc: 0.6772 - val_loss: 0.9293 - val_acc: 0.6596\n",
      "Epoch 65/100\n",
      "981/981 [==============================] - 5s 5ms/step - loss: 0.8322 - acc: 0.6767 - val_loss: 0.9287 - val_acc: 0.6616\n",
      "Epoch 66/100\n",
      "981/981 [==============================] - 5s 5ms/step - loss: 0.8323 - acc: 0.6774 - val_loss: 0.9325 - val_acc: 0.6610\n",
      "Epoch 67/100\n",
      "981/981 [==============================] - 5s 5ms/step - loss: 0.8317 - acc: 0.6781 - val_loss: 0.9308 - val_acc: 0.6601\n",
      "Epoch 68/100\n",
      "981/981 [==============================] - 5s 5ms/step - loss: 0.8289 - acc: 0.6782 - val_loss: 0.9319 - val_acc: 0.6608\n",
      "Epoch 69/100\n",
      "981/981 [==============================] - 5s 5ms/step - loss: 0.8292 - acc: 0.6790 - val_loss: 0.9257 - val_acc: 0.6615\n",
      "Epoch 70/100\n",
      "981/981 [==============================] - 5s 5ms/step - loss: 0.8281 - acc: 0.6790 - val_loss: 0.9286 - val_acc: 0.6613\n",
      "Epoch 71/100\n",
      "981/981 [==============================] - 5s 6ms/step - loss: 0.8275 - acc: 0.6794 - val_loss: 0.9253 - val_acc: 0.6619\n",
      "Epoch 72/100\n",
      "981/981 [==============================] - 5s 5ms/step - loss: 0.8283 - acc: 0.6789 - val_loss: 0.9220 - val_acc: 0.6615\n",
      "Epoch 73/100\n",
      "981/981 [==============================] - 5s 6ms/step - loss: 0.8277 - acc: 0.6797 - val_loss: 0.9299 - val_acc: 0.6625\n",
      "Epoch 74/100\n",
      "981/981 [==============================] - 5s 5ms/step - loss: 0.8266 - acc: 0.6793 - val_loss: 0.9298 - val_acc: 0.6596\n",
      "Epoch 75/100\n",
      "981/981 [==============================] - 5s 5ms/step - loss: 0.8263 - acc: 0.6792 - val_loss: 0.9268 - val_acc: 0.6622\n",
      "Epoch 76/100\n",
      "981/981 [==============================] - 5s 5ms/step - loss: 0.8252 - acc: 0.6806 - val_loss: 0.9227 - val_acc: 0.6620\n",
      "Epoch 77/100\n",
      "981/981 [==============================] - 5s 5ms/step - loss: 0.8245 - acc: 0.6805 - val_loss: 0.9288 - val_acc: 0.6619\n",
      "Epoch 78/100\n",
      "981/981 [==============================] - 5s 5ms/step - loss: 0.8220 - acc: 0.6801 - val_loss: 0.9215 - val_acc: 0.6619\n",
      "Epoch 79/100\n",
      "981/981 [==============================] - 5s 5ms/step - loss: 0.8233 - acc: 0.6802 - val_loss: 0.9293 - val_acc: 0.6617\n",
      "Epoch 80/100\n",
      "981/981 [==============================] - 5s 5ms/step - loss: 0.8236 - acc: 0.6811 - val_loss: 0.9270 - val_acc: 0.6612\n",
      "Epoch 81/100\n",
      "981/981 [==============================] - 5s 5ms/step - loss: 0.8228 - acc: 0.6802 - val_loss: 0.9226 - val_acc: 0.6608\n",
      "Epoch 82/100\n",
      "981/981 [==============================] - 5s 5ms/step - loss: 0.8217 - acc: 0.6820 - val_loss: 0.9253 - val_acc: 0.6635\n",
      "Epoch 83/100\n",
      "981/981 [==============================] - 5s 5ms/step - loss: 0.8238 - acc: 0.6816 - val_loss: 0.9207 - val_acc: 0.6613\n",
      "Epoch 84/100\n",
      "981/981 [==============================] - 5s 5ms/step - loss: 0.8200 - acc: 0.6818 - val_loss: 0.9247 - val_acc: 0.6617\n",
      "Epoch 85/100\n",
      "981/981 [==============================] - 5s 5ms/step - loss: 0.8223 - acc: 0.6812 - val_loss: 0.9271 - val_acc: 0.6631\n",
      "Epoch 86/100\n",
      "981/981 [==============================] - 5s 5ms/step - loss: 0.8206 - acc: 0.6807 - val_loss: 0.9275 - val_acc: 0.6616\n",
      "Epoch 87/100\n",
      "981/981 [==============================] - 5s 5ms/step - loss: 0.8193 - acc: 0.6804 - val_loss: 0.9300 - val_acc: 0.6622\n",
      "Epoch 88/100\n",
      "981/981 [==============================] - 5s 5ms/step - loss: 0.8194 - acc: 0.6821 - val_loss: 0.9293 - val_acc: 0.6628\n",
      "Epoch 89/100\n",
      "981/981 [==============================] - 6s 6ms/step - loss: 0.8200 - acc: 0.6814 - val_loss: 0.9286 - val_acc: 0.6618\n",
      "Epoch 90/100\n",
      "981/981 [==============================] - 5s 5ms/step - loss: 0.8181 - acc: 0.6826 - val_loss: 0.9351 - val_acc: 0.6595\n",
      "Epoch 91/100\n",
      "981/981 [==============================] - 5s 5ms/step - loss: 0.8192 - acc: 0.6826 - val_loss: 0.9362 - val_acc: 0.6624\n",
      "Epoch 92/100\n",
      "981/981 [==============================] - 5s 5ms/step - loss: 0.8181 - acc: 0.6812 - val_loss: 0.9306 - val_acc: 0.6602\n",
      "Epoch 93/100\n",
      "981/981 [==============================] - 5s 5ms/step - loss: 0.8175 - acc: 0.6829 - val_loss: 0.9316 - val_acc: 0.6623\n",
      "Epoch 94/100\n",
      "981/981 [==============================] - 5s 5ms/step - loss: 0.8148 - acc: 0.6832 - val_loss: 0.9262 - val_acc: 0.6621\n",
      "Epoch 95/100\n",
      "981/981 [==============================] - 5s 5ms/step - loss: 0.8152 - acc: 0.6832 - val_loss: 0.9341 - val_acc: 0.6626\n",
      "Epoch 96/100\n",
      "981/981 [==============================] - 5s 5ms/step - loss: 0.8159 - acc: 0.6827 - val_loss: 0.9310 - val_acc: 0.6618\n",
      "Epoch 97/100\n",
      "981/981 [==============================] - 5s 5ms/step - loss: 0.8152 - acc: 0.6835 - val_loss: 0.9323 - val_acc: 0.6621\n",
      "Epoch 98/100\n",
      "981/981 [==============================] - 5s 5ms/step - loss: 0.8153 - acc: 0.6821 - val_loss: 0.9335 - val_acc: 0.6611\n",
      "Epoch 99/100\n",
      "981/981 [==============================] - 5s 5ms/step - loss: 0.8137 - acc: 0.6832 - val_loss: 0.9326 - val_acc: 0.6612\n",
      "Epoch 100/100\n",
      "981/981 [==============================] - 5s 5ms/step - loss: 0.8133 - acc: 0.6832 - val_loss: 0.9356 - val_acc: 0.6601\n"
     ]
    }
   ],
   "source": [
    "history = model4.fit(Z_train, y_train,\n",
    "                    validation_data = (Z_test, y_test),\n",
    "                    epochs = 100,\n",
    "                    batch_size = 128,\n",
    "                    verbose = 1)"
   ]
  },
  {
   "cell_type": "code",
   "execution_count": 70,
   "id": "d33a976b-458e-4cbc-b8a7-485fbb4fce1d",
   "metadata": {},
   "outputs": [],
   "source": [
    "preds4 = model4.predict(Z_test)"
   ]
  },
  {
   "cell_type": "code",
   "execution_count": 71,
   "id": "13e731d5-6095-4aa2-8de7-88cc2b5dd5ae",
   "metadata": {},
   "outputs": [
    {
     "data": {
      "text/plain": [
       "<sklearn.metrics._plot.confusion_matrix.ConfusionMatrixDisplay at 0x13357c6d090>"
      ]
     },
     "execution_count": 71,
     "metadata": {},
     "output_type": "execute_result"
    },
    {
     "data": {
      "image/png": "[encoded data removed]",
      "text/plain": [
       "<Figure size 720x720 with 2 Axes>"
      ]
     },
     "metadata": {
      "needs_background": "light"
     },
     "output_type": "display_data"
    }
   ],
   "source": [
    "rounded_preds4 = np.argmax(preds4, axis = -1)\n",
    "\n",
    "y_test4 = np.argmax(y_test, axis = -1)\n",
    "\n",
    "cm4 = confusion_matrix(y_test4, rounded_preds4)\n",
    "\n",
    "disp4 = ConfusionMatrixDisplay(confusion_matrix = cm,)\n",
    "fig, ax = plt.subplots(figsize=(10,10))\n",
    "disp.plot(ax=ax)\n"
   ]
  },
  {
   "cell_type": "markdown",
   "id": "fe51fa87-f0b8-44da-a576-7026b7fbe967",
   "metadata": {},
   "source": [
    "---\n",
    "Attempting best neural net with more balanced classes"
   ]
  },
  {
   "cell_type": "markdown",
   "id": "fa12216b",
   "metadata": {},
   "source": [
    "test\n"
   ]
  },
  {
   "cell_type": "markdown",
   "id": "ef03acaf",
   "metadata": {},
   "source": []
  }
 ],
 "metadata": {
  "interpreter": {
   "hash": "7b0fa565d2c72dfd329c0dfac10b0e3c3a611378dc2e802a3e54353322a90b9b"
  },
  "kernelspec": {
   "display_name": "Python 3 (ipykernel)",
   "language": "python",
   "name": "python3"
  },
  "language_info": {
   "codemirror_mode": {
    "name": "ipython",
    "version": 3
   },
   "file_extension": ".py",
   "mimetype": "text/x-python",
   "name": "python",
   "nbconvert_exporter": "python",
   "pygments_lexer": "ipython3",
   "version": "3.10.4"
  }
 },
 "nbformat": 4,
 "nbformat_minor": 5
}
