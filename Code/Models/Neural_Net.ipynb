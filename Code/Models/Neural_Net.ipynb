{
 "cells": [
  {
   "cell_type": "markdown",
   "id": "889080d5-92ed-4534-8d3c-eb1884e68254",
   "metadata": {},
   "source": [
    "Blank\n"
   ]
  },
  {
   "cell_type": "code",
   "execution_count": 1,
   "id": "cbf0da2a-4267-42d5-aad4-000945684311",
   "metadata": {},
   "outputs": [
    {
     "ename": "ModuleNotFoundError",
     "evalue": "No module named 'tensorflow'",
     "output_type": "error",
     "traceback": [
      "\u001b[1;31m---------------------------------------------------------------------------\u001b[0m",
      "\u001b[1;31mModuleNotFoundError\u001b[0m                       Traceback (most recent call last)",
      "\u001b[1;32m~\\AppData\\Local\\Temp/ipykernel_17112/1979662528.py\u001b[0m in \u001b[0;36m<module>\u001b[1;34m\u001b[0m\n\u001b[0;32m      6\u001b[0m \u001b[1;32mimport\u001b[0m \u001b[0mmatplotlib\u001b[0m\u001b[1;33m.\u001b[0m\u001b[0mpyplot\u001b[0m \u001b[1;32mas\u001b[0m \u001b[0mplt\u001b[0m\u001b[1;33m\u001b[0m\u001b[1;33m\u001b[0m\u001b[0m\n\u001b[0;32m      7\u001b[0m \u001b[1;33m\u001b[0m\u001b[0m\n\u001b[1;32m----> 8\u001b[1;33m \u001b[1;32mfrom\u001b[0m \u001b[0mtensorflow\u001b[0m\u001b[1;33m.\u001b[0m\u001b[0mkeras\u001b[0m\u001b[1;33m.\u001b[0m\u001b[0mmodels\u001b[0m \u001b[1;32mimport\u001b[0m \u001b[0mSequential\u001b[0m\u001b[1;33m\u001b[0m\u001b[1;33m\u001b[0m\u001b[0m\n\u001b[0m\u001b[0;32m      9\u001b[0m \u001b[1;32mfrom\u001b[0m \u001b[0mtensorflow\u001b[0m\u001b[1;33m.\u001b[0m\u001b[0mkeras\u001b[0m\u001b[1;33m.\u001b[0m\u001b[0mlayers\u001b[0m \u001b[1;32mimport\u001b[0m \u001b[0mDense\u001b[0m\u001b[1;33m\u001b[0m\u001b[1;33m\u001b[0m\u001b[0m\n\u001b[0;32m     10\u001b[0m \u001b[1;32mfrom\u001b[0m \u001b[0mtensorflow\u001b[0m\u001b[1;33m.\u001b[0m\u001b[0mkeras\u001b[0m\u001b[1;33m.\u001b[0m\u001b[0mutils\u001b[0m \u001b[1;32mimport\u001b[0m \u001b[0mto_categorical\u001b[0m\u001b[1;33m\u001b[0m\u001b[1;33m\u001b[0m\u001b[0m\n",
      "\u001b[1;31mModuleNotFoundError\u001b[0m: No module named 'tensorflow'"
     ]
    }
   ],
   "source": [
    "import pandas as pd\n",
    "import numpy as np\n",
    "\n",
    "from sklearn.preprocessing import StandardScaler\n",
    "from sklearn.model_selection import train_test_split\n",
    "import matplotlib.pyplot as plt\n",
    "\n",
    "from tensorflow.keras.models import Sequential\n",
    "from tensorflow.keras.layers import Dense\n",
    "from tensorflow.keras.utils import to_categorical\n",
    "from tensorflow.keras.metrics import Recall\n",
    "from tensorflow.keras.utils import plot_model\n",
    "from tensorflow.keras.layers import Dropout\n",
    "from tensorflow.keras.callbacks import EarlyStopping\n",
    "# oversampler func\n",
    "from oversampler_funtion import over_sampler\n",
    "from sklearn.metrics import ConfusionMatrixDisplay\n",
    "from sklearn.metrics import classification_report\n",
    "from sklearn.metrics import confusion_matrix\n",
    "\n",
    "import pickle\n",
    "import tensorflow as tf"
   ]
  },
  {
   "cell_type": "code",
   "execution_count": 33,
   "id": "aaa75d04-6299-4e47-b170-3464c61a606c",
   "metadata": {},
   "outputs": [],
   "source": []
  },
  {
   "cell_type": "code",
   "execution_count": 8,
   "id": "2840cc1d-c46e-4c47-b94a-6749825da343",
   "metadata": {},
   "outputs": [],
   "source": [
    "df = pd.read_csv('../../Data/complete_fire.csv')"
   ]
  },
  {
   "cell_type": "code",
   "execution_count": 9,
   "id": "5770d848-f7aa-47e7-aef4-cdbc5e0f4e19",
   "metadata": {},
   "outputs": [],
   "source": [
    "df.dropna(inplace = True)"
   ]
  },
  {
   "cell_type": "code",
   "execution_count": 10,
   "id": "a19c6932-b9ea-4a7e-95c1-57ac0f5eed5f",
   "metadata": {},
   "outputs": [
    {
     "data": {
      "text/plain": [
       "(167273, 23)"
      ]
     },
     "execution_count": 10,
     "metadata": {},
     "output_type": "execute_result"
    }
   ],
   "source": [
    "df.shape"
   ]
  },
  {
   "cell_type": "code",
   "execution_count": 11,
   "id": "fbb0290f-927b-453b-80b6-0c593a349450",
   "metadata": {},
   "outputs": [
    {
     "data": {
      "text/plain": [
       "unique_fire_identifier     object\n",
       "lattitude                 float64\n",
       "longitude                 float64\n",
       "acres_burned              float64\n",
       "fire_cause                 object\n",
       "incident_name              object\n",
       "IsFSAssisted              float64\n",
       "origin_county              object\n",
       "state                      object\n",
       "year                        int64\n",
       "month                       int64\n",
       "value                     float64\n",
       "anomaly                   float64\n",
       "area (acres)              float64\n",
       "population                float64\n",
       "d0                        float64\n",
       "d1                        float64\n",
       "d2                        float64\n",
       "d3                        float64\n",
       "d4                        float64\n",
       "DSCI_avg                  float64\n",
       "DSCI_summed               float64\n",
       "precipitation(in)         float64\n",
       "dtype: object"
      ]
     },
     "execution_count": 11,
     "metadata": {},
     "output_type": "execute_result"
    }
   ],
   "source": [
    "df.dtypes"
   ]
  },
  {
   "cell_type": "code",
   "execution_count": 12,
   "id": "38d486f1-11c0-4fcb-934d-bfe8659115a3",
   "metadata": {},
   "outputs": [],
   "source": [
    "conditions = [df['acres_burned'] <= .25,\n",
    "             (df['acres_burned'] > .25) & (df['acres_burned'] <= 9.9),\n",
    "             (df['acres_burned'] > 9.9) & (df['acres_burned'] <= 99.99),\n",
    "             (df['acres_burned'] > 99.99) & (df['acres_burned'] <= 299),\n",
    "             (df['acres_burned'] > 299) & (df['acres_burned'] <= 999),\n",
    "             (df['acres_burned'] > 999) & (df['acres_burned'] <= 5000),\n",
    "             (df['acres_burned'] > 5000) & (df['acres_burned'] <= 9999),\n",
    "             (df['acres_burned'] > 9999) & (df['acres_burned'] <= 49_999),\n",
    "             (df['acres_burned'] > 49_999) & (df['acres_burned'] <= 100_000),\n",
    "              (df['acres_burned'] > 100_000)\n",
    "                \n",
    "             ]\n",
    "# choices = ['A', 'B', 'C', 'D', 'E', 'F', 'G', 'H', 'I', 'J']\n",
    "choices = [0,1,2,3,4,5,6,7,8,9]\n",
    "\n",
    "df['class'] = np.select(conditions, choices, default = 'A')"
   ]
  },
  {
   "cell_type": "code",
   "execution_count": 13,
   "id": "58654c01-16fd-49ab-8eb4-4c41740ca1e4",
   "metadata": {},
   "outputs": [
    {
     "data": {
      "text/plain": [
       "unique_fire_identifier     object\n",
       "lattitude                 float64\n",
       "longitude                 float64\n",
       "acres_burned              float64\n",
       "fire_cause                 object\n",
       "incident_name              object\n",
       "IsFSAssisted              float64\n",
       "origin_county              object\n",
       "state                      object\n",
       "year                        int64\n",
       "month                       int64\n",
       "value                     float64\n",
       "anomaly                   float64\n",
       "area (acres)              float64\n",
       "population                float64\n",
       "d0                        float64\n",
       "d1                        float64\n",
       "d2                        float64\n",
       "d3                        float64\n",
       "d4                        float64\n",
       "DSCI_avg                  float64\n",
       "DSCI_summed               float64\n",
       "precipitation(in)         float64\n",
       "class                      object\n",
       "dtype: object"
      ]
     },
     "execution_count": 13,
     "metadata": {},
     "output_type": "execute_result"
    }
   ],
   "source": [
    "df.dtypes"
   ]
  },
  {
   "cell_type": "code",
   "execution_count": 14,
   "id": "9335534b-2faa-42be-9e63-23582bfbdf42",
   "metadata": {},
   "outputs": [
    {
     "data": {
      "text/plain": [
       "0    0.330621\n",
       "1    0.230288\n",
       "2    0.137398\n",
       "5    0.112289\n",
       "4    0.102718\n",
       "3    0.080085\n",
       "7    0.002983\n",
       "6    0.002577\n",
       "8    0.000544\n",
       "9    0.000496\n",
       "Name: class, dtype: float64"
      ]
     },
     "execution_count": 14,
     "metadata": {},
     "output_type": "execute_result"
    }
   ],
   "source": [
    "df['class'].value_counts(normalize = True)"
   ]
  },
  {
   "cell_type": "markdown",
   "id": "90cb7bce",
   "metadata": {},
   "source": []
  },
  {
   "cell_type": "code",
   "execution_count": 15,
   "id": "21010154-bd0c-4904-ba40-8dda6f8b48a2",
   "metadata": {},
   "outputs": [],
   "source": [
    "\n",
    "df = pd.get_dummies(df, columns = ['state', 'origin_county', 'fire_cause'], drop_first = True)"
   ]
  },
  {
   "cell_type": "markdown",
   "id": "a79979bf",
   "metadata": {},
   "source": []
  },
  {
   "cell_type": "code",
   "execution_count": 16,
   "id": "3f6b8aa2-8629-4cbb-879d-d75f27d1f041",
   "metadata": {},
   "outputs": [],
   "source": [
    "X = df.drop(columns = ['incident_name', 'unique_fire_identifier', 'class', 'acres_burned'])\n",
    "y = df['class']"
   ]
  },
  {
   "cell_type": "code",
   "execution_count": 17,
   "id": "8d9b5065-bce8-4925-aa60-e697088c729b",
   "metadata": {},
   "outputs": [],
   "source": [
    "y = to_categorical(y)\n",
    "# y = pd.get_dummies(y)"
   ]
  },
  {
   "cell_type": "code",
   "execution_count": null,
   "id": "5bc81056-9f1f-42a5-99ee-83b09da4e1b0",
   "metadata": {},
   "outputs": [],
   "source": []
  },
  {
   "cell_type": "code",
   "execution_count": 18,
   "id": "35ef5899-1620-4c2b-b20b-efce87466fe4",
   "metadata": {},
   "outputs": [],
   "source": [
    "X_train, X_test, y_train, y_test = train_test_split(X, y, random_state = 5, stratify = y)"
   ]
  },
  {
   "cell_type": "code",
   "execution_count": 19,
   "id": "775f6595-b320-40ae-accb-eac506b85195",
   "metadata": {},
   "outputs": [],
   "source": [
    "sc = StandardScaler()"
   ]
  },
  {
   "cell_type": "code",
   "execution_count": 20,
   "id": "ac49fc4b-21a1-4aa2-9fb4-2c7e460ef226",
   "metadata": {},
   "outputs": [],
   "source": [
    "Z_train = sc.fit_transform(X_train)\n",
    "Z_test = sc.transform(X_test)"
   ]
  },
  {
   "cell_type": "code",
   "execution_count": 21,
   "id": "8446f955-b017-4345-8843-1bc512587ef8",
   "metadata": {},
   "outputs": [
    {
     "data": {
      "text/plain": [
       "(125454, 1399)"
      ]
     },
     "execution_count": 21,
     "metadata": {},
     "output_type": "execute_result"
    }
   ],
   "source": [
    "X_train.shape"
   ]
  },
  {
   "cell_type": "code",
   "execution_count": 22,
   "id": "4c9dc57f-25a7-4fb7-8e2d-41a240b5439a",
   "metadata": {},
   "outputs": [],
   "source": [
    "model = Sequential()\n",
    "model.add(Dense(32,\n",
    "                input_shape = (1399,),\n",
    "                activation = 'relu'))\n",
    "model.add(Dense(10, activation = 'softmax'))"
   ]
  },
  {
   "cell_type": "code",
   "execution_count": 23,
   "id": "f86a13f1-eb40-465f-b5a0-050b62cfe864",
   "metadata": {},
   "outputs": [],
   "source": [
    "model.compile(loss = 'categorical_crossentropy',\n",
    "              optimizer = 'adam',\n",
    "              metrics = ['acc'])"
   ]
  },
  {
   "cell_type": "code",
   "execution_count": 24,
   "id": "d4af40c9-cab5-4493-8dfa-b0140e572b9a",
   "metadata": {},
   "outputs": [
    {
     "name": "stdout",
     "output_type": "stream",
     "text": [
      "Epoch 1/10\n",
      "3921/3921 [==============================] - 33s 8ms/step - loss: 1.2466 - acc: 0.5450 - val_loss: 1.0747 - val_acc: 0.5945\n",
      "Epoch 2/10\n",
      "3921/3921 [==============================] - 27s 7ms/step - loss: 0.9876 - acc: 0.6181 - val_loss: 0.9660 - val_acc: 0.6290\n",
      "Epoch 3/10\n",
      "3921/3921 [==============================] - 33s 8ms/step - loss: 0.8933 - acc: 0.6454 - val_loss: 0.9131 - val_acc: 0.6524\n",
      "Epoch 4/10\n",
      "3921/3921 [==============================] - 32s 8ms/step - loss: 0.8328 - acc: 0.6657 - val_loss: 0.8778 - val_acc: 0.6642\n",
      "Epoch 5/10\n",
      "3921/3921 [==============================] - 33s 8ms/step - loss: 0.7957 - acc: 0.6795 - val_loss: 0.8637 - val_acc: 0.6737\n",
      "Epoch 6/10\n",
      "3921/3921 [==============================] - 32s 8ms/step - loss: 0.7657 - acc: 0.6900 - val_loss: 0.8605 - val_acc: 0.6814\n",
      "Epoch 7/10\n",
      "3921/3921 [==============================] - 31s 8ms/step - loss: 0.7426 - acc: 0.6978 - val_loss: 0.8604 - val_acc: 0.6859\n",
      "Epoch 8/10\n",
      "3921/3921 [==============================] - 31s 8ms/step - loss: 0.7281 - acc: 0.7025 - val_loss: 0.8551 - val_acc: 0.6873\n",
      "Epoch 9/10\n",
      "3921/3921 [==============================] - 33s 9ms/step - loss: 0.7111 - acc: 0.7087 - val_loss: 0.8605 - val_acc: 0.6928\n",
      "Epoch 10/10\n",
      "3921/3921 [==============================] - 31s 8ms/step - loss: 0.6987 - acc: 0.7119 - val_loss: 0.8752 - val_acc: 0.6960\n"
     ]
    }
   ],
   "source": [
    "\n",
    "history = model.fit(Z_train, y_train,\n",
    "                    validation_data = (Z_test, y_test),\n",
    "                    epochs = 10,\n",
    "                    batch_size = 32,\n",
    "                    verbose = 1)"
   ]
  },
  {
   "cell_type": "code",
   "execution_count": 23,
   "id": "86f1f87f-b429-4d83-8c92-d34b5ffd007f",
   "metadata": {},
   "outputs": [],
   "source": [
    "preds = model.predict(Z_test)"
   ]
  },
  {
   "cell_type": "code",
   "execution_count": 24,
   "id": "9a8570ea-836d-43cf-98c1-eb370ec6419b",
   "metadata": {},
   "outputs": [
    {
     "data": {
      "text/plain": [
       "2"
      ]
     },
     "execution_count": 24,
     "metadata": {},
     "output_type": "execute_result"
    }
   ],
   "source": [
    "rounded_preds = np.argmax(preds, axis = -1)\n",
    "rounded_preds[101]"
   ]
  },
  {
   "cell_type": "code",
   "execution_count": 25,
   "id": "aecea721-771b-4e4c-ab67-e25258642704",
   "metadata": {},
   "outputs": [],
   "source": [
    "y_test2 = np.argmax(y_test, axis = -1)"
   ]
  },
  {
   "cell_type": "code",
   "execution_count": 26,
   "id": "da2bead3-b112-4802-8ea4-402108db5174",
   "metadata": {},
   "outputs": [
    {
     "data": {
      "text/plain": [
       "2"
      ]
     },
     "execution_count": 26,
     "metadata": {},
     "output_type": "execute_result"
    }
   ],
   "source": [
    "y_test2[101]"
   ]
  },
  {
   "cell_type": "code",
   "execution_count": 28,
   "id": "8b1ca7d0",
   "metadata": {},
   "outputs": [
    {
     "name": "stdout",
     "output_type": "stream",
     "text": [
      "              precision    recall  f1-score   support\n",
      "\n",
      "           0       0.61      0.83      0.70     13826\n",
      "           1       0.47      0.35      0.40      9630\n",
      "           2       0.63      0.49      0.55      5746\n",
      "           3       0.70      0.58      0.63      3349\n",
      "           4       0.80      0.73      0.76      4295\n",
      "           5       0.88      0.86      0.87      4696\n",
      "           6       0.50      0.01      0.02       108\n",
      "           7       0.25      0.02      0.04       125\n",
      "           8       0.00      0.00      0.00        23\n",
      "           9       0.00      0.00      0.00        21\n",
      "\n",
      "    accuracy                           0.64     41819\n",
      "   macro avg       0.48      0.39      0.40     41819\n",
      "weighted avg       0.63      0.64      0.63     41819\n",
      "\n"
     ]
    }
   ],
   "source": [
    "from sklearn.metrics import classification_report\n",
    "print(classification_report(y_test2, rounded_preds))"
   ]
  },
  {
   "cell_type": "code",
   "execution_count": 27,
   "id": "224e374f-7516-442a-91a2-95784316b58a",
   "metadata": {},
   "outputs": [
    {
     "data": {
      "image/png": "[encoded data removed]",
      "text/plain": [
       "<Figure size 720x720 with 2 Axes>"
      ]
     },
     "metadata": {
      "needs_background": "light"
     },
     "output_type": "display_data"
    }
   ],
   "source": [
    "\n",
    "cm = confusion_matrix(y_test2, rounded_preds)\n",
    "\n",
    "disp = ConfusionMatrixDisplay(confusion_matrix = cm,)\n",
    "fig, ax = plt.subplots(figsize=(10,10))\n",
    "disp.plot(ax=ax);\n"
   ]
  },
  {
   "cell_type": "code",
   "execution_count": 25,
   "id": "1a8b1a0d-0e34-40f4-9034-b6c51e092606",
   "metadata": {},
   "outputs": [],
   "source": [
    "model2 = Sequential()\n",
    "model2.add(Dense(64,\n",
    "                input_shape = (1400,),\n",
    "                activation = 'relu'))\n",
    "model2.add(Dropout(0.2))\n",
    "model2.add(Dense(64, activation = 'relu'))\n",
    "model2.add(Dense(32, activation = 'relu'))\n",
    "\n",
    "model2.add(Dense(10, activation = 'softmax'))"
   ]
  },
  {
   "cell_type": "code",
   "execution_count": 26,
   "id": "11455591-0e63-430a-a88c-55da74a38d98",
   "metadata": {},
   "outputs": [],
   "source": [
    "model2.compile(loss = 'categorical_crossentropy',\n",
    "              optimizer = 'adam',\n",
    "              metrics = ['acc'])"
   ]
  },
  {
   "cell_type": "code",
   "execution_count": 27,
   "id": "16d45bb3-c5b9-40be-85db-e167f5e262a7",
   "metadata": {},
   "outputs": [
    {
     "name": "stdout",
     "output_type": "stream",
     "text": [
      "Epoch 1/10\n",
      "3921/3921 [==============================] - 12s 3ms/step - loss: 1.1614 - acc: 0.5463 - val_loss: 0.9700 - val_acc: 0.6126\n",
      "Epoch 2/10\n",
      "3921/3921 [==============================] - 11s 3ms/step - loss: 0.9480 - acc: 0.6210 - val_loss: 0.8838 - val_acc: 0.6426\n",
      "Epoch 3/10\n",
      "3921/3921 [==============================] - 12s 3ms/step - loss: 0.8770 - acc: 0.6439 - val_loss: 0.8420 - val_acc: 0.6536\n",
      "Epoch 4/10\n",
      "3921/3921 [==============================] - 13s 3ms/step - loss: 0.8372 - acc: 0.6560 - val_loss: 0.7999 - val_acc: 0.6690\n",
      "Epoch 5/10\n",
      "3921/3921 [==============================] - 12s 3ms/step - loss: 0.8071 - acc: 0.6671 - val_loss: 0.7778 - val_acc: 0.6774\n",
      "Epoch 6/10\n",
      " 747/3921 [====>.........................] - ETA: 8s - loss: 0.7855 - acc: 0.6713"
     ]
    },
    {
     "ename": "KeyboardInterrupt",
     "evalue": "",
     "output_type": "error",
     "traceback": [
      "\u001b[1;31m---------------------------------------------------------------------------\u001b[0m",
      "\u001b[1;31mKeyboardInterrupt\u001b[0m                         Traceback (most recent call last)",
      "\u001b[1;32mc:\\Users\\dlc90\\GeneralAssembly\\Projects\\group-project\\Fire_Project\\Fire_Repo\\Code\\Models\\Neural_Net.ipynb Cell 29'\u001b[0m in \u001b[0;36m<cell line: 3>\u001b[1;34m()\u001b[0m\n\u001b[0;32m      <a href='vscode-notebook-cell:/c%3A/Users/dlc90/GeneralAssembly/Projects/group-project/Fire_Project/Fire_Repo/Code/Models/Neural_Net.ipynb#ch0000028?line=0'>1</a>\u001b[0m \u001b[39m# early_stop = EarlyStopping(monitor='val_loss', min_delta=0, patience=3, verbose=1, mode='auto')\u001b[39;00m\n\u001b[1;32m----> <a href='vscode-notebook-cell:/c%3A/Users/dlc90/GeneralAssembly/Projects/group-project/Fire_Project/Fire_Repo/Code/Models/Neural_Net.ipynb#ch0000028?line=2'>3</a>\u001b[0m history \u001b[39m=\u001b[39m model2\u001b[39m.\u001b[39;49mfit(Z_train, y_train,\n\u001b[0;32m      <a href='vscode-notebook-cell:/c%3A/Users/dlc90/GeneralAssembly/Projects/group-project/Fire_Project/Fire_Repo/Code/Models/Neural_Net.ipynb#ch0000028?line=3'>4</a>\u001b[0m                     validation_data \u001b[39m=\u001b[39;49m (Z_test, y_test),\n\u001b[0;32m      <a href='vscode-notebook-cell:/c%3A/Users/dlc90/GeneralAssembly/Projects/group-project/Fire_Project/Fire_Repo/Code/Models/Neural_Net.ipynb#ch0000028?line=4'>5</a>\u001b[0m                     epochs \u001b[39m=\u001b[39;49m \u001b[39m10\u001b[39;49m,\n\u001b[0;32m      <a href='vscode-notebook-cell:/c%3A/Users/dlc90/GeneralAssembly/Projects/group-project/Fire_Project/Fire_Repo/Code/Models/Neural_Net.ipynb#ch0000028?line=5'>6</a>\u001b[0m                     batch_size \u001b[39m=\u001b[39;49m \u001b[39m32\u001b[39;49m,\n\u001b[0;32m      <a href='vscode-notebook-cell:/c%3A/Users/dlc90/GeneralAssembly/Projects/group-project/Fire_Project/Fire_Repo/Code/Models/Neural_Net.ipynb#ch0000028?line=6'>7</a>\u001b[0m                     verbose \u001b[39m=\u001b[39;49m \u001b[39m1\u001b[39;49m)\n",
      "File \u001b[1;32m~\\anaconda3\\envs\\tensorflow\\lib\\site-packages\\keras\\utils\\traceback_utils.py:64\u001b[0m, in \u001b[0;36mfilter_traceback.<locals>.error_handler\u001b[1;34m(*args, **kwargs)\u001b[0m\n\u001b[0;32m     <a href='file:///c%3A/Users/dlc90/anaconda3/envs/tensorflow/lib/site-packages/keras/utils/traceback_utils.py?line=61'>62</a>\u001b[0m filtered_tb \u001b[39m=\u001b[39m \u001b[39mNone\u001b[39;00m\n\u001b[0;32m     <a href='file:///c%3A/Users/dlc90/anaconda3/envs/tensorflow/lib/site-packages/keras/utils/traceback_utils.py?line=62'>63</a>\u001b[0m \u001b[39mtry\u001b[39;00m:\n\u001b[1;32m---> <a href='file:///c%3A/Users/dlc90/anaconda3/envs/tensorflow/lib/site-packages/keras/utils/traceback_utils.py?line=63'>64</a>\u001b[0m   \u001b[39mreturn\u001b[39;00m fn(\u001b[39m*\u001b[39margs, \u001b[39m*\u001b[39m\u001b[39m*\u001b[39mkwargs)\n\u001b[0;32m     <a href='file:///c%3A/Users/dlc90/anaconda3/envs/tensorflow/lib/site-packages/keras/utils/traceback_utils.py?line=64'>65</a>\u001b[0m \u001b[39mexcept\u001b[39;00m \u001b[39mException\u001b[39;00m \u001b[39mas\u001b[39;00m e:  \u001b[39m# pylint: disable=broad-except\u001b[39;00m\n\u001b[0;32m     <a href='file:///c%3A/Users/dlc90/anaconda3/envs/tensorflow/lib/site-packages/keras/utils/traceback_utils.py?line=65'>66</a>\u001b[0m   filtered_tb \u001b[39m=\u001b[39m _process_traceback_frames(e\u001b[39m.\u001b[39m__traceback__)\n",
      "File \u001b[1;32m~\\anaconda3\\envs\\tensorflow\\lib\\site-packages\\keras\\engine\\training.py:1384\u001b[0m, in \u001b[0;36mModel.fit\u001b[1;34m(self, x, y, batch_size, epochs, verbose, callbacks, validation_split, validation_data, shuffle, class_weight, sample_weight, initial_epoch, steps_per_epoch, validation_steps, validation_batch_size, validation_freq, max_queue_size, workers, use_multiprocessing)\u001b[0m\n\u001b[0;32m   <a href='file:///c%3A/Users/dlc90/anaconda3/envs/tensorflow/lib/site-packages/keras/engine/training.py?line=1376'>1377</a>\u001b[0m \u001b[39mwith\u001b[39;00m tf\u001b[39m.\u001b[39mprofiler\u001b[39m.\u001b[39mexperimental\u001b[39m.\u001b[39mTrace(\n\u001b[0;32m   <a href='file:///c%3A/Users/dlc90/anaconda3/envs/tensorflow/lib/site-packages/keras/engine/training.py?line=1377'>1378</a>\u001b[0m     \u001b[39m'\u001b[39m\u001b[39mtrain\u001b[39m\u001b[39m'\u001b[39m,\n\u001b[0;32m   <a href='file:///c%3A/Users/dlc90/anaconda3/envs/tensorflow/lib/site-packages/keras/engine/training.py?line=1378'>1379</a>\u001b[0m     epoch_num\u001b[39m=\u001b[39mepoch,\n\u001b[0;32m   <a href='file:///c%3A/Users/dlc90/anaconda3/envs/tensorflow/lib/site-packages/keras/engine/training.py?line=1379'>1380</a>\u001b[0m     step_num\u001b[39m=\u001b[39mstep,\n\u001b[0;32m   <a href='file:///c%3A/Users/dlc90/anaconda3/envs/tensorflow/lib/site-packages/keras/engine/training.py?line=1380'>1381</a>\u001b[0m     batch_size\u001b[39m=\u001b[39mbatch_size,\n\u001b[0;32m   <a href='file:///c%3A/Users/dlc90/anaconda3/envs/tensorflow/lib/site-packages/keras/engine/training.py?line=1381'>1382</a>\u001b[0m     _r\u001b[39m=\u001b[39m\u001b[39m1\u001b[39m):\n\u001b[0;32m   <a href='file:///c%3A/Users/dlc90/anaconda3/envs/tensorflow/lib/site-packages/keras/engine/training.py?line=1382'>1383</a>\u001b[0m   callbacks\u001b[39m.\u001b[39mon_train_batch_begin(step)\n\u001b[1;32m-> <a href='file:///c%3A/Users/dlc90/anaconda3/envs/tensorflow/lib/site-packages/keras/engine/training.py?line=1383'>1384</a>\u001b[0m   tmp_logs \u001b[39m=\u001b[39m \u001b[39mself\u001b[39;49m\u001b[39m.\u001b[39;49mtrain_function(iterator)\n\u001b[0;32m   <a href='file:///c%3A/Users/dlc90/anaconda3/envs/tensorflow/lib/site-packages/keras/engine/training.py?line=1384'>1385</a>\u001b[0m   \u001b[39mif\u001b[39;00m data_handler\u001b[39m.\u001b[39mshould_sync:\n\u001b[0;32m   <a href='file:///c%3A/Users/dlc90/anaconda3/envs/tensorflow/lib/site-packages/keras/engine/training.py?line=1385'>1386</a>\u001b[0m     context\u001b[39m.\u001b[39masync_wait()\n",
      "File \u001b[1;32m~\\anaconda3\\envs\\tensorflow\\lib\\site-packages\\tensorflow\\python\\util\\traceback_utils.py:150\u001b[0m, in \u001b[0;36mfilter_traceback.<locals>.error_handler\u001b[1;34m(*args, **kwargs)\u001b[0m\n\u001b[0;32m    <a href='file:///c%3A/Users/dlc90/anaconda3/envs/tensorflow/lib/site-packages/tensorflow/python/util/traceback_utils.py?line=147'>148</a>\u001b[0m filtered_tb \u001b[39m=\u001b[39m \u001b[39mNone\u001b[39;00m\n\u001b[0;32m    <a href='file:///c%3A/Users/dlc90/anaconda3/envs/tensorflow/lib/site-packages/tensorflow/python/util/traceback_utils.py?line=148'>149</a>\u001b[0m \u001b[39mtry\u001b[39;00m:\n\u001b[1;32m--> <a href='file:///c%3A/Users/dlc90/anaconda3/envs/tensorflow/lib/site-packages/tensorflow/python/util/traceback_utils.py?line=149'>150</a>\u001b[0m   \u001b[39mreturn\u001b[39;00m fn(\u001b[39m*\u001b[39margs, \u001b[39m*\u001b[39m\u001b[39m*\u001b[39mkwargs)\n\u001b[0;32m    <a href='file:///c%3A/Users/dlc90/anaconda3/envs/tensorflow/lib/site-packages/tensorflow/python/util/traceback_utils.py?line=150'>151</a>\u001b[0m \u001b[39mexcept\u001b[39;00m \u001b[39mException\u001b[39;00m \u001b[39mas\u001b[39;00m e:\n\u001b[0;32m    <a href='file:///c%3A/Users/dlc90/anaconda3/envs/tensorflow/lib/site-packages/tensorflow/python/util/traceback_utils.py?line=151'>152</a>\u001b[0m   filtered_tb \u001b[39m=\u001b[39m _process_traceback_frames(e\u001b[39m.\u001b[39m__traceback__)\n",
      "File \u001b[1;32m~\\anaconda3\\envs\\tensorflow\\lib\\site-packages\\tensorflow\\python\\eager\\def_function.py:915\u001b[0m, in \u001b[0;36mFunction.__call__\u001b[1;34m(self, *args, **kwds)\u001b[0m\n\u001b[0;32m    <a href='file:///c%3A/Users/dlc90/anaconda3/envs/tensorflow/lib/site-packages/tensorflow/python/eager/def_function.py?line=911'>912</a>\u001b[0m compiler \u001b[39m=\u001b[39m \u001b[39m\"\u001b[39m\u001b[39mxla\u001b[39m\u001b[39m\"\u001b[39m \u001b[39mif\u001b[39;00m \u001b[39mself\u001b[39m\u001b[39m.\u001b[39m_jit_compile \u001b[39melse\u001b[39;00m \u001b[39m\"\u001b[39m\u001b[39mnonXla\u001b[39m\u001b[39m\"\u001b[39m\n\u001b[0;32m    <a href='file:///c%3A/Users/dlc90/anaconda3/envs/tensorflow/lib/site-packages/tensorflow/python/eager/def_function.py?line=913'>914</a>\u001b[0m \u001b[39mwith\u001b[39;00m OptionalXlaContext(\u001b[39mself\u001b[39m\u001b[39m.\u001b[39m_jit_compile):\n\u001b[1;32m--> <a href='file:///c%3A/Users/dlc90/anaconda3/envs/tensorflow/lib/site-packages/tensorflow/python/eager/def_function.py?line=914'>915</a>\u001b[0m   result \u001b[39m=\u001b[39m \u001b[39mself\u001b[39m\u001b[39m.\u001b[39m_call(\u001b[39m*\u001b[39margs, \u001b[39m*\u001b[39m\u001b[39m*\u001b[39mkwds)\n\u001b[0;32m    <a href='file:///c%3A/Users/dlc90/anaconda3/envs/tensorflow/lib/site-packages/tensorflow/python/eager/def_function.py?line=916'>917</a>\u001b[0m new_tracing_count \u001b[39m=\u001b[39m \u001b[39mself\u001b[39m\u001b[39m.\u001b[39mexperimental_get_tracing_count()\n\u001b[0;32m    <a href='file:///c%3A/Users/dlc90/anaconda3/envs/tensorflow/lib/site-packages/tensorflow/python/eager/def_function.py?line=917'>918</a>\u001b[0m without_tracing \u001b[39m=\u001b[39m (tracing_count \u001b[39m==\u001b[39m new_tracing_count)\n",
      "File \u001b[1;32m~\\anaconda3\\envs\\tensorflow\\lib\\site-packages\\tensorflow\\python\\eager\\def_function.py:947\u001b[0m, in \u001b[0;36mFunction._call\u001b[1;34m(self, *args, **kwds)\u001b[0m\n\u001b[0;32m    <a href='file:///c%3A/Users/dlc90/anaconda3/envs/tensorflow/lib/site-packages/tensorflow/python/eager/def_function.py?line=943'>944</a>\u001b[0m   \u001b[39mself\u001b[39m\u001b[39m.\u001b[39m_lock\u001b[39m.\u001b[39mrelease()\n\u001b[0;32m    <a href='file:///c%3A/Users/dlc90/anaconda3/envs/tensorflow/lib/site-packages/tensorflow/python/eager/def_function.py?line=944'>945</a>\u001b[0m   \u001b[39m# In this case we have created variables on the first call, so we run the\u001b[39;00m\n\u001b[0;32m    <a href='file:///c%3A/Users/dlc90/anaconda3/envs/tensorflow/lib/site-packages/tensorflow/python/eager/def_function.py?line=945'>946</a>\u001b[0m   \u001b[39m# defunned version which is guaranteed to never create variables.\u001b[39;00m\n\u001b[1;32m--> <a href='file:///c%3A/Users/dlc90/anaconda3/envs/tensorflow/lib/site-packages/tensorflow/python/eager/def_function.py?line=946'>947</a>\u001b[0m   \u001b[39mreturn\u001b[39;00m \u001b[39mself\u001b[39m\u001b[39m.\u001b[39m_stateless_fn(\u001b[39m*\u001b[39margs, \u001b[39m*\u001b[39m\u001b[39m*\u001b[39mkwds)  \u001b[39m# pylint: disable=not-callable\u001b[39;00m\n\u001b[0;32m    <a href='file:///c%3A/Users/dlc90/anaconda3/envs/tensorflow/lib/site-packages/tensorflow/python/eager/def_function.py?line=947'>948</a>\u001b[0m \u001b[39melif\u001b[39;00m \u001b[39mself\u001b[39m\u001b[39m.\u001b[39m_stateful_fn \u001b[39mis\u001b[39;00m \u001b[39mnot\u001b[39;00m \u001b[39mNone\u001b[39;00m:\n\u001b[0;32m    <a href='file:///c%3A/Users/dlc90/anaconda3/envs/tensorflow/lib/site-packages/tensorflow/python/eager/def_function.py?line=948'>949</a>\u001b[0m   \u001b[39m# Release the lock early so that multiple threads can perform the call\u001b[39;00m\n\u001b[0;32m    <a href='file:///c%3A/Users/dlc90/anaconda3/envs/tensorflow/lib/site-packages/tensorflow/python/eager/def_function.py?line=949'>950</a>\u001b[0m   \u001b[39m# in parallel.\u001b[39;00m\n\u001b[0;32m    <a href='file:///c%3A/Users/dlc90/anaconda3/envs/tensorflow/lib/site-packages/tensorflow/python/eager/def_function.py?line=950'>951</a>\u001b[0m   \u001b[39mself\u001b[39m\u001b[39m.\u001b[39m_lock\u001b[39m.\u001b[39mrelease()\n",
      "File \u001b[1;32m~\\anaconda3\\envs\\tensorflow\\lib\\site-packages\\tensorflow\\python\\eager\\function.py:2956\u001b[0m, in \u001b[0;36mFunction.__call__\u001b[1;34m(self, *args, **kwargs)\u001b[0m\n\u001b[0;32m   <a href='file:///c%3A/Users/dlc90/anaconda3/envs/tensorflow/lib/site-packages/tensorflow/python/eager/function.py?line=2952'>2953</a>\u001b[0m \u001b[39mwith\u001b[39;00m \u001b[39mself\u001b[39m\u001b[39m.\u001b[39m_lock:\n\u001b[0;32m   <a href='file:///c%3A/Users/dlc90/anaconda3/envs/tensorflow/lib/site-packages/tensorflow/python/eager/function.py?line=2953'>2954</a>\u001b[0m   (graph_function,\n\u001b[0;32m   <a href='file:///c%3A/Users/dlc90/anaconda3/envs/tensorflow/lib/site-packages/tensorflow/python/eager/function.py?line=2954'>2955</a>\u001b[0m    filtered_flat_args) \u001b[39m=\u001b[39m \u001b[39mself\u001b[39m\u001b[39m.\u001b[39m_maybe_define_function(args, kwargs)\n\u001b[1;32m-> <a href='file:///c%3A/Users/dlc90/anaconda3/envs/tensorflow/lib/site-packages/tensorflow/python/eager/function.py?line=2955'>2956</a>\u001b[0m \u001b[39mreturn\u001b[39;00m graph_function\u001b[39m.\u001b[39;49m_call_flat(\n\u001b[0;32m   <a href='file:///c%3A/Users/dlc90/anaconda3/envs/tensorflow/lib/site-packages/tensorflow/python/eager/function.py?line=2956'>2957</a>\u001b[0m     filtered_flat_args, captured_inputs\u001b[39m=\u001b[39;49mgraph_function\u001b[39m.\u001b[39;49mcaptured_inputs)\n",
      "File \u001b[1;32m~\\anaconda3\\envs\\tensorflow\\lib\\site-packages\\tensorflow\\python\\eager\\function.py:1853\u001b[0m, in \u001b[0;36mConcreteFunction._call_flat\u001b[1;34m(self, args, captured_inputs, cancellation_manager)\u001b[0m\n\u001b[0;32m   <a href='file:///c%3A/Users/dlc90/anaconda3/envs/tensorflow/lib/site-packages/tensorflow/python/eager/function.py?line=1848'>1849</a>\u001b[0m possible_gradient_type \u001b[39m=\u001b[39m gradients_util\u001b[39m.\u001b[39mPossibleTapeGradientTypes(args)\n\u001b[0;32m   <a href='file:///c%3A/Users/dlc90/anaconda3/envs/tensorflow/lib/site-packages/tensorflow/python/eager/function.py?line=1849'>1850</a>\u001b[0m \u001b[39mif\u001b[39;00m (possible_gradient_type \u001b[39m==\u001b[39m gradients_util\u001b[39m.\u001b[39mPOSSIBLE_GRADIENT_TYPES_NONE\n\u001b[0;32m   <a href='file:///c%3A/Users/dlc90/anaconda3/envs/tensorflow/lib/site-packages/tensorflow/python/eager/function.py?line=1850'>1851</a>\u001b[0m     \u001b[39mand\u001b[39;00m executing_eagerly):\n\u001b[0;32m   <a href='file:///c%3A/Users/dlc90/anaconda3/envs/tensorflow/lib/site-packages/tensorflow/python/eager/function.py?line=1851'>1852</a>\u001b[0m   \u001b[39m# No tape is watching; skip to running the function.\u001b[39;00m\n\u001b[1;32m-> <a href='file:///c%3A/Users/dlc90/anaconda3/envs/tensorflow/lib/site-packages/tensorflow/python/eager/function.py?line=1852'>1853</a>\u001b[0m   \u001b[39mreturn\u001b[39;00m \u001b[39mself\u001b[39m\u001b[39m.\u001b[39m_build_call_outputs(\u001b[39mself\u001b[39;49m\u001b[39m.\u001b[39;49m_inference_function\u001b[39m.\u001b[39;49mcall(\n\u001b[0;32m   <a href='file:///c%3A/Users/dlc90/anaconda3/envs/tensorflow/lib/site-packages/tensorflow/python/eager/function.py?line=1853'>1854</a>\u001b[0m       ctx, args, cancellation_manager\u001b[39m=\u001b[39;49mcancellation_manager))\n\u001b[0;32m   <a href='file:///c%3A/Users/dlc90/anaconda3/envs/tensorflow/lib/site-packages/tensorflow/python/eager/function.py?line=1854'>1855</a>\u001b[0m forward_backward \u001b[39m=\u001b[39m \u001b[39mself\u001b[39m\u001b[39m.\u001b[39m_select_forward_and_backward_functions(\n\u001b[0;32m   <a href='file:///c%3A/Users/dlc90/anaconda3/envs/tensorflow/lib/site-packages/tensorflow/python/eager/function.py?line=1855'>1856</a>\u001b[0m     args,\n\u001b[0;32m   <a href='file:///c%3A/Users/dlc90/anaconda3/envs/tensorflow/lib/site-packages/tensorflow/python/eager/function.py?line=1856'>1857</a>\u001b[0m     possible_gradient_type,\n\u001b[0;32m   <a href='file:///c%3A/Users/dlc90/anaconda3/envs/tensorflow/lib/site-packages/tensorflow/python/eager/function.py?line=1857'>1858</a>\u001b[0m     executing_eagerly)\n\u001b[0;32m   <a href='file:///c%3A/Users/dlc90/anaconda3/envs/tensorflow/lib/site-packages/tensorflow/python/eager/function.py?line=1858'>1859</a>\u001b[0m forward_function, args_with_tangents \u001b[39m=\u001b[39m forward_backward\u001b[39m.\u001b[39mforward()\n",
      "File \u001b[1;32m~\\anaconda3\\envs\\tensorflow\\lib\\site-packages\\tensorflow\\python\\eager\\function.py:499\u001b[0m, in \u001b[0;36m_EagerDefinedFunction.call\u001b[1;34m(self, ctx, args, cancellation_manager)\u001b[0m\n\u001b[0;32m    <a href='file:///c%3A/Users/dlc90/anaconda3/envs/tensorflow/lib/site-packages/tensorflow/python/eager/function.py?line=496'>497</a>\u001b[0m \u001b[39mwith\u001b[39;00m _InterpolateFunctionError(\u001b[39mself\u001b[39m):\n\u001b[0;32m    <a href='file:///c%3A/Users/dlc90/anaconda3/envs/tensorflow/lib/site-packages/tensorflow/python/eager/function.py?line=497'>498</a>\u001b[0m   \u001b[39mif\u001b[39;00m cancellation_manager \u001b[39mis\u001b[39;00m \u001b[39mNone\u001b[39;00m:\n\u001b[1;32m--> <a href='file:///c%3A/Users/dlc90/anaconda3/envs/tensorflow/lib/site-packages/tensorflow/python/eager/function.py?line=498'>499</a>\u001b[0m     outputs \u001b[39m=\u001b[39m execute\u001b[39m.\u001b[39;49mexecute(\n\u001b[0;32m    <a href='file:///c%3A/Users/dlc90/anaconda3/envs/tensorflow/lib/site-packages/tensorflow/python/eager/function.py?line=499'>500</a>\u001b[0m         \u001b[39mstr\u001b[39;49m(\u001b[39mself\u001b[39;49m\u001b[39m.\u001b[39;49msignature\u001b[39m.\u001b[39;49mname),\n\u001b[0;32m    <a href='file:///c%3A/Users/dlc90/anaconda3/envs/tensorflow/lib/site-packages/tensorflow/python/eager/function.py?line=500'>501</a>\u001b[0m         num_outputs\u001b[39m=\u001b[39;49m\u001b[39mself\u001b[39;49m\u001b[39m.\u001b[39;49m_num_outputs,\n\u001b[0;32m    <a href='file:///c%3A/Users/dlc90/anaconda3/envs/tensorflow/lib/site-packages/tensorflow/python/eager/function.py?line=501'>502</a>\u001b[0m         inputs\u001b[39m=\u001b[39;49margs,\n\u001b[0;32m    <a href='file:///c%3A/Users/dlc90/anaconda3/envs/tensorflow/lib/site-packages/tensorflow/python/eager/function.py?line=502'>503</a>\u001b[0m         attrs\u001b[39m=\u001b[39;49mattrs,\n\u001b[0;32m    <a href='file:///c%3A/Users/dlc90/anaconda3/envs/tensorflow/lib/site-packages/tensorflow/python/eager/function.py?line=503'>504</a>\u001b[0m         ctx\u001b[39m=\u001b[39;49mctx)\n\u001b[0;32m    <a href='file:///c%3A/Users/dlc90/anaconda3/envs/tensorflow/lib/site-packages/tensorflow/python/eager/function.py?line=504'>505</a>\u001b[0m   \u001b[39melse\u001b[39;00m:\n\u001b[0;32m    <a href='file:///c%3A/Users/dlc90/anaconda3/envs/tensorflow/lib/site-packages/tensorflow/python/eager/function.py?line=505'>506</a>\u001b[0m     outputs \u001b[39m=\u001b[39m execute\u001b[39m.\u001b[39mexecute_with_cancellation(\n\u001b[0;32m    <a href='file:///c%3A/Users/dlc90/anaconda3/envs/tensorflow/lib/site-packages/tensorflow/python/eager/function.py?line=506'>507</a>\u001b[0m         \u001b[39mstr\u001b[39m(\u001b[39mself\u001b[39m\u001b[39m.\u001b[39msignature\u001b[39m.\u001b[39mname),\n\u001b[0;32m    <a href='file:///c%3A/Users/dlc90/anaconda3/envs/tensorflow/lib/site-packages/tensorflow/python/eager/function.py?line=507'>508</a>\u001b[0m         num_outputs\u001b[39m=\u001b[39m\u001b[39mself\u001b[39m\u001b[39m.\u001b[39m_num_outputs,\n\u001b[1;32m   (...)\u001b[0m\n\u001b[0;32m    <a href='file:///c%3A/Users/dlc90/anaconda3/envs/tensorflow/lib/site-packages/tensorflow/python/eager/function.py?line=510'>511</a>\u001b[0m         ctx\u001b[39m=\u001b[39mctx,\n\u001b[0;32m    <a href='file:///c%3A/Users/dlc90/anaconda3/envs/tensorflow/lib/site-packages/tensorflow/python/eager/function.py?line=511'>512</a>\u001b[0m         cancellation_manager\u001b[39m=\u001b[39mcancellation_manager)\n",
      "File \u001b[1;32m~\\anaconda3\\envs\\tensorflow\\lib\\site-packages\\tensorflow\\python\\eager\\execute.py:54\u001b[0m, in \u001b[0;36mquick_execute\u001b[1;34m(op_name, num_outputs, inputs, attrs, ctx, name)\u001b[0m\n\u001b[0;32m     <a href='file:///c%3A/Users/dlc90/anaconda3/envs/tensorflow/lib/site-packages/tensorflow/python/eager/execute.py?line=51'>52</a>\u001b[0m \u001b[39mtry\u001b[39;00m:\n\u001b[0;32m     <a href='file:///c%3A/Users/dlc90/anaconda3/envs/tensorflow/lib/site-packages/tensorflow/python/eager/execute.py?line=52'>53</a>\u001b[0m   ctx\u001b[39m.\u001b[39mensure_initialized()\n\u001b[1;32m---> <a href='file:///c%3A/Users/dlc90/anaconda3/envs/tensorflow/lib/site-packages/tensorflow/python/eager/execute.py?line=53'>54</a>\u001b[0m   tensors \u001b[39m=\u001b[39m pywrap_tfe\u001b[39m.\u001b[39;49mTFE_Py_Execute(ctx\u001b[39m.\u001b[39;49m_handle, device_name, op_name,\n\u001b[0;32m     <a href='file:///c%3A/Users/dlc90/anaconda3/envs/tensorflow/lib/site-packages/tensorflow/python/eager/execute.py?line=54'>55</a>\u001b[0m                                       inputs, attrs, num_outputs)\n\u001b[0;32m     <a href='file:///c%3A/Users/dlc90/anaconda3/envs/tensorflow/lib/site-packages/tensorflow/python/eager/execute.py?line=55'>56</a>\u001b[0m \u001b[39mexcept\u001b[39;00m core\u001b[39m.\u001b[39m_NotOkStatusException \u001b[39mas\u001b[39;00m e:\n\u001b[0;32m     <a href='file:///c%3A/Users/dlc90/anaconda3/envs/tensorflow/lib/site-packages/tensorflow/python/eager/execute.py?line=56'>57</a>\u001b[0m   \u001b[39mif\u001b[39;00m name \u001b[39mis\u001b[39;00m \u001b[39mnot\u001b[39;00m \u001b[39mNone\u001b[39;00m:\n",
      "\u001b[1;31mKeyboardInterrupt\u001b[0m: "
     ]
    }
   ],
   "source": [
    "# early_stop = EarlyStopping(monitor='val_loss', min_delta=0, patience=3, verbose=1, mode='auto')\n",
    "\n",
    "history = model2.fit(Z_train, y_train,\n",
    "                    validation_data = (Z_test, y_test),\n",
    "                    epochs = 10,\n",
    "                    batch_size = 32,\n",
    "                    verbose = 1)"
   ]
  },
  {
   "cell_type": "code",
   "execution_count": null,
   "id": "3db4b14f-35ae-48cf-9072-77c5410c0aac",
   "metadata": {},
   "outputs": [],
   "source": [
    "model3 = Sequential()\n",
    "model3.add(Dense(128,\n",
    "                input_shape = (1400,),\n",
    "                activation = 'relu'))\n",
    "model3.add(Dropout(0.2))\n",
    "model3.add(Dense(64, activation = 'relu'))\n",
    "model3.add(Dropout(0.2))\n",
    "model3.add(Dense(32, activation = 'relu'))\n",
    "model3.add(Dense(16, activation = 'relu'))\n",
    "\n",
    "model3.add(Dense(10, activation = 'softmax'))\n",
    "\n",
    "model3.compile(loss = 'categorical_crossentropy',\n",
    "              optimizer = 'adam',\n",
    "              metrics = ['acc'])"
   ]
  },
  {
   "cell_type": "code",
   "execution_count": null,
   "id": "2d0cef96-ecee-401a-996e-b41cefbbcbb7",
   "metadata": {},
   "outputs": [
    {
     "name": "stdout",
     "output_type": "stream",
     "text": [
      "Epoch 1/30\n",
      "1961/1961 [==============================] - 6s 3ms/step - loss: 1.2344 - acc: 0.5182 - val_loss: 1.0203 - val_acc: 0.6002\n",
      "Epoch 2/30\n",
      "1961/1961 [==============================] - 6s 3ms/step - loss: 1.0075 - acc: 0.6015 - val_loss: 0.9258 - val_acc: 0.6306\n",
      "Epoch 3/30\n",
      "1961/1961 [==============================] - 6s 3ms/step - loss: 0.9295 - acc: 0.6278 - val_loss: 0.8752 - val_acc: 0.6455\n",
      "Epoch 4/30\n",
      "1961/1961 [==============================] - 6s 3ms/step - loss: 0.8820 - acc: 0.6435 - val_loss: 0.8381 - val_acc: 0.6583\n",
      "Epoch 5/30\n",
      "1961/1961 [==============================] - 7s 3ms/step - loss: 0.8450 - acc: 0.6541 - val_loss: 0.8060 - val_acc: 0.6700\n",
      "Epoch 6/30\n",
      "1961/1961 [==============================] - 7s 3ms/step - loss: 0.8172 - acc: 0.6629 - val_loss: 0.7891 - val_acc: 0.6740\n",
      "Epoch 7/30\n",
      "1961/1961 [==============================] - 7s 4ms/step - loss: 0.7930 - acc: 0.6709 - val_loss: 0.7722 - val_acc: 0.6796\n",
      "Epoch 8/30\n",
      "1961/1961 [==============================] - 7s 4ms/step - loss: 0.7747 - acc: 0.6765 - val_loss: 0.7587 - val_acc: 0.6840\n",
      "Epoch 9/30\n",
      "1961/1961 [==============================] - 7s 4ms/step - loss: 0.7585 - acc: 0.6818 - val_loss: 0.7490 - val_acc: 0.6849\n",
      "Epoch 10/30\n",
      "1961/1961 [==============================] - 7s 4ms/step - loss: 0.7430 - acc: 0.6855 - val_loss: 0.7363 - val_acc: 0.6909\n",
      "Epoch 11/30\n",
      "1961/1961 [==============================] - 7s 3ms/step - loss: 0.7316 - acc: 0.6910 - val_loss: 0.7290 - val_acc: 0.6945\n",
      "Epoch 12/30\n",
      "1961/1961 [==============================] - 7s 3ms/step - loss: 0.7214 - acc: 0.6920 - val_loss: 0.7247 - val_acc: 0.6940\n",
      "Epoch 13/30\n",
      "1961/1961 [==============================] - 8s 4ms/step - loss: 0.7140 - acc: 0.6965 - val_loss: 0.7106 - val_acc: 0.6991\n",
      "Epoch 14/30\n",
      "1961/1961 [==============================] - 8s 4ms/step - loss: 0.7048 - acc: 0.6985 - val_loss: 0.7058 - val_acc: 0.7026\n",
      "Epoch 15/30\n",
      "1961/1961 [==============================] - 7s 4ms/step - loss: 0.6977 - acc: 0.7022 - val_loss: 0.7051 - val_acc: 0.6998\n",
      "Epoch 16/30\n",
      "1961/1961 [==============================] - 7s 4ms/step - loss: 0.6910 - acc: 0.7045 - val_loss: 0.6987 - val_acc: 0.7032\n",
      "Epoch 17/30\n",
      "1961/1961 [==============================] - 7s 4ms/step - loss: 0.6840 - acc: 0.7060 - val_loss: 0.7013 - val_acc: 0.7033\n",
      "Epoch 18/30\n",
      "1961/1961 [==============================] - 7s 4ms/step - loss: 0.6809 - acc: 0.7075 - val_loss: 0.6967 - val_acc: 0.7042\n",
      "Epoch 19/30\n",
      "1961/1961 [==============================] - 7s 4ms/step - loss: 0.6749 - acc: 0.7094 - val_loss: 0.6961 - val_acc: 0.7073\n",
      "Epoch 20/30\n",
      "1961/1961 [==============================] - 7s 3ms/step - loss: 0.6703 - acc: 0.7113 - val_loss: 0.6882 - val_acc: 0.7102\n",
      "Epoch 21/30\n",
      "1961/1961 [==============================] - 7s 4ms/step - loss: 0.6645 - acc: 0.7141 - val_loss: 0.6856 - val_acc: 0.7091\n",
      "Epoch 22/30\n",
      "1961/1961 [==============================] - 7s 4ms/step - loss: 0.6618 - acc: 0.7150 - val_loss: 0.6852 - val_acc: 0.7117\n",
      "Epoch 23/30\n",
      "1961/1961 [==============================] - 7s 3ms/step - loss: 0.6580 - acc: 0.7151 - val_loss: 0.6855 - val_acc: 0.7142\n",
      "Epoch 24/30\n",
      "1961/1961 [==============================] - 7s 3ms/step - loss: 0.6536 - acc: 0.7173 - val_loss: 0.6899 - val_acc: 0.7054\n",
      "Epoch 25/30\n",
      "1961/1961 [==============================] - 7s 4ms/step - loss: 0.6508 - acc: 0.7176 - val_loss: 0.6896 - val_acc: 0.7096\n",
      "Epoch 26/30\n",
      "1961/1961 [==============================] - 7s 3ms/step - loss: 0.6469 - acc: 0.7196 - val_loss: 0.6744 - val_acc: 0.7146\n",
      "Epoch 27/30\n",
      "1961/1961 [==============================] - 8s 4ms/step - loss: 0.6443 - acc: 0.7202 - val_loss: 0.6721 - val_acc: 0.7158\n",
      "Epoch 28/30\n",
      "1961/1961 [==============================] - 9s 5ms/step - loss: 0.6412 - acc: 0.7209 - val_loss: 0.6725 - val_acc: 0.7130\n",
      "Epoch 29/30\n",
      "1961/1961 [==============================] - 8s 4ms/step - loss: 0.6380 - acc: 0.7228 - val_loss: 0.6718 - val_acc: 0.7155\n",
      "Epoch 30/30\n",
      "1961/1961 [==============================] - 8s 4ms/step - loss: 0.6354 - acc: 0.7239 - val_loss: 0.6704 - val_acc: 0.7168\n"
     ]
    }
   ],
   "source": [
    "history = model3.fit(Z_train, y_train,\n",
    "                    validation_data = (Z_test, y_test),\n",
    "                    epochs = 30,\n",
    "                    batch_size = 64,\n",
    "                    verbose = 1)"
   ]
  },
  {
   "cell_type": "code",
   "execution_count": null,
   "id": "352c8e0a-6017-4eb9-b861-c2b8f99cef22",
   "metadata": {},
   "outputs": [],
   "source": [
    "model4 = Sequential()\n",
    "model4.add(Dense(128,\n",
    "                input_shape = (1400,),\n",
    "                activation = 'relu'))\n",
    "model4.add(Dropout(0.2))\n",
    "model4.add(Dense(64, activation = 'relu'))\n",
    "model4.add(Dropout(0.2))\n",
    "model4.add(Dense(32, activation = 'relu'))\n",
    "model4.add(Dense(16, activation = 'relu'))\n",
    "model4.add(Dense(16, activation = 'relu'))\n",
    "\n",
    "model4.add(Dense(10, activation = 'softmax'))\n",
    "\n",
    "model4.compile(loss = 'categorical_crossentropy',\n",
    "              optimizer = 'adam',\n",
    "              metrics = ['acc'])"
   ]
  },
  {
   "cell_type": "code",
   "execution_count": null,
   "id": "ae4bdf21-436c-455b-9615-c5587b7b2ade",
   "metadata": {},
   "outputs": [
    {
     "name": "stdout",
     "output_type": "stream",
     "text": [
      "Epoch 1/100\n",
      "981/981 [==============================] - 5s 5ms/step - loss: 1.2801 - acc: 0.5069 - val_loss: 1.0558 - val_acc: 0.5879\n",
      "Epoch 2/100\n",
      "981/981 [==============================] - 4s 4ms/step - loss: 1.0334 - acc: 0.5933 - val_loss: 0.9459 - val_acc: 0.6245\n",
      "Epoch 3/100\n",
      "981/981 [==============================] - 4s 5ms/step - loss: 0.9522 - acc: 0.6222 - val_loss: 0.8976 - val_acc: 0.6418\n",
      "Epoch 4/100\n",
      "981/981 [==============================] - 4s 4ms/step - loss: 0.9011 - acc: 0.6370 - val_loss: 0.8588 - val_acc: 0.6545\n",
      "Epoch 5/100\n",
      "981/981 [==============================] - 5s 5ms/step - loss: 0.8654 - acc: 0.6486 - val_loss: 0.8326 - val_acc: 0.6620\n",
      "Epoch 6/100\n",
      "981/981 [==============================] - 4s 5ms/step - loss: 0.8372 - acc: 0.6562 - val_loss: 0.8067 - val_acc: 0.6687\n",
      "Epoch 7/100\n",
      "981/981 [==============================] - 4s 4ms/step - loss: 0.8148 - acc: 0.6651 - val_loss: 0.7963 - val_acc: 0.6737\n",
      "Epoch 8/100\n",
      "981/981 [==============================] - 4s 4ms/step - loss: 0.7927 - acc: 0.6722 - val_loss: 0.7794 - val_acc: 0.6791\n",
      "Epoch 9/100\n",
      "981/981 [==============================] - 4s 5ms/step - loss: 0.7735 - acc: 0.6764 - val_loss: 0.7759 - val_acc: 0.6745\n",
      "Epoch 10/100\n",
      "981/981 [==============================] - 5s 5ms/step - loss: 0.7624 - acc: 0.6797 - val_loss: 0.7576 - val_acc: 0.6849\n",
      "Epoch 11/100\n",
      "981/981 [==============================] - 5s 5ms/step - loss: 0.7477 - acc: 0.6860 - val_loss: 0.7532 - val_acc: 0.6871\n",
      "Epoch 12/100\n",
      "981/981 [==============================] - 4s 5ms/step - loss: 0.7360 - acc: 0.6889 - val_loss: 0.7479 - val_acc: 0.6877\n",
      "Epoch 13/100\n",
      "981/981 [==============================] - 5s 5ms/step - loss: 0.7253 - acc: 0.6927 - val_loss: 0.7399 - val_acc: 0.6932\n",
      "Epoch 14/100\n",
      "981/981 [==============================] - 4s 4ms/step - loss: 0.7146 - acc: 0.6952 - val_loss: 0.7267 - val_acc: 0.6965\n",
      "Epoch 15/100\n",
      "981/981 [==============================] - 4s 5ms/step - loss: 0.7076 - acc: 0.6979 - val_loss: 0.7108 - val_acc: 0.7005\n",
      "Epoch 16/100\n",
      "981/981 [==============================] - 5s 5ms/step - loss: 0.6993 - acc: 0.7012 - val_loss: 0.7163 - val_acc: 0.6996\n",
      "Epoch 17/100\n",
      "981/981 [==============================] - 5s 5ms/step - loss: 0.6926 - acc: 0.7036 - val_loss: 0.7010 - val_acc: 0.7053\n",
      "Epoch 18/100\n",
      "981/981 [==============================] - 5s 5ms/step - loss: 0.6832 - acc: 0.7062 - val_loss: 0.7068 - val_acc: 0.7038\n",
      "Epoch 19/100\n",
      "981/981 [==============================] - 5s 5ms/step - loss: 0.6779 - acc: 0.7078 - val_loss: 0.6972 - val_acc: 0.7071\n",
      "Epoch 20/100\n",
      "981/981 [==============================] - 5s 5ms/step - loss: 0.6749 - acc: 0.7098 - val_loss: 0.6927 - val_acc: 0.7085\n",
      "Epoch 21/100\n",
      "981/981 [==============================] - 4s 5ms/step - loss: 0.6695 - acc: 0.7114 - val_loss: 0.6837 - val_acc: 0.7088\n",
      "Epoch 22/100\n",
      "981/981 [==============================] - 4s 5ms/step - loss: 0.6619 - acc: 0.7136 - val_loss: 0.6852 - val_acc: 0.7095\n",
      "Epoch 23/100\n",
      "981/981 [==============================] - 5s 5ms/step - loss: 0.6587 - acc: 0.7144 - val_loss: 0.6830 - val_acc: 0.7141\n",
      "Epoch 24/100\n",
      "981/981 [==============================] - 4s 5ms/step - loss: 0.6538 - acc: 0.7167 - val_loss: 0.6753 - val_acc: 0.7155\n",
      "Epoch 25/100\n",
      "981/981 [==============================] - 5s 5ms/step - loss: 0.6504 - acc: 0.7176 - val_loss: 0.6693 - val_acc: 0.7132\n",
      "Epoch 26/100\n",
      "981/981 [==============================] - 5s 5ms/step - loss: 0.6464 - acc: 0.7202 - val_loss: 0.6820 - val_acc: 0.7110\n",
      "Epoch 27/100\n",
      "981/981 [==============================] - 5s 5ms/step - loss: 0.6429 - acc: 0.7202 - val_loss: 0.6782 - val_acc: 0.7166\n",
      "Epoch 28/100\n",
      "981/981 [==============================] - 5s 5ms/step - loss: 0.6406 - acc: 0.7222 - val_loss: 0.6694 - val_acc: 0.7172\n",
      "Epoch 29/100\n",
      "981/981 [==============================] - 5s 5ms/step - loss: 0.6384 - acc: 0.7217 - val_loss: 0.6714 - val_acc: 0.7160\n",
      "Epoch 30/100\n",
      "981/981 [==============================] - 5s 5ms/step - loss: 0.6347 - acc: 0.7232 - val_loss: 0.6744 - val_acc: 0.7168\n",
      "Epoch 31/100\n",
      "981/981 [==============================] - 5s 5ms/step - loss: 0.6321 - acc: 0.7241 - val_loss: 0.6625 - val_acc: 0.7223\n",
      "Epoch 32/100\n",
      "981/981 [==============================] - 5s 5ms/step - loss: 0.6299 - acc: 0.7254 - val_loss: 0.6706 - val_acc: 0.7191\n",
      "Epoch 33/100\n",
      "981/981 [==============================] - 5s 5ms/step - loss: 0.6264 - acc: 0.7265 - val_loss: 0.6728 - val_acc: 0.7200\n",
      "Epoch 34/100\n",
      "981/981 [==============================] - 4s 5ms/step - loss: 0.6241 - acc: 0.7262 - val_loss: 0.6682 - val_acc: 0.7189\n",
      "Epoch 35/100\n",
      "981/981 [==============================] - 4s 5ms/step - loss: 0.6204 - acc: 0.7286 - val_loss: 0.6640 - val_acc: 0.7239\n",
      "Epoch 36/100\n",
      "981/981 [==============================] - 5s 5ms/step - loss: 0.6169 - acc: 0.7316 - val_loss: 0.6675 - val_acc: 0.7215\n",
      "Epoch 37/100\n",
      "981/981 [==============================] - 5s 5ms/step - loss: 0.6156 - acc: 0.7296 - val_loss: 0.6582 - val_acc: 0.7221\n",
      "Epoch 38/100\n",
      "981/981 [==============================] - 5s 5ms/step - loss: 0.6135 - acc: 0.7299 - val_loss: 0.6691 - val_acc: 0.7200\n",
      "Epoch 39/100\n",
      "981/981 [==============================] - 5s 5ms/step - loss: 0.6111 - acc: 0.7324 - val_loss: 0.6631 - val_acc: 0.7226\n",
      "Epoch 40/100\n",
      "981/981 [==============================] - 5s 5ms/step - loss: 0.6089 - acc: 0.7320 - val_loss: 0.6544 - val_acc: 0.7228\n",
      "Epoch 41/100\n",
      "981/981 [==============================] - 5s 5ms/step - loss: 0.6077 - acc: 0.7334 - val_loss: 0.6570 - val_acc: 0.7229\n",
      "Epoch 42/100\n",
      "981/981 [==============================] - 5s 5ms/step - loss: 0.6054 - acc: 0.7341 - val_loss: 0.6653 - val_acc: 0.7218\n",
      "Epoch 43/100\n",
      "981/981 [==============================] - 5s 5ms/step - loss: 0.6039 - acc: 0.7343 - val_loss: 0.6575 - val_acc: 0.7246\n",
      "Epoch 44/100\n",
      "981/981 [==============================] - 5s 5ms/step - loss: 0.5996 - acc: 0.7369 - val_loss: 0.6628 - val_acc: 0.7261\n",
      "Epoch 45/100\n",
      "981/981 [==============================] - 5s 5ms/step - loss: 0.6011 - acc: 0.7364 - val_loss: 0.6672 - val_acc: 0.7250\n",
      "Epoch 46/100\n",
      "981/981 [==============================] - 5s 5ms/step - loss: 0.5980 - acc: 0.7365 - val_loss: 0.6631 - val_acc: 0.7289\n",
      "Epoch 47/100\n",
      "981/981 [==============================] - 5s 5ms/step - loss: 0.5994 - acc: 0.7366 - val_loss: 0.6552 - val_acc: 0.7245\n",
      "Epoch 48/100\n",
      "981/981 [==============================] - 5s 5ms/step - loss: 0.5952 - acc: 0.7376 - val_loss: 0.6660 - val_acc: 0.7234\n",
      "Epoch 49/100\n",
      "981/981 [==============================] - 5s 5ms/step - loss: 0.5944 - acc: 0.7380 - val_loss: 0.6612 - val_acc: 0.7275\n",
      "Epoch 50/100\n",
      "981/981 [==============================] - 5s 5ms/step - loss: 0.5922 - acc: 0.7405 - val_loss: 0.6651 - val_acc: 0.7256\n",
      "Epoch 51/100\n",
      "981/981 [==============================] - 5s 5ms/step - loss: 0.5911 - acc: 0.7381 - val_loss: 0.6691 - val_acc: 0.7256\n",
      "Epoch 52/100\n",
      "981/981 [==============================] - 5s 5ms/step - loss: 0.5890 - acc: 0.7410 - val_loss: 0.6701 - val_acc: 0.7271\n",
      "Epoch 53/100\n",
      "981/981 [==============================] - 5s 5ms/step - loss: 0.5898 - acc: 0.7403 - val_loss: 0.6504 - val_acc: 0.7274\n",
      "Epoch 54/100\n",
      "981/981 [==============================] - 5s 5ms/step - loss: 0.5864 - acc: 0.7411 - val_loss: 0.6836 - val_acc: 0.7264\n",
      "Epoch 55/100\n",
      "981/981 [==============================] - 5s 5ms/step - loss: 0.5864 - acc: 0.7404 - val_loss: 0.6583 - val_acc: 0.7281\n",
      "Epoch 56/100\n",
      "981/981 [==============================] - 5s 5ms/step - loss: 0.5832 - acc: 0.7424 - val_loss: 0.6606 - val_acc: 0.7311\n",
      "Epoch 57/100\n",
      "981/981 [==============================] - 5s 5ms/step - loss: 0.5821 - acc: 0.7426 - val_loss: 0.6571 - val_acc: 0.7294\n",
      "Epoch 58/100\n",
      "981/981 [==============================] - 5s 5ms/step - loss: 0.5827 - acc: 0.7425 - val_loss: 0.6635 - val_acc: 0.7267\n",
      "Epoch 59/100\n",
      "981/981 [==============================] - 5s 5ms/step - loss: 0.5811 - acc: 0.7430 - val_loss: 0.6625 - val_acc: 0.7278\n",
      "Epoch 60/100\n",
      "981/981 [==============================] - 5s 5ms/step - loss: 0.5788 - acc: 0.7437 - val_loss: 0.6566 - val_acc: 0.7311\n",
      "Epoch 61/100\n",
      "981/981 [==============================] - 5s 5ms/step - loss: 0.5783 - acc: 0.7439 - val_loss: 0.6572 - val_acc: 0.7305\n",
      "Epoch 62/100\n",
      "981/981 [==============================] - 5s 5ms/step - loss: 0.5746 - acc: 0.7458 - val_loss: 0.6630 - val_acc: 0.7284\n",
      "Epoch 63/100\n",
      "981/981 [==============================] - 5s 5ms/step - loss: 0.5765 - acc: 0.7460 - val_loss: 0.6519 - val_acc: 0.7312\n",
      "Epoch 64/100\n",
      "981/981 [==============================] - 5s 5ms/step - loss: 0.5747 - acc: 0.7465 - val_loss: 0.6515 - val_acc: 0.7315\n",
      "Epoch 65/100\n",
      "981/981 [==============================] - 5s 5ms/step - loss: 0.5724 - acc: 0.7464 - val_loss: 0.6592 - val_acc: 0.7332\n",
      "Epoch 66/100\n",
      "981/981 [==============================] - 5s 5ms/step - loss: 0.5716 - acc: 0.7471 - val_loss: 0.6590 - val_acc: 0.7305\n",
      "Epoch 67/100\n",
      "981/981 [==============================] - 5s 5ms/step - loss: 0.5703 - acc: 0.7469 - val_loss: 0.6484 - val_acc: 0.7335\n",
      "Epoch 68/100\n",
      "981/981 [==============================] - 5s 5ms/step - loss: 0.5685 - acc: 0.7485 - val_loss: 0.6584 - val_acc: 0.7313\n",
      "Epoch 69/100\n",
      "981/981 [==============================] - 5s 5ms/step - loss: 0.5679 - acc: 0.7488 - val_loss: 0.6684 - val_acc: 0.7327\n",
      "Epoch 70/100\n",
      "981/981 [==============================] - 5s 5ms/step - loss: 0.5680 - acc: 0.7479 - val_loss: 0.6549 - val_acc: 0.7312\n",
      "Epoch 71/100\n",
      "981/981 [==============================] - 5s 5ms/step - loss: 0.5670 - acc: 0.7495 - val_loss: 0.6426 - val_acc: 0.7347\n",
      "Epoch 72/100\n",
      "981/981 [==============================] - 5s 5ms/step - loss: 0.5649 - acc: 0.7496 - val_loss: 0.6660 - val_acc: 0.7342\n",
      "Epoch 73/100\n",
      "981/981 [==============================] - 5s 5ms/step - loss: 0.5651 - acc: 0.7492 - val_loss: 0.6531 - val_acc: 0.7309\n",
      "Epoch 74/100\n",
      "981/981 [==============================] - 5s 5ms/step - loss: 0.5650 - acc: 0.7505 - val_loss: 0.6542 - val_acc: 0.7317\n",
      "Epoch 75/100\n",
      "981/981 [==============================] - 5s 5ms/step - loss: 0.5622 - acc: 0.7512 - val_loss: 0.6713 - val_acc: 0.7361\n",
      "Epoch 76/100\n",
      "981/981 [==============================] - 5s 5ms/step - loss: 0.5604 - acc: 0.7512 - val_loss: 0.6289 - val_acc: 0.7376\n",
      "Epoch 77/100\n",
      "981/981 [==============================] - 5s 5ms/step - loss: 0.5608 - acc: 0.7504 - val_loss: 0.6460 - val_acc: 0.7347\n",
      "Epoch 78/100\n",
      "981/981 [==============================] - 5s 5ms/step - loss: 0.5599 - acc: 0.7516 - val_loss: 0.6490 - val_acc: 0.7323\n",
      "Epoch 79/100\n",
      "981/981 [==============================] - 5s 5ms/step - loss: 0.5604 - acc: 0.7515 - val_loss: 0.6463 - val_acc: 0.7355\n",
      "Epoch 80/100\n",
      "981/981 [==============================] - 5s 5ms/step - loss: 0.5564 - acc: 0.7522 - val_loss: 0.6353 - val_acc: 0.7367\n",
      "Epoch 81/100\n",
      "981/981 [==============================] - 5s 5ms/step - loss: 0.5555 - acc: 0.7529 - val_loss: 0.6428 - val_acc: 0.7366\n",
      "Epoch 82/100\n",
      "981/981 [==============================] - 5s 5ms/step - loss: 0.5564 - acc: 0.7530 - val_loss: 0.6504 - val_acc: 0.7342\n",
      "Epoch 83/100\n",
      "981/981 [==============================] - 5s 5ms/step - loss: 0.5561 - acc: 0.7529 - val_loss: 0.6328 - val_acc: 0.7363\n",
      "Epoch 84/100\n",
      "981/981 [==============================] - 5s 5ms/step - loss: 0.5536 - acc: 0.7534 - val_loss: 0.6499 - val_acc: 0.7372\n",
      "Epoch 85/100\n",
      "981/981 [==============================] - 5s 5ms/step - loss: 0.5529 - acc: 0.7546 - val_loss: 0.6463 - val_acc: 0.7354\n",
      "Epoch 86/100\n",
      "981/981 [==============================] - 5s 5ms/step - loss: 0.5532 - acc: 0.7543 - val_loss: 0.6610 - val_acc: 0.7358\n",
      "Epoch 87/100\n",
      "981/981 [==============================] - 5s 5ms/step - loss: 0.5539 - acc: 0.7535 - val_loss: 0.6456 - val_acc: 0.7314\n",
      "Epoch 88/100\n",
      "981/981 [==============================] - 5s 5ms/step - loss: 0.5513 - acc: 0.7545 - val_loss: 0.6310 - val_acc: 0.7343\n",
      "Epoch 89/100\n",
      "981/981 [==============================] - 5s 5ms/step - loss: 0.5508 - acc: 0.7553 - val_loss: 0.6406 - val_acc: 0.7335\n",
      "Epoch 90/100\n",
      "981/981 [==============================] - 5s 5ms/step - loss: 0.5517 - acc: 0.7547 - val_loss: 0.6351 - val_acc: 0.7330\n",
      "Epoch 91/100\n",
      "981/981 [==============================] - 5s 5ms/step - loss: 0.5549 - acc: 0.7546 - val_loss: 0.6408 - val_acc: 0.7359\n",
      "Epoch 92/100\n",
      "981/981 [==============================] - 5s 5ms/step - loss: 0.5501 - acc: 0.7556 - val_loss: 0.6367 - val_acc: 0.7367\n",
      "Epoch 93/100\n",
      "981/981 [==============================] - 5s 5ms/step - loss: 0.5493 - acc: 0.7561 - val_loss: 0.6412 - val_acc: 0.7326\n",
      "Epoch 94/100\n",
      "981/981 [==============================] - 5s 5ms/step - loss: 0.5478 - acc: 0.7566 - val_loss: 0.6535 - val_acc: 0.7343\n",
      "Epoch 95/100\n",
      "981/981 [==============================] - 5s 5ms/step - loss: 0.5482 - acc: 0.7563 - val_loss: 0.6410 - val_acc: 0.7372\n",
      "Epoch 96/100\n",
      "981/981 [==============================] - 5s 5ms/step - loss: 0.5464 - acc: 0.7567 - val_loss: 0.6486 - val_acc: 0.7361\n",
      "Epoch 97/100\n",
      "981/981 [==============================] - 5s 5ms/step - loss: 0.5462 - acc: 0.7564 - val_loss: 0.6461 - val_acc: 0.7380\n",
      "Epoch 98/100\n",
      "981/981 [==============================] - 5s 5ms/step - loss: 0.5467 - acc: 0.7564 - val_loss: 0.6421 - val_acc: 0.7325\n",
      "Epoch 99/100\n",
      "981/981 [==============================] - 5s 5ms/step - loss: 0.5431 - acc: 0.7580 - val_loss: 0.6413 - val_acc: 0.7383\n",
      "Epoch 100/100\n",
      "981/981 [==============================] - 5s 5ms/step - loss: 0.5434 - acc: 0.7585 - val_loss: 0.6434 - val_acc: 0.7366\n"
     ]
    }
   ],
   "source": [
    "history = model4.fit(Z_train, y_train,\n",
    "                    validation_data = (Z_test, y_test),\n",
    "                    epochs = 100,\n",
    "                    batch_size = 128,\n",
    "                    verbose = 1)"
   ]
  },
  {
   "cell_type": "code",
   "execution_count": null,
   "id": "d33a976b-458e-4cbc-b8a7-485fbb4fce1d",
   "metadata": {},
   "outputs": [],
   "source": [
    "preds4 = model4.predict(Z_test)"
   ]
  },
  {
   "cell_type": "code",
   "execution_count": null,
   "id": "13e731d5-6095-4aa2-8de7-88cc2b5dd5ae",
   "metadata": {},
   "outputs": [
    {
     "data": {
      "image/png": "[encoded data removed]",
      "text/plain": [
       "<Figure size 720x720 with 2 Axes>"
      ]
     },
     "metadata": {
      "needs_background": "light"
     },
     "output_type": "display_data"
    }
   ],
   "source": [
    "rounded_preds4 = np.argmax(preds4, axis = -1)\n",
    "\n",
    "y_test4 = np.argmax(y_test, axis = -1)\n",
    "\n",
    "cm4 = confusion_matrix(y_test4, rounded_preds4)\n",
    "\n",
    "disp4 = ConfusionMatrixDisplay(confusion_matrix = cm,)\n",
    "fig, ax = plt.subplots(figsize=(10,10))\n",
    "disp.plot(ax=ax)\n"
   ]
  },
  {
   "cell_type": "markdown",
   "id": "fe51fa87-f0b8-44da-a576-7026b7fbe967",
   "metadata": {},
   "source": [
    "---\n",
    "Attempting best neural net with more balanced classes"
   ]
  },
  {
   "cell_type": "code",
   "execution_count": 41,
   "id": "a09c9f7b-3c79-4a39-b0de-405397dea150",
   "metadata": {},
   "outputs": [
    {
     "data": {
      "text/plain": [
       "dtype('int64')"
      ]
     },
     "execution_count": 41,
     "metadata": {},
     "output_type": "execute_result"
    }
   ],
   "source": [
    "df['class']  = df['class'].astype(int)\n",
    "df['class'].dtypes"
   ]
  },
  {
   "cell_type": "code",
   "execution_count": 42,
   "id": "7fc2013d-846f-4677-97bd-8c44bc711285",
   "metadata": {},
   "outputs": [
    {
     "name": "stdin",
     "output_type": "stream",
     "text": [
      "What class do we want from needs to be an INT(our case ~ 0-9)? 3\n"
     ]
    },
    {
     "name": "stdout",
     "output_type": "stream",
     "text": [
      "219753\n"
     ]
    },
    {
     "data": {
      "text/plain": [
       "0    55304\n",
       "1    38521\n",
       "2    22983\n",
       "5    18783\n",
       "4    17182\n",
       "3    13396\n",
       "6    13396\n",
       "7    13396\n",
       "8    13396\n",
       "9    13396\n",
       "Name: class, dtype: int64"
      ]
     },
     "execution_count": 42,
     "metadata": {},
     "output_type": "execute_result"
    }
   ],
   "source": [
    "# matching the minority classes to the size of class 3\n",
    "over_class3 = over_sampler(df,'class')\n",
    "print(over_class3.shape[0])\n",
    "over_class3['class'].value_counts()"
   ]
  },
  {
   "cell_type": "code",
   "execution_count": 48,
   "id": "8c7f3a01-17fe-4038-959e-df64e3018a57",
   "metadata": {},
   "outputs": [
    {
     "name": "stdout",
     "output_type": "stream",
     "text": [
      "original 167273\n"
     ]
    },
    {
     "data": {
      "text/plain": [
       "52480"
      ]
     },
     "execution_count": 48,
     "metadata": {},
     "output_type": "execute_result"
    }
   ],
   "source": [
    "# looking at how much I need to strip from the oversampled df\n",
    "diff = np.abs(df.shape[0]-over_class3.shape[0])\n",
    "print('original',df.shape[0])\n",
    "diff"
   ]
  },
  {
   "cell_type": "code",
   "execution_count": 50,
   "id": "71a12163-24ca-4619-a77d-fe5a5cb07558",
   "metadata": {},
   "outputs": [
    {
     "name": "stdout",
     "output_type": "stream",
     "text": [
      "Back to original dataframe:  167273\n"
     ]
    }
   ],
   "source": [
    "# since this did not \n",
    "X = over_class3.drop(columns = ['incident_name', 'unique_fire_identifier', 'class'])\n",
    "y = over_class3['class']\n",
    "y = to_categorical(y)\n",
    "# removing excessive data from the original df\n",
    "X_train, X_test, y_train, y_test = train_test_split(X, \n",
    "                                                    y, \n",
    "                                                    test_size=diff,\n",
    "                                                    random_state = 5, \n",
    "                                                    stratify = y)\n",
    "print('Back to original dataframe: ',X_train.shape[0])"
   ]
  },
  {
   "cell_type": "code",
   "execution_count": 52,
   "id": "b74ccc1c-2bfe-43c7-b343-ee98f44652c6",
   "metadata": {},
   "outputs": [],
   "source": [
    "# actually removing the \n",
    "X_train, X_test, y_train, y_test = train_test_split(X_train,\n",
    "                                                    y_train, \n",
    "                                                    random_state = 5, \n",
    "                                                    stratify = y_train)\n",
    "\n",
    "sc = StandardScaler()\n",
    "Z_train = sc.fit_transform(X_train)\n",
    "Z_test = sc.transform(X_test)"
   ]
  },
  {
   "cell_type": "code",
   "execution_count": 56,
   "id": "740d5b16-dbba-4374-ad6f-d7206fed1ee6",
   "metadata": {
    "scrolled": true,
    "tags": []
   },
   "outputs": [
    {
     "name": "stdout",
     "output_type": "stream",
     "text": [
      "Epoch 1/100\n",
      "981/981 [==============================] - 10s 9ms/step - loss: 1.4453 - acc: 0.4640 - val_loss: 1.0844 - val_acc: 0.5951\n",
      "Epoch 2/100\n",
      "981/981 [==============================] - 8s 8ms/step - loss: 1.0711 - acc: 0.5984 - val_loss: 0.9364 - val_acc: 0.6502\n",
      "Epoch 3/100\n",
      "981/981 [==============================] - 7s 8ms/step - loss: 0.9550 - acc: 0.6424 - val_loss: 0.8482 - val_acc: 0.6812\n",
      "Epoch 4/100\n",
      "981/981 [==============================] - 8s 9ms/step - loss: 0.8888 - acc: 0.6644 - val_loss: 0.8119 - val_acc: 0.6900\n",
      "Epoch 5/100\n",
      "981/981 [==============================] - 9s 9ms/step - loss: 0.8464 - acc: 0.6808 - val_loss: 0.7808 - val_acc: 0.7027\n",
      "Epoch 6/100\n",
      "981/981 [==============================] - 9s 9ms/step - loss: 0.8187 - acc: 0.6898 - val_loss: 0.7620 - val_acc: 0.7101\n",
      "Epoch 7/100\n",
      "981/981 [==============================] - 8s 9ms/step - loss: 0.7961 - acc: 0.6962 - val_loss: 0.7507 - val_acc: 0.7144\n",
      "Epoch 8/100\n",
      "981/981 [==============================] - 8s 9ms/step - loss: 0.7798 - acc: 0.7027 - val_loss: 0.7339 - val_acc: 0.7187\n",
      "Epoch 9/100\n",
      "981/981 [==============================] - 8s 9ms/step - loss: 0.7700 - acc: 0.7054 - val_loss: 0.7294 - val_acc: 0.7228\n",
      "Epoch 10/100\n",
      "981/981 [==============================] - 8s 8ms/step - loss: 0.7581 - acc: 0.7098 - val_loss: 0.7245 - val_acc: 0.7224\n",
      "Epoch 11/100\n",
      "981/981 [==============================] - 8s 8ms/step - loss: 0.7476 - acc: 0.7130 - val_loss: 0.7253 - val_acc: 0.7224\n",
      "Epoch 12/100\n",
      "981/981 [==============================] - 7s 7ms/step - loss: 0.7396 - acc: 0.7157 - val_loss: 0.7220 - val_acc: 0.7238\n",
      "Epoch 13/100\n",
      "981/981 [==============================] - 8s 8ms/step - loss: 0.7336 - acc: 0.7168 - val_loss: 0.7083 - val_acc: 0.7285\n",
      "Epoch 14/100\n",
      "981/981 [==============================] - 8s 9ms/step - loss: 0.7260 - acc: 0.7194 - val_loss: 0.7115 - val_acc: 0.7278\n",
      "Epoch 15/100\n",
      "981/981 [==============================] - 8s 8ms/step - loss: 0.7208 - acc: 0.7215 - val_loss: 0.7035 - val_acc: 0.7298\n",
      "Epoch 16/100\n",
      "981/981 [==============================] - 8s 8ms/step - loss: 0.7133 - acc: 0.7230 - val_loss: 0.7079 - val_acc: 0.7269\n",
      "Epoch 17/100\n",
      "981/981 [==============================] - 8s 8ms/step - loss: 0.7116 - acc: 0.7239 - val_loss: 0.6980 - val_acc: 0.7319\n",
      "Epoch 18/100\n",
      "981/981 [==============================] - 9s 9ms/step - loss: 0.7072 - acc: 0.7270 - val_loss: 0.6966 - val_acc: 0.7328\n",
      "Epoch 19/100\n",
      "981/981 [==============================] - 9s 9ms/step - loss: 0.7025 - acc: 0.7271 - val_loss: 0.6946 - val_acc: 0.7330\n",
      "Epoch 20/100\n",
      "981/981 [==============================] - 9s 9ms/step - loss: 0.6979 - acc: 0.7296 - val_loss: 0.6991 - val_acc: 0.7322\n",
      "Epoch 21/100\n",
      "981/981 [==============================] - 9s 9ms/step - loss: 0.6943 - acc: 0.7310 - val_loss: 0.6945 - val_acc: 0.7335\n",
      "Epoch 22/100\n",
      "981/981 [==============================] - 9s 10ms/step - loss: 0.6914 - acc: 0.7311 - val_loss: 0.6922 - val_acc: 0.7335\n",
      "Epoch 23/100\n",
      "981/981 [==============================] - 9s 10ms/step - loss: 0.6882 - acc: 0.7327 - val_loss: 0.6931 - val_acc: 0.7348\n",
      "Epoch 24/100\n",
      "981/981 [==============================] - 9s 9ms/step - loss: 0.6870 - acc: 0.7327 - val_loss: 0.6909 - val_acc: 0.7372\n",
      "Epoch 25/100\n",
      "981/981 [==============================] - 10s 10ms/step - loss: 0.6822 - acc: 0.7335 - val_loss: 0.6922 - val_acc: 0.7364\n",
      "Epoch 26/100\n",
      "981/981 [==============================] - 9s 9ms/step - loss: 0.6809 - acc: 0.7340 - val_loss: 0.6909 - val_acc: 0.7347\n",
      "Epoch 27/100\n",
      "981/981 [==============================] - 8s 9ms/step - loss: 0.6780 - acc: 0.7346 - val_loss: 0.6860 - val_acc: 0.7376\n",
      "Epoch 28/100\n",
      "981/981 [==============================] - 8s 8ms/step - loss: 0.6767 - acc: 0.7347 - val_loss: 0.6891 - val_acc: 0.7365\n",
      "Epoch 29/100\n",
      "981/981 [==============================] - 8s 8ms/step - loss: 0.6740 - acc: 0.7356 - val_loss: 0.6896 - val_acc: 0.7346\n",
      "Epoch 30/100\n",
      "981/981 [==============================] - 8s 9ms/step - loss: 0.6720 - acc: 0.7364 - val_loss: 0.6827 - val_acc: 0.7376\n",
      "Epoch 31/100\n",
      "981/981 [==============================] - 9s 9ms/step - loss: 0.6678 - acc: 0.7376 - val_loss: 0.6823 - val_acc: 0.7395\n",
      "Epoch 32/100\n",
      "981/981 [==============================] - 8s 8ms/step - loss: 0.6674 - acc: 0.7388 - val_loss: 0.6864 - val_acc: 0.7377\n",
      "Epoch 33/100\n",
      "981/981 [==============================] - 7s 8ms/step - loss: 0.6658 - acc: 0.7402 - val_loss: 0.6817 - val_acc: 0.7386\n",
      "Epoch 34/100\n",
      "981/981 [==============================] - 8s 8ms/step - loss: 0.6626 - acc: 0.7399 - val_loss: 0.6844 - val_acc: 0.7390\n",
      "Epoch 35/100\n",
      "981/981 [==============================] - 9s 9ms/step - loss: 0.6600 - acc: 0.7408 - val_loss: 0.6806 - val_acc: 0.7399\n",
      "Epoch 36/100\n",
      "981/981 [==============================] - 10s 10ms/step - loss: 0.6601 - acc: 0.7405 - val_loss: 0.6773 - val_acc: 0.7409\n",
      "Epoch 37/100\n",
      "981/981 [==============================] - 9s 9ms/step - loss: 0.6613 - acc: 0.7402 - val_loss: 0.6819 - val_acc: 0.7398\n",
      "Epoch 38/100\n",
      "981/981 [==============================] - 9s 10ms/step - loss: 0.6592 - acc: 0.7410 - val_loss: 0.6848 - val_acc: 0.7387\n",
      "Epoch 39/100\n",
      "981/981 [==============================] - 8s 9ms/step - loss: 0.6541 - acc: 0.7425 - val_loss: 0.6836 - val_acc: 0.7400\n",
      "Epoch 40/100\n",
      "981/981 [==============================] - 10s 10ms/step - loss: 0.6543 - acc: 0.7426 - val_loss: 0.6771 - val_acc: 0.7411\n",
      "Epoch 41/100\n",
      "981/981 [==============================] - 8s 8ms/step - loss: 0.6510 - acc: 0.7427 - val_loss: 0.6780 - val_acc: 0.7416\n",
      "Epoch 42/100\n",
      "981/981 [==============================] - 8s 8ms/step - loss: 0.6520 - acc: 0.7422 - val_loss: 0.6838 - val_acc: 0.7407\n",
      "Epoch 43/100\n",
      "981/981 [==============================] - 8s 8ms/step - loss: 0.6486 - acc: 0.7455 - val_loss: 0.6828 - val_acc: 0.7432\n",
      "Epoch 44/100\n",
      "981/981 [==============================] - 9s 9ms/step - loss: 0.6484 - acc: 0.7453 - val_loss: 0.6894 - val_acc: 0.7412\n",
      "Epoch 45/100\n",
      "981/981 [==============================] - 8s 8ms/step - loss: 0.6469 - acc: 0.7449 - val_loss: 0.6798 - val_acc: 0.7438\n",
      "Epoch 46/100\n",
      "981/981 [==============================] - 9s 10ms/step - loss: 0.6435 - acc: 0.7467 - val_loss: 0.6778 - val_acc: 0.7405\n",
      "Epoch 47/100\n",
      "981/981 [==============================] - 8s 9ms/step - loss: 0.6462 - acc: 0.7460 - val_loss: 0.6725 - val_acc: 0.7434\n",
      "Epoch 48/100\n",
      "981/981 [==============================] - 8s 8ms/step - loss: 0.6429 - acc: 0.7472 - val_loss: 0.6839 - val_acc: 0.7421\n",
      "Epoch 49/100\n",
      "981/981 [==============================] - 8s 9ms/step - loss: 0.6391 - acc: 0.7477 - val_loss: 0.6752 - val_acc: 0.7459\n",
      "Epoch 50/100\n",
      "981/981 [==============================] - 9s 9ms/step - loss: 0.6393 - acc: 0.7477 - val_loss: 0.6732 - val_acc: 0.7439\n",
      "Epoch 51/100\n",
      "981/981 [==============================] - 8s 9ms/step - loss: 0.6369 - acc: 0.7473 - val_loss: 0.6772 - val_acc: 0.7426\n",
      "Epoch 52/100\n",
      "981/981 [==============================] - 8s 8ms/step - loss: 0.6377 - acc: 0.7478 - val_loss: 0.6738 - val_acc: 0.7445\n",
      "Epoch 53/100\n",
      "981/981 [==============================] - 7s 8ms/step - loss: 0.6369 - acc: 0.7475 - val_loss: 0.6783 - val_acc: 0.7444\n",
      "Epoch 54/100\n",
      "981/981 [==============================] - 7s 7ms/step - loss: 0.6340 - acc: 0.7503 - val_loss: 0.6755 - val_acc: 0.7440\n",
      "Epoch 55/100\n",
      "981/981 [==============================] - 8s 8ms/step - loss: 0.6341 - acc: 0.7502 - val_loss: 0.6704 - val_acc: 0.7456\n",
      "Epoch 56/100\n",
      "981/981 [==============================] - 9s 9ms/step - loss: 0.6339 - acc: 0.7489 - val_loss: 0.6710 - val_acc: 0.7464\n",
      "Epoch 57/100\n",
      "981/981 [==============================] - 9s 9ms/step - loss: 0.6328 - acc: 0.7504 - val_loss: 0.6703 - val_acc: 0.7452\n",
      "Epoch 58/100\n",
      "981/981 [==============================] - 8s 8ms/step - loss: 0.6331 - acc: 0.7488 - val_loss: 0.6747 - val_acc: 0.7456\n",
      "Epoch 59/100\n",
      "981/981 [==============================] - 9s 9ms/step - loss: 0.6313 - acc: 0.7501 - val_loss: 0.6682 - val_acc: 0.7457\n",
      "Epoch 60/100\n",
      "981/981 [==============================] - 8s 8ms/step - loss: 0.6296 - acc: 0.7498 - val_loss: 0.6737 - val_acc: 0.7465\n",
      "Epoch 61/100\n",
      "981/981 [==============================] - 8s 8ms/step - loss: 0.6278 - acc: 0.7513 - val_loss: 0.6740 - val_acc: 0.7439\n",
      "Epoch 62/100\n",
      "981/981 [==============================] - 8s 9ms/step - loss: 0.6286 - acc: 0.7511 - val_loss: 0.6723 - val_acc: 0.7450\n",
      "Epoch 63/100\n",
      "981/981 [==============================] - 9s 9ms/step - loss: 0.6280 - acc: 0.7527 - val_loss: 0.6738 - val_acc: 0.7468\n",
      "Epoch 64/100\n",
      "981/981 [==============================] - 11s 11ms/step - loss: 0.6261 - acc: 0.7524 - val_loss: 0.6708 - val_acc: 0.7481\n",
      "Epoch 65/100\n",
      "981/981 [==============================] - 8s 8ms/step - loss: 0.6257 - acc: 0.7531 - val_loss: 0.6735 - val_acc: 0.7433\n",
      "Epoch 66/100\n",
      "981/981 [==============================] - 8s 8ms/step - loss: 0.6228 - acc: 0.7538 - val_loss: 0.6682 - val_acc: 0.7463\n",
      "Epoch 67/100\n",
      "981/981 [==============================] - 8s 8ms/step - loss: 0.6238 - acc: 0.7527 - val_loss: 0.6753 - val_acc: 0.7484\n",
      "Epoch 68/100\n",
      "981/981 [==============================] - 9s 9ms/step - loss: 0.6237 - acc: 0.7530 - val_loss: 0.6729 - val_acc: 0.7438\n",
      "Epoch 69/100\n",
      "981/981 [==============================] - 8s 8ms/step - loss: 0.6236 - acc: 0.7526 - val_loss: 0.6725 - val_acc: 0.7454\n",
      "Epoch 70/100\n",
      "981/981 [==============================] - 8s 8ms/step - loss: 0.6235 - acc: 0.7541 - val_loss: 0.6716 - val_acc: 0.7473\n",
      "Epoch 71/100\n",
      "981/981 [==============================] - 8s 8ms/step - loss: 0.6204 - acc: 0.7535 - val_loss: 0.6751 - val_acc: 0.7460\n",
      "Epoch 72/100\n",
      "981/981 [==============================] - 8s 8ms/step - loss: 0.6212 - acc: 0.7547 - val_loss: 0.6733 - val_acc: 0.7482\n",
      "Epoch 73/100\n",
      "981/981 [==============================] - 8s 8ms/step - loss: 0.6201 - acc: 0.7538 - val_loss: 0.6702 - val_acc: 0.7488\n",
      "Epoch 74/100\n",
      "981/981 [==============================] - 9s 9ms/step - loss: 0.6198 - acc: 0.7533 - val_loss: 0.6712 - val_acc: 0.7480\n",
      "Epoch 75/100\n",
      "981/981 [==============================] - 6s 6ms/step - loss: 0.6180 - acc: 0.7549 - val_loss: 0.6681 - val_acc: 0.7477\n",
      "Epoch 76/100\n",
      "981/981 [==============================] - 6s 6ms/step - loss: 0.6178 - acc: 0.7563 - val_loss: 0.6710 - val_acc: 0.7475\n",
      "Epoch 77/100\n",
      "981/981 [==============================] - 6s 6ms/step - loss: 0.6147 - acc: 0.7561 - val_loss: 0.6664 - val_acc: 0.7470\n",
      "Epoch 78/100\n",
      "981/981 [==============================] - 6s 6ms/step - loss: 0.6153 - acc: 0.7555 - val_loss: 0.6651 - val_acc: 0.7490\n",
      "Epoch 79/100\n",
      "981/981 [==============================] - 6s 6ms/step - loss: 0.6143 - acc: 0.7554 - val_loss: 0.6678 - val_acc: 0.7460\n",
      "Epoch 80/100\n",
      "981/981 [==============================] - 6s 6ms/step - loss: 0.6130 - acc: 0.7563 - val_loss: 0.6717 - val_acc: 0.7469\n",
      "Epoch 81/100\n",
      "981/981 [==============================] - 6s 6ms/step - loss: 0.6142 - acc: 0.7555 - val_loss: 0.6724 - val_acc: 0.7470\n",
      "Epoch 82/100\n",
      "981/981 [==============================] - 6s 6ms/step - loss: 0.6140 - acc: 0.7569 - val_loss: 0.6750 - val_acc: 0.7464\n",
      "Epoch 83/100\n",
      "981/981 [==============================] - 7s 7ms/step - loss: 0.6140 - acc: 0.7560 - val_loss: 0.6736 - val_acc: 0.7477\n",
      "Epoch 84/100\n",
      "981/981 [==============================] - 6s 6ms/step - loss: 0.6115 - acc: 0.7563 - val_loss: 0.6701 - val_acc: 0.7474\n",
      "Epoch 85/100\n",
      "981/981 [==============================] - 7s 7ms/step - loss: 0.6110 - acc: 0.7584 - val_loss: 0.6757 - val_acc: 0.7455\n",
      "Epoch 86/100\n",
      "981/981 [==============================] - 6s 7ms/step - loss: 0.6108 - acc: 0.7565 - val_loss: 0.6689 - val_acc: 0.7479\n",
      "Epoch 87/100\n",
      "981/981 [==============================] - 6s 6ms/step - loss: 0.6118 - acc: 0.7575 - val_loss: 0.6747 - val_acc: 0.7476\n",
      "Epoch 88/100\n",
      "981/981 [==============================] - 6s 6ms/step - loss: 0.6090 - acc: 0.7592 - val_loss: 0.6736 - val_acc: 0.7474\n",
      "Epoch 89/100\n",
      "981/981 [==============================] - 6s 6ms/step - loss: 0.6084 - acc: 0.7585 - val_loss: 0.6760 - val_acc: 0.7466\n",
      "Epoch 90/100\n",
      "981/981 [==============================] - 9s 9ms/step - loss: 0.6079 - acc: 0.7576 - val_loss: 0.6804 - val_acc: 0.7470\n",
      "Epoch 91/100\n",
      "981/981 [==============================] - 10s 10ms/step - loss: 0.6072 - acc: 0.7590 - val_loss: 0.6800 - val_acc: 0.7490\n",
      "Epoch 92/100\n",
      "981/981 [==============================] - 9s 9ms/step - loss: 0.6085 - acc: 0.7587 - val_loss: 0.6771 - val_acc: 0.7468\n",
      "Epoch 93/100\n",
      "981/981 [==============================] - 9s 9ms/step - loss: 0.6084 - acc: 0.7584 - val_loss: 0.6781 - val_acc: 0.7463\n",
      "Epoch 94/100\n",
      "981/981 [==============================] - 9s 9ms/step - loss: 0.6068 - acc: 0.7584 - val_loss: 0.6761 - val_acc: 0.7471\n",
      "Epoch 95/100\n",
      "981/981 [==============================] - 8s 8ms/step - loss: 0.6059 - acc: 0.7591 - val_loss: 0.6738 - val_acc: 0.7490\n",
      "Epoch 96/100\n",
      "981/981 [==============================] - 8s 8ms/step - loss: 0.6058 - acc: 0.7592 - val_loss: 0.6779 - val_acc: 0.7491\n",
      "Epoch 97/100\n",
      "981/981 [==============================] - 10s 10ms/step - loss: 0.6032 - acc: 0.7598 - val_loss: 0.6713 - val_acc: 0.7483\n",
      "Epoch 98/100\n",
      "981/981 [==============================] - 8s 8ms/step - loss: 0.6057 - acc: 0.7592 - val_loss: 0.6835 - val_acc: 0.7488\n",
      "Epoch 99/100\n",
      "981/981 [==============================] - 9s 9ms/step - loss: 0.6031 - acc: 0.7612 - val_loss: 0.6752 - val_acc: 0.7450\n",
      "Epoch 100/100\n",
      "981/981 [==============================] - 8s 8ms/step - loss: 0.6040 - acc: 0.7594 - val_loss: 0.6839 - val_acc: 0.7465\n"
     ]
    }
   ],
   "source": [
    "model4a = Sequential()\n",
    "model4a.add(Dense(128,\n",
    "                input_shape = (1400,),\n",
    "                activation = 'relu'))\n",
    "model4a.add(Dropout(0.2))\n",
    "model4a.add(Dense(64, activation = 'relu'))\n",
    "model4a.add(Dropout(0.2))\n",
    "model4a.add(Dense(32, activation = 'relu'))\n",
    "model4a.add(Dense(16, activation = 'relu'))\n",
    "model4a.add(Dense(16, activation = 'relu'))\n",
    "\n",
    "model4a.add(Dense(10, activation = 'softmax'))\n",
    "\n",
    "model4a.compile(loss = 'categorical_crossentropy',\n",
    "              optimizer = 'adam',\n",
    "              metrics = ['acc'])\n",
    "history = model4a.fit(Z_train, y_train,\n",
    "                    validation_data = (Z_test, y_test),\n",
    "                    epochs = 100,\n",
    "                    batch_size = 128,\n",
    "\n",
    "                      verbose = 1)"
   ]
  },
  {
   "cell_type": "code",
   "execution_count": null,
   "id": "19e0d580-c60a-4f9c-8231-c6d16dbc198e",
   "metadata": {},
   "outputs": [],
   "source": []
  },
  {
   "cell_type": "code",
   "execution_count": null,
   "id": "53aa3b31-55eb-4628-8439-cb5c04ae5433",
   "metadata": {},
   "outputs": [],
   "source": []
  },
  {
   "cell_type": "code",
   "execution_count": 17,
   "id": "4a423a47-bf3b-4f4b-8cfa-42cdc5bf5ee3",
   "metadata": {},
   "outputs": [
    {
     "name": "stdin",
     "output_type": "stream",
     "text": [
      "What class do we want from needs to be an INT(our case ~ 0-9)? 4\n"
     ]
    },
    {
     "name": "stdout",
     "output_type": "stream",
     "text": [
      "238683\n"
     ]
    },
    {
     "data": {
      "text/plain": [
       "0    55304\n",
       "1    38521\n",
       "2    22983\n",
       "5    18783\n",
       "3    17182\n",
       "4    17182\n",
       "6    17182\n",
       "7    17182\n",
       "8    17182\n",
       "9    17182\n",
       "Name: class, dtype: int64"
      ]
     },
     "execution_count": 17,
     "metadata": {},
     "output_type": "execute_result"
    }
   ],
   "source": [
    "# use case example\n",
    "over_class4 = over_sampler(df,'class')\n",
    "print(over_class4.shape[0])\n",
    "over_class4['class'].value_counts()"
   ]
  },
  {
   "cell_type": "code",
   "execution_count": 57,
   "id": "4c76f3a5-f46c-4385-80aa-57d7f0be4bfd",
   "metadata": {
    "scrolled": true,
    "tags": []
   },
   "outputs": [
    {
     "name": "stdout",
     "output_type": "stream",
     "text": [
      "original 167273\n",
      "difference:  71410\n",
      "Back to original dataframe:  167273\n",
      "Epoch 1/100\n",
      "981/981 [==============================] - 11s 11ms/step - loss: 1.4165 - acc: 0.4716 - val_loss: 1.0648 - val_acc: 0.5985\n",
      "Epoch 2/100\n",
      "981/981 [==============================] - 9s 9ms/step - loss: 1.0397 - acc: 0.6123 - val_loss: 0.9219 - val_acc: 0.6548\n",
      "Epoch 3/100\n",
      "981/981 [==============================] - 8s 8ms/step - loss: 0.9232 - acc: 0.6552 - val_loss: 0.8239 - val_acc: 0.6921\n",
      "Epoch 4/100\n",
      "981/981 [==============================] - 9s 9ms/step - loss: 0.8617 - acc: 0.6768 - val_loss: 0.7850 - val_acc: 0.7058\n",
      "Epoch 5/100\n",
      "981/981 [==============================] - 9s 9ms/step - loss: 0.8203 - acc: 0.6918 - val_loss: 0.7597 - val_acc: 0.7124\n",
      "Epoch 6/100\n",
      "981/981 [==============================] - 8s 8ms/step - loss: 0.7920 - acc: 0.7004 - val_loss: 0.7455 - val_acc: 0.7196\n",
      "Epoch 7/100\n",
      "981/981 [==============================] - 8s 8ms/step - loss: 0.7717 - acc: 0.7071 - val_loss: 0.7484 - val_acc: 0.7163\n",
      "Epoch 8/100\n",
      "981/981 [==============================] - 8s 8ms/step - loss: 0.7561 - acc: 0.7127 - val_loss: 0.7202 - val_acc: 0.7279\n",
      "Epoch 9/100\n",
      "981/981 [==============================] - 8s 8ms/step - loss: 0.7418 - acc: 0.7173 - val_loss: 0.7129 - val_acc: 0.7301\n",
      "Epoch 10/100\n",
      "981/981 [==============================] - 8s 8ms/step - loss: 0.7299 - acc: 0.7220 - val_loss: 0.7051 - val_acc: 0.7307\n",
      "Epoch 11/100\n",
      "981/981 [==============================] - 8s 8ms/step - loss: 0.7212 - acc: 0.7242 - val_loss: 0.7074 - val_acc: 0.7306\n",
      "Epoch 12/100\n",
      "981/981 [==============================] - 8s 8ms/step - loss: 0.7161 - acc: 0.7263 - val_loss: 0.7042 - val_acc: 0.7319\n",
      "Epoch 13/100\n",
      "981/981 [==============================] - 8s 8ms/step - loss: 0.7096 - acc: 0.7287 - val_loss: 0.7036 - val_acc: 0.7339\n",
      "Epoch 14/100\n",
      "981/981 [==============================] - 7s 8ms/step - loss: 0.7007 - acc: 0.7311 - val_loss: 0.6919 - val_acc: 0.7377\n",
      "Epoch 15/100\n",
      "981/981 [==============================] - 8s 8ms/step - loss: 0.6965 - acc: 0.7326 - val_loss: 0.6904 - val_acc: 0.7370\n",
      "Epoch 16/100\n",
      "981/981 [==============================] - 8s 8ms/step - loss: 0.6889 - acc: 0.7359 - val_loss: 0.6911 - val_acc: 0.7370\n",
      "Epoch 17/100\n",
      "981/981 [==============================] - 7s 8ms/step - loss: 0.6864 - acc: 0.7363 - val_loss: 0.6843 - val_acc: 0.7398\n",
      "Epoch 18/100\n",
      "981/981 [==============================] - 8s 8ms/step - loss: 0.6822 - acc: 0.7377 - val_loss: 0.6830 - val_acc: 0.7428\n",
      "Epoch 19/100\n",
      "981/981 [==============================] - 8s 8ms/step - loss: 0.6771 - acc: 0.7407 - val_loss: 0.6831 - val_acc: 0.7410\n",
      "Epoch 20/100\n",
      "981/981 [==============================] - 8s 8ms/step - loss: 0.6751 - acc: 0.7402 - val_loss: 0.6830 - val_acc: 0.7422\n",
      "Epoch 21/100\n",
      "981/981 [==============================] - 8s 8ms/step - loss: 0.6726 - acc: 0.7414 - val_loss: 0.6864 - val_acc: 0.7422\n",
      "Epoch 22/100\n",
      "981/981 [==============================] - 8s 8ms/step - loss: 0.6674 - acc: 0.7420 - val_loss: 0.6808 - val_acc: 0.7437\n",
      "Epoch 23/100\n",
      "981/981 [==============================] - 7s 8ms/step - loss: 0.6637 - acc: 0.7447 - val_loss: 0.6820 - val_acc: 0.7436\n",
      "Epoch 24/100\n",
      "981/981 [==============================] - 8s 8ms/step - loss: 0.6608 - acc: 0.7438 - val_loss: 0.6734 - val_acc: 0.7460\n",
      "Epoch 25/100\n",
      "981/981 [==============================] - 8s 8ms/step - loss: 0.6602 - acc: 0.7452 - val_loss: 0.6766 - val_acc: 0.7428\n",
      "Epoch 26/100\n",
      "981/981 [==============================] - 9s 9ms/step - loss: 0.6568 - acc: 0.7465 - val_loss: 0.6723 - val_acc: 0.7461\n",
      "Epoch 27/100\n",
      "981/981 [==============================] - 9s 9ms/step - loss: 0.6521 - acc: 0.7479 - val_loss: 0.6726 - val_acc: 0.7455\n",
      "Epoch 28/100\n",
      "981/981 [==============================] - 9s 9ms/step - loss: 0.6514 - acc: 0.7489 - val_loss: 0.6685 - val_acc: 0.7466\n",
      "Epoch 29/100\n",
      "981/981 [==============================] - 8s 8ms/step - loss: 0.6506 - acc: 0.7501 - val_loss: 0.6680 - val_acc: 0.7482\n",
      "Epoch 30/100\n",
      "981/981 [==============================] - 9s 9ms/step - loss: 0.6454 - acc: 0.7503 - val_loss: 0.6671 - val_acc: 0.7473\n",
      "Epoch 31/100\n",
      "981/981 [==============================] - 8s 8ms/step - loss: 0.6451 - acc: 0.7506 - val_loss: 0.6637 - val_acc: 0.7494\n",
      "Epoch 32/100\n",
      "981/981 [==============================] - 8s 8ms/step - loss: 0.6418 - acc: 0.7515 - val_loss: 0.6659 - val_acc: 0.7491\n",
      "Epoch 33/100\n",
      "981/981 [==============================] - 8s 8ms/step - loss: 0.6391 - acc: 0.7515 - val_loss: 0.6651 - val_acc: 0.7503\n",
      "Epoch 34/100\n",
      "981/981 [==============================] - 8s 8ms/step - loss: 0.6373 - acc: 0.7532 - val_loss: 0.6613 - val_acc: 0.7491\n",
      "Epoch 35/100\n",
      "981/981 [==============================] - 7s 7ms/step - loss: 0.6370 - acc: 0.7534 - val_loss: 0.6674 - val_acc: 0.7511\n",
      "Epoch 36/100\n",
      "981/981 [==============================] - 9s 9ms/step - loss: 0.6338 - acc: 0.7535 - val_loss: 0.6673 - val_acc: 0.7491\n",
      "Epoch 37/100\n",
      "981/981 [==============================] - 10s 10ms/step - loss: 0.6350 - acc: 0.7538 - val_loss: 0.6616 - val_acc: 0.7502\n",
      "Epoch 38/100\n",
      "981/981 [==============================] - 8s 8ms/step - loss: 0.6315 - acc: 0.7538 - val_loss: 0.6631 - val_acc: 0.7500\n",
      "Epoch 39/100\n",
      "981/981 [==============================] - 8s 8ms/step - loss: 0.6295 - acc: 0.7551 - val_loss: 0.6609 - val_acc: 0.7510\n",
      "Epoch 40/100\n",
      "981/981 [==============================] - 10s 10ms/step - loss: 0.6286 - acc: 0.7556 - val_loss: 0.6637 - val_acc: 0.7498\n",
      "Epoch 41/100\n",
      "981/981 [==============================] - 10s 10ms/step - loss: 0.6267 - acc: 0.7569 - val_loss: 0.6573 - val_acc: 0.7523\n",
      "Epoch 42/100\n",
      "981/981 [==============================] - 11s 11ms/step - loss: 0.6260 - acc: 0.7562 - val_loss: 0.6545 - val_acc: 0.7511\n",
      "Epoch 43/100\n",
      "981/981 [==============================] - 8s 8ms/step - loss: 0.6233 - acc: 0.7574 - val_loss: 0.6606 - val_acc: 0.7504\n",
      "Epoch 44/100\n",
      "981/981 [==============================] - 8s 8ms/step - loss: 0.6216 - acc: 0.7588 - val_loss: 0.6618 - val_acc: 0.7514\n",
      "Epoch 45/100\n",
      "981/981 [==============================] - 8s 9ms/step - loss: 0.6213 - acc: 0.7591 - val_loss: 0.6620 - val_acc: 0.7531\n",
      "Epoch 46/100\n",
      "981/981 [==============================] - 8s 8ms/step - loss: 0.6206 - acc: 0.7588 - val_loss: 0.6602 - val_acc: 0.7527\n",
      "Epoch 47/100\n",
      "981/981 [==============================] - 8s 8ms/step - loss: 0.6188 - acc: 0.7593 - val_loss: 0.6557 - val_acc: 0.7525\n",
      "Epoch 48/100\n",
      "981/981 [==============================] - 8s 8ms/step - loss: 0.6161 - acc: 0.7594 - val_loss: 0.6570 - val_acc: 0.7528\n",
      "Epoch 49/100\n",
      "981/981 [==============================] - 8s 9ms/step - loss: 0.6173 - acc: 0.7594 - val_loss: 0.6531 - val_acc: 0.7536\n",
      "Epoch 50/100\n",
      "981/981 [==============================] - 8s 8ms/step - loss: 0.6152 - acc: 0.7594 - val_loss: 0.6538 - val_acc: 0.7541\n",
      "Epoch 51/100\n",
      "981/981 [==============================] - 9s 9ms/step - loss: 0.6112 - acc: 0.7616 - val_loss: 0.6600 - val_acc: 0.7523\n",
      "Epoch 52/100\n",
      "981/981 [==============================] - 9s 9ms/step - loss: 0.6120 - acc: 0.7607 - val_loss: 0.6595 - val_acc: 0.7527\n",
      "Epoch 53/100\n",
      "981/981 [==============================] - 9s 9ms/step - loss: 0.6118 - acc: 0.7592 - val_loss: 0.6584 - val_acc: 0.7529\n",
      "Epoch 54/100\n",
      "981/981 [==============================] - 8s 8ms/step - loss: 0.6109 - acc: 0.7614 - val_loss: 0.6605 - val_acc: 0.7501\n",
      "Epoch 55/100\n",
      "981/981 [==============================] - 8s 8ms/step - loss: 0.6093 - acc: 0.7623 - val_loss: 0.6548 - val_acc: 0.7538\n",
      "Epoch 56/100\n",
      "981/981 [==============================] - 8s 8ms/step - loss: 0.6072 - acc: 0.7624 - val_loss: 0.6558 - val_acc: 0.7532\n",
      "Epoch 57/100\n",
      "981/981 [==============================] - 8s 8ms/step - loss: 0.6062 - acc: 0.7626 - val_loss: 0.6526 - val_acc: 0.7546\n",
      "Epoch 58/100\n",
      "981/981 [==============================] - 8s 8ms/step - loss: 0.6064 - acc: 0.7625 - val_loss: 0.6629 - val_acc: 0.7521\n",
      "Epoch 59/100\n",
      "981/981 [==============================] - 8s 8ms/step - loss: 0.6071 - acc: 0.7634 - val_loss: 0.6605 - val_acc: 0.7527\n",
      "Epoch 60/100\n",
      "981/981 [==============================] - 8s 8ms/step - loss: 0.6038 - acc: 0.7649 - val_loss: 0.6540 - val_acc: 0.7525\n",
      "Epoch 61/100\n",
      "981/981 [==============================] - 8s 8ms/step - loss: 0.6028 - acc: 0.7640 - val_loss: 0.6570 - val_acc: 0.7553\n",
      "Epoch 62/100\n",
      "981/981 [==============================] - 8s 8ms/step - loss: 0.6027 - acc: 0.7641 - val_loss: 0.6526 - val_acc: 0.7563\n",
      "Epoch 63/100\n",
      "981/981 [==============================] - 9s 9ms/step - loss: 0.6029 - acc: 0.7645 - val_loss: 0.6555 - val_acc: 0.7530\n",
      "Epoch 64/100\n",
      "981/981 [==============================] - 8s 8ms/step - loss: 0.6000 - acc: 0.7651 - val_loss: 0.6574 - val_acc: 0.7541\n",
      "Epoch 65/100\n",
      "981/981 [==============================] - 8s 8ms/step - loss: 0.5998 - acc: 0.7647 - val_loss: 0.6617 - val_acc: 0.7535\n",
      "Epoch 66/100\n",
      "981/981 [==============================] - 8s 8ms/step - loss: 0.5989 - acc: 0.7649 - val_loss: 0.6547 - val_acc: 0.7548\n",
      "Epoch 67/100\n",
      "981/981 [==============================] - 8s 8ms/step - loss: 0.5985 - acc: 0.7659 - val_loss: 0.6473 - val_acc: 0.7567\n",
      "Epoch 68/100\n",
      "981/981 [==============================] - 8s 8ms/step - loss: 0.5971 - acc: 0.7654 - val_loss: 0.6536 - val_acc: 0.7555\n",
      "Epoch 69/100\n",
      "981/981 [==============================] - 8s 8ms/step - loss: 0.5954 - acc: 0.7662 - val_loss: 0.6518 - val_acc: 0.7569\n",
      "Epoch 70/100\n",
      "981/981 [==============================] - 8s 8ms/step - loss: 0.5956 - acc: 0.7673 - val_loss: 0.6544 - val_acc: 0.7554\n",
      "Epoch 71/100\n",
      "981/981 [==============================] - 10s 10ms/step - loss: 0.5970 - acc: 0.7657 - val_loss: 0.6557 - val_acc: 0.7545\n",
      "Epoch 72/100\n",
      "981/981 [==============================] - 11s 11ms/step - loss: 0.5979 - acc: 0.7667 - val_loss: 0.6520 - val_acc: 0.7554\n",
      "Epoch 73/100\n",
      "981/981 [==============================] - 9s 10ms/step - loss: 0.5915 - acc: 0.7683 - val_loss: 0.6551 - val_acc: 0.7540\n",
      "Epoch 74/100\n",
      "981/981 [==============================] - 9s 10ms/step - loss: 0.5938 - acc: 0.7664 - val_loss: 0.6537 - val_acc: 0.7556\n",
      "Epoch 75/100\n",
      "981/981 [==============================] - 8s 8ms/step - loss: 0.5933 - acc: 0.7671 - val_loss: 0.6572 - val_acc: 0.7542\n",
      "Epoch 76/100\n",
      "981/981 [==============================] - 8s 8ms/step - loss: 0.5910 - acc: 0.7678 - val_loss: 0.6444 - val_acc: 0.7564\n",
      "Epoch 77/100\n",
      "981/981 [==============================] - 10s 11ms/step - loss: 0.5929 - acc: 0.7676 - val_loss: 0.6499 - val_acc: 0.7546\n",
      "Epoch 78/100\n",
      "981/981 [==============================] - 12s 12ms/step - loss: 0.5893 - acc: 0.7684 - val_loss: 0.6479 - val_acc: 0.7568\n",
      "Epoch 79/100\n",
      "981/981 [==============================] - 8s 9ms/step - loss: 0.5871 - acc: 0.7687 - val_loss: 0.6601 - val_acc: 0.7562\n",
      "Epoch 80/100\n",
      "981/981 [==============================] - 8s 8ms/step - loss: 0.5891 - acc: 0.7691 - val_loss: 0.6486 - val_acc: 0.7572\n",
      "Epoch 81/100\n",
      "981/981 [==============================] - 9s 9ms/step - loss: 0.5889 - acc: 0.7694 - val_loss: 0.6503 - val_acc: 0.7551\n",
      "Epoch 82/100\n",
      "981/981 [==============================] - 9s 9ms/step - loss: 0.5884 - acc: 0.7682 - val_loss: 0.6501 - val_acc: 0.7560\n",
      "Epoch 83/100\n",
      "981/981 [==============================] - 9s 9ms/step - loss: 0.5882 - acc: 0.7684 - val_loss: 0.6529 - val_acc: 0.7543\n",
      "Epoch 84/100\n",
      "981/981 [==============================] - 9s 9ms/step - loss: 0.5860 - acc: 0.7694 - val_loss: 0.6563 - val_acc: 0.7562\n",
      "Epoch 85/100\n",
      "981/981 [==============================] - 9s 9ms/step - loss: 0.5849 - acc: 0.7696 - val_loss: 0.6535 - val_acc: 0.7571\n",
      "Epoch 86/100\n",
      "981/981 [==============================] - 9s 9ms/step - loss: 0.5833 - acc: 0.7693 - val_loss: 0.6550 - val_acc: 0.7558\n",
      "Epoch 87/100\n",
      "981/981 [==============================] - 8s 9ms/step - loss: 0.5840 - acc: 0.7703 - val_loss: 0.6472 - val_acc: 0.7570\n",
      "Epoch 88/100\n",
      "981/981 [==============================] - 9s 9ms/step - loss: 0.5819 - acc: 0.7713 - val_loss: 0.6498 - val_acc: 0.7537\n",
      "Epoch 89/100\n",
      "981/981 [==============================] - 8s 8ms/step - loss: 0.5828 - acc: 0.7706 - val_loss: 0.6520 - val_acc: 0.7563\n",
      "Epoch 90/100\n",
      "981/981 [==============================] - 8s 9ms/step - loss: 0.5844 - acc: 0.7699 - val_loss: 0.6546 - val_acc: 0.7564\n",
      "Epoch 91/100\n",
      "981/981 [==============================] - 11s 11ms/step - loss: 0.5825 - acc: 0.7715 - val_loss: 0.6499 - val_acc: 0.7571\n",
      "Epoch 92/100\n",
      "981/981 [==============================] - 10s 10ms/step - loss: 0.5815 - acc: 0.7708 - val_loss: 0.6567 - val_acc: 0.7561\n",
      "Epoch 93/100\n",
      "981/981 [==============================] - 10s 10ms/step - loss: 0.5816 - acc: 0.7706 - val_loss: 0.6591 - val_acc: 0.7565\n",
      "Epoch 94/100\n",
      "981/981 [==============================] - 9s 10ms/step - loss: 0.5802 - acc: 0.7716 - val_loss: 0.6513 - val_acc: 0.7576\n",
      "Epoch 95/100\n",
      "981/981 [==============================] - 9s 9ms/step - loss: 0.5798 - acc: 0.7712 - val_loss: 0.6497 - val_acc: 0.7565\n",
      "Epoch 96/100\n",
      "981/981 [==============================] - 8s 9ms/step - loss: 0.5783 - acc: 0.7718 - val_loss: 0.6514 - val_acc: 0.7586\n",
      "Epoch 97/100\n",
      "981/981 [==============================] - 9s 9ms/step - loss: 0.5786 - acc: 0.7719 - val_loss: 0.6541 - val_acc: 0.7578\n",
      "Epoch 98/100\n",
      "981/981 [==============================] - 9s 9ms/step - loss: 0.5772 - acc: 0.7715 - val_loss: 0.6535 - val_acc: 0.7570\n",
      "Epoch 99/100\n",
      "981/981 [==============================] - 10s 10ms/step - loss: 0.5785 - acc: 0.7711 - val_loss: 0.6473 - val_acc: 0.7571\n",
      "Epoch 100/100\n",
      "981/981 [==============================] - 10s 10ms/step - loss: 0.5760 - acc: 0.7733 - val_loss: 0.6563 - val_acc: 0.7571\n"
     ]
    }
   ],
   "source": [
    "# looking at how much I need to strip from the oversampled df\n",
    "diff = np.abs(df.shape[0]-over_class4.shape[0])\n",
    "print('original',df.shape[0])\n",
    "print('difference: ',diff)\n",
    "# since this did not \n",
    "X = over_class4.drop(columns = ['incident_name', 'unique_fire_identifier', 'class'])\n",
    "y = over_class4['class']\n",
    "y = to_categorical(y)\n",
    "# removing excessive data from the original df\n",
    "X_train, X_test, y_train, y_test = train_test_split(X, \n",
    "                                                    y, \n",
    "                                                    test_size=diff,\n",
    "                                                    random_state = 5, \n",
    "                                                    stratify = y)\n",
    "print('Back to original dataframe: ',X_train.shape[0])\n",
    "\n",
    "# actually removing the \n",
    "X_train, X_test, y_train, y_test = train_test_split(X_train,\n",
    "                                                    y_train, \n",
    "                                                    random_state = 5, \n",
    "                                                    stratify = y_train)\n",
    "\n",
    "sc = StandardScaler()\n",
    "Z_train = sc.fit_transform(X_train)\n",
    "Z_test = sc.transform(X_test)\n",
    "\n",
    "model4b = Sequential()\n",
    "model4b.add(Dense(128,\n",
    "                input_shape = (1400,),\n",
    "                activation = 'relu'))\n",
    "model4b.add(Dropout(0.2))\n",
    "model4b.add(Dense(64, activation = 'relu'))\n",
    "model4b.add(Dropout(0.2))\n",
    "model4b.add(Dense(32, activation = 'relu'))\n",
    "model4b.add(Dense(16, activation = 'relu'))\n",
    "model4b.add(Dense(16, activation = 'relu'))\n",
    "\n",
    "model4b.add(Dense(10, activation = 'softmax'))\n",
    "\n",
    "model4b.compile(loss = 'categorical_crossentropy',\n",
    "              optimizer = 'adam',\n",
    "              metrics = ['acc'])\n",
    "history = model4b.fit(Z_train, y_train,\n",
    "                    validation_data = (Z_test, y_test),\n",
    "                    epochs = 100,\n",
    "                    batch_size = 128,\n",
    "\n",
    "                      verbose = 1)"
   ]
  },
  {
   "cell_type": "markdown",
   "id": "f13003ef-80a2-409e-a317-60aceab3abca",
   "metadata": {},
   "source": [
    "---\n",
    "Best Overall Performing"
   ]
  },
  {
   "cell_type": "code",
   "execution_count": 16,
   "id": "b126eaed-ecf0-4722-829c-96beb87dbf94",
   "metadata": {},
   "outputs": [
    {
     "name": "stdin",
     "output_type": "stream",
     "text": [
      "What class do we want from needs to be an INT(our case ~ 0-9)? 5\n"
     ]
    },
    {
     "name": "stdout",
     "output_type": "stream",
     "text": [
      "248289\n"
     ]
    },
    {
     "data": {
      "text/plain": [
       "0    55304\n",
       "1    38521\n",
       "2    22983\n",
       "3    18783\n",
       "4    18783\n",
       "5    18783\n",
       "6    18783\n",
       "7    18783\n",
       "8    18783\n",
       "9    18783\n",
       "Name: class, dtype: int64"
      ]
     },
     "execution_count": 16,
     "metadata": {},
     "output_type": "execute_result"
    }
   ],
   "source": [
    "# use case example\n",
    "over_class5 = over_sampler(df,'class')\n",
    "print(over_class5.shape[0])\n",
    "over_class5['class'].value_counts()"
   ]
  },
  {
   "cell_type": "code",
   "execution_count": 59,
   "id": "3d9a4bcc-7a53-469c-be75-0325c13a2685",
   "metadata": {
    "scrolled": true,
    "tags": []
   },
   "outputs": [
    {
     "name": "stdout",
     "output_type": "stream",
     "text": [
      "original 167273\n",
      "difference:  81016\n",
      "Back to original dataframe:  167273\n",
      "Epoch 1/100\n",
      "981/981 [==============================] - 10s 10ms/step - loss: 1.3943 - acc: 0.4840 - val_loss: 1.0469 - val_acc: 0.6113\n",
      "Epoch 2/100\n",
      "981/981 [==============================] - 8s 8ms/step - loss: 1.0362 - acc: 0.6152 - val_loss: 0.9089 - val_acc: 0.6676\n",
      "Epoch 3/100\n",
      "981/981 [==============================] - 8s 8ms/step - loss: 0.9252 - acc: 0.6573 - val_loss: 0.8301 - val_acc: 0.6959\n",
      "Epoch 4/100\n",
      "981/981 [==============================] - 8s 9ms/step - loss: 0.8612 - acc: 0.6805 - val_loss: 0.8111 - val_acc: 0.6974\n",
      "Epoch 5/100\n",
      "981/981 [==============================] - 8s 8ms/step - loss: 0.8190 - acc: 0.6957 - val_loss: 0.7672 - val_acc: 0.7160\n",
      "Epoch 6/100\n",
      "981/981 [==============================] - 7s 8ms/step - loss: 0.7922 - acc: 0.7040 - val_loss: 0.7499 - val_acc: 0.7262\n",
      "Epoch 7/100\n",
      "981/981 [==============================] - 8s 8ms/step - loss: 0.7692 - acc: 0.7117 - val_loss: 0.7387 - val_acc: 0.7258\n",
      "Epoch 8/100\n",
      "981/981 [==============================] - 7s 7ms/step - loss: 0.7546 - acc: 0.7162 - val_loss: 0.7308 - val_acc: 0.7293\n",
      "Epoch 9/100\n",
      "981/981 [==============================] - 7s 8ms/step - loss: 0.7411 - acc: 0.7195 - val_loss: 0.7231 - val_acc: 0.7315\n",
      "Epoch 10/100\n",
      "981/981 [==============================] - 7s 7ms/step - loss: 0.7286 - acc: 0.7249 - val_loss: 0.7130 - val_acc: 0.7362\n",
      "Epoch 11/100\n",
      "981/981 [==============================] - 8s 8ms/step - loss: 0.7217 - acc: 0.7281 - val_loss: 0.7060 - val_acc: 0.7375\n",
      "Epoch 12/100\n",
      "981/981 [==============================] - 7s 8ms/step - loss: 0.7122 - acc: 0.7297 - val_loss: 0.7024 - val_acc: 0.7379\n",
      "Epoch 13/100\n",
      "981/981 [==============================] - 7s 7ms/step - loss: 0.7029 - acc: 0.7333 - val_loss: 0.7033 - val_acc: 0.7385\n",
      "Epoch 14/100\n",
      "981/981 [==============================] - 7s 8ms/step - loss: 0.6971 - acc: 0.7343 - val_loss: 0.7031 - val_acc: 0.7361\n",
      "Epoch 15/100\n",
      "981/981 [==============================] - 7s 7ms/step - loss: 0.6908 - acc: 0.7383 - val_loss: 0.7032 - val_acc: 0.7408\n",
      "Epoch 16/100\n",
      "981/981 [==============================] - 7s 7ms/step - loss: 0.6843 - acc: 0.7393 - val_loss: 0.6923 - val_acc: 0.7416\n",
      "Epoch 17/100\n",
      "981/981 [==============================] - 8s 8ms/step - loss: 0.6825 - acc: 0.7399 - val_loss: 0.6926 - val_acc: 0.7441\n",
      "Epoch 18/100\n",
      "981/981 [==============================] - 8s 8ms/step - loss: 0.6757 - acc: 0.7421 - val_loss: 0.6882 - val_acc: 0.7458\n",
      "Epoch 19/100\n",
      "981/981 [==============================] - 9s 9ms/step - loss: 0.6721 - acc: 0.7436 - val_loss: 0.6848 - val_acc: 0.7454\n",
      "Epoch 20/100\n",
      "981/981 [==============================] - 8s 8ms/step - loss: 0.6680 - acc: 0.7444 - val_loss: 0.6842 - val_acc: 0.7461\n",
      "Epoch 21/100\n",
      "981/981 [==============================] - 8s 8ms/step - loss: 0.6637 - acc: 0.7456 - val_loss: 0.6897 - val_acc: 0.7492\n",
      "Epoch 22/100\n",
      "981/981 [==============================] - 8s 8ms/step - loss: 0.6622 - acc: 0.7468 - val_loss: 0.6827 - val_acc: 0.7466\n",
      "Epoch 23/100\n",
      "981/981 [==============================] - 8s 8ms/step - loss: 0.6574 - acc: 0.7475 - val_loss: 0.6762 - val_acc: 0.7484\n",
      "Epoch 24/100\n",
      "981/981 [==============================] - 8s 8ms/step - loss: 0.6545 - acc: 0.7490 - val_loss: 0.6751 - val_acc: 0.7480\n",
      "Epoch 25/100\n",
      "981/981 [==============================] - 7s 8ms/step - loss: 0.6512 - acc: 0.7500 - val_loss: 0.6731 - val_acc: 0.7487\n",
      "Epoch 26/100\n",
      "981/981 [==============================] - 8s 8ms/step - loss: 0.6486 - acc: 0.7508 - val_loss: 0.6730 - val_acc: 0.7493\n",
      "Epoch 27/100\n",
      "981/981 [==============================] - 8s 8ms/step - loss: 0.6460 - acc: 0.7523 - val_loss: 0.6733 - val_acc: 0.7502\n",
      "Epoch 28/100\n",
      "981/981 [==============================] - 8s 8ms/step - loss: 0.6442 - acc: 0.7524 - val_loss: 0.6711 - val_acc: 0.7505\n",
      "Epoch 29/100\n",
      "981/981 [==============================] - 7s 8ms/step - loss: 0.6426 - acc: 0.7526 - val_loss: 0.6680 - val_acc: 0.7510\n",
      "Epoch 30/100\n",
      "981/981 [==============================] - 7s 7ms/step - loss: 0.6404 - acc: 0.7533 - val_loss: 0.6730 - val_acc: 0.7542\n",
      "Epoch 31/100\n",
      "981/981 [==============================] - 8s 8ms/step - loss: 0.6347 - acc: 0.7549 - val_loss: 0.6684 - val_acc: 0.7533\n",
      "Epoch 32/100\n",
      "981/981 [==============================] - 7s 8ms/step - loss: 0.6362 - acc: 0.7549 - val_loss: 0.6728 - val_acc: 0.7532\n",
      "Epoch 33/100\n",
      "981/981 [==============================] - 8s 8ms/step - loss: 0.6315 - acc: 0.7565 - val_loss: 0.6706 - val_acc: 0.7534\n",
      "Epoch 34/100\n",
      "981/981 [==============================] - 8s 8ms/step - loss: 0.6299 - acc: 0.7570 - val_loss: 0.6652 - val_acc: 0.7535\n",
      "Epoch 35/100\n",
      "981/981 [==============================] - 8s 8ms/step - loss: 0.6271 - acc: 0.7575 - val_loss: 0.6684 - val_acc: 0.7511\n",
      "Epoch 36/100\n",
      "981/981 [==============================] - 7s 8ms/step - loss: 0.6260 - acc: 0.7574 - val_loss: 0.6555 - val_acc: 0.7549\n",
      "Epoch 37/100\n",
      "981/981 [==============================] - 8s 8ms/step - loss: 0.6259 - acc: 0.7578 - val_loss: 0.6616 - val_acc: 0.7542\n",
      "Epoch 38/100\n",
      "981/981 [==============================] - 8s 8ms/step - loss: 0.6237 - acc: 0.7587 - val_loss: 0.6583 - val_acc: 0.7573\n",
      "Epoch 39/100\n",
      "981/981 [==============================] - 8s 8ms/step - loss: 0.6223 - acc: 0.7581 - val_loss: 0.6609 - val_acc: 0.7563\n",
      "Epoch 40/100\n",
      "981/981 [==============================] - 8s 8ms/step - loss: 0.6190 - acc: 0.7608 - val_loss: 0.6646 - val_acc: 0.7563\n",
      "Epoch 41/100\n",
      "981/981 [==============================] - 8s 8ms/step - loss: 0.6181 - acc: 0.7603 - val_loss: 0.6646 - val_acc: 0.7526\n",
      "Epoch 42/100\n",
      "981/981 [==============================] - 8s 8ms/step - loss: 0.6165 - acc: 0.7607 - val_loss: 0.6591 - val_acc: 0.7574\n",
      "Epoch 43/100\n",
      "981/981 [==============================] - 8s 8ms/step - loss: 0.6144 - acc: 0.7626 - val_loss: 0.6568 - val_acc: 0.7570\n",
      "Epoch 44/100\n",
      "981/981 [==============================] - 8s 8ms/step - loss: 0.6128 - acc: 0.7623 - val_loss: 0.6572 - val_acc: 0.7560\n",
      "Epoch 45/100\n",
      "981/981 [==============================] - 8s 8ms/step - loss: 0.6111 - acc: 0.7628 - val_loss: 0.6614 - val_acc: 0.7548\n",
      "Epoch 46/100\n",
      "981/981 [==============================] - 8s 8ms/step - loss: 0.6114 - acc: 0.7629 - val_loss: 0.6637 - val_acc: 0.7571\n",
      "Epoch 47/100\n",
      "981/981 [==============================] - 8s 8ms/step - loss: 0.6086 - acc: 0.7634 - val_loss: 0.6580 - val_acc: 0.7555\n",
      "Epoch 48/100\n",
      "981/981 [==============================] - 8s 9ms/step - loss: 0.6085 - acc: 0.7636 - val_loss: 0.6573 - val_acc: 0.7564\n",
      "Epoch 49/100\n",
      "981/981 [==============================] - 8s 9ms/step - loss: 0.6083 - acc: 0.7639 - val_loss: 0.6559 - val_acc: 0.7573\n",
      "Epoch 50/100\n",
      "981/981 [==============================] - 8s 8ms/step - loss: 0.6064 - acc: 0.7653 - val_loss: 0.6551 - val_acc: 0.7574\n",
      "Epoch 51/100\n",
      "981/981 [==============================] - 8s 8ms/step - loss: 0.6030 - acc: 0.7649 - val_loss: 0.6512 - val_acc: 0.7581\n",
      "Epoch 52/100\n",
      "981/981 [==============================] - 8s 8ms/step - loss: 0.6038 - acc: 0.7649 - val_loss: 0.6480 - val_acc: 0.7591\n",
      "Epoch 53/100\n",
      "981/981 [==============================] - 8s 8ms/step - loss: 0.6020 - acc: 0.7656 - val_loss: 0.6454 - val_acc: 0.7576\n",
      "Epoch 54/100\n",
      "981/981 [==============================] - 8s 8ms/step - loss: 0.6007 - acc: 0.7658 - val_loss: 0.6488 - val_acc: 0.7594\n",
      "Epoch 55/100\n",
      "981/981 [==============================] - 8s 8ms/step - loss: 0.6005 - acc: 0.7658 - val_loss: 0.6484 - val_acc: 0.7597\n",
      "Epoch 56/100\n",
      "981/981 [==============================] - 9s 9ms/step - loss: 0.5992 - acc: 0.7663 - val_loss: 0.6526 - val_acc: 0.7592\n",
      "Epoch 57/100\n",
      "981/981 [==============================] - 8s 8ms/step - loss: 0.5988 - acc: 0.7667 - val_loss: 0.6472 - val_acc: 0.7585\n",
      "Epoch 58/100\n",
      "981/981 [==============================] - 8s 9ms/step - loss: 0.5975 - acc: 0.7676 - val_loss: 0.6531 - val_acc: 0.7576\n",
      "Epoch 59/100\n",
      "981/981 [==============================] - 8s 9ms/step - loss: 0.5947 - acc: 0.7677 - val_loss: 0.6499 - val_acc: 0.7598\n",
      "Epoch 60/100\n",
      "981/981 [==============================] - 8s 8ms/step - loss: 0.5948 - acc: 0.7681 - val_loss: 0.6429 - val_acc: 0.7581\n",
      "Epoch 61/100\n",
      "981/981 [==============================] - 8s 8ms/step - loss: 0.5925 - acc: 0.7684 - val_loss: 0.6502 - val_acc: 0.7595\n",
      "Epoch 62/100\n",
      "981/981 [==============================] - 9s 9ms/step - loss: 0.5920 - acc: 0.7700 - val_loss: 0.6455 - val_acc: 0.7610\n",
      "Epoch 63/100\n",
      "981/981 [==============================] - 8s 8ms/step - loss: 0.5905 - acc: 0.7686 - val_loss: 0.6523 - val_acc: 0.7581\n",
      "Epoch 64/100\n",
      "981/981 [==============================] - 8s 8ms/step - loss: 0.5901 - acc: 0.7695 - val_loss: 0.6456 - val_acc: 0.7596\n",
      "Epoch 65/100\n",
      "981/981 [==============================] - 8s 8ms/step - loss: 0.5893 - acc: 0.7694 - val_loss: 0.6497 - val_acc: 0.7602\n",
      "Epoch 66/100\n",
      "981/981 [==============================] - 8s 8ms/step - loss: 0.5881 - acc: 0.7706 - val_loss: 0.6500 - val_acc: 0.7608\n",
      "Epoch 67/100\n",
      "981/981 [==============================] - 8s 8ms/step - loss: 0.5890 - acc: 0.7703 - val_loss: 0.6439 - val_acc: 0.7597\n",
      "Epoch 68/100\n",
      "981/981 [==============================] - 8s 8ms/step - loss: 0.5863 - acc: 0.7713 - val_loss: 0.6461 - val_acc: 0.7611\n",
      "Epoch 69/100\n",
      "981/981 [==============================] - 8s 8ms/step - loss: 0.5872 - acc: 0.7705 - val_loss: 0.6452 - val_acc: 0.7619\n",
      "Epoch 70/100\n",
      "981/981 [==============================] - 8s 8ms/step - loss: 0.5875 - acc: 0.7696 - val_loss: 0.6528 - val_acc: 0.7606\n",
      "Epoch 71/100\n",
      "981/981 [==============================] - 8s 8ms/step - loss: 0.5850 - acc: 0.7714 - val_loss: 0.6495 - val_acc: 0.7609\n",
      "Epoch 72/100\n",
      "981/981 [==============================] - 8s 8ms/step - loss: 0.5833 - acc: 0.7711 - val_loss: 0.6468 - val_acc: 0.7614\n",
      "Epoch 73/100\n",
      "981/981 [==============================] - 8s 8ms/step - loss: 0.5839 - acc: 0.7710 - val_loss: 0.6486 - val_acc: 0.7610\n",
      "Epoch 74/100\n",
      "981/981 [==============================] - 8s 8ms/step - loss: 0.5815 - acc: 0.7717 - val_loss: 0.6511 - val_acc: 0.7607\n",
      "Epoch 75/100\n",
      "981/981 [==============================] - 8s 8ms/step - loss: 0.5829 - acc: 0.7718 - val_loss: 0.6477 - val_acc: 0.7634\n",
      "Epoch 76/100\n",
      "981/981 [==============================] - 8s 8ms/step - loss: 0.5800 - acc: 0.7718 - val_loss: 0.6399 - val_acc: 0.7601\n",
      "Epoch 77/100\n",
      "981/981 [==============================] - 8s 8ms/step - loss: 0.5810 - acc: 0.7721 - val_loss: 0.6387 - val_acc: 0.7595\n",
      "Epoch 78/100\n",
      "981/981 [==============================] - 8s 8ms/step - loss: 0.5803 - acc: 0.7726 - val_loss: 0.6416 - val_acc: 0.7609\n",
      "Epoch 79/100\n",
      "981/981 [==============================] - 8s 8ms/step - loss: 0.5800 - acc: 0.7732 - val_loss: 0.6319 - val_acc: 0.7632\n",
      "Epoch 80/100\n",
      "981/981 [==============================] - 8s 8ms/step - loss: 0.5776 - acc: 0.7734 - val_loss: 0.6426 - val_acc: 0.7620\n",
      "Epoch 81/100\n",
      "981/981 [==============================] - 8s 8ms/step - loss: 0.5793 - acc: 0.7740 - val_loss: 0.6393 - val_acc: 0.7629\n",
      "Epoch 82/100\n",
      "981/981 [==============================] - 10s 10ms/step - loss: 0.5771 - acc: 0.7743 - val_loss: 0.6472 - val_acc: 0.7591\n",
      "Epoch 83/100\n",
      "981/981 [==============================] - 8s 8ms/step - loss: 0.5766 - acc: 0.7745 - val_loss: 0.6461 - val_acc: 0.7589\n",
      "Epoch 84/100\n",
      "981/981 [==============================] - 8s 8ms/step - loss: 0.5764 - acc: 0.7738 - val_loss: 0.6423 - val_acc: 0.7620\n",
      "Epoch 85/100\n",
      "981/981 [==============================] - 9s 9ms/step - loss: 0.5747 - acc: 0.7747 - val_loss: 0.6432 - val_acc: 0.7616\n",
      "Epoch 86/100\n",
      "981/981 [==============================] - 8s 8ms/step - loss: 0.5746 - acc: 0.7757 - val_loss: 0.6400 - val_acc: 0.7629\n",
      "Epoch 87/100\n",
      "981/981 [==============================] - 9s 9ms/step - loss: 0.5768 - acc: 0.7747 - val_loss: 0.6464 - val_acc: 0.7617\n",
      "Epoch 88/100\n",
      "981/981 [==============================] - 10s 10ms/step - loss: 0.5745 - acc: 0.7747 - val_loss: 0.6445 - val_acc: 0.7571\n",
      "Epoch 89/100\n",
      "981/981 [==============================] - 8s 8ms/step - loss: 0.5747 - acc: 0.7750 - val_loss: 0.6419 - val_acc: 0.7612\n",
      "Epoch 90/100\n",
      "981/981 [==============================] - 8s 8ms/step - loss: 0.5723 - acc: 0.7756 - val_loss: 0.6383 - val_acc: 0.7614\n",
      "Epoch 91/100\n",
      "981/981 [==============================] - 8s 8ms/step - loss: 0.5724 - acc: 0.7751 - val_loss: 0.6418 - val_acc: 0.7614\n",
      "Epoch 92/100\n",
      "981/981 [==============================] - 8s 8ms/step - loss: 0.5716 - acc: 0.7752 - val_loss: 0.6458 - val_acc: 0.7625\n",
      "Epoch 93/100\n",
      "981/981 [==============================] - 8s 8ms/step - loss: 0.5704 - acc: 0.7770 - val_loss: 0.6419 - val_acc: 0.7623\n",
      "Epoch 94/100\n",
      "981/981 [==============================] - 8s 8ms/step - loss: 0.5710 - acc: 0.7753 - val_loss: 0.6383 - val_acc: 0.7627\n",
      "Epoch 95/100\n",
      "981/981 [==============================] - 8s 8ms/step - loss: 0.5697 - acc: 0.7762 - val_loss: 0.6450 - val_acc: 0.7602\n",
      "Epoch 96/100\n",
      "981/981 [==============================] - 8s 8ms/step - loss: 0.5679 - acc: 0.7783 - val_loss: 0.6395 - val_acc: 0.7616\n",
      "Epoch 97/100\n",
      "981/981 [==============================] - 8s 8ms/step - loss: 0.5666 - acc: 0.7778 - val_loss: 0.6417 - val_acc: 0.7620\n",
      "Epoch 98/100\n",
      "981/981 [==============================] - 8s 8ms/step - loss: 0.5672 - acc: 0.7764 - val_loss: 0.6353 - val_acc: 0.7622\n",
      "Epoch 99/100\n",
      "981/981 [==============================] - 8s 8ms/step - loss: 0.5668 - acc: 0.7772 - val_loss: 0.6367 - val_acc: 0.7627\n",
      "Epoch 100/100\n",
      "981/981 [==============================] - 8s 8ms/step - loss: 0.5669 - acc: 0.7774 - val_loss: 0.6383 - val_acc: 0.7617\n"
     ]
    }
   ],
   "source": [
    "# looking at how much I need to strip from the oversampled df\n",
    "diff = np.abs(df.shape[0]-over_class5.shape[0])\n",
    "print('original',df.shape[0])\n",
    "print('difference: ',diff)\n",
    "# since this did not \n",
    "X = over_class5.drop(columns = ['incident_name', 'unique_fire_identifier', 'class'])\n",
    "y = over_class5['class']\n",
    "y = to_categorical(y)\n",
    "# removing excessive data from the original df\n",
    "X_train, X_test, y_train, y_test = train_test_split(X, \n",
    "                                                    y, \n",
    "                                                    test_size=diff,\n",
    "                                                    random_state = 5, \n",
    "                                                    stratify = y)\n",
    "print('Back to original dataframe: ',X_train.shape[0])\n",
    "\n",
    "# actually removing the \n",
    "X_train, X_test, y_train, y_test = train_test_split(X_train,\n",
    "                                                    y_train, \n",
    "                                                    random_state = 5, \n",
    "                                                    stratify = y_train)\n",
    "\n",
    "sc = StandardScaler()\n",
    "Z_train = sc.fit_transform(X_train)\n",
    "Z_test = sc.transform(X_test)\n",
    "\n",
    "model4c = Sequential()\n",
    "model4c.add(Dense(128,\n",
    "                input_shape = (1400,),\n",
    "                activation = 'relu'))\n",
    "model4c.add(Dropout(0.2))\n",
    "model4c.add(Dense(64, activation = 'relu'))\n",
    "model4c.add(Dropout(0.2))\n",
    "model4c.add(Dense(32, activation = 'relu'))\n",
    "model4c.add(Dense(16, activation = 'relu'))\n",
    "model4c.add(Dense(16, activation = 'relu'))\n",
    "\n",
    "model4c.add(Dense(10, activation = 'softmax'))\n",
    "\n",
    "model4c.compile(loss = 'categorical_crossentropy',\n",
    "              optimizer = 'adam',\n",
    "              metrics = ['acc'])\n",
    "history = model4c.fit(Z_train, y_train,\n",
    "                    validation_data = (Z_test, y_test),\n",
    "                    epochs = 100,\n",
    "                    batch_size = 128,\n",
    "\n",
    "                      verbose = 1)"
   ]
  },
  {
   "cell_type": "code",
   "execution_count": 65,
   "id": "80fd3e83-32ab-4998-9bb8-958acdbbc24a",
   "metadata": {},
   "outputs": [
    {
     "name": "stdout",
     "output_type": "stream",
     "text": [
      "              precision    recall  f1-score   support\n",
      "\n",
      "           0       0.65      0.20      0.30     13770\n",
      "           1       0.55      0.23      0.32      9591\n",
      "           2       0.82      0.21      0.33      5723\n",
      "           3       0.44      0.31      0.37      3335\n",
      "           4       0.30      0.06      0.09      4278\n",
      "           5       0.15      0.07      0.09      4677\n",
      "           6       0.00      0.05      0.00       107\n",
      "           7       0.00      0.06      0.00       124\n",
      "           8       0.01      0.04      0.02       107\n",
      "           9       0.37      1.00      0.54       107\n",
      "\n",
      "    accuracy                           0.19     41819\n",
      "   macro avg       0.33      0.22      0.21     41819\n",
      "weighted avg       0.53      0.19      0.27     41819\n",
      "\n"
     ]
    }
   ],
   "source": [
    "y_true = y_test\n",
    "y_pred = model4c.predict(X_test)\n",
    "preds = model4c.predict(Z_test)\n",
    "\n",
    "rounded_preds4c = np.argmax(preds, axis = -1)\n",
    "y_test4c = np.argmax(y_test, axis = -1)\n",
    "\n",
    "print(classification_report(y_test4c, rounded_preds4c))\n"
   ]
  },
  {
   "cell_type": "markdown",
   "id": "0646c5f5-d7ee-4e20-8de4-41050d9fa553",
   "metadata": {},
   "source": [
    "---"
   ]
  },
  {
   "cell_type": "code",
   "execution_count": null,
   "id": "e29674dc-1562-41d8-8bc0-e55d8d8c4070",
   "metadata": {},
   "outputs": [],
   "source": []
  },
  {
   "cell_type": "code",
   "execution_count": 19,
   "id": "e168ce59-dbbf-4ecc-b1d0-03413b931790",
   "metadata": {},
   "outputs": [
    {
     "name": "stdin",
     "output_type": "stream",
     "text": [
      "What class do we want from needs to be an INT(our case ~ 0-9)? 6\n"
     ]
    },
    {
     "name": "stdout",
     "output_type": "stream",
     "text": [
      "167961\n"
     ]
    },
    {
     "data": {
      "text/plain": [
       "0    55304\n",
       "1    38521\n",
       "2    22983\n",
       "5    18783\n",
       "4    17182\n",
       "3    13396\n",
       "7      499\n",
       "6      431\n",
       "8      431\n",
       "9      431\n",
       "Name: class, dtype: int64"
      ]
     },
     "execution_count": 19,
     "metadata": {},
     "output_type": "execute_result"
    }
   ],
   "source": [
    "# use case example\n",
    "over_class6 = over_sampler(df,'class')\n",
    "print(over_class6.shape[0])\n",
    "over_class6['class'].value_counts()"
   ]
  },
  {
   "cell_type": "code",
   "execution_count": 60,
   "id": "16a04639-ea52-4e51-a846-65e178046902",
   "metadata": {
    "scrolled": true,
    "tags": []
   },
   "outputs": [
    {
     "name": "stdout",
     "output_type": "stream",
     "text": [
      "original 167273\n",
      "difference:  688\n",
      "Back to original dataframe:  167273\n",
      "Epoch 1/100\n",
      "981/981 [==============================] - 9s 8ms/step - loss: 1.3237 - acc: 0.4977 - val_loss: 1.0857 - val_acc: 0.5840\n",
      "Epoch 2/100\n",
      "981/981 [==============================] - 8s 8ms/step - loss: 1.0734 - acc: 0.5900 - val_loss: 0.9939 - val_acc: 0.6156\n",
      "Epoch 3/100\n",
      "981/981 [==============================] - 8s 8ms/step - loss: 1.0090 - acc: 0.6114 - val_loss: 0.9537 - val_acc: 0.6299\n",
      "Epoch 4/100\n",
      "981/981 [==============================] - 7s 7ms/step - loss: 0.9672 - acc: 0.6261 - val_loss: 0.9267 - val_acc: 0.6399\n",
      "Epoch 5/100\n",
      "981/981 [==============================] - 8s 8ms/step - loss: 0.9370 - acc: 0.6345 - val_loss: 0.9060 - val_acc: 0.6437\n",
      "Epoch 6/100\n",
      "981/981 [==============================] - 10s 11ms/step - loss: 0.9131 - acc: 0.6414 - val_loss: 0.8830 - val_acc: 0.6506\n",
      "Epoch 7/100\n",
      "981/981 [==============================] - 8s 8ms/step - loss: 0.8934 - acc: 0.6477 - val_loss: 0.8748 - val_acc: 0.6544\n",
      "Epoch 8/100\n",
      "981/981 [==============================] - 7s 7ms/step - loss: 0.8745 - acc: 0.6533 - val_loss: 0.8583 - val_acc: 0.6590\n",
      "Epoch 9/100\n",
      "981/981 [==============================] - 8s 8ms/step - loss: 0.8609 - acc: 0.6568 - val_loss: 0.8500 - val_acc: 0.6608\n",
      "Epoch 10/100\n",
      "981/981 [==============================] - 8s 8ms/step - loss: 0.8465 - acc: 0.6607 - val_loss: 0.8376 - val_acc: 0.6635\n",
      "Epoch 11/100\n",
      "981/981 [==============================] - 9s 9ms/step - loss: 0.8338 - acc: 0.6655 - val_loss: 0.8297 - val_acc: 0.6668\n",
      "Epoch 12/100\n",
      "981/981 [==============================] - 7s 8ms/step - loss: 0.8246 - acc: 0.6663 - val_loss: 0.8213 - val_acc: 0.6696\n",
      "Epoch 13/100\n",
      "981/981 [==============================] - 8s 8ms/step - loss: 0.8105 - acc: 0.6711 - val_loss: 0.8109 - val_acc: 0.6738\n",
      "Epoch 14/100\n",
      "981/981 [==============================] - 8s 8ms/step - loss: 0.8016 - acc: 0.6733 - val_loss: 0.8097 - val_acc: 0.6735\n",
      "Epoch 15/100\n",
      "981/981 [==============================] - 8s 8ms/step - loss: 0.7927 - acc: 0.6767 - val_loss: 0.8032 - val_acc: 0.6775\n",
      "Epoch 16/100\n",
      "981/981 [==============================] - 8s 8ms/step - loss: 0.7846 - acc: 0.6780 - val_loss: 0.8012 - val_acc: 0.6776\n",
      "Epoch 17/100\n",
      "981/981 [==============================] - 8s 8ms/step - loss: 0.7776 - acc: 0.6820 - val_loss: 0.7878 - val_acc: 0.6801\n",
      "Epoch 18/100\n",
      "981/981 [==============================] - 8s 8ms/step - loss: 0.7700 - acc: 0.6825 - val_loss: 0.7831 - val_acc: 0.6824\n",
      "Epoch 19/100\n",
      "981/981 [==============================] - 8s 8ms/step - loss: 0.7637 - acc: 0.6852 - val_loss: 0.7800 - val_acc: 0.6812\n",
      "Epoch 20/100\n",
      "981/981 [==============================] - 7s 7ms/step - loss: 0.7561 - acc: 0.6874 - val_loss: 0.7842 - val_acc: 0.6824\n",
      "Epoch 21/100\n",
      "981/981 [==============================] - 8s 8ms/step - loss: 0.7518 - acc: 0.6881 - val_loss: 0.7773 - val_acc: 0.6839\n",
      "Epoch 22/100\n",
      "981/981 [==============================] - 8s 8ms/step - loss: 0.7459 - acc: 0.6909 - val_loss: 0.7656 - val_acc: 0.6891\n",
      "Epoch 23/100\n",
      "981/981 [==============================] - 8s 8ms/step - loss: 0.7399 - acc: 0.6922 - val_loss: 0.7723 - val_acc: 0.6859\n",
      "Epoch 24/100\n",
      "981/981 [==============================] - 7s 7ms/step - loss: 0.7362 - acc: 0.6921 - val_loss: 0.7679 - val_acc: 0.6877\n",
      "Epoch 25/100\n",
      "981/981 [==============================] - 7s 7ms/step - loss: 0.7329 - acc: 0.6942 - val_loss: 0.7630 - val_acc: 0.6896\n",
      "Epoch 26/100\n",
      "981/981 [==============================] - 9s 9ms/step - loss: 0.7308 - acc: 0.6947 - val_loss: 0.7635 - val_acc: 0.6892\n",
      "Epoch 27/100\n",
      "981/981 [==============================] - 8s 8ms/step - loss: 0.7249 - acc: 0.6973 - val_loss: 0.7536 - val_acc: 0.6946\n",
      "Epoch 28/100\n",
      "981/981 [==============================] - 8s 8ms/step - loss: 0.7189 - acc: 0.6982 - val_loss: 0.7542 - val_acc: 0.6936\n",
      "Epoch 29/100\n",
      "981/981 [==============================] - 8s 8ms/step - loss: 0.7170 - acc: 0.6984 - val_loss: 0.7579 - val_acc: 0.6919\n",
      "Epoch 30/100\n",
      "981/981 [==============================] - 8s 8ms/step - loss: 0.7133 - acc: 0.7012 - val_loss: 0.7482 - val_acc: 0.6952\n",
      "Epoch 31/100\n",
      "981/981 [==============================] - 7s 8ms/step - loss: 0.7110 - acc: 0.7020 - val_loss: 0.7488 - val_acc: 0.6946\n",
      "Epoch 32/100\n",
      "981/981 [==============================] - 8s 8ms/step - loss: 0.7059 - acc: 0.7037 - val_loss: 0.7409 - val_acc: 0.6953\n",
      "Epoch 33/100\n",
      "981/981 [==============================] - 8s 8ms/step - loss: 0.7041 - acc: 0.7046 - val_loss: 0.7395 - val_acc: 0.6985\n",
      "Epoch 34/100\n",
      "981/981 [==============================] - 8s 8ms/step - loss: 0.7006 - acc: 0.7031 - val_loss: 0.7466 - val_acc: 0.6954\n",
      "Epoch 35/100\n",
      "981/981 [==============================] - 7s 8ms/step - loss: 0.6998 - acc: 0.7046 - val_loss: 0.7397 - val_acc: 0.6976\n",
      "Epoch 36/100\n",
      "981/981 [==============================] - 8s 8ms/step - loss: 0.6976 - acc: 0.7059 - val_loss: 0.7371 - val_acc: 0.6984\n",
      "Epoch 37/100\n",
      "981/981 [==============================] - 7s 7ms/step - loss: 0.6944 - acc: 0.7062 - val_loss: 0.7377 - val_acc: 0.6983\n",
      "Epoch 38/100\n",
      "981/981 [==============================] - 7s 7ms/step - loss: 0.6933 - acc: 0.7070 - val_loss: 0.7310 - val_acc: 0.7007\n",
      "Epoch 39/100\n",
      "981/981 [==============================] - 9s 9ms/step - loss: 0.6891 - acc: 0.7077 - val_loss: 0.7348 - val_acc: 0.7011\n",
      "Epoch 40/100\n",
      "981/981 [==============================] - 7s 7ms/step - loss: 0.6869 - acc: 0.7087 - val_loss: 0.7342 - val_acc: 0.7006\n",
      "Epoch 41/100\n",
      "981/981 [==============================] - 7s 7ms/step - loss: 0.6859 - acc: 0.7108 - val_loss: 0.7375 - val_acc: 0.6984\n",
      "Epoch 42/100\n",
      "981/981 [==============================] - 7s 7ms/step - loss: 0.6814 - acc: 0.7113 - val_loss: 0.7409 - val_acc: 0.6975\n",
      "Epoch 43/100\n",
      "981/981 [==============================] - 8s 8ms/step - loss: 0.6804 - acc: 0.7109 - val_loss: 0.7324 - val_acc: 0.7009\n",
      "Epoch 44/100\n",
      "981/981 [==============================] - 7s 7ms/step - loss: 0.6805 - acc: 0.7121 - val_loss: 0.7297 - val_acc: 0.7010\n",
      "Epoch 45/100\n",
      "981/981 [==============================] - 8s 8ms/step - loss: 0.6765 - acc: 0.7135 - val_loss: 0.7268 - val_acc: 0.7010\n",
      "Epoch 46/100\n",
      "981/981 [==============================] - 7s 7ms/step - loss: 0.6768 - acc: 0.7124 - val_loss: 0.7312 - val_acc: 0.7005\n",
      "Epoch 47/100\n",
      "981/981 [==============================] - 8s 8ms/step - loss: 0.6760 - acc: 0.7129 - val_loss: 0.7308 - val_acc: 0.6999\n",
      "Epoch 48/100\n",
      "981/981 [==============================] - 7s 7ms/step - loss: 0.6721 - acc: 0.7148 - val_loss: 0.7348 - val_acc: 0.7020\n",
      "Epoch 49/100\n",
      "981/981 [==============================] - 7s 7ms/step - loss: 0.6721 - acc: 0.7131 - val_loss: 0.7320 - val_acc: 0.7011\n",
      "Epoch 50/100\n",
      "981/981 [==============================] - 7s 8ms/step - loss: 0.6682 - acc: 0.7160 - val_loss: 0.7383 - val_acc: 0.7020\n",
      "Epoch 51/100\n",
      "981/981 [==============================] - 7s 8ms/step - loss: 0.6670 - acc: 0.7166 - val_loss: 0.7371 - val_acc: 0.7014\n",
      "Epoch 52/100\n",
      "981/981 [==============================] - 7s 7ms/step - loss: 0.6655 - acc: 0.7168 - val_loss: 0.7369 - val_acc: 0.6992\n",
      "Epoch 53/100\n",
      "981/981 [==============================] - 8s 8ms/step - loss: 0.6651 - acc: 0.7169 - val_loss: 0.7285 - val_acc: 0.7006\n",
      "Epoch 54/100\n",
      "981/981 [==============================] - 8s 8ms/step - loss: 0.6644 - acc: 0.7169 - val_loss: 0.7140 - val_acc: 0.7061\n",
      "Epoch 55/100\n",
      "981/981 [==============================] - 8s 8ms/step - loss: 0.6604 - acc: 0.7179 - val_loss: 0.7246 - val_acc: 0.7034\n",
      "Epoch 56/100\n",
      "981/981 [==============================] - 8s 8ms/step - loss: 0.6621 - acc: 0.7171 - val_loss: 0.7140 - val_acc: 0.7067\n",
      "Epoch 57/100\n",
      "981/981 [==============================] - 7s 8ms/step - loss: 0.6588 - acc: 0.7195 - val_loss: 0.7130 - val_acc: 0.7038\n",
      "Epoch 58/100\n",
      "981/981 [==============================] - 8s 8ms/step - loss: 0.6588 - acc: 0.7179 - val_loss: 0.7155 - val_acc: 0.7034\n",
      "Epoch 59/100\n",
      "981/981 [==============================] - 8s 8ms/step - loss: 0.6560 - acc: 0.7190 - val_loss: 0.7098 - val_acc: 0.7044\n",
      "Epoch 60/100\n",
      "981/981 [==============================] - 8s 8ms/step - loss: 0.6562 - acc: 0.7197 - val_loss: 0.7146 - val_acc: 0.7068\n",
      "Epoch 61/100\n",
      "981/981 [==============================] - 7s 7ms/step - loss: 0.6538 - acc: 0.7210 - val_loss: 0.7166 - val_acc: 0.7056\n",
      "Epoch 62/100\n",
      "981/981 [==============================] - 7s 8ms/step - loss: 0.6527 - acc: 0.7200 - val_loss: 0.7097 - val_acc: 0.7062\n",
      "Epoch 63/100\n",
      "981/981 [==============================] - 8s 8ms/step - loss: 0.6499 - acc: 0.7213 - val_loss: 0.7075 - val_acc: 0.7062\n",
      "Epoch 64/100\n",
      "981/981 [==============================] - 8s 8ms/step - loss: 0.6496 - acc: 0.7225 - val_loss: 0.7147 - val_acc: 0.7067\n",
      "Epoch 65/100\n",
      "981/981 [==============================] - 7s 7ms/step - loss: 0.6471 - acc: 0.7244 - val_loss: 0.7076 - val_acc: 0.7076\n",
      "Epoch 66/100\n",
      "981/981 [==============================] - 7s 7ms/step - loss: 0.6485 - acc: 0.7220 - val_loss: 0.7101 - val_acc: 0.7057\n",
      "Epoch 67/100\n",
      "981/981 [==============================] - 8s 8ms/step - loss: 0.6483 - acc: 0.7224 - val_loss: 0.7047 - val_acc: 0.7099\n",
      "Epoch 68/100\n",
      "981/981 [==============================] - 7s 7ms/step - loss: 0.6468 - acc: 0.7231 - val_loss: 0.7073 - val_acc: 0.7065\n",
      "Epoch 69/100\n",
      "981/981 [==============================] - 8s 8ms/step - loss: 0.6437 - acc: 0.7242 - val_loss: 0.7086 - val_acc: 0.7068\n",
      "Epoch 70/100\n",
      "981/981 [==============================] - 8s 8ms/step - loss: 0.6443 - acc: 0.7233 - val_loss: 0.7029 - val_acc: 0.7077\n",
      "Epoch 71/100\n",
      "981/981 [==============================] - 8s 8ms/step - loss: 0.6428 - acc: 0.7258 - val_loss: 0.7018 - val_acc: 0.7061\n",
      "Epoch 72/100\n",
      "981/981 [==============================] - 8s 8ms/step - loss: 0.6406 - acc: 0.7254 - val_loss: 0.7064 - val_acc: 0.7064\n",
      "Epoch 73/100\n",
      "981/981 [==============================] - 8s 8ms/step - loss: 0.6403 - acc: 0.7249 - val_loss: 0.7046 - val_acc: 0.7075\n",
      "Epoch 74/100\n",
      "981/981 [==============================] - 8s 8ms/step - loss: 0.6419 - acc: 0.7247 - val_loss: 0.7038 - val_acc: 0.7059\n",
      "Epoch 75/100\n",
      "981/981 [==============================] - 9s 9ms/step - loss: 0.6384 - acc: 0.7264 - val_loss: 0.7043 - val_acc: 0.7084\n",
      "Epoch 76/100\n",
      "981/981 [==============================] - 8s 8ms/step - loss: 0.6382 - acc: 0.7270 - val_loss: 0.7059 - val_acc: 0.7074\n",
      "Epoch 77/100\n",
      "981/981 [==============================] - 8s 8ms/step - loss: 0.6360 - acc: 0.7273 - val_loss: 0.7029 - val_acc: 0.7078\n",
      "Epoch 78/100\n",
      "981/981 [==============================] - 9s 10ms/step - loss: 0.6362 - acc: 0.7269 - val_loss: 0.7041 - val_acc: 0.7085\n",
      "Epoch 79/100\n",
      "981/981 [==============================] - 9s 9ms/step - loss: 0.6331 - acc: 0.7279 - val_loss: 0.7076 - val_acc: 0.7075\n",
      "Epoch 80/100\n",
      "981/981 [==============================] - 8s 8ms/step - loss: 0.6348 - acc: 0.7255 - val_loss: 0.7075 - val_acc: 0.7067\n",
      "Epoch 81/100\n",
      "981/981 [==============================] - 8s 9ms/step - loss: 0.6338 - acc: 0.7283 - val_loss: 0.7087 - val_acc: 0.7068\n",
      "Epoch 82/100\n",
      "981/981 [==============================] - 8s 8ms/step - loss: 0.6337 - acc: 0.7268 - val_loss: 0.6999 - val_acc: 0.7091\n",
      "Epoch 83/100\n",
      "981/981 [==============================] - 8s 9ms/step - loss: 0.6307 - acc: 0.7285 - val_loss: 0.7028 - val_acc: 0.7066\n",
      "Epoch 84/100\n",
      "981/981 [==============================] - 8s 8ms/step - loss: 0.6311 - acc: 0.7289 - val_loss: 0.7084 - val_acc: 0.7071\n",
      "Epoch 85/100\n",
      "981/981 [==============================] - 8s 8ms/step - loss: 0.6312 - acc: 0.7287 - val_loss: 0.7091 - val_acc: 0.7075\n",
      "Epoch 86/100\n",
      "981/981 [==============================] - 8s 8ms/step - loss: 0.6291 - acc: 0.7293 - val_loss: 0.7109 - val_acc: 0.7082\n",
      "Epoch 87/100\n",
      "981/981 [==============================] - 8s 8ms/step - loss: 0.6285 - acc: 0.7301 - val_loss: 0.7097 - val_acc: 0.7071\n",
      "Epoch 88/100\n",
      "981/981 [==============================] - 8s 9ms/step - loss: 0.6267 - acc: 0.7303 - val_loss: 0.7075 - val_acc: 0.7063\n",
      "Epoch 89/100\n",
      "981/981 [==============================] - 9s 9ms/step - loss: 0.6244 - acc: 0.7312 - val_loss: 0.7034 - val_acc: 0.7068\n",
      "Epoch 90/100\n",
      "981/981 [==============================] - 8s 8ms/step - loss: 0.6254 - acc: 0.7302 - val_loss: 0.7079 - val_acc: 0.7092\n",
      "Epoch 91/100\n",
      "981/981 [==============================] - 8s 8ms/step - loss: 0.6233 - acc: 0.7322 - val_loss: 0.7033 - val_acc: 0.7098\n",
      "Epoch 92/100\n",
      "981/981 [==============================] - 8s 8ms/step - loss: 0.6241 - acc: 0.7324 - val_loss: 0.7082 - val_acc: 0.7086\n",
      "Epoch 93/100\n",
      "981/981 [==============================] - 8s 8ms/step - loss: 0.6224 - acc: 0.7314 - val_loss: 0.7034 - val_acc: 0.7100\n",
      "Epoch 94/100\n",
      "981/981 [==============================] - 8s 8ms/step - loss: 0.6228 - acc: 0.7319 - val_loss: 0.7000 - val_acc: 0.7095\n",
      "Epoch 95/100\n",
      "981/981 [==============================] - 8s 8ms/step - loss: 0.6220 - acc: 0.7327 - val_loss: 0.7058 - val_acc: 0.7076\n",
      "Epoch 96/100\n",
      "981/981 [==============================] - 8s 8ms/step - loss: 0.6223 - acc: 0.7323 - val_loss: 0.7009 - val_acc: 0.7104\n",
      "Epoch 97/100\n",
      "981/981 [==============================] - 8s 9ms/step - loss: 0.6208 - acc: 0.7327 - val_loss: 0.6996 - val_acc: 0.7089\n",
      "Epoch 98/100\n",
      "981/981 [==============================] - 8s 8ms/step - loss: 0.6207 - acc: 0.7314 - val_loss: 0.7000 - val_acc: 0.7119\n",
      "Epoch 99/100\n",
      "981/981 [==============================] - 8s 8ms/step - loss: 0.6180 - acc: 0.7337 - val_loss: 0.6982 - val_acc: 0.7109\n",
      "Epoch 100/100\n",
      "981/981 [==============================] - 8s 8ms/step - loss: 0.6171 - acc: 0.7334 - val_loss: 0.7072 - val_acc: 0.7107\n"
     ]
    }
   ],
   "source": [
    "# looking at how much I need to strip from the oversampled df\n",
    "diff = np.abs(df.shape[0]-over_class6.shape[0])\n",
    "print('original',df.shape[0])\n",
    "print('difference: ',diff)\n",
    "# since this did not \n",
    "X = over_class6.drop(columns = ['incident_name', 'unique_fire_identifier', 'class'])\n",
    "y = over_class6['class']\n",
    "y = to_categorical(y)\n",
    "# removing excessive data from the original df\n",
    "X_train, X_test, y_train, y_test = train_test_split(X, \n",
    "                                                    y, \n",
    "                                                    test_size=diff,\n",
    "                                                    random_state = 5, \n",
    "                                                    stratify = y)\n",
    "print('Back to original dataframe: ',X_train.shape[0])\n",
    "\n",
    "# actually removing the \n",
    "X_train, X_test, y_train, y_test = train_test_split(X_train,\n",
    "                                                    y_train, \n",
    "                                                    random_state = 5, \n",
    "                                                    stratify = y_train)\n",
    "\n",
    "sc = StandardScaler()\n",
    "Z_train = sc.fit_transform(X_train)\n",
    "Z_test = sc.transform(X_test)\n",
    "\n",
    "model4d = Sequential()\n",
    "model4d.add(Dense(128,\n",
    "                input_shape = (1400,),\n",
    "                activation = 'relu'))\n",
    "model4d.add(Dropout(0.2))\n",
    "model4d.add(Dense(64, activation = 'relu'))\n",
    "model4d.add(Dropout(0.2))\n",
    "model4d.add(Dense(32, activation = 'relu'))\n",
    "model4d.add(Dense(16, activation = 'relu'))\n",
    "model4d.add(Dense(16, activation = 'relu'))\n",
    "\n",
    "model4d.add(Dense(10, activation = 'softmax'))\n",
    "\n",
    "model4d.compile(loss = 'categorical_crossentropy',\n",
    "              optimizer = 'adam',\n",
    "              metrics = ['acc'])\n",
    "history = model4d.fit(Z_train, y_train,\n",
    "                    validation_data = (Z_test, y_test),\n",
    "                    epochs = 100,\n",
    "                    batch_size = 128,\n",
    "\n",
    "                      verbose = 1)"
   ]
  },
  {
   "cell_type": "markdown",
   "id": "b5e76337-7679-4b1e-8c40-6d3d0ee1b4a8",
   "metadata": {},
   "source": [
    "---\n",
    "Exporting Neural Net ([source](https://colab.research.google.com/github/tensorflow/docs/blob/master/site/en/tutorials/distribute/save_and_load.ipynb#scrollTo=WrXAAVtrzRgv))  \n",
    "This is for proof of concept for streamlit app purposes ONLY feel free to skip code below."
   ]
  },
  {
   "cell_type": "code",
   "execution_count": 25,
   "id": "d785d447-6875-4731-a640-d22a91268199",
   "metadata": {},
   "outputs": [
    {
     "name": "stdout",
     "output_type": "stream",
     "text": [
      "INFO:tensorflow:Assets written to: ./keras_save/assets\n"
     ]
    }
   ],
   "source": [
    "# exporting demo for streamlit\n",
    "keras_model_path = './keras_save'\n",
    "model.save(keras_model_path)"
   ]
  },
  {
   "cell_type": "code",
   "execution_count": 31,
   "id": "b5f3a33d-981e-45d2-bc2e-56d7a58be26d",
   "metadata": {},
   "outputs": [],
   "source": [
    "restored_keras_model = tf.keras.models.load_model(keras_model_path)\n",
    "restored_preds = restored_keras_model.predict(Z_test)"
   ]
  },
  {
   "cell_type": "code",
   "execution_count": 41,
   "id": "6d1cd608-eb71-4144-a092-5f0b761752f9",
   "metadata": {},
   "outputs": [
    {
     "name": "stdout",
     "output_type": "stream",
     "text": [
      "              precision    recall  f1-score   support\n",
      "\n",
      "           0       0.67      0.78      0.72     13826\n",
      "           1       0.49      0.47      0.48      9630\n",
      "           2       0.65      0.51      0.57      5746\n",
      "           3       0.76      0.65      0.70      3349\n",
      "           4       0.93      0.92      0.92      4295\n",
      "           5       0.97      0.98      0.98      4696\n",
      "           6       0.64      0.45      0.53       108\n",
      "           7       0.84      0.87      0.85       125\n",
      "           8       1.00      0.35      0.52        23\n",
      "           9       0.78      1.00      0.88        21\n",
      "\n",
      "    accuracy                           0.70     41819\n",
      "   macro avg       0.77      0.70      0.71     41819\n",
      "weighted avg       0.69      0.70      0.69     41819\n",
      "\n"
     ]
    }
   ],
   "source": [
    "# 0riginal model above\n",
    "y_true = y_test\n",
    "preds = model.predict(Z_test)\n",
    "rounded_preds = np.argmax(preds, axis = -1)\n",
    "y_test_demo = np.argmax(y_test, axis = -1)\n",
    "print(classification_report(y_test_demo, rounded_preds))"
   ]
  },
  {
   "cell_type": "code",
   "execution_count": 40,
   "id": "f369c5a5-9e53-4c14-b99b-87a63bb7bb6f",
   "metadata": {},
   "outputs": [
    {
     "name": "stdout",
     "output_type": "stream",
     "text": [
      "              precision    recall  f1-score   support\n",
      "\n",
      "           0       0.67      0.78      0.72     13826\n",
      "           1       0.49      0.47      0.48      9630\n",
      "           2       0.65      0.51      0.57      5746\n",
      "           3       0.76      0.65      0.70      3349\n",
      "           4       0.93      0.92      0.92      4295\n",
      "           5       0.97      0.98      0.98      4696\n",
      "           6       0.64      0.45      0.53       108\n",
      "           7       0.84      0.87      0.85       125\n",
      "           8       1.00      0.35      0.52        23\n",
      "           9       0.78      1.00      0.88        21\n",
      "\n",
      "    accuracy                           0.70     41819\n",
      "   macro avg       0.77      0.70      0.71     41819\n",
      "weighted avg       0.69      0.70      0.69     41819\n",
      "\n"
     ]
    }
   ],
   "source": [
    "y_true = y_test\n",
    "y_pred = restored_keras_model.predict(X_test)\n",
    "preds = restored_keras_model.predict(Z_test)\n",
    "rounded_preds_pickle = np.argmax(preds, axis = -1)\n",
    "y_test_demo = np.argmax(y_test, axis = -1)\n",
    "print(classification_report(y_test_demo, rounded_preds_pickle))"
   ]
  },
  {
   "cell_type": "code",
   "execution_count": 37,
   "id": "7d50dc7c-1a94-40ed-ab48-ded1f4deaa5c",
   "metadata": {},
   "outputs": [
    {
     "data": {
      "image/png": "[encoded data removed]",
      "text/plain": [
       "<Figure size 720x720 with 2 Axes>"
      ]
     },
     "metadata": {
      "needs_background": "light"
     },
     "output_type": "display_data"
    }
   ],
   "source": [
    "rounded_preds = np.argmax(restored_preds, axis = -1)\n",
    "y_test2 = np.argmax(y_test, axis = -1)\n",
    "cm = confusion_matrix(y_test2, rounded_preds)\n",
    "disp = ConfusionMatrixDisplay(confusion_matrix = cm,)\n",
    "fig, ax = plt.subplots(figsize=(10,10))\n",
    "disp.plot(ax=ax);"
   ]
  },
  {
   "cell_type": "markdown",
   "id": "45f57457-916a-41c7-9a44-f454a1016661",
   "metadata": {},
   "source": [
    "# Using dataset with imputed averages by region (imputed_complete_fire)"
   ]
  },
  {
   "cell_type": "code",
   "execution_count": 15,
   "id": "486de036-90af-4403-9600-192f7dfcdfcc",
   "metadata": {},
   "outputs": [
    {
     "data": {
      "text/html": [
       "<div>\n",
       "<style scoped>\n",
       "    .dataframe tbody tr th:only-of-type {\n",
       "        vertical-align: middle;\n",
       "    }\n",
       "\n",
       "    .dataframe tbody tr th {\n",
       "        vertical-align: top;\n",
       "    }\n",
       "\n",
       "    .dataframe thead th {\n",
       "        text-align: right;\n",
       "    }\n",
       "</style>\n",
       "<table border=\"1\" class=\"dataframe\">\n",
       "  <thead>\n",
       "    <tr style=\"text-align: right;\">\n",
       "      <th></th>\n",
       "      <th>unique_fire_identifier</th>\n",
       "      <th>lattitude</th>\n",
       "      <th>longitude</th>\n",
       "      <th>acres_burned</th>\n",
       "      <th>fire_cause</th>\n",
       "      <th>incident_name</th>\n",
       "      <th>IsFSAssisted</th>\n",
       "      <th>origin_county</th>\n",
       "      <th>state</th>\n",
       "      <th>year</th>\n",
       "      <th>...</th>\n",
       "      <th>population</th>\n",
       "      <th>d0</th>\n",
       "      <th>d1</th>\n",
       "      <th>d2</th>\n",
       "      <th>d3</th>\n",
       "      <th>d4</th>\n",
       "      <th>DSCI_avg</th>\n",
       "      <th>DSCI_summed</th>\n",
       "      <th>precipitation(in)</th>\n",
       "      <th>regions</th>\n",
       "    </tr>\n",
       "  </thead>\n",
       "  <tbody>\n",
       "    <tr>\n",
       "      <th>0</th>\n",
       "      <td>2003-WYCMX-200237</td>\n",
       "      <td>-105.563067</td>\n",
       "      <td>44.603340</td>\n",
       "      <td>139.091837</td>\n",
       "      <td>Unknown</td>\n",
       "      <td>SCHWARTZ</td>\n",
       "      <td>1.0</td>\n",
       "      <td>Campbell</td>\n",
       "      <td>WY</td>\n",
       "      <td>2003</td>\n",
       "      <td>...</td>\n",
       "      <td>3.303917e+06</td>\n",
       "      <td>18.249151</td>\n",
       "      <td>14.653462</td>\n",
       "      <td>12.028498</td>\n",
       "      <td>11.200130</td>\n",
       "      <td>5.348644</td>\n",
       "      <td>184.442738</td>\n",
       "      <td>802.985483</td>\n",
       "      <td>0.049736</td>\n",
       "      <td>Mountain</td>\n",
       "    </tr>\n",
       "    <tr>\n",
       "      <th>1</th>\n",
       "      <td>2004-CABDU-006784</td>\n",
       "      <td>-117.076679</td>\n",
       "      <td>34.733894</td>\n",
       "      <td>1906.698008</td>\n",
       "      <td>Unknown</td>\n",
       "      <td>MENTONE</td>\n",
       "      <td>1.0</td>\n",
       "      <td>San Bernardino</td>\n",
       "      <td>CA</td>\n",
       "      <td>2004</td>\n",
       "      <td>...</td>\n",
       "      <td>3.680509e+07</td>\n",
       "      <td>12.676957</td>\n",
       "      <td>14.073960</td>\n",
       "      <td>14.320113</td>\n",
       "      <td>15.726569</td>\n",
       "      <td>9.183301</td>\n",
       "      <td>225.324333</td>\n",
       "      <td>972.517550</td>\n",
       "      <td>0.020251</td>\n",
       "      <td>Pacific</td>\n",
       "    </tr>\n",
       "    <tr>\n",
       "      <th>2</th>\n",
       "      <td>2008-IDGBK-000002</td>\n",
       "      <td>-116.216680</td>\n",
       "      <td>43.666673</td>\n",
       "      <td>685.728842</td>\n",
       "      <td>Unknown</td>\n",
       "      <td>NIFC RAMP SUPPORT</td>\n",
       "      <td>1.0</td>\n",
       "      <td>Ada</td>\n",
       "      <td>ID</td>\n",
       "      <td>2008</td>\n",
       "      <td>...</td>\n",
       "      <td>3.303917e+06</td>\n",
       "      <td>18.249151</td>\n",
       "      <td>14.653462</td>\n",
       "      <td>12.028498</td>\n",
       "      <td>11.200130</td>\n",
       "      <td>5.348644</td>\n",
       "      <td>184.442738</td>\n",
       "      <td>802.985483</td>\n",
       "      <td>0.049736</td>\n",
       "      <td>Mountain</td>\n",
       "    </tr>\n",
       "    <tr>\n",
       "      <th>3</th>\n",
       "      <td>2008-IDCTF-008902</td>\n",
       "      <td>-111.426912</td>\n",
       "      <td>42.096336</td>\n",
       "      <td>20.000000</td>\n",
       "      <td>Unknown</td>\n",
       "      <td>St. Charles RX</td>\n",
       "      <td>0.0</td>\n",
       "      <td>Bear Lake</td>\n",
       "      <td>ID</td>\n",
       "      <td>2008</td>\n",
       "      <td>...</td>\n",
       "      <td>3.303917e+06</td>\n",
       "      <td>18.249151</td>\n",
       "      <td>14.653462</td>\n",
       "      <td>12.028498</td>\n",
       "      <td>11.200130</td>\n",
       "      <td>5.348644</td>\n",
       "      <td>184.442738</td>\n",
       "      <td>802.985483</td>\n",
       "      <td>0.049736</td>\n",
       "      <td>Mountain</td>\n",
       "    </tr>\n",
       "    <tr>\n",
       "      <th>4</th>\n",
       "      <td>2008-AZPNF-000975</td>\n",
       "      <td>-112.072414</td>\n",
       "      <td>34.598306</td>\n",
       "      <td>77.946287</td>\n",
       "      <td>Unknown</td>\n",
       "      <td>Mingus/Cherry Rx</td>\n",
       "      <td>0.0</td>\n",
       "      <td>Yavapai</td>\n",
       "      <td>AZ</td>\n",
       "      <td>2008</td>\n",
       "      <td>...</td>\n",
       "      <td>3.303917e+06</td>\n",
       "      <td>18.249151</td>\n",
       "      <td>14.653462</td>\n",
       "      <td>12.028498</td>\n",
       "      <td>11.200130</td>\n",
       "      <td>5.348644</td>\n",
       "      <td>184.442738</td>\n",
       "      <td>802.985483</td>\n",
       "      <td>0.049736</td>\n",
       "      <td>Mountain</td>\n",
       "    </tr>\n",
       "  </tbody>\n",
       "</table>\n",
       "<p>5 rows × 24 columns</p>\n",
       "</div>"
      ],
      "text/plain": [
       "  unique_fire_identifier   lattitude  longitude  acres_burned fire_cause  \\\n",
       "0      2003-WYCMX-200237 -105.563067  44.603340    139.091837    Unknown   \n",
       "1      2004-CABDU-006784 -117.076679  34.733894   1906.698008    Unknown   \n",
       "2      2008-IDGBK-000002 -116.216680  43.666673    685.728842    Unknown   \n",
       "3      2008-IDCTF-008902 -111.426912  42.096336     20.000000    Unknown   \n",
       "4      2008-AZPNF-000975 -112.072414  34.598306     77.946287    Unknown   \n",
       "\n",
       "       incident_name  IsFSAssisted   origin_county state  year  ...  \\\n",
       "0           SCHWARTZ           1.0        Campbell    WY  2003  ...   \n",
       "1            MENTONE           1.0  San Bernardino    CA  2004  ...   \n",
       "2  NIFC RAMP SUPPORT           1.0             Ada    ID  2008  ...   \n",
       "3     St. Charles RX           0.0       Bear Lake    ID  2008  ...   \n",
       "4   Mingus/Cherry Rx           0.0         Yavapai    AZ  2008  ...   \n",
       "\n",
       "     population         d0         d1         d2         d3        d4  \\\n",
       "0  3.303917e+06  18.249151  14.653462  12.028498  11.200130  5.348644   \n",
       "1  3.680509e+07  12.676957  14.073960  14.320113  15.726569  9.183301   \n",
       "2  3.303917e+06  18.249151  14.653462  12.028498  11.200130  5.348644   \n",
       "3  3.303917e+06  18.249151  14.653462  12.028498  11.200130  5.348644   \n",
       "4  3.303917e+06  18.249151  14.653462  12.028498  11.200130  5.348644   \n",
       "\n",
       "     DSCI_avg  DSCI_summed  precipitation(in)   regions  \n",
       "0  184.442738   802.985483           0.049736  Mountain  \n",
       "1  225.324333   972.517550           0.020251   Pacific  \n",
       "2  184.442738   802.985483           0.049736  Mountain  \n",
       "3  184.442738   802.985483           0.049736  Mountain  \n",
       "4  184.442738   802.985483           0.049736  Mountain  \n",
       "\n",
       "[5 rows x 24 columns]"
      ]
     },
     "execution_count": 15,
     "metadata": {},
     "output_type": "execute_result"
    }
   ],
   "source": [
    "df_imputed = pd.read_csv('../../Data/imputed_complete_fire.csv')\n",
    "df_imputed.drop(columns = 'Unnamed: 0',inplace=True)\n",
    "df_imputed.head()"
   ]
  },
  {
   "cell_type": "code",
   "execution_count": 16,
   "id": "6a091594-fa17-4b6c-ad88-dbaacd28b877",
   "metadata": {},
   "outputs": [],
   "source": [
    "conditions = [df_imputed['acres_burned'] <= .25,\n",
    "             (df_imputed['acres_burned'] > .25) & (df_imputed['acres_burned'] <= 9.9),\n",
    "             (df_imputed['acres_burned'] > 9.9) & (df_imputed['acres_burned'] <= 99.99),\n",
    "             (df_imputed['acres_burned'] > 99.99) & (df_imputed['acres_burned'] <= 299),\n",
    "             (df_imputed['acres_burned'] > 299) & (df_imputed['acres_burned'] <= 999),\n",
    "             (df_imputed['acres_burned'] > 999) & (df_imputed['acres_burned'] <= 5000),\n",
    "             (df_imputed['acres_burned'] > 5000) & (df_imputed['acres_burned'] <= 9999),\n",
    "             (df_imputed['acres_burned'] > 9999) & (df_imputed['acres_burned'] <= 49_999),\n",
    "             (df_imputed['acres_burned'] > 49_999) & (df_imputed['acres_burned'] <= 100_000),\n",
    "              (df_imputed['acres_burned'] > 100_000)\n",
    "                \n",
    "             ]\n",
    "# choices = ['A', 'B', 'C', 'D', 'E', 'F', 'G', 'H', 'I', 'J']\n",
    "choices = [0,1,2,3,4,5,6,7,8,9]\n",
    "\n",
    "df_imputed['class'] = np.select(conditions, choices, default = 'A')"
   ]
  },
  {
   "cell_type": "code",
   "execution_count": 17,
   "id": "ae55867c-4ac7-47cc-924d-3456c9408f2b",
   "metadata": {},
   "outputs": [
    {
     "data": {
      "text/plain": [
       "Index(['unique_fire_identifier', 'lattitude', 'longitude', 'acres_burned',\n",
       "       'fire_cause', 'incident_name', 'IsFSAssisted', 'origin_county', 'state',\n",
       "       'year', 'month', 'value', 'anomaly', 'area (acres)', 'population', 'd0',\n",
       "       'd1', 'd2', 'd3', 'd4', 'DSCI_avg', 'DSCI_summed', 'precipitation(in)',\n",
       "       'regions', 'class'],\n",
       "      dtype='object')"
      ]
     },
     "execution_count": 17,
     "metadata": {},
     "output_type": "execute_result"
    }
   ],
   "source": [
    "df_imputed.columns"
   ]
  },
  {
   "cell_type": "code",
   "execution_count": 18,
   "id": "2548dee8-91ca-40e5-9d83-6d1bc1979d7f",
   "metadata": {},
   "outputs": [],
   "source": [
    "df_imputed = pd.get_dummies(df_imputed, columns = ['state','regions', 'origin_county', 'fire_cause'], drop_first = True)"
   ]
  },
  {
   "cell_type": "code",
   "execution_count": 22,
   "id": "8275c401-1673-4dea-b6ec-ada6bc8dc68a",
   "metadata": {},
   "outputs": [],
   "source": [
    "X = df_imputed.drop(columns = ['incident_name','acres_burned' ,'unique_fire_identifier', 'class'])\n",
    "y = df_imputed['class']\n",
    "y = to_categorical(y)\n",
    "X_train, X_test, y_train, y_test = train_test_split(X, y, random_state = 5, stratify = y)\n",
    "\n",
    "sc = StandardScaler()\n",
    "Z_train = sc.fit_transform(X_train)\n",
    "Z_test = sc.transform(X_test)"
   ]
  },
  {
   "cell_type": "code",
   "execution_count": 24,
   "id": "b52c2eb7-4cac-4a94-8efa-45db52b15524",
   "metadata": {},
   "outputs": [
    {
     "data": {
      "text/plain": [
       "(160340, 1520)"
      ]
     },
     "execution_count": 24,
     "metadata": {},
     "output_type": "execute_result"
    }
   ],
   "source": [
    "Z_train.shape"
   ]
  },
  {
   "cell_type": "code",
   "execution_count": 25,
   "id": "e1491763-40ef-4683-93c6-f2f3a2614c2f",
   "metadata": {},
   "outputs": [
    {
     "name": "stdout",
     "output_type": "stream",
     "text": [
      "Epoch 1/10\n",
      "5011/5011 [==============================] - 47s 9ms/step - loss: 1.3309 - acc: 0.5129 - val_loss: 1.2186 - val_acc: 0.5479\n",
      "Epoch 2/10\n",
      "5011/5011 [==============================] - 16s 3ms/step - loss: 1.1787 - acc: 0.5668 - val_loss: 1.1819 - val_acc: 0.5732\n",
      "Epoch 3/10\n",
      "5011/5011 [==============================] - 21s 4ms/step - loss: 1.1261 - acc: 0.5899 - val_loss: 1.1760 - val_acc: 0.5919\n",
      "Epoch 4/10\n",
      "5011/5011 [==============================] - 19s 4ms/step - loss: 1.0983 - acc: 0.6017 - val_loss: 1.1766 - val_acc: 0.5975\n",
      "Epoch 5/10\n",
      "5011/5011 [==============================] - 20s 4ms/step - loss: 1.0772 - acc: 0.6093 - val_loss: 1.1768 - val_acc: 0.6022\n",
      "Epoch 6/10\n",
      "5011/5011 [==============================] - 18s 4ms/step - loss: 1.0639 - acc: 0.6157 - val_loss: 1.1863 - val_acc: 0.6026\n",
      "Epoch 7/10\n",
      "5011/5011 [==============================] - 20s 4ms/step - loss: 1.0538 - acc: 0.6186 - val_loss: 1.2190 - val_acc: 0.6087\n",
      "Epoch 8/10\n",
      "5011/5011 [==============================] - 19s 4ms/step - loss: 1.0422 - acc: 0.6217 - val_loss: 1.2196 - val_acc: 0.6102\n",
      "Epoch 9/10\n",
      "5011/5011 [==============================] - 20s 4ms/step - loss: 1.0368 - acc: 0.6237 - val_loss: 1.2321 - val_acc: 0.6128\n",
      "Epoch 10/10\n",
      "5011/5011 [==============================] - 19s 4ms/step - loss: 1.0355 - acc: 0.6255 - val_loss: 1.2362 - val_acc: 0.6142\n"
     ]
    }
   ],
   "source": [
    "model = Sequential()\n",
    "model.add(Dense(32,\n",
    "                input_shape = (1520,),\n",
    "                activation = 'relu'))\n",
    "model.add(Dense(10, activation = 'softmax'))\n",
    "model.compile(loss = 'categorical_crossentropy',\n",
    "              optimizer = 'adam',\n",
    "              metrics = ['acc'])\n",
    "\n",
    "history = model.fit(Z_train, y_train,\n",
    "                    validation_data = (Z_test, y_test),\n",
    "                    epochs = 10,\n",
    "                    batch_size = 32,\n",
    "                    verbose = 1)"
   ]
  },
  {
   "cell_type": "code",
   "execution_count": 26,
   "id": "2ead3b9c-7121-46db-aa50-daad5aee2c69",
   "metadata": {},
   "outputs": [
    {
     "name": "stdout",
     "output_type": "stream",
     "text": [
      "              precision    recall  f1-score   support\n",
      "\n",
      "           0       0.60      0.82      0.69     17141\n",
      "           1       0.46      0.37      0.41     12241\n",
      "           2       0.61      0.50      0.55      7864\n",
      "           3       0.65      0.48      0.55      4653\n",
      "           4       0.75      0.65      0.69      5584\n",
      "           5       0.82      0.81      0.81      5527\n",
      "           6       0.00      0.00      0.00       167\n",
      "           7       0.00      0.00      0.00       201\n",
      "           8       0.00      0.00      0.00        39\n",
      "           9       0.00      0.00      0.00        30\n",
      "\n",
      "    accuracy                           0.61     53447\n",
      "   macro avg       0.39      0.36      0.37     53447\n",
      "weighted avg       0.61      0.61      0.60     53447\n",
      "\n"
     ]
    },
    {
     "name": "stderr",
     "output_type": "stream",
     "text": [
      "/opt/anaconda3/envs/tf_keras/lib/python3.8/site-packages/sklearn/metrics/_classification.py:1245: UndefinedMetricWarning: Precision and F-score are ill-defined and being set to 0.0 in labels with no predicted samples. Use `zero_division` parameter to control this behavior.\n",
      "  _warn_prf(average, modifier, msg_start, len(result))\n",
      "/opt/anaconda3/envs/tf_keras/lib/python3.8/site-packages/sklearn/metrics/_classification.py:1245: UndefinedMetricWarning: Precision and F-score are ill-defined and being set to 0.0 in labels with no predicted samples. Use `zero_division` parameter to control this behavior.\n",
      "  _warn_prf(average, modifier, msg_start, len(result))\n",
      "/opt/anaconda3/envs/tf_keras/lib/python3.8/site-packages/sklearn/metrics/_classification.py:1245: UndefinedMetricWarning: Precision and F-score are ill-defined and being set to 0.0 in labels with no predicted samples. Use `zero_division` parameter to control this behavior.\n",
      "  _warn_prf(average, modifier, msg_start, len(result))\n"
     ]
    }
   ],
   "source": [
    "# 0riginal model above\n",
    "y_true = y_test\n",
    "preds = model.predict(Z_test)\n",
    "rounded_preds = np.argmax(preds, axis = -1)\n",
    "y_test_demo = np.argmax(y_test, axis = -1)\n",
    "print(classification_report(y_test_demo, rounded_preds))\n",
    "# BEFORE ACRES BURNED  DROPPED macro avg       0.77      0.70      0.71  "
   ]
  },
  {
   "cell_type": "code",
   "execution_count": 27,
   "id": "c409d559-4a38-4695-833f-4c695f87f975",
   "metadata": {},
   "outputs": [
    {
     "data": {
      "image/png": "[encoded data removed]",
      "text/plain": [
       "<Figure size 720x720 with 2 Axes>"
      ]
     },
     "metadata": {
      "needs_background": "light"
     },
     "output_type": "display_data"
    }
   ],
   "source": [
    "cm = confusion_matrix(y_test_demo, rounded_preds)\n",
    "disp = ConfusionMatrixDisplay(confusion_matrix = cm,)\n",
    "fig, ax = plt.subplots(figsize=(10,10))\n",
    "disp.plot(ax=ax);"
   ]
  },
  {
   "cell_type": "code",
   "execution_count": null,
   "id": "b8eddbfa-d1a3-44b4-bb13-79b28e2bdd34",
   "metadata": {},
   "outputs": [],
   "source": []
  }
 ],
 "metadata": {
  "interpreter": {
   "hash": "7b0fa565d2c72dfd329c0dfac10b0e3c3a611378dc2e802a3e54353322a90b9b"
  },
  "kernelspec": {
   "display_name": "Python 3",
   "language": "python",
   "name": "python3"
  },
  "language_info": {
   "codemirror_mode": {
    "name": "ipython",
    "version": 3
   },
   "file_extension": ".py",
   "mimetype": "text/x-python",
   "name": "python",
   "nbconvert_exporter": "python",
   "pygments_lexer": "ipython3",
   "version": "3.8.8"
  }
 },
 "nbformat": 4,
 "nbformat_minor": 5
}
