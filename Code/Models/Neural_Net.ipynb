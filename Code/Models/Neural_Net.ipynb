{
 "cells": [
  {
   "cell_type": "markdown",
   "id": "889080d5-92ed-4534-8d3c-eb1884e68254",
   "metadata": {},
   "source": [
    "Blank\n"
   ]
  },
  {
   "cell_type": "code",
   "execution_count": 1,
   "id": "cbf0da2a-4267-42d5-aad4-000945684311",
   "metadata": {},
   "outputs": [],
   "source": [
    "import pandas as pd\n",
    "import numpy as np\n",
    "\n",
    "from sklearn.preprocessing import StandardScaler\n",
    "from sklearn.model_selection import train_test_split\n",
    "import matplotlib.pyplot as plt\n",
    "\n",
    "from tensorflow.keras.models import Sequential\n",
    "from tensorflow.keras.layers import Dense\n",
    "from tensorflow.keras.utils import to_categorical\n",
    "from tensorflow.keras.metrics import Recall\n",
    "from tensorflow.keras.utils import plot_model\n",
    "import pickle\n"
   ]
  },
  {
   "cell_type": "code",
   "execution_count": 2,
   "id": "aaa75d04-6299-4e47-b170-3464c61a606c",
   "metadata": {},
   "outputs": [],
   "source": [
    "from sklearn.metrics import ConfusionMatrixDisplay\n",
    "from sklearn.metrics import confusion_matrix"
   ]
  },
  {
   "cell_type": "code",
   "execution_count": 3,
   "id": "2840cc1d-c46e-4c47-b94a-6749825da343",
   "metadata": {},
   "outputs": [],
   "source": [
    "df = pd.read_csv('../../Data/complete_fire.csv')"
   ]
  },
  {
   "cell_type": "code",
   "execution_count": 4,
   "id": "5770d848-f7aa-47e7-aef4-cdbc5e0f4e19",
   "metadata": {},
   "outputs": [],
   "source": [
    "df.dropna(inplace = True)"
   ]
  },
  {
   "cell_type": "code",
   "execution_count": 5,
   "id": "a19c6932-b9ea-4a7e-95c1-57ac0f5eed5f",
   "metadata": {},
   "outputs": [
    {
     "data": {
      "text/plain": [
       "(167273, 23)"
      ]
     },
     "execution_count": 5,
     "metadata": {},
     "output_type": "execute_result"
    }
   ],
   "source": [
    "df.shape"
   ]
  },
  {
   "cell_type": "code",
   "execution_count": 6,
   "id": "fbb0290f-927b-453b-80b6-0c593a349450",
   "metadata": {},
   "outputs": [
    {
     "data": {
      "text/plain": [
       "unique_fire_identifier     object\n",
       "lattitude                 float64\n",
       "longitude                 float64\n",
       "acres_burned              float64\n",
       "fire_cause                 object\n",
       "incident_name              object\n",
       "IsFSAssisted              float64\n",
       "origin_county              object\n",
       "state                      object\n",
       "year                        int64\n",
       "month                       int64\n",
       "value                     float64\n",
       "anomaly                   float64\n",
       "area (acres)              float64\n",
       "population                float64\n",
       "d0                        float64\n",
       "d1                        float64\n",
       "d2                        float64\n",
       "d3                        float64\n",
       "d4                        float64\n",
       "DSCI_avg                  float64\n",
       "DSCI_summed               float64\n",
       "precipitation(in)         float64\n",
       "dtype: object"
      ]
     },
     "execution_count": 6,
     "metadata": {},
     "output_type": "execute_result"
    }
   ],
   "source": [
    "df.dtypes"
   ]
  },
  {
   "cell_type": "code",
   "execution_count": 7,
   "id": "38d486f1-11c0-4fcb-934d-bfe8659115a3",
   "metadata": {},
   "outputs": [],
   "source": [
    "conditions = [df['acres_burned'] <= .25,\n",
    "             (df['acres_burned'] > .25) & (df['acres_burned'] <= 9.9),\n",
    "             (df['acres_burned'] > 9.9) & (df['acres_burned'] <= 99.99),\n",
    "             (df['acres_burned'] > 99.99) & (df['acres_burned'] <= 299),\n",
    "             (df['acres_burned'] > 299) & (df['acres_burned'] <= 999),\n",
    "             (df['acres_burned'] > 999) & (df['acres_burned'] <= 5000),\n",
    "             (df['acres_burned'] > 5000) & (df['acres_burned'] <= 9999),\n",
    "             (df['acres_burned'] > 9999) & (df['acres_burned'] <= 49_999),\n",
    "             (df['acres_burned'] > 49_999) & (df['acres_burned'] <= 100_000),\n",
    "              (df['acres_burned'] > 100_000)\n",
    "                \n",
    "             ]\n",
    "# choices = ['A', 'B', 'C', 'D', 'E', 'F', 'G', 'H', 'I', 'J']\n",
    "choices = [0,1,2,3,4,5,6,7,8,9]\n",
    "\n",
    "df['class'] = np.select(conditions, choices, default = 'A')"
   ]
  },
  {
   "cell_type": "code",
   "execution_count": 8,
   "id": "58654c01-16fd-49ab-8eb4-4c41740ca1e4",
   "metadata": {},
   "outputs": [
    {
     "data": {
      "text/plain": [
       "unique_fire_identifier     object\n",
       "lattitude                 float64\n",
       "longitude                 float64\n",
       "acres_burned              float64\n",
       "fire_cause                 object\n",
       "incident_name              object\n",
       "IsFSAssisted              float64\n",
       "origin_county              object\n",
       "state                      object\n",
       "year                        int64\n",
       "month                       int64\n",
       "value                     float64\n",
       "anomaly                   float64\n",
       "area (acres)              float64\n",
       "population                float64\n",
       "d0                        float64\n",
       "d1                        float64\n",
       "d2                        float64\n",
       "d3                        float64\n",
       "d4                        float64\n",
       "DSCI_avg                  float64\n",
       "DSCI_summed               float64\n",
       "precipitation(in)         float64\n",
       "class                      object\n",
       "dtype: object"
      ]
     },
     "execution_count": 8,
     "metadata": {},
     "output_type": "execute_result"
    }
   ],
   "source": [
    "df.dtypes"
   ]
  },
  {
   "cell_type": "code",
   "execution_count": 9,
   "id": "9335534b-2faa-42be-9e63-23582bfbdf42",
   "metadata": {},
   "outputs": [
    {
     "data": {
      "text/plain": [
       "0    0.330621\n",
       "1    0.230288\n",
       "2    0.137398\n",
       "5    0.112289\n",
       "4    0.102718\n",
       "3    0.080085\n",
       "7    0.002983\n",
       "6    0.002577\n",
       "8    0.000544\n",
       "9    0.000496\n",
       "Name: class, dtype: float64"
      ]
     },
     "execution_count": 9,
     "metadata": {},
     "output_type": "execute_result"
    }
   ],
   "source": [
    "df['class'].value_counts(normalize = True)"
   ]
  },
  {
   "cell_type": "markdown",
   "id": "90cb7bce",
   "metadata": {},
   "source": []
  },
  {
   "cell_type": "code",
   "execution_count": 10,
   "id": "21010154-bd0c-4904-ba40-8dda6f8b48a2",
   "metadata": {},
   "outputs": [],
   "source": [
    "\n",
    "df = pd.get_dummies(df, columns = ['state', 'origin_county', 'fire_cause'], drop_first = True)"
   ]
  },
  {
   "cell_type": "markdown",
   "id": "a79979bf",
   "metadata": {},
   "source": []
  },
  {
   "cell_type": "code",
   "execution_count": null,
   "id": "19a0ca25",
   "metadata": {},
   "outputs": [],
   "source": []
  },
  {
   "cell_type": "code",
   "execution_count": 11,
   "id": "3f6b8aa2-8629-4cbb-879d-d75f27d1f041",
   "metadata": {},
   "outputs": [],
   "source": [
    "X = df.drop(columns = ['incident_name', 'unique_fire_identifier', 'class', 'acres_burned'])\n",
    "y = df['class']"
   ]
  },
  {
   "cell_type": "code",
   "execution_count": 12,
   "id": "8d9b5065-bce8-4925-aa60-e697088c729b",
   "metadata": {},
   "outputs": [],
   "source": [
    "y = to_categorical(y)\n",
    "# y = pd.get_dummies(y)"
   ]
  },
  {
   "cell_type": "code",
   "execution_count": null,
   "id": "5bc81056-9f1f-42a5-99ee-83b09da4e1b0",
   "metadata": {},
   "outputs": [],
   "source": []
  },
  {
   "cell_type": "code",
   "execution_count": 13,
   "id": "35ef5899-1620-4c2b-b20b-efce87466fe4",
   "metadata": {},
   "outputs": [],
   "source": [
    "X_train, X_test, y_train, y_test = train_test_split(X, y, random_state = 5, stratify = y)"
   ]
  },
  {
   "cell_type": "code",
   "execution_count": 14,
   "id": "775f6595-b320-40ae-accb-eac506b85195",
   "metadata": {},
   "outputs": [],
   "source": [
    "sc = StandardScaler()"
   ]
  },
  {
   "cell_type": "code",
   "execution_count": 15,
   "id": "ac49fc4b-21a1-4aa2-9fb4-2c7e460ef226",
   "metadata": {},
   "outputs": [],
   "source": [
    "Z_train = sc.fit_transform(X_train)\n",
    "Z_test = sc.transform(X_test)"
   ]
  },
  {
   "cell_type": "code",
   "execution_count": 16,
   "id": "8446f955-b017-4345-8843-1bc512587ef8",
   "metadata": {},
   "outputs": [
    {
     "data": {
      "text/plain": [
       "(125454, 1399)"
      ]
     },
     "execution_count": 16,
     "metadata": {},
     "output_type": "execute_result"
    }
   ],
   "source": [
    "X_train.shape"
   ]
  },
  {
   "cell_type": "code",
   "execution_count": 20,
   "id": "4c9dc57f-25a7-4fb7-8e2d-41a240b5439a",
   "metadata": {},
   "outputs": [],
   "source": [
    "\n",
    "model = Sequential()\n",
    "model.add(Dense(32,\n",
    "                input_shape = (1399,),\n",
    "                activation = 'relu'))\n",
    "model.add(Dense(10, activation = 'softmax'))"
   ]
  },
  {
   "cell_type": "code",
   "execution_count": 21,
   "id": "f86a13f1-eb40-465f-b5a0-050b62cfe864",
   "metadata": {},
   "outputs": [],
   "source": [
    "model.compile(loss = 'categorical_crossentropy',\n",
    "              optimizer = 'adam',\n",
    "              metrics = ['acc'])"
   ]
  },
  {
   "cell_type": "code",
   "execution_count": 22,
   "id": "d4af40c9-cab5-4493-8dfa-b0140e572b9a",
   "metadata": {},
   "outputs": [
    {
     "name": "stdout",
     "output_type": "stream",
     "text": [
      "Epoch 1/10\n",
      "3921/3921 [==============================] - 22s 5ms/step - loss: 1.3097 - acc: 0.5237 - val_loss: 1.1938 - val_acc: 0.5596\n",
      "Epoch 2/10\n",
      "3921/3921 [==============================] - 24s 6ms/step - loss: 1.1393 - acc: 0.5875 - val_loss: 1.1587 - val_acc: 0.5927\n",
      "Epoch 3/10\n",
      "3921/3921 [==============================] - 16s 4ms/step - loss: 1.0857 - acc: 0.6104 - val_loss: 1.1459 - val_acc: 0.6083\n",
      "Epoch 4/10\n",
      "3921/3921 [==============================] - 16s 4ms/step - loss: 1.0455 - acc: 0.6220 - val_loss: 1.1433 - val_acc: 0.6213\n",
      "Epoch 5/10\n",
      "3921/3921 [==============================] - 16s 4ms/step - loss: 1.0191 - acc: 0.6309 - val_loss: 1.1521 - val_acc: 0.6237\n",
      "Epoch 6/10\n",
      "3921/3921 [==============================] - 16s 4ms/step - loss: 1.0018 - acc: 0.6383 - val_loss: 1.1669 - val_acc: 0.6285\n",
      "Epoch 7/10\n",
      "3921/3921 [==============================] - 16s 4ms/step - loss: 0.9848 - acc: 0.6429 - val_loss: 1.1937 - val_acc: 0.6295\n",
      "Epoch 8/10\n",
      "3921/3921 [==============================] - 18s 5ms/step - loss: 0.9709 - acc: 0.6472 - val_loss: 1.2179 - val_acc: 0.6267\n",
      "Epoch 9/10\n",
      "3921/3921 [==============================] - 23s 6ms/step - loss: 0.9645 - acc: 0.6487 - val_loss: 1.2227 - val_acc: 0.6344\n",
      "Epoch 10/10\n",
      "3921/3921 [==============================] - 20s 5ms/step - loss: 0.9570 - acc: 0.6519 - val_loss: 1.2304 - val_acc: 0.6390\n"
     ]
    }
   ],
   "source": [
    "\n",
    "history = model.fit(Z_train, y_train,\n",
    "                    validation_data = (Z_test, y_test),\n",
    "                    epochs = 10,\n",
    "                    batch_size = 32,\n",
    "                    verbose = 1)"
   ]
  },
  {
   "cell_type": "code",
   "execution_count": 23,
   "id": "86f1f87f-b429-4d83-8c92-d34b5ffd007f",
   "metadata": {},
   "outputs": [],
   "source": [
    "preds = model.predict(Z_test)"
   ]
  },
  {
   "cell_type": "code",
   "execution_count": 24,
   "id": "9a8570ea-836d-43cf-98c1-eb370ec6419b",
   "metadata": {},
   "outputs": [
    {
     "data": {
      "text/plain": [
       "2"
      ]
     },
     "execution_count": 24,
     "metadata": {},
     "output_type": "execute_result"
    }
   ],
   "source": [
    "rounded_preds = np.argmax(preds, axis = -1)\n",
    "rounded_preds[101]"
   ]
  },
  {
   "cell_type": "code",
   "execution_count": 25,
   "id": "aecea721-771b-4e4c-ab67-e25258642704",
   "metadata": {},
   "outputs": [],
   "source": [
    "y_test2 = np.argmax(y_test, axis = -1)"
   ]
  },
  {
   "cell_type": "code",
   "execution_count": 26,
   "id": "da2bead3-b112-4802-8ea4-402108db5174",
   "metadata": {},
   "outputs": [
    {
     "data": {
      "text/plain": [
       "2"
      ]
     },
     "execution_count": 26,
     "metadata": {},
     "output_type": "execute_result"
    }
   ],
   "source": [
    "y_test2[101]"
   ]
  },
  {
   "cell_type": "code",
   "execution_count": 28,
   "id": "8b1ca7d0",
   "metadata": {},
   "outputs": [
    {
     "name": "stdout",
     "output_type": "stream",
     "text": [
      "              precision    recall  f1-score   support\n",
      "\n",
      "           0       0.61      0.83      0.70     13826\n",
      "           1       0.47      0.35      0.40      9630\n",
      "           2       0.63      0.49      0.55      5746\n",
      "           3       0.70      0.58      0.63      3349\n",
      "           4       0.80      0.73      0.76      4295\n",
      "           5       0.88      0.86      0.87      4696\n",
      "           6       0.50      0.01      0.02       108\n",
      "           7       0.25      0.02      0.04       125\n",
      "           8       0.00      0.00      0.00        23\n",
      "           9       0.00      0.00      0.00        21\n",
      "\n",
      "    accuracy                           0.64     41819\n",
      "   macro avg       0.48      0.39      0.40     41819\n",
      "weighted avg       0.63      0.64      0.63     41819\n",
      "\n"
     ]
    }
   ],
   "source": [
    "from sklearn.metrics import classification_report\n",
    "print(classification_report(y_test2, rounded_preds))"
   ]
  },
  {
   "cell_type": "code",
   "execution_count": 27,
   "id": "224e374f-7516-442a-91a2-95784316b58a",
   "metadata": {},
   "outputs": [
    {
     "data": {
      "image/png": "[encoded data removed]",
      "text/plain": [
       "<Figure size 720x720 with 2 Axes>"
      ]
     },
     "metadata": {
      "needs_background": "light"
     },
     "output_type": "display_data"
    }
   ],
   "source": [
    "\n",
    "cm = confusion_matrix(y_test2, rounded_preds)\n",
    "\n",
    "disp = ConfusionMatrixDisplay(confusion_matrix = cm,)\n",
    "fig, ax = plt.subplots(figsize=(10,10))\n",
    "disp.plot(ax=ax);\n"
   ]
  },
  {
   "cell_type": "code",
   "execution_count": 25,
   "id": "1a8b1a0d-0e34-40f4-9034-b6c51e092606",
   "metadata": {},
   "outputs": [],
   "source": [
    "from tensorflow.keras.layers import Dropout\n",
    "from tensorflow.keras.callbacks import EarlyStopping\n",
    "model2 = Sequential()\n",
    "model2.add(Dense(64,\n",
    "                input_shape = (1400,),\n",
    "                activation = 'relu'))\n",
    "model2.add(Dropout(0.2))\n",
    "model2.add(Dense(64, activation = 'relu'))\n",
    "model2.add(Dense(32, activation = 'relu'))\n",
    "\n",
    "model2.add(Dense(10, activation = 'softmax'))"
   ]
  },
  {
   "cell_type": "code",
   "execution_count": 26,
   "id": "11455591-0e63-430a-a88c-55da74a38d98",
   "metadata": {},
   "outputs": [],
   "source": [
    "model2.compile(loss = 'categorical_crossentropy',\n",
    "              optimizer = 'adam',\n",
    "              metrics = ['acc'])"
   ]
  },
  {
   "cell_type": "code",
   "execution_count": 27,
   "id": "16d45bb3-c5b9-40be-85db-e167f5e262a7",
   "metadata": {},
   "outputs": [
    {
     "name": "stdout",
     "output_type": "stream",
     "text": [
      "Epoch 1/10\n",
      "3921/3921 [==============================] - 12s 3ms/step - loss: 1.1614 - acc: 0.5463 - val_loss: 0.9700 - val_acc: 0.6126\n",
      "Epoch 2/10\n",
      "3921/3921 [==============================] - 11s 3ms/step - loss: 0.9480 - acc: 0.6210 - val_loss: 0.8838 - val_acc: 0.6426\n",
      "Epoch 3/10\n",
      "3921/3921 [==============================] - 12s 3ms/step - loss: 0.8770 - acc: 0.6439 - val_loss: 0.8420 - val_acc: 0.6536\n",
      "Epoch 4/10\n",
      "3921/3921 [==============================] - 13s 3ms/step - loss: 0.8372 - acc: 0.6560 - val_loss: 0.7999 - val_acc: 0.6690\n",
      "Epoch 5/10\n",
      "3921/3921 [==============================] - 12s 3ms/step - loss: 0.8071 - acc: 0.6671 - val_loss: 0.7778 - val_acc: 0.6774\n",
      "Epoch 6/10\n",
      " 747/3921 [====>.........................] - ETA: 8s - loss: 0.7855 - acc: 0.6713"
     ]
    },
    {
     "ename": "KeyboardInterrupt",
     "evalue": "",
     "output_type": "error",
     "traceback": [
      "\u001b[1;31m---------------------------------------------------------------------------\u001b[0m",
      "\u001b[1;31mKeyboardInterrupt\u001b[0m                         Traceback (most recent call last)",
      "\u001b[1;32mc:\\Users\\dlc90\\GeneralAssembly\\Projects\\group-project\\Fire_Project\\Fire_Repo\\Code\\Models\\Neural_Net.ipynb Cell 29'\u001b[0m in \u001b[0;36m<cell line: 3>\u001b[1;34m()\u001b[0m\n\u001b[0;32m      <a href='vscode-notebook-cell:/c%3A/Users/dlc90/GeneralAssembly/Projects/group-project/Fire_Project/Fire_Repo/Code/Models/Neural_Net.ipynb#ch0000028?line=0'>1</a>\u001b[0m \u001b[39m# early_stop = EarlyStopping(monitor='val_loss', min_delta=0, patience=3, verbose=1, mode='auto')\u001b[39;00m\n\u001b[1;32m----> <a href='vscode-notebook-cell:/c%3A/Users/dlc90/GeneralAssembly/Projects/group-project/Fire_Project/Fire_Repo/Code/Models/Neural_Net.ipynb#ch0000028?line=2'>3</a>\u001b[0m history \u001b[39m=\u001b[39m model2\u001b[39m.\u001b[39;49mfit(Z_train, y_train,\n\u001b[0;32m      <a href='vscode-notebook-cell:/c%3A/Users/dlc90/GeneralAssembly/Projects/group-project/Fire_Project/Fire_Repo/Code/Models/Neural_Net.ipynb#ch0000028?line=3'>4</a>\u001b[0m                     validation_data \u001b[39m=\u001b[39;49m (Z_test, y_test),\n\u001b[0;32m      <a href='vscode-notebook-cell:/c%3A/Users/dlc90/GeneralAssembly/Projects/group-project/Fire_Project/Fire_Repo/Code/Models/Neural_Net.ipynb#ch0000028?line=4'>5</a>\u001b[0m                     epochs \u001b[39m=\u001b[39;49m \u001b[39m10\u001b[39;49m,\n\u001b[0;32m      <a href='vscode-notebook-cell:/c%3A/Users/dlc90/GeneralAssembly/Projects/group-project/Fire_Project/Fire_Repo/Code/Models/Neural_Net.ipynb#ch0000028?line=5'>6</a>\u001b[0m                     batch_size \u001b[39m=\u001b[39;49m \u001b[39m32\u001b[39;49m,\n\u001b[0;32m      <a href='vscode-notebook-cell:/c%3A/Users/dlc90/GeneralAssembly/Projects/group-project/Fire_Project/Fire_Repo/Code/Models/Neural_Net.ipynb#ch0000028?line=6'>7</a>\u001b[0m                     verbose \u001b[39m=\u001b[39;49m \u001b[39m1\u001b[39;49m)\n",
      "File \u001b[1;32m~\\anaconda3\\envs\\tensorflow\\lib\\site-packages\\keras\\utils\\traceback_utils.py:64\u001b[0m, in \u001b[0;36mfilter_traceback.<locals>.error_handler\u001b[1;34m(*args, **kwargs)\u001b[0m\n\u001b[0;32m     <a href='file:///c%3A/Users/dlc90/anaconda3/envs/tensorflow/lib/site-packages/keras/utils/traceback_utils.py?line=61'>62</a>\u001b[0m filtered_tb \u001b[39m=\u001b[39m \u001b[39mNone\u001b[39;00m\n\u001b[0;32m     <a href='file:///c%3A/Users/dlc90/anaconda3/envs/tensorflow/lib/site-packages/keras/utils/traceback_utils.py?line=62'>63</a>\u001b[0m \u001b[39mtry\u001b[39;00m:\n\u001b[1;32m---> <a href='file:///c%3A/Users/dlc90/anaconda3/envs/tensorflow/lib/site-packages/keras/utils/traceback_utils.py?line=63'>64</a>\u001b[0m   \u001b[39mreturn\u001b[39;00m fn(\u001b[39m*\u001b[39margs, \u001b[39m*\u001b[39m\u001b[39m*\u001b[39mkwargs)\n\u001b[0;32m     <a href='file:///c%3A/Users/dlc90/anaconda3/envs/tensorflow/lib/site-packages/keras/utils/traceback_utils.py?line=64'>65</a>\u001b[0m \u001b[39mexcept\u001b[39;00m \u001b[39mException\u001b[39;00m \u001b[39mas\u001b[39;00m e:  \u001b[39m# pylint: disable=broad-except\u001b[39;00m\n\u001b[0;32m     <a href='file:///c%3A/Users/dlc90/anaconda3/envs/tensorflow/lib/site-packages/keras/utils/traceback_utils.py?line=65'>66</a>\u001b[0m   filtered_tb \u001b[39m=\u001b[39m _process_traceback_frames(e\u001b[39m.\u001b[39m__traceback__)\n",
      "File \u001b[1;32m~\\anaconda3\\envs\\tensorflow\\lib\\site-packages\\keras\\engine\\training.py:1384\u001b[0m, in \u001b[0;36mModel.fit\u001b[1;34m(self, x, y, batch_size, epochs, verbose, callbacks, validation_split, validation_data, shuffle, class_weight, sample_weight, initial_epoch, steps_per_epoch, validation_steps, validation_batch_size, validation_freq, max_queue_size, workers, use_multiprocessing)\u001b[0m\n\u001b[0;32m   <a href='file:///c%3A/Users/dlc90/anaconda3/envs/tensorflow/lib/site-packages/keras/engine/training.py?line=1376'>1377</a>\u001b[0m \u001b[39mwith\u001b[39;00m tf\u001b[39m.\u001b[39mprofiler\u001b[39m.\u001b[39mexperimental\u001b[39m.\u001b[39mTrace(\n\u001b[0;32m   <a href='file:///c%3A/Users/dlc90/anaconda3/envs/tensorflow/lib/site-packages/keras/engine/training.py?line=1377'>1378</a>\u001b[0m     \u001b[39m'\u001b[39m\u001b[39mtrain\u001b[39m\u001b[39m'\u001b[39m,\n\u001b[0;32m   <a href='file:///c%3A/Users/dlc90/anaconda3/envs/tensorflow/lib/site-packages/keras/engine/training.py?line=1378'>1379</a>\u001b[0m     epoch_num\u001b[39m=\u001b[39mepoch,\n\u001b[0;32m   <a href='file:///c%3A/Users/dlc90/anaconda3/envs/tensorflow/lib/site-packages/keras/engine/training.py?line=1379'>1380</a>\u001b[0m     step_num\u001b[39m=\u001b[39mstep,\n\u001b[0;32m   <a href='file:///c%3A/Users/dlc90/anaconda3/envs/tensorflow/lib/site-packages/keras/engine/training.py?line=1380'>1381</a>\u001b[0m     batch_size\u001b[39m=\u001b[39mbatch_size,\n\u001b[0;32m   <a href='file:///c%3A/Users/dlc90/anaconda3/envs/tensorflow/lib/site-packages/keras/engine/training.py?line=1381'>1382</a>\u001b[0m     _r\u001b[39m=\u001b[39m\u001b[39m1\u001b[39m):\n\u001b[0;32m   <a href='file:///c%3A/Users/dlc90/anaconda3/envs/tensorflow/lib/site-packages/keras/engine/training.py?line=1382'>1383</a>\u001b[0m   callbacks\u001b[39m.\u001b[39mon_train_batch_begin(step)\n\u001b[1;32m-> <a href='file:///c%3A/Users/dlc90/anaconda3/envs/tensorflow/lib/site-packages/keras/engine/training.py?line=1383'>1384</a>\u001b[0m   tmp_logs \u001b[39m=\u001b[39m \u001b[39mself\u001b[39;49m\u001b[39m.\u001b[39;49mtrain_function(iterator)\n\u001b[0;32m   <a href='file:///c%3A/Users/dlc90/anaconda3/envs/tensorflow/lib/site-packages/keras/engine/training.py?line=1384'>1385</a>\u001b[0m   \u001b[39mif\u001b[39;00m data_handler\u001b[39m.\u001b[39mshould_sync:\n\u001b[0;32m   <a href='file:///c%3A/Users/dlc90/anaconda3/envs/tensorflow/lib/site-packages/keras/engine/training.py?line=1385'>1386</a>\u001b[0m     context\u001b[39m.\u001b[39masync_wait()\n",
      "File \u001b[1;32m~\\anaconda3\\envs\\tensorflow\\lib\\site-packages\\tensorflow\\python\\util\\traceback_utils.py:150\u001b[0m, in \u001b[0;36mfilter_traceback.<locals>.error_handler\u001b[1;34m(*args, **kwargs)\u001b[0m\n\u001b[0;32m    <a href='file:///c%3A/Users/dlc90/anaconda3/envs/tensorflow/lib/site-packages/tensorflow/python/util/traceback_utils.py?line=147'>148</a>\u001b[0m filtered_tb \u001b[39m=\u001b[39m \u001b[39mNone\u001b[39;00m\n\u001b[0;32m    <a href='file:///c%3A/Users/dlc90/anaconda3/envs/tensorflow/lib/site-packages/tensorflow/python/util/traceback_utils.py?line=148'>149</a>\u001b[0m \u001b[39mtry\u001b[39;00m:\n\u001b[1;32m--> <a href='file:///c%3A/Users/dlc90/anaconda3/envs/tensorflow/lib/site-packages/tensorflow/python/util/traceback_utils.py?line=149'>150</a>\u001b[0m   \u001b[39mreturn\u001b[39;00m fn(\u001b[39m*\u001b[39margs, \u001b[39m*\u001b[39m\u001b[39m*\u001b[39mkwargs)\n\u001b[0;32m    <a href='file:///c%3A/Users/dlc90/anaconda3/envs/tensorflow/lib/site-packages/tensorflow/python/util/traceback_utils.py?line=150'>151</a>\u001b[0m \u001b[39mexcept\u001b[39;00m \u001b[39mException\u001b[39;00m \u001b[39mas\u001b[39;00m e:\n\u001b[0;32m    <a href='file:///c%3A/Users/dlc90/anaconda3/envs/tensorflow/lib/site-packages/tensorflow/python/util/traceback_utils.py?line=151'>152</a>\u001b[0m   filtered_tb \u001b[39m=\u001b[39m _process_traceback_frames(e\u001b[39m.\u001b[39m__traceback__)\n",
      "File \u001b[1;32m~\\anaconda3\\envs\\tensorflow\\lib\\site-packages\\tensorflow\\python\\eager\\def_function.py:915\u001b[0m, in \u001b[0;36mFunction.__call__\u001b[1;34m(self, *args, **kwds)\u001b[0m\n\u001b[0;32m    <a href='file:///c%3A/Users/dlc90/anaconda3/envs/tensorflow/lib/site-packages/tensorflow/python/eager/def_function.py?line=911'>912</a>\u001b[0m compiler \u001b[39m=\u001b[39m \u001b[39m\"\u001b[39m\u001b[39mxla\u001b[39m\u001b[39m\"\u001b[39m \u001b[39mif\u001b[39;00m \u001b[39mself\u001b[39m\u001b[39m.\u001b[39m_jit_compile \u001b[39melse\u001b[39;00m \u001b[39m\"\u001b[39m\u001b[39mnonXla\u001b[39m\u001b[39m\"\u001b[39m\n\u001b[0;32m    <a href='file:///c%3A/Users/dlc90/anaconda3/envs/tensorflow/lib/site-packages/tensorflow/python/eager/def_function.py?line=913'>914</a>\u001b[0m \u001b[39mwith\u001b[39;00m OptionalXlaContext(\u001b[39mself\u001b[39m\u001b[39m.\u001b[39m_jit_compile):\n\u001b[1;32m--> <a href='file:///c%3A/Users/dlc90/anaconda3/envs/tensorflow/lib/site-packages/tensorflow/python/eager/def_function.py?line=914'>915</a>\u001b[0m   result \u001b[39m=\u001b[39m \u001b[39mself\u001b[39m\u001b[39m.\u001b[39m_call(\u001b[39m*\u001b[39margs, \u001b[39m*\u001b[39m\u001b[39m*\u001b[39mkwds)\n\u001b[0;32m    <a href='file:///c%3A/Users/dlc90/anaconda3/envs/tensorflow/lib/site-packages/tensorflow/python/eager/def_function.py?line=916'>917</a>\u001b[0m new_tracing_count \u001b[39m=\u001b[39m \u001b[39mself\u001b[39m\u001b[39m.\u001b[39mexperimental_get_tracing_count()\n\u001b[0;32m    <a href='file:///c%3A/Users/dlc90/anaconda3/envs/tensorflow/lib/site-packages/tensorflow/python/eager/def_function.py?line=917'>918</a>\u001b[0m without_tracing \u001b[39m=\u001b[39m (tracing_count \u001b[39m==\u001b[39m new_tracing_count)\n",
      "File \u001b[1;32m~\\anaconda3\\envs\\tensorflow\\lib\\site-packages\\tensorflow\\python\\eager\\def_function.py:947\u001b[0m, in \u001b[0;36mFunction._call\u001b[1;34m(self, *args, **kwds)\u001b[0m\n\u001b[0;32m    <a href='file:///c%3A/Users/dlc90/anaconda3/envs/tensorflow/lib/site-packages/tensorflow/python/eager/def_function.py?line=943'>944</a>\u001b[0m   \u001b[39mself\u001b[39m\u001b[39m.\u001b[39m_lock\u001b[39m.\u001b[39mrelease()\n\u001b[0;32m    <a href='file:///c%3A/Users/dlc90/anaconda3/envs/tensorflow/lib/site-packages/tensorflow/python/eager/def_function.py?line=944'>945</a>\u001b[0m   \u001b[39m# In this case we have created variables on the first call, so we run the\u001b[39;00m\n\u001b[0;32m    <a href='file:///c%3A/Users/dlc90/anaconda3/envs/tensorflow/lib/site-packages/tensorflow/python/eager/def_function.py?line=945'>946</a>\u001b[0m   \u001b[39m# defunned version which is guaranteed to never create variables.\u001b[39;00m\n\u001b[1;32m--> <a href='file:///c%3A/Users/dlc90/anaconda3/envs/tensorflow/lib/site-packages/tensorflow/python/eager/def_function.py?line=946'>947</a>\u001b[0m   \u001b[39mreturn\u001b[39;00m \u001b[39mself\u001b[39m\u001b[39m.\u001b[39m_stateless_fn(\u001b[39m*\u001b[39margs, \u001b[39m*\u001b[39m\u001b[39m*\u001b[39mkwds)  \u001b[39m# pylint: disable=not-callable\u001b[39;00m\n\u001b[0;32m    <a href='file:///c%3A/Users/dlc90/anaconda3/envs/tensorflow/lib/site-packages/tensorflow/python/eager/def_function.py?line=947'>948</a>\u001b[0m \u001b[39melif\u001b[39;00m \u001b[39mself\u001b[39m\u001b[39m.\u001b[39m_stateful_fn \u001b[39mis\u001b[39;00m \u001b[39mnot\u001b[39;00m \u001b[39mNone\u001b[39;00m:\n\u001b[0;32m    <a href='file:///c%3A/Users/dlc90/anaconda3/envs/tensorflow/lib/site-packages/tensorflow/python/eager/def_function.py?line=948'>949</a>\u001b[0m   \u001b[39m# Release the lock early so that multiple threads can perform the call\u001b[39;00m\n\u001b[0;32m    <a href='file:///c%3A/Users/dlc90/anaconda3/envs/tensorflow/lib/site-packages/tensorflow/python/eager/def_function.py?line=949'>950</a>\u001b[0m   \u001b[39m# in parallel.\u001b[39;00m\n\u001b[0;32m    <a href='file:///c%3A/Users/dlc90/anaconda3/envs/tensorflow/lib/site-packages/tensorflow/python/eager/def_function.py?line=950'>951</a>\u001b[0m   \u001b[39mself\u001b[39m\u001b[39m.\u001b[39m_lock\u001b[39m.\u001b[39mrelease()\n",
      "File \u001b[1;32m~\\anaconda3\\envs\\tensorflow\\lib\\site-packages\\tensorflow\\python\\eager\\function.py:2956\u001b[0m, in \u001b[0;36mFunction.__call__\u001b[1;34m(self, *args, **kwargs)\u001b[0m\n\u001b[0;32m   <a href='file:///c%3A/Users/dlc90/anaconda3/envs/tensorflow/lib/site-packages/tensorflow/python/eager/function.py?line=2952'>2953</a>\u001b[0m \u001b[39mwith\u001b[39;00m \u001b[39mself\u001b[39m\u001b[39m.\u001b[39m_lock:\n\u001b[0;32m   <a href='file:///c%3A/Users/dlc90/anaconda3/envs/tensorflow/lib/site-packages/tensorflow/python/eager/function.py?line=2953'>2954</a>\u001b[0m   (graph_function,\n\u001b[0;32m   <a href='file:///c%3A/Users/dlc90/anaconda3/envs/tensorflow/lib/site-packages/tensorflow/python/eager/function.py?line=2954'>2955</a>\u001b[0m    filtered_flat_args) \u001b[39m=\u001b[39m \u001b[39mself\u001b[39m\u001b[39m.\u001b[39m_maybe_define_function(args, kwargs)\n\u001b[1;32m-> <a href='file:///c%3A/Users/dlc90/anaconda3/envs/tensorflow/lib/site-packages/tensorflow/python/eager/function.py?line=2955'>2956</a>\u001b[0m \u001b[39mreturn\u001b[39;00m graph_function\u001b[39m.\u001b[39;49m_call_flat(\n\u001b[0;32m   <a href='file:///c%3A/Users/dlc90/anaconda3/envs/tensorflow/lib/site-packages/tensorflow/python/eager/function.py?line=2956'>2957</a>\u001b[0m     filtered_flat_args, captured_inputs\u001b[39m=\u001b[39;49mgraph_function\u001b[39m.\u001b[39;49mcaptured_inputs)\n",
      "File \u001b[1;32m~\\anaconda3\\envs\\tensorflow\\lib\\site-packages\\tensorflow\\python\\eager\\function.py:1853\u001b[0m, in \u001b[0;36mConcreteFunction._call_flat\u001b[1;34m(self, args, captured_inputs, cancellation_manager)\u001b[0m\n\u001b[0;32m   <a href='file:///c%3A/Users/dlc90/anaconda3/envs/tensorflow/lib/site-packages/tensorflow/python/eager/function.py?line=1848'>1849</a>\u001b[0m possible_gradient_type \u001b[39m=\u001b[39m gradients_util\u001b[39m.\u001b[39mPossibleTapeGradientTypes(args)\n\u001b[0;32m   <a href='file:///c%3A/Users/dlc90/anaconda3/envs/tensorflow/lib/site-packages/tensorflow/python/eager/function.py?line=1849'>1850</a>\u001b[0m \u001b[39mif\u001b[39;00m (possible_gradient_type \u001b[39m==\u001b[39m gradients_util\u001b[39m.\u001b[39mPOSSIBLE_GRADIENT_TYPES_NONE\n\u001b[0;32m   <a href='file:///c%3A/Users/dlc90/anaconda3/envs/tensorflow/lib/site-packages/tensorflow/python/eager/function.py?line=1850'>1851</a>\u001b[0m     \u001b[39mand\u001b[39;00m executing_eagerly):\n\u001b[0;32m   <a href='file:///c%3A/Users/dlc90/anaconda3/envs/tensorflow/lib/site-packages/tensorflow/python/eager/function.py?line=1851'>1852</a>\u001b[0m   \u001b[39m# No tape is watching; skip to running the function.\u001b[39;00m\n\u001b[1;32m-> <a href='file:///c%3A/Users/dlc90/anaconda3/envs/tensorflow/lib/site-packages/tensorflow/python/eager/function.py?line=1852'>1853</a>\u001b[0m   \u001b[39mreturn\u001b[39;00m \u001b[39mself\u001b[39m\u001b[39m.\u001b[39m_build_call_outputs(\u001b[39mself\u001b[39;49m\u001b[39m.\u001b[39;49m_inference_function\u001b[39m.\u001b[39;49mcall(\n\u001b[0;32m   <a href='file:///c%3A/Users/dlc90/anaconda3/envs/tensorflow/lib/site-packages/tensorflow/python/eager/function.py?line=1853'>1854</a>\u001b[0m       ctx, args, cancellation_manager\u001b[39m=\u001b[39;49mcancellation_manager))\n\u001b[0;32m   <a href='file:///c%3A/Users/dlc90/anaconda3/envs/tensorflow/lib/site-packages/tensorflow/python/eager/function.py?line=1854'>1855</a>\u001b[0m forward_backward \u001b[39m=\u001b[39m \u001b[39mself\u001b[39m\u001b[39m.\u001b[39m_select_forward_and_backward_functions(\n\u001b[0;32m   <a href='file:///c%3A/Users/dlc90/anaconda3/envs/tensorflow/lib/site-packages/tensorflow/python/eager/function.py?line=1855'>1856</a>\u001b[0m     args,\n\u001b[0;32m   <a href='file:///c%3A/Users/dlc90/anaconda3/envs/tensorflow/lib/site-packages/tensorflow/python/eager/function.py?line=1856'>1857</a>\u001b[0m     possible_gradient_type,\n\u001b[0;32m   <a href='file:///c%3A/Users/dlc90/anaconda3/envs/tensorflow/lib/site-packages/tensorflow/python/eager/function.py?line=1857'>1858</a>\u001b[0m     executing_eagerly)\n\u001b[0;32m   <a href='file:///c%3A/Users/dlc90/anaconda3/envs/tensorflow/lib/site-packages/tensorflow/python/eager/function.py?line=1858'>1859</a>\u001b[0m forward_function, args_with_tangents \u001b[39m=\u001b[39m forward_backward\u001b[39m.\u001b[39mforward()\n",
      "File \u001b[1;32m~\\anaconda3\\envs\\tensorflow\\lib\\site-packages\\tensorflow\\python\\eager\\function.py:499\u001b[0m, in \u001b[0;36m_EagerDefinedFunction.call\u001b[1;34m(self, ctx, args, cancellation_manager)\u001b[0m\n\u001b[0;32m    <a href='file:///c%3A/Users/dlc90/anaconda3/envs/tensorflow/lib/site-packages/tensorflow/python/eager/function.py?line=496'>497</a>\u001b[0m \u001b[39mwith\u001b[39;00m _InterpolateFunctionError(\u001b[39mself\u001b[39m):\n\u001b[0;32m    <a href='file:///c%3A/Users/dlc90/anaconda3/envs/tensorflow/lib/site-packages/tensorflow/python/eager/function.py?line=497'>498</a>\u001b[0m   \u001b[39mif\u001b[39;00m cancellation_manager \u001b[39mis\u001b[39;00m \u001b[39mNone\u001b[39;00m:\n\u001b[1;32m--> <a href='file:///c%3A/Users/dlc90/anaconda3/envs/tensorflow/lib/site-packages/tensorflow/python/eager/function.py?line=498'>499</a>\u001b[0m     outputs \u001b[39m=\u001b[39m execute\u001b[39m.\u001b[39;49mexecute(\n\u001b[0;32m    <a href='file:///c%3A/Users/dlc90/anaconda3/envs/tensorflow/lib/site-packages/tensorflow/python/eager/function.py?line=499'>500</a>\u001b[0m         \u001b[39mstr\u001b[39;49m(\u001b[39mself\u001b[39;49m\u001b[39m.\u001b[39;49msignature\u001b[39m.\u001b[39;49mname),\n\u001b[0;32m    <a href='file:///c%3A/Users/dlc90/anaconda3/envs/tensorflow/lib/site-packages/tensorflow/python/eager/function.py?line=500'>501</a>\u001b[0m         num_outputs\u001b[39m=\u001b[39;49m\u001b[39mself\u001b[39;49m\u001b[39m.\u001b[39;49m_num_outputs,\n\u001b[0;32m    <a href='file:///c%3A/Users/dlc90/anaconda3/envs/tensorflow/lib/site-packages/tensorflow/python/eager/function.py?line=501'>502</a>\u001b[0m         inputs\u001b[39m=\u001b[39;49margs,\n\u001b[0;32m    <a href='file:///c%3A/Users/dlc90/anaconda3/envs/tensorflow/lib/site-packages/tensorflow/python/eager/function.py?line=502'>503</a>\u001b[0m         attrs\u001b[39m=\u001b[39;49mattrs,\n\u001b[0;32m    <a href='file:///c%3A/Users/dlc90/anaconda3/envs/tensorflow/lib/site-packages/tensorflow/python/eager/function.py?line=503'>504</a>\u001b[0m         ctx\u001b[39m=\u001b[39;49mctx)\n\u001b[0;32m    <a href='file:///c%3A/Users/dlc90/anaconda3/envs/tensorflow/lib/site-packages/tensorflow/python/eager/function.py?line=504'>505</a>\u001b[0m   \u001b[39melse\u001b[39;00m:\n\u001b[0;32m    <a href='file:///c%3A/Users/dlc90/anaconda3/envs/tensorflow/lib/site-packages/tensorflow/python/eager/function.py?line=505'>506</a>\u001b[0m     outputs \u001b[39m=\u001b[39m execute\u001b[39m.\u001b[39mexecute_with_cancellation(\n\u001b[0;32m    <a href='file:///c%3A/Users/dlc90/anaconda3/envs/tensorflow/lib/site-packages/tensorflow/python/eager/function.py?line=506'>507</a>\u001b[0m         \u001b[39mstr\u001b[39m(\u001b[39mself\u001b[39m\u001b[39m.\u001b[39msignature\u001b[39m.\u001b[39mname),\n\u001b[0;32m    <a href='file:///c%3A/Users/dlc90/anaconda3/envs/tensorflow/lib/site-packages/tensorflow/python/eager/function.py?line=507'>508</a>\u001b[0m         num_outputs\u001b[39m=\u001b[39m\u001b[39mself\u001b[39m\u001b[39m.\u001b[39m_num_outputs,\n\u001b[1;32m   (...)\u001b[0m\n\u001b[0;32m    <a href='file:///c%3A/Users/dlc90/anaconda3/envs/tensorflow/lib/site-packages/tensorflow/python/eager/function.py?line=510'>511</a>\u001b[0m         ctx\u001b[39m=\u001b[39mctx,\n\u001b[0;32m    <a href='file:///c%3A/Users/dlc90/anaconda3/envs/tensorflow/lib/site-packages/tensorflow/python/eager/function.py?line=511'>512</a>\u001b[0m         cancellation_manager\u001b[39m=\u001b[39mcancellation_manager)\n",
      "File \u001b[1;32m~\\anaconda3\\envs\\tensorflow\\lib\\site-packages\\tensorflow\\python\\eager\\execute.py:54\u001b[0m, in \u001b[0;36mquick_execute\u001b[1;34m(op_name, num_outputs, inputs, attrs, ctx, name)\u001b[0m\n\u001b[0;32m     <a href='file:///c%3A/Users/dlc90/anaconda3/envs/tensorflow/lib/site-packages/tensorflow/python/eager/execute.py?line=51'>52</a>\u001b[0m \u001b[39mtry\u001b[39;00m:\n\u001b[0;32m     <a href='file:///c%3A/Users/dlc90/anaconda3/envs/tensorflow/lib/site-packages/tensorflow/python/eager/execute.py?line=52'>53</a>\u001b[0m   ctx\u001b[39m.\u001b[39mensure_initialized()\n\u001b[1;32m---> <a href='file:///c%3A/Users/dlc90/anaconda3/envs/tensorflow/lib/site-packages/tensorflow/python/eager/execute.py?line=53'>54</a>\u001b[0m   tensors \u001b[39m=\u001b[39m pywrap_tfe\u001b[39m.\u001b[39;49mTFE_Py_Execute(ctx\u001b[39m.\u001b[39;49m_handle, device_name, op_name,\n\u001b[0;32m     <a href='file:///c%3A/Users/dlc90/anaconda3/envs/tensorflow/lib/site-packages/tensorflow/python/eager/execute.py?line=54'>55</a>\u001b[0m                                       inputs, attrs, num_outputs)\n\u001b[0;32m     <a href='file:///c%3A/Users/dlc90/anaconda3/envs/tensorflow/lib/site-packages/tensorflow/python/eager/execute.py?line=55'>56</a>\u001b[0m \u001b[39mexcept\u001b[39;00m core\u001b[39m.\u001b[39m_NotOkStatusException \u001b[39mas\u001b[39;00m e:\n\u001b[0;32m     <a href='file:///c%3A/Users/dlc90/anaconda3/envs/tensorflow/lib/site-packages/tensorflow/python/eager/execute.py?line=56'>57</a>\u001b[0m   \u001b[39mif\u001b[39;00m name \u001b[39mis\u001b[39;00m \u001b[39mnot\u001b[39;00m \u001b[39mNone\u001b[39;00m:\n",
      "\u001b[1;31mKeyboardInterrupt\u001b[0m: "
     ]
    }
   ],
   "source": [
    "# early_stop = EarlyStopping(monitor='val_loss', min_delta=0, patience=3, verbose=1, mode='auto')\n",
    "\n",
    "history = model2.fit(Z_train, y_train,\n",
    "                    validation_data = (Z_test, y_test),\n",
    "                    epochs = 10,\n",
    "                    batch_size = 32,\n",
    "                    verbose = 1)"
   ]
  },
  {
   "cell_type": "code",
   "execution_count": null,
   "id": "3db4b14f-35ae-48cf-9072-77c5410c0aac",
   "metadata": {},
   "outputs": [],
   "source": [
    "model3 = Sequential()\n",
    "model3.add(Dense(128,\n",
    "                input_shape = (1400,),\n",
    "                activation = 'relu'))\n",
    "model3.add(Dropout(0.2))\n",
    "model3.add(Dense(64, activation = 'relu'))\n",
    "model3.add(Dropout(0.2))\n",
    "model3.add(Dense(32, activation = 'relu'))\n",
    "model3.add(Dense(16, activation = 'relu'))\n",
    "\n",
    "model3.add(Dense(10, activation = 'softmax'))\n",
    "\n",
    "model3.compile(loss = 'categorical_crossentropy',\n",
    "              optimizer = 'adam',\n",
    "              metrics = ['acc'])"
   ]
  },
  {
   "cell_type": "code",
   "execution_count": null,
   "id": "2d0cef96-ecee-401a-996e-b41cefbbcbb7",
   "metadata": {},
   "outputs": [
    {
     "name": "stdout",
     "output_type": "stream",
     "text": [
      "Epoch 1/30\n",
      "1961/1961 [==============================] - 6s 3ms/step - loss: 1.2344 - acc: 0.5182 - val_loss: 1.0203 - val_acc: 0.6002\n",
      "Epoch 2/30\n",
      "1961/1961 [==============================] - 6s 3ms/step - loss: 1.0075 - acc: 0.6015 - val_loss: 0.9258 - val_acc: 0.6306\n",
      "Epoch 3/30\n",
      "1961/1961 [==============================] - 6s 3ms/step - loss: 0.9295 - acc: 0.6278 - val_loss: 0.8752 - val_acc: 0.6455\n",
      "Epoch 4/30\n",
      "1961/1961 [==============================] - 6s 3ms/step - loss: 0.8820 - acc: 0.6435 - val_loss: 0.8381 - val_acc: 0.6583\n",
      "Epoch 5/30\n",
      "1961/1961 [==============================] - 7s 3ms/step - loss: 0.8450 - acc: 0.6541 - val_loss: 0.8060 - val_acc: 0.6700\n",
      "Epoch 6/30\n",
      "1961/1961 [==============================] - 7s 3ms/step - loss: 0.8172 - acc: 0.6629 - val_loss: 0.7891 - val_acc: 0.6740\n",
      "Epoch 7/30\n",
      "1961/1961 [==============================] - 7s 4ms/step - loss: 0.7930 - acc: 0.6709 - val_loss: 0.7722 - val_acc: 0.6796\n",
      "Epoch 8/30\n",
      "1961/1961 [==============================] - 7s 4ms/step - loss: 0.7747 - acc: 0.6765 - val_loss: 0.7587 - val_acc: 0.6840\n",
      "Epoch 9/30\n",
      "1961/1961 [==============================] - 7s 4ms/step - loss: 0.7585 - acc: 0.6818 - val_loss: 0.7490 - val_acc: 0.6849\n",
      "Epoch 10/30\n",
      "1961/1961 [==============================] - 7s 4ms/step - loss: 0.7430 - acc: 0.6855 - val_loss: 0.7363 - val_acc: 0.6909\n",
      "Epoch 11/30\n",
      "1961/1961 [==============================] - 7s 3ms/step - loss: 0.7316 - acc: 0.6910 - val_loss: 0.7290 - val_acc: 0.6945\n",
      "Epoch 12/30\n",
      "1961/1961 [==============================] - 7s 3ms/step - loss: 0.7214 - acc: 0.6920 - val_loss: 0.7247 - val_acc: 0.6940\n",
      "Epoch 13/30\n",
      "1961/1961 [==============================] - 8s 4ms/step - loss: 0.7140 - acc: 0.6965 - val_loss: 0.7106 - val_acc: 0.6991\n",
      "Epoch 14/30\n",
      "1961/1961 [==============================] - 8s 4ms/step - loss: 0.7048 - acc: 0.6985 - val_loss: 0.7058 - val_acc: 0.7026\n",
      "Epoch 15/30\n",
      "1961/1961 [==============================] - 7s 4ms/step - loss: 0.6977 - acc: 0.7022 - val_loss: 0.7051 - val_acc: 0.6998\n",
      "Epoch 16/30\n",
      "1961/1961 [==============================] - 7s 4ms/step - loss: 0.6910 - acc: 0.7045 - val_loss: 0.6987 - val_acc: 0.7032\n",
      "Epoch 17/30\n",
      "1961/1961 [==============================] - 7s 4ms/step - loss: 0.6840 - acc: 0.7060 - val_loss: 0.7013 - val_acc: 0.7033\n",
      "Epoch 18/30\n",
      "1961/1961 [==============================] - 7s 4ms/step - loss: 0.6809 - acc: 0.7075 - val_loss: 0.6967 - val_acc: 0.7042\n",
      "Epoch 19/30\n",
      "1961/1961 [==============================] - 7s 4ms/step - loss: 0.6749 - acc: 0.7094 - val_loss: 0.6961 - val_acc: 0.7073\n",
      "Epoch 20/30\n",
      "1961/1961 [==============================] - 7s 3ms/step - loss: 0.6703 - acc: 0.7113 - val_loss: 0.6882 - val_acc: 0.7102\n",
      "Epoch 21/30\n",
      "1961/1961 [==============================] - 7s 4ms/step - loss: 0.6645 - acc: 0.7141 - val_loss: 0.6856 - val_acc: 0.7091\n",
      "Epoch 22/30\n",
      "1961/1961 [==============================] - 7s 4ms/step - loss: 0.6618 - acc: 0.7150 - val_loss: 0.6852 - val_acc: 0.7117\n",
      "Epoch 23/30\n",
      "1961/1961 [==============================] - 7s 3ms/step - loss: 0.6580 - acc: 0.7151 - val_loss: 0.6855 - val_acc: 0.7142\n",
      "Epoch 24/30\n",
      "1961/1961 [==============================] - 7s 3ms/step - loss: 0.6536 - acc: 0.7173 - val_loss: 0.6899 - val_acc: 0.7054\n",
      "Epoch 25/30\n",
      "1961/1961 [==============================] - 7s 4ms/step - loss: 0.6508 - acc: 0.7176 - val_loss: 0.6896 - val_acc: 0.7096\n",
      "Epoch 26/30\n",
      "1961/1961 [==============================] - 7s 3ms/step - loss: 0.6469 - acc: 0.7196 - val_loss: 0.6744 - val_acc: 0.7146\n",
      "Epoch 27/30\n",
      "1961/1961 [==============================] - 8s 4ms/step - loss: 0.6443 - acc: 0.7202 - val_loss: 0.6721 - val_acc: 0.7158\n",
      "Epoch 28/30\n",
      "1961/1961 [==============================] - 9s 5ms/step - loss: 0.6412 - acc: 0.7209 - val_loss: 0.6725 - val_acc: 0.7130\n",
      "Epoch 29/30\n",
      "1961/1961 [==============================] - 8s 4ms/step - loss: 0.6380 - acc: 0.7228 - val_loss: 0.6718 - val_acc: 0.7155\n",
      "Epoch 30/30\n",
      "1961/1961 [==============================] - 8s 4ms/step - loss: 0.6354 - acc: 0.7239 - val_loss: 0.6704 - val_acc: 0.7168\n"
     ]
    }
   ],
   "source": [
    "history = model3.fit(Z_train, y_train,\n",
    "                    validation_data = (Z_test, y_test),\n",
    "                    epochs = 30,\n",
    "                    batch_size = 64,\n",
    "                    verbose = 1)"
   ]
  },
  {
   "cell_type": "code",
   "execution_count": null,
   "id": "352c8e0a-6017-4eb9-b861-c2b8f99cef22",
   "metadata": {},
   "outputs": [],
   "source": [
    "model4 = Sequential()\n",
    "model4.add(Dense(128,\n",
    "                input_shape = (1400,),\n",
    "                activation = 'relu'))\n",
    "model4.add(Dropout(0.2))\n",
    "model4.add(Dense(64, activation = 'relu'))\n",
    "model4.add(Dropout(0.2))\n",
    "model4.add(Dense(32, activation = 'relu'))\n",
    "model4.add(Dense(16, activation = 'relu'))\n",
    "model4.add(Dense(16, activation = 'relu'))\n",
    "\n",
    "model4.add(Dense(10, activation = 'softmax'))\n",
    "\n",
    "model4.compile(loss = 'categorical_crossentropy',\n",
    "              optimizer = 'adam',\n",
    "              metrics = ['acc'])"
   ]
  },
  {
   "cell_type": "code",
   "execution_count": null,
   "id": "ae4bdf21-436c-455b-9615-c5587b7b2ade",
   "metadata": {},
   "outputs": [
    {
     "name": "stdout",
     "output_type": "stream",
     "text": [
      "Epoch 1/100\n",
      "981/981 [==============================] - 5s 5ms/step - loss: 1.2801 - acc: 0.5069 - val_loss: 1.0558 - val_acc: 0.5879\n",
      "Epoch 2/100\n",
      "981/981 [==============================] - 4s 4ms/step - loss: 1.0334 - acc: 0.5933 - val_loss: 0.9459 - val_acc: 0.6245\n",
      "Epoch 3/100\n",
      "981/981 [==============================] - 4s 5ms/step - loss: 0.9522 - acc: 0.6222 - val_loss: 0.8976 - val_acc: 0.6418\n",
      "Epoch 4/100\n",
      "981/981 [==============================] - 4s 4ms/step - loss: 0.9011 - acc: 0.6370 - val_loss: 0.8588 - val_acc: 0.6545\n",
      "Epoch 5/100\n",
      "981/981 [==============================] - 5s 5ms/step - loss: 0.8654 - acc: 0.6486 - val_loss: 0.8326 - val_acc: 0.6620\n",
      "Epoch 6/100\n",
      "981/981 [==============================] - 4s 5ms/step - loss: 0.8372 - acc: 0.6562 - val_loss: 0.8067 - val_acc: 0.6687\n",
      "Epoch 7/100\n",
      "981/981 [==============================] - 4s 4ms/step - loss: 0.8148 - acc: 0.6651 - val_loss: 0.7963 - val_acc: 0.6737\n",
      "Epoch 8/100\n",
      "981/981 [==============================] - 4s 4ms/step - loss: 0.7927 - acc: 0.6722 - val_loss: 0.7794 - val_acc: 0.6791\n",
      "Epoch 9/100\n",
      "981/981 [==============================] - 4s 5ms/step - loss: 0.7735 - acc: 0.6764 - val_loss: 0.7759 - val_acc: 0.6745\n",
      "Epoch 10/100\n",
      "981/981 [==============================] - 5s 5ms/step - loss: 0.7624 - acc: 0.6797 - val_loss: 0.7576 - val_acc: 0.6849\n",
      "Epoch 11/100\n",
      "981/981 [==============================] - 5s 5ms/step - loss: 0.7477 - acc: 0.6860 - val_loss: 0.7532 - val_acc: 0.6871\n",
      "Epoch 12/100\n",
      "981/981 [==============================] - 4s 5ms/step - loss: 0.7360 - acc: 0.6889 - val_loss: 0.7479 - val_acc: 0.6877\n",
      "Epoch 13/100\n",
      "981/981 [==============================] - 5s 5ms/step - loss: 0.7253 - acc: 0.6927 - val_loss: 0.7399 - val_acc: 0.6932\n",
      "Epoch 14/100\n",
      "981/981 [==============================] - 4s 4ms/step - loss: 0.7146 - acc: 0.6952 - val_loss: 0.7267 - val_acc: 0.6965\n",
      "Epoch 15/100\n",
      "981/981 [==============================] - 4s 5ms/step - loss: 0.7076 - acc: 0.6979 - val_loss: 0.7108 - val_acc: 0.7005\n",
      "Epoch 16/100\n",
      "981/981 [==============================] - 5s 5ms/step - loss: 0.6993 - acc: 0.7012 - val_loss: 0.7163 - val_acc: 0.6996\n",
      "Epoch 17/100\n",
      "981/981 [==============================] - 5s 5ms/step - loss: 0.6926 - acc: 0.7036 - val_loss: 0.7010 - val_acc: 0.7053\n",
      "Epoch 18/100\n",
      "981/981 [==============================] - 5s 5ms/step - loss: 0.6832 - acc: 0.7062 - val_loss: 0.7068 - val_acc: 0.7038\n",
      "Epoch 19/100\n",
      "981/981 [==============================] - 5s 5ms/step - loss: 0.6779 - acc: 0.7078 - val_loss: 0.6972 - val_acc: 0.7071\n",
      "Epoch 20/100\n",
      "981/981 [==============================] - 5s 5ms/step - loss: 0.6749 - acc: 0.7098 - val_loss: 0.6927 - val_acc: 0.7085\n",
      "Epoch 21/100\n",
      "981/981 [==============================] - 4s 5ms/step - loss: 0.6695 - acc: 0.7114 - val_loss: 0.6837 - val_acc: 0.7088\n",
      "Epoch 22/100\n",
      "981/981 [==============================] - 4s 5ms/step - loss: 0.6619 - acc: 0.7136 - val_loss: 0.6852 - val_acc: 0.7095\n",
      "Epoch 23/100\n",
      "981/981 [==============================] - 5s 5ms/step - loss: 0.6587 - acc: 0.7144 - val_loss: 0.6830 - val_acc: 0.7141\n",
      "Epoch 24/100\n",
      "981/981 [==============================] - 4s 5ms/step - loss: 0.6538 - acc: 0.7167 - val_loss: 0.6753 - val_acc: 0.7155\n",
      "Epoch 25/100\n",
      "981/981 [==============================] - 5s 5ms/step - loss: 0.6504 - acc: 0.7176 - val_loss: 0.6693 - val_acc: 0.7132\n",
      "Epoch 26/100\n",
      "981/981 [==============================] - 5s 5ms/step - loss: 0.6464 - acc: 0.7202 - val_loss: 0.6820 - val_acc: 0.7110\n",
      "Epoch 27/100\n",
      "981/981 [==============================] - 5s 5ms/step - loss: 0.6429 - acc: 0.7202 - val_loss: 0.6782 - val_acc: 0.7166\n",
      "Epoch 28/100\n",
      "981/981 [==============================] - 5s 5ms/step - loss: 0.6406 - acc: 0.7222 - val_loss: 0.6694 - val_acc: 0.7172\n",
      "Epoch 29/100\n",
      "981/981 [==============================] - 5s 5ms/step - loss: 0.6384 - acc: 0.7217 - val_loss: 0.6714 - val_acc: 0.7160\n",
      "Epoch 30/100\n",
      "981/981 [==============================] - 5s 5ms/step - loss: 0.6347 - acc: 0.7232 - val_loss: 0.6744 - val_acc: 0.7168\n",
      "Epoch 31/100\n",
      "981/981 [==============================] - 5s 5ms/step - loss: 0.6321 - acc: 0.7241 - val_loss: 0.6625 - val_acc: 0.7223\n",
      "Epoch 32/100\n",
      "981/981 [==============================] - 5s 5ms/step - loss: 0.6299 - acc: 0.7254 - val_loss: 0.6706 - val_acc: 0.7191\n",
      "Epoch 33/100\n",
      "981/981 [==============================] - 5s 5ms/step - loss: 0.6264 - acc: 0.7265 - val_loss: 0.6728 - val_acc: 0.7200\n",
      "Epoch 34/100\n",
      "981/981 [==============================] - 4s 5ms/step - loss: 0.6241 - acc: 0.7262 - val_loss: 0.6682 - val_acc: 0.7189\n",
      "Epoch 35/100\n",
      "981/981 [==============================] - 4s 5ms/step - loss: 0.6204 - acc: 0.7286 - val_loss: 0.6640 - val_acc: 0.7239\n",
      "Epoch 36/100\n",
      "981/981 [==============================] - 5s 5ms/step - loss: 0.6169 - acc: 0.7316 - val_loss: 0.6675 - val_acc: 0.7215\n",
      "Epoch 37/100\n",
      "981/981 [==============================] - 5s 5ms/step - loss: 0.6156 - acc: 0.7296 - val_loss: 0.6582 - val_acc: 0.7221\n",
      "Epoch 38/100\n",
      "981/981 [==============================] - 5s 5ms/step - loss: 0.6135 - acc: 0.7299 - val_loss: 0.6691 - val_acc: 0.7200\n",
      "Epoch 39/100\n",
      "981/981 [==============================] - 5s 5ms/step - loss: 0.6111 - acc: 0.7324 - val_loss: 0.6631 - val_acc: 0.7226\n",
      "Epoch 40/100\n",
      "981/981 [==============================] - 5s 5ms/step - loss: 0.6089 - acc: 0.7320 - val_loss: 0.6544 - val_acc: 0.7228\n",
      "Epoch 41/100\n",
      "981/981 [==============================] - 5s 5ms/step - loss: 0.6077 - acc: 0.7334 - val_loss: 0.6570 - val_acc: 0.7229\n",
      "Epoch 42/100\n",
      "981/981 [==============================] - 5s 5ms/step - loss: 0.6054 - acc: 0.7341 - val_loss: 0.6653 - val_acc: 0.7218\n",
      "Epoch 43/100\n",
      "981/981 [==============================] - 5s 5ms/step - loss: 0.6039 - acc: 0.7343 - val_loss: 0.6575 - val_acc: 0.7246\n",
      "Epoch 44/100\n",
      "981/981 [==============================] - 5s 5ms/step - loss: 0.5996 - acc: 0.7369 - val_loss: 0.6628 - val_acc: 0.7261\n",
      "Epoch 45/100\n",
      "981/981 [==============================] - 5s 5ms/step - loss: 0.6011 - acc: 0.7364 - val_loss: 0.6672 - val_acc: 0.7250\n",
      "Epoch 46/100\n",
      "981/981 [==============================] - 5s 5ms/step - loss: 0.5980 - acc: 0.7365 - val_loss: 0.6631 - val_acc: 0.7289\n",
      "Epoch 47/100\n",
      "981/981 [==============================] - 5s 5ms/step - loss: 0.5994 - acc: 0.7366 - val_loss: 0.6552 - val_acc: 0.7245\n",
      "Epoch 48/100\n",
      "981/981 [==============================] - 5s 5ms/step - loss: 0.5952 - acc: 0.7376 - val_loss: 0.6660 - val_acc: 0.7234\n",
      "Epoch 49/100\n",
      "981/981 [==============================] - 5s 5ms/step - loss: 0.5944 - acc: 0.7380 - val_loss: 0.6612 - val_acc: 0.7275\n",
      "Epoch 50/100\n",
      "981/981 [==============================] - 5s 5ms/step - loss: 0.5922 - acc: 0.7405 - val_loss: 0.6651 - val_acc: 0.7256\n",
      "Epoch 51/100\n",
      "981/981 [==============================] - 5s 5ms/step - loss: 0.5911 - acc: 0.7381 - val_loss: 0.6691 - val_acc: 0.7256\n",
      "Epoch 52/100\n",
      "981/981 [==============================] - 5s 5ms/step - loss: 0.5890 - acc: 0.7410 - val_loss: 0.6701 - val_acc: 0.7271\n",
      "Epoch 53/100\n",
      "981/981 [==============================] - 5s 5ms/step - loss: 0.5898 - acc: 0.7403 - val_loss: 0.6504 - val_acc: 0.7274\n",
      "Epoch 54/100\n",
      "981/981 [==============================] - 5s 5ms/step - loss: 0.5864 - acc: 0.7411 - val_loss: 0.6836 - val_acc: 0.7264\n",
      "Epoch 55/100\n",
      "981/981 [==============================] - 5s 5ms/step - loss: 0.5864 - acc: 0.7404 - val_loss: 0.6583 - val_acc: 0.7281\n",
      "Epoch 56/100\n",
      "981/981 [==============================] - 5s 5ms/step - loss: 0.5832 - acc: 0.7424 - val_loss: 0.6606 - val_acc: 0.7311\n",
      "Epoch 57/100\n",
      "981/981 [==============================] - 5s 5ms/step - loss: 0.5821 - acc: 0.7426 - val_loss: 0.6571 - val_acc: 0.7294\n",
      "Epoch 58/100\n",
      "981/981 [==============================] - 5s 5ms/step - loss: 0.5827 - acc: 0.7425 - val_loss: 0.6635 - val_acc: 0.7267\n",
      "Epoch 59/100\n",
      "981/981 [==============================] - 5s 5ms/step - loss: 0.5811 - acc: 0.7430 - val_loss: 0.6625 - val_acc: 0.7278\n",
      "Epoch 60/100\n",
      "981/981 [==============================] - 5s 5ms/step - loss: 0.5788 - acc: 0.7437 - val_loss: 0.6566 - val_acc: 0.7311\n",
      "Epoch 61/100\n",
      "981/981 [==============================] - 5s 5ms/step - loss: 0.5783 - acc: 0.7439 - val_loss: 0.6572 - val_acc: 0.7305\n",
      "Epoch 62/100\n",
      "981/981 [==============================] - 5s 5ms/step - loss: 0.5746 - acc: 0.7458 - val_loss: 0.6630 - val_acc: 0.7284\n",
      "Epoch 63/100\n",
      "981/981 [==============================] - 5s 5ms/step - loss: 0.5765 - acc: 0.7460 - val_loss: 0.6519 - val_acc: 0.7312\n",
      "Epoch 64/100\n",
      "981/981 [==============================] - 5s 5ms/step - loss: 0.5747 - acc: 0.7465 - val_loss: 0.6515 - val_acc: 0.7315\n",
      "Epoch 65/100\n",
      "981/981 [==============================] - 5s 5ms/step - loss: 0.5724 - acc: 0.7464 - val_loss: 0.6592 - val_acc: 0.7332\n",
      "Epoch 66/100\n",
      "981/981 [==============================] - 5s 5ms/step - loss: 0.5716 - acc: 0.7471 - val_loss: 0.6590 - val_acc: 0.7305\n",
      "Epoch 67/100\n",
      "981/981 [==============================] - 5s 5ms/step - loss: 0.5703 - acc: 0.7469 - val_loss: 0.6484 - val_acc: 0.7335\n",
      "Epoch 68/100\n",
      "981/981 [==============================] - 5s 5ms/step - loss: 0.5685 - acc: 0.7485 - val_loss: 0.6584 - val_acc: 0.7313\n",
      "Epoch 69/100\n",
      "981/981 [==============================] - 5s 5ms/step - loss: 0.5679 - acc: 0.7488 - val_loss: 0.6684 - val_acc: 0.7327\n",
      "Epoch 70/100\n",
      "981/981 [==============================] - 5s 5ms/step - loss: 0.5680 - acc: 0.7479 - val_loss: 0.6549 - val_acc: 0.7312\n",
      "Epoch 71/100\n",
      "981/981 [==============================] - 5s 5ms/step - loss: 0.5670 - acc: 0.7495 - val_loss: 0.6426 - val_acc: 0.7347\n",
      "Epoch 72/100\n",
      "981/981 [==============================] - 5s 5ms/step - loss: 0.5649 - acc: 0.7496 - val_loss: 0.6660 - val_acc: 0.7342\n",
      "Epoch 73/100\n",
      "981/981 [==============================] - 5s 5ms/step - loss: 0.5651 - acc: 0.7492 - val_loss: 0.6531 - val_acc: 0.7309\n",
      "Epoch 74/100\n",
      "981/981 [==============================] - 5s 5ms/step - loss: 0.5650 - acc: 0.7505 - val_loss: 0.6542 - val_acc: 0.7317\n",
      "Epoch 75/100\n",
      "981/981 [==============================] - 5s 5ms/step - loss: 0.5622 - acc: 0.7512 - val_loss: 0.6713 - val_acc: 0.7361\n",
      "Epoch 76/100\n",
      "981/981 [==============================] - 5s 5ms/step - loss: 0.5604 - acc: 0.7512 - val_loss: 0.6289 - val_acc: 0.7376\n",
      "Epoch 77/100\n",
      "981/981 [==============================] - 5s 5ms/step - loss: 0.5608 - acc: 0.7504 - val_loss: 0.6460 - val_acc: 0.7347\n",
      "Epoch 78/100\n",
      "981/981 [==============================] - 5s 5ms/step - loss: 0.5599 - acc: 0.7516 - val_loss: 0.6490 - val_acc: 0.7323\n",
      "Epoch 79/100\n",
      "981/981 [==============================] - 5s 5ms/step - loss: 0.5604 - acc: 0.7515 - val_loss: 0.6463 - val_acc: 0.7355\n",
      "Epoch 80/100\n",
      "981/981 [==============================] - 5s 5ms/step - loss: 0.5564 - acc: 0.7522 - val_loss: 0.6353 - val_acc: 0.7367\n",
      "Epoch 81/100\n",
      "981/981 [==============================] - 5s 5ms/step - loss: 0.5555 - acc: 0.7529 - val_loss: 0.6428 - val_acc: 0.7366\n",
      "Epoch 82/100\n",
      "981/981 [==============================] - 5s 5ms/step - loss: 0.5564 - acc: 0.7530 - val_loss: 0.6504 - val_acc: 0.7342\n",
      "Epoch 83/100\n",
      "981/981 [==============================] - 5s 5ms/step - loss: 0.5561 - acc: 0.7529 - val_loss: 0.6328 - val_acc: 0.7363\n",
      "Epoch 84/100\n",
      "981/981 [==============================] - 5s 5ms/step - loss: 0.5536 - acc: 0.7534 - val_loss: 0.6499 - val_acc: 0.7372\n",
      "Epoch 85/100\n",
      "981/981 [==============================] - 5s 5ms/step - loss: 0.5529 - acc: 0.7546 - val_loss: 0.6463 - val_acc: 0.7354\n",
      "Epoch 86/100\n",
      "981/981 [==============================] - 5s 5ms/step - loss: 0.5532 - acc: 0.7543 - val_loss: 0.6610 - val_acc: 0.7358\n",
      "Epoch 87/100\n",
      "981/981 [==============================] - 5s 5ms/step - loss: 0.5539 - acc: 0.7535 - val_loss: 0.6456 - val_acc: 0.7314\n",
      "Epoch 88/100\n",
      "981/981 [==============================] - 5s 5ms/step - loss: 0.5513 - acc: 0.7545 - val_loss: 0.6310 - val_acc: 0.7343\n",
      "Epoch 89/100\n",
      "981/981 [==============================] - 5s 5ms/step - loss: 0.5508 - acc: 0.7553 - val_loss: 0.6406 - val_acc: 0.7335\n",
      "Epoch 90/100\n",
      "981/981 [==============================] - 5s 5ms/step - loss: 0.5517 - acc: 0.7547 - val_loss: 0.6351 - val_acc: 0.7330\n",
      "Epoch 91/100\n",
      "981/981 [==============================] - 5s 5ms/step - loss: 0.5549 - acc: 0.7546 - val_loss: 0.6408 - val_acc: 0.7359\n",
      "Epoch 92/100\n",
      "981/981 [==============================] - 5s 5ms/step - loss: 0.5501 - acc: 0.7556 - val_loss: 0.6367 - val_acc: 0.7367\n",
      "Epoch 93/100\n",
      "981/981 [==============================] - 5s 5ms/step - loss: 0.5493 - acc: 0.7561 - val_loss: 0.6412 - val_acc: 0.7326\n",
      "Epoch 94/100\n",
      "981/981 [==============================] - 5s 5ms/step - loss: 0.5478 - acc: 0.7566 - val_loss: 0.6535 - val_acc: 0.7343\n",
      "Epoch 95/100\n",
      "981/981 [==============================] - 5s 5ms/step - loss: 0.5482 - acc: 0.7563 - val_loss: 0.6410 - val_acc: 0.7372\n",
      "Epoch 96/100\n",
      "981/981 [==============================] - 5s 5ms/step - loss: 0.5464 - acc: 0.7567 - val_loss: 0.6486 - val_acc: 0.7361\n",
      "Epoch 97/100\n",
      "981/981 [==============================] - 5s 5ms/step - loss: 0.5462 - acc: 0.7564 - val_loss: 0.6461 - val_acc: 0.7380\n",
      "Epoch 98/100\n",
      "981/981 [==============================] - 5s 5ms/step - loss: 0.5467 - acc: 0.7564 - val_loss: 0.6421 - val_acc: 0.7325\n",
      "Epoch 99/100\n",
      "981/981 [==============================] - 5s 5ms/step - loss: 0.5431 - acc: 0.7580 - val_loss: 0.6413 - val_acc: 0.7383\n",
      "Epoch 100/100\n",
      "981/981 [==============================] - 5s 5ms/step - loss: 0.5434 - acc: 0.7585 - val_loss: 0.6434 - val_acc: 0.7366\n"
     ]
    }
   ],
   "source": [
    "history = model4.fit(Z_train, y_train,\n",
    "                    validation_data = (Z_test, y_test),\n",
    "                    epochs = 100,\n",
    "                    batch_size = 128,\n",
    "                    verbose = 1)"
   ]
  },
  {
   "cell_type": "code",
   "execution_count": null,
   "id": "d33a976b-458e-4cbc-b8a7-485fbb4fce1d",
   "metadata": {},
   "outputs": [],
   "source": [
    "preds4 = model4.predict(Z_test)"
   ]
  },
  {
   "cell_type": "code",
   "execution_count": null,
   "id": "13e731d5-6095-4aa2-8de7-88cc2b5dd5ae",
   "metadata": {},
   "outputs": [
    {
     "data": {
      "image/png": "[encoded data removed]",
      "text/plain": [
       "<Figure size 720x720 with 2 Axes>"
      ]
     },
     "metadata": {
      "needs_background": "light"
     },
     "output_type": "display_data"
    }
   ],
   "source": [
    "rounded_preds4 = np.argmax(preds4, axis = -1)\n",
    "\n",
    "y_test4 = np.argmax(y_test, axis = -1)\n",
    "\n",
    "cm4 = confusion_matrix(y_test4, rounded_preds4)\n",
    "\n",
    "disp4 = ConfusionMatrixDisplay(confusion_matrix = cm,)\n",
    "fig, ax = plt.subplots(figsize=(10,10))\n",
    "disp.plot(ax=ax);\n"
   ]
  },
  {
   "cell_type": "code",
   "execution_count": null,
   "id": "aa27b1dc-47b8-4981-87de-067f302cc402",
   "metadata": {},
   "outputs": [
    {
     "name": "stdout",
     "output_type": "stream",
     "text": [
      "INFO:tensorflow:Assets written to: ram://ce581919-eedf-41c5-b959-3ddf93c501c9/assets\n"
     ]
    }
   ],
   "source": [
    "with open('./nnmodel.pkl', 'wb') as pickle_out:\n",
    "    pickle_out = pickle.dump(model, pickle_out)"
   ]
  }
 ],
 "metadata": {
  "interpreter": {
   "hash": "7b0fa565d2c72dfd329c0dfac10b0e3c3a611378dc2e802a3e54353322a90b9b"
  },
  "kernelspec": {
   "display_name": "Python [conda env:tensorflow]",
   "language": "python",
   "name": "python3"
  },
  "language_info": {
   "codemirror_mode": {
    "name": "ipython",
    "version": 3
   },
   "file_extension": ".py",
   "mimetype": "text/x-python",
   "name": "python",
   "nbconvert_exporter": "python",
   "pygments_lexer": "ipython3",
   "version": "3.10.4"
  }
 },
 "nbformat": 4,
 "nbformat_minor": 5
}
