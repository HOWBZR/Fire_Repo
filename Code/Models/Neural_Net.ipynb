{
 "cells": [
  {
   "cell_type": "markdown",
   "id": "889080d5-92ed-4534-8d3c-eb1884e68254",
   "metadata": {},
   "source": [
    "Blank\n"
   ]
  },
  {
   "cell_type": "code",
   "execution_count": 113,
   "id": "cbf0da2a-4267-42d5-aad4-000945684311",
   "metadata": {},
   "outputs": [],
   "source": [
    "import pandas as pd\n",
    "import numpy as np\n",
    "\n",
    "from sklearn.preprocessing import StandardScaler\n",
    "from sklearn.model_selection import train_test_split\n",
    "import matplotlib.pyplot as plt\n",
    "\n",
    "from tensorflow.keras.models import Sequential\n",
    "from tensorflow.keras.layers import Dense\n",
    "from tensorflow.keras.utils import to_categorical\n",
    "from tensorflow.keras.metrics import Recall\n",
    "from tensorflow.keras.utils import plot_model"
   ]
  },
  {
   "cell_type": "code",
   "execution_count": 114,
   "id": "aaa75d04-6299-4e47-b170-3464c61a606c",
   "metadata": {},
   "outputs": [],
   "source": [
    "from sklearn.metrics import ConfusionMatrixDisplay"
   ]
  },
  {
   "cell_type": "code",
   "execution_count": 115,
   "id": "2840cc1d-c46e-4c47-b94a-6749825da343",
   "metadata": {},
   "outputs": [],
   "source": [
    "df = pd.read_csv('../../Data/complete_fire.csv')"
   ]
  },
  {
   "cell_type": "code",
   "execution_count": 116,
   "id": "5770d848-f7aa-47e7-aef4-cdbc5e0f4e19",
   "metadata": {},
   "outputs": [],
   "source": [
    "df.dropna(inplace = True)"
   ]
  },
  {
   "cell_type": "code",
   "execution_count": 117,
   "id": "a19c6932-b9ea-4a7e-95c1-57ac0f5eed5f",
   "metadata": {},
   "outputs": [
    {
     "data": {
      "text/plain": [
       "(167273, 23)"
      ]
     },
     "execution_count": 117,
     "metadata": {},
     "output_type": "execute_result"
    }
   ],
   "source": [
    "df.shape"
   ]
  },
  {
   "cell_type": "code",
   "execution_count": 118,
   "id": "fbb0290f-927b-453b-80b6-0c593a349450",
   "metadata": {},
   "outputs": [
    {
     "data": {
      "text/plain": [
       "unique_fire_identifier     object\n",
       "lattitude                 float64\n",
       "longitude                 float64\n",
       "acres_burned              float64\n",
       "fire_cause                 object\n",
       "incident_name              object\n",
       "IsFSAssisted              float64\n",
       "origin_county              object\n",
       "state                      object\n",
       "year                        int64\n",
       "month                       int64\n",
       "value                     float64\n",
       "anomaly                   float64\n",
       "area (acres)              float64\n",
       "population                float64\n",
       "d0                        float64\n",
       "d1                        float64\n",
       "d2                        float64\n",
       "d3                        float64\n",
       "d4                        float64\n",
       "DSCI_avg                  float64\n",
       "DSCI_summed               float64\n",
       "precipitation(in)         float64\n",
       "dtype: object"
      ]
     },
     "execution_count": 118,
     "metadata": {},
     "output_type": "execute_result"
    }
   ],
   "source": [
    "df.dtypes"
   ]
  },
  {
   "cell_type": "code",
   "execution_count": 119,
   "id": "38d486f1-11c0-4fcb-934d-bfe8659115a3",
   "metadata": {},
   "outputs": [],
   "source": [
    "conditions = [df['acres_burned'] <= .25,\n",
    "             (df['acres_burned'] > .25) & (df['acres_burned'] <= 9.9),\n",
    "             (df['acres_burned'] > 9.9) & (df['acres_burned'] <= 99.99),\n",
    "             (df['acres_burned'] > 99.99) & (df['acres_burned'] <= 299),\n",
    "             (df['acres_burned'] > 299) & (df['acres_burned'] <= 999),\n",
    "             (df['acres_burned'] > 999) & (df['acres_burned'] <= 5000),\n",
    "             (df['acres_burned'] > 5000) & (df['acres_burned'] <= 9999),\n",
    "             (df['acres_burned'] > 9999) & (df['acres_burned'] <= 49_999),\n",
    "             (df['acres_burned'] > 49_999) & (df['acres_burned'] <= 100_000),\n",
    "              (df['acres_burned'] > 100_000)\n",
    "                \n",
    "             ]\n",
    "# choices = ['A', 'B', 'C', 'D', 'E', 'F', 'G', 'H', 'I', 'J']\n",
    "choices = [0,1,2,3,4,5,6,7,8,9]\n",
    "\n",
    "df['class'] = np.select(conditions, choices, default = 'A')"
   ]
  },
  {
   "cell_type": "code",
   "execution_count": 120,
   "id": "58654c01-16fd-49ab-8eb4-4c41740ca1e4",
   "metadata": {},
   "outputs": [
    {
     "data": {
      "text/plain": [
       "unique_fire_identifier     object\n",
       "lattitude                 float64\n",
       "longitude                 float64\n",
       "acres_burned              float64\n",
       "fire_cause                 object\n",
       "incident_name              object\n",
       "IsFSAssisted              float64\n",
       "origin_county              object\n",
       "state                      object\n",
       "year                        int64\n",
       "month                       int64\n",
       "value                     float64\n",
       "anomaly                   float64\n",
       "area (acres)              float64\n",
       "population                float64\n",
       "d0                        float64\n",
       "d1                        float64\n",
       "d2                        float64\n",
       "d3                        float64\n",
       "d4                        float64\n",
       "DSCI_avg                  float64\n",
       "DSCI_summed               float64\n",
       "precipitation(in)         float64\n",
       "class                      object\n",
       "dtype: object"
      ]
     },
     "execution_count": 120,
     "metadata": {},
     "output_type": "execute_result"
    }
   ],
   "source": [
    "df.dtypes"
   ]
  },
  {
   "cell_type": "code",
   "execution_count": 121,
   "id": "9335534b-2faa-42be-9e63-23582bfbdf42",
   "metadata": {},
   "outputs": [
    {
     "data": {
      "text/plain": [
       "0    0.330621\n",
       "1    0.230288\n",
       "2    0.137398\n",
       "5    0.112289\n",
       "4    0.102718\n",
       "3    0.080085\n",
       "7    0.002983\n",
       "6    0.002577\n",
       "8    0.000544\n",
       "9    0.000496\n",
       "Name: class, dtype: float64"
      ]
     },
     "execution_count": 121,
     "metadata": {},
     "output_type": "execute_result"
    }
   ],
   "source": [
    "df['class'].value_counts(normalize = True)"
   ]
  },
  {
   "cell_type": "code",
   "execution_count": 122,
   "id": "21010154-bd0c-4904-ba40-8dda6f8b48a2",
   "metadata": {},
   "outputs": [],
   "source": [
    "\n",
    "df = pd.get_dummies(df, columns = ['state', 'origin_county', 'fire_cause'], drop_first = True)"
   ]
  },
  {
   "cell_type": "code",
   "execution_count": 123,
   "id": "3f6b8aa2-8629-4cbb-879d-d75f27d1f041",
   "metadata": {},
   "outputs": [],
   "source": [
    "X = df.drop(columns = ['incident_name', 'unique_fire_identifier', 'class'])\n",
    "y = df['class']"
   ]
  },
  {
   "cell_type": "code",
   "execution_count": 124,
   "id": "8d9b5065-bce8-4925-aa60-e697088c729b",
   "metadata": {},
   "outputs": [],
   "source": [
    "y = to_categorical(y)\n",
    "# y = pd.get_dummies(y)"
   ]
  },
  {
   "cell_type": "code",
   "execution_count": null,
   "id": "5bc81056-9f1f-42a5-99ee-83b09da4e1b0",
   "metadata": {},
   "outputs": [],
   "source": []
  },
  {
   "cell_type": "code",
   "execution_count": 125,
   "id": "35ef5899-1620-4c2b-b20b-efce87466fe4",
   "metadata": {},
   "outputs": [],
   "source": [
    "X_train, X_test, y_train, y_test = train_test_split(X, y, random_state = 5, stratify = y)"
   ]
  },
  {
   "cell_type": "code",
   "execution_count": 126,
   "id": "775f6595-b320-40ae-accb-eac506b85195",
   "metadata": {},
   "outputs": [],
   "source": [
    "sc = StandardScaler()"
   ]
  },
  {
   "cell_type": "code",
   "execution_count": 127,
   "id": "ac49fc4b-21a1-4aa2-9fb4-2c7e460ef226",
   "metadata": {},
   "outputs": [],
   "source": [
    "Z_train = sc.fit_transform(X_train)\n",
    "Z_test = sc.transform(X_test)"
   ]
  },
  {
   "cell_type": "code",
   "execution_count": 128,
   "id": "8446f955-b017-4345-8843-1bc512587ef8",
   "metadata": {},
   "outputs": [
    {
     "data": {
      "text/plain": [
       "(125454, 1400)"
      ]
     },
     "execution_count": 128,
     "metadata": {},
     "output_type": "execute_result"
    }
   ],
   "source": [
    "X_train.shape"
   ]
  },
  {
   "cell_type": "code",
   "execution_count": 129,
   "id": "4c9dc57f-25a7-4fb7-8e2d-41a240b5439a",
   "metadata": {},
   "outputs": [],
   "source": [
    "\n",
    "model = Sequential()\n",
    "model.add(Dense(32,\n",
    "                input_shape = (1400,),\n",
    "                activation = 'relu'))\n",
    "model.add(Dense(10, activation = 'softmax'))"
   ]
  },
  {
   "cell_type": "code",
   "execution_count": 130,
   "id": "f86a13f1-eb40-465f-b5a0-050b62cfe864",
   "metadata": {},
   "outputs": [],
   "source": [
    "model.compile(loss = 'categorical_crossentropy',\n",
    "              optimizer = 'adam',\n",
    "              metrics = ['acc'])"
   ]
  },
  {
   "cell_type": "code",
   "execution_count": 131,
   "id": "d4af40c9-cab5-4493-8dfa-b0140e572b9a",
   "metadata": {},
   "outputs": [
    {
     "name": "stdout",
     "output_type": "stream",
     "text": [
      "Epoch 1/10\n",
      "3921/3921 [==============================] - 9s 2ms/step - loss: 1.2856 - acc: 0.5372 - val_loss: 1.0906 - val_acc: 0.5893\n",
      "Epoch 2/10\n",
      "3921/3921 [==============================] - 8s 2ms/step - loss: 1.0056 - acc: 0.6136 - val_loss: 0.9816 - val_acc: 0.6248\n",
      "Epoch 3/10\n",
      "3921/3921 [==============================] - 9s 2ms/step - loss: 0.9003 - acc: 0.6448 - val_loss: 0.9264 - val_acc: 0.6490\n",
      "Epoch 4/10\n",
      "3921/3921 [==============================] - 7s 2ms/step - loss: 0.8387 - acc: 0.6672 - val_loss: 0.8920 - val_acc: 0.6613\n",
      "Epoch 5/10\n",
      "3921/3921 [==============================] - 6s 1ms/step - loss: 0.7997 - acc: 0.6801 - val_loss: 0.8645 - val_acc: 0.6729\n",
      "Epoch 6/10\n",
      "3921/3921 [==============================] - 6s 1ms/step - loss: 0.7680 - acc: 0.6886 - val_loss: 0.8555 - val_acc: 0.6836\n",
      "Epoch 7/10\n",
      "3921/3921 [==============================] - 6s 2ms/step - loss: 0.7468 - acc: 0.6963 - val_loss: 0.8660 - val_acc: 0.6814\n",
      "Epoch 8/10\n",
      "3921/3921 [==============================] - 6s 2ms/step - loss: 0.7292 - acc: 0.7016 - val_loss: 0.8471 - val_acc: 0.6891\n",
      "Epoch 9/10\n",
      "3921/3921 [==============================] - 7s 2ms/step - loss: 0.7161 - acc: 0.7068 - val_loss: 0.8567 - val_acc: 0.6920\n",
      "Epoch 10/10\n",
      "3921/3921 [==============================] - 6s 2ms/step - loss: 0.7068 - acc: 0.7124 - val_loss: 0.8643 - val_acc: 0.6933\n"
     ]
    }
   ],
   "source": [
    "\n",
    "history = model.fit(Z_train, y_train,\n",
    "                    validation_data = (Z_test, y_test),\n",
    "                    epochs = 10,\n",
    "                    batch_size = 32,\n",
    "                    verbose = 1)"
   ]
  },
  {
   "cell_type": "code",
   "execution_count": 132,
   "id": "86f1f87f-b429-4d83-8c92-d34b5ffd007f",
   "metadata": {},
   "outputs": [],
   "source": [
    "preds = model.predict(Z_test)"
   ]
  },
  {
   "cell_type": "code",
   "execution_count": 133,
   "id": "9a8570ea-836d-43cf-98c1-eb370ec6419b",
   "metadata": {},
   "outputs": [
    {
     "data": {
      "text/plain": [
       "2"
      ]
     },
     "execution_count": 133,
     "metadata": {},
     "output_type": "execute_result"
    }
   ],
   "source": [
    "rounded_preds = np.argmax(preds, axis = -1)\n",
    "rounded_preds[101]"
   ]
  },
  {
   "cell_type": "code",
   "execution_count": 134,
   "id": "aecea721-771b-4e4c-ab67-e25258642704",
   "metadata": {},
   "outputs": [],
   "source": [
    "y_test2 = np.argmax(y_test, axis = -1)"
   ]
  },
  {
   "cell_type": "code",
   "execution_count": 135,
   "id": "da2bead3-b112-4802-8ea4-402108db5174",
   "metadata": {},
   "outputs": [
    {
     "data": {
      "text/plain": [
       "2"
      ]
     },
     "execution_count": 135,
     "metadata": {},
     "output_type": "execute_result"
    }
   ],
   "source": [
    "y_test2[101]"
   ]
  },
  {
   "cell_type": "code",
   "execution_count": 137,
   "id": "224e374f-7516-442a-91a2-95784316b58a",
   "metadata": {},
   "outputs": [
    {
     "data": {
      "image/png": "[encoded data removed]",
      "text/plain": [
       "<Figure size 720x720 with 2 Axes>"
      ]
     },
     "metadata": {
      "needs_background": "light"
     },
     "output_type": "display_data"
    }
   ],
   "source": [
    "\n",
    "cm = confusion_matrix(y_test2, rounded_preds)\n",
    "\n",
    "disp = ConfusionMatrixDisplay(confusion_matrix = cm,)\n",
    "fig, ax = plt.subplots(figsize=(10,10))\n",
    "disp.plot(ax=ax);\n"
   ]
  },
  {
   "cell_type": "code",
   "execution_count": 138,
   "id": "1a8b1a0d-0e34-40f4-9034-b6c51e092606",
   "metadata": {},
   "outputs": [],
   "source": [
    "from tensorflow.keras.layers import Dropout\n",
    "from tensorflow.keras.callbacks import EarlyStopping\n",
    "model2 = Sequential()\n",
    "model2.add(Dense(64,\n",
    "                input_shape = (1400,),\n",
    "                activation = 'relu'))\n",
    "model2.add(Dropout(0.2))\n",
    "model2.add(Dense(64, activation = 'relu'))\n",
    "model2.add(Dense(32, activation = 'relu'))\n",
    "\n",
    "model2.add(Dense(10, activation = 'softmax'))"
   ]
  },
  {
   "cell_type": "code",
   "execution_count": 139,
   "id": "11455591-0e63-430a-a88c-55da74a38d98",
   "metadata": {},
   "outputs": [],
   "source": [
    "model2.compile(loss = 'categorical_crossentropy',\n",
    "              optimizer = 'adam',\n",
    "              metrics = ['acc'])"
   ]
  },
  {
   "cell_type": "code",
   "execution_count": 140,
   "id": "16d45bb3-c5b9-40be-85db-e167f5e262a7",
   "metadata": {},
   "outputs": [
    {
     "name": "stdout",
     "output_type": "stream",
     "text": [
      "Epoch 1/10\n",
      "3921/3921 [==============================] - 9s 2ms/step - loss: 1.1550 - acc: 0.5511 - val_loss: 0.9756 - val_acc: 0.6114\n",
      "Epoch 2/10\n",
      "3921/3921 [==============================] - 9s 2ms/step - loss: 0.9559 - acc: 0.6208 - val_loss: 0.8842 - val_acc: 0.6416\n",
      "Epoch 3/10\n",
      "3921/3921 [==============================] - 8s 2ms/step - loss: 0.8838 - acc: 0.6421 - val_loss: 0.8350 - val_acc: 0.6581\n",
      "Epoch 4/10\n",
      "3921/3921 [==============================] - 8s 2ms/step - loss: 0.8382 - acc: 0.6567 - val_loss: 0.8199 - val_acc: 0.6594\n",
      "Epoch 5/10\n",
      "3921/3921 [==============================] - 10s 2ms/step - loss: 0.8073 - acc: 0.6667 - val_loss: 0.7890 - val_acc: 0.6703\n",
      "Epoch 6/10\n",
      "3921/3921 [==============================] - 10s 3ms/step - loss: 0.7819 - acc: 0.6738 - val_loss: 0.7644 - val_acc: 0.6803\n",
      "Epoch 7/10\n",
      "3921/3921 [==============================] - 8s 2ms/step - loss: 0.7581 - acc: 0.6811 - val_loss: 0.7466 - val_acc: 0.6867\n",
      "Epoch 8/10\n",
      "3921/3921 [==============================] - 8s 2ms/step - loss: 0.7433 - acc: 0.6867 - val_loss: 0.7412 - val_acc: 0.6895\n",
      "Epoch 9/10\n",
      "3921/3921 [==============================] - 8s 2ms/step - loss: 0.7305 - acc: 0.6914 - val_loss: 0.7276 - val_acc: 0.6943\n",
      "Epoch 10/10\n",
      "3921/3921 [==============================] - 9s 2ms/step - loss: 0.7164 - acc: 0.6949 - val_loss: 0.7154 - val_acc: 0.6959\n"
     ]
    }
   ],
   "source": [
    "# early_stop = EarlyStopping(monitor='val_loss', min_delta=0, patience=3, verbose=1, mode='auto')\n",
    "\n",
    "history = model2.fit(Z_train, y_train,\n",
    "                    validation_data = (Z_test, y_test),\n",
    "                    epochs = 10,\n",
    "                    batch_size = 32,\n",
    "                    verbose = 1)"
   ]
  },
  {
   "cell_type": "code",
   "execution_count": 141,
   "id": "3db4b14f-35ae-48cf-9072-77c5410c0aac",
   "metadata": {},
   "outputs": [],
   "source": [
    "model3 = Sequential()\n",
    "model3.add(Dense(128,\n",
    "                input_shape = (1400,),\n",
    "                activation = 'relu'))\n",
    "model3.add(Dropout(0.2))\n",
    "model3.add(Dense(64, activation = 'relu'))\n",
    "model3.add(Dropout(0.2))\n",
    "model3.add(Dense(32, activation = 'relu'))\n",
    "model3.add(Dense(16, activation = 'relu'))\n",
    "\n",
    "model3.add(Dense(10, activation = 'softmax'))\n",
    "\n",
    "model3.compile(loss = 'categorical_crossentropy',\n",
    "              optimizer = 'adam',\n",
    "              metrics = ['acc'])"
   ]
  },
  {
   "cell_type": "code",
   "execution_count": 142,
   "id": "2d0cef96-ecee-401a-996e-b41cefbbcbb7",
   "metadata": {},
   "outputs": [
    {
     "name": "stdout",
     "output_type": "stream",
     "text": [
      "Epoch 1/30\n",
      "1961/1961 [==============================] - 4s 2ms/step - loss: 1.2081 - acc: 0.5280 - val_loss: 1.0016 - val_acc: 0.6048\n",
      "Epoch 2/30\n",
      "1961/1961 [==============================] - 4s 2ms/step - loss: 0.9903 - acc: 0.6093 - val_loss: 0.9178 - val_acc: 0.6345\n",
      "Epoch 3/30\n",
      "1961/1961 [==============================] - 5s 3ms/step - loss: 0.9172 - acc: 0.6321 - val_loss: 0.8630 - val_acc: 0.6480\n",
      "Epoch 4/30\n",
      "1961/1961 [==============================] - 13s 7ms/step - loss: 0.8707 - acc: 0.6478 - val_loss: 0.8276 - val_acc: 0.6595\n",
      "Epoch 5/30\n",
      "1961/1961 [==============================] - 7s 4ms/step - loss: 0.8355 - acc: 0.6570 - val_loss: 0.8062 - val_acc: 0.6684\n",
      "Epoch 6/30\n",
      "1961/1961 [==============================] - 7s 3ms/step - loss: 0.8090 - acc: 0.6669 - val_loss: 0.7864 - val_acc: 0.6764\n",
      "Epoch 7/30\n",
      "1961/1961 [==============================] - 7s 3ms/step - loss: 0.7862 - acc: 0.6730 - val_loss: 0.7680 - val_acc: 0.6805\n",
      "Epoch 8/30\n",
      "1961/1961 [==============================] - 6s 3ms/step - loss: 0.7659 - acc: 0.6781 - val_loss: 0.7586 - val_acc: 0.6841\n",
      "Epoch 9/30\n",
      "1961/1961 [==============================] - 6s 3ms/step - loss: 0.7504 - acc: 0.6838 - val_loss: 0.7358 - val_acc: 0.6916\n",
      "Epoch 10/30\n",
      "1961/1961 [==============================] - 7s 3ms/step - loss: 0.7366 - acc: 0.6885 - val_loss: 0.7290 - val_acc: 0.6904\n",
      "Epoch 11/30\n",
      "1961/1961 [==============================] - 6s 3ms/step - loss: 0.7239 - acc: 0.6916 - val_loss: 0.7233 - val_acc: 0.6980\n",
      "Epoch 12/30\n",
      "1961/1961 [==============================] - 7s 3ms/step - loss: 0.7140 - acc: 0.6954 - val_loss: 0.7188 - val_acc: 0.6971\n",
      "Epoch 13/30\n",
      "1961/1961 [==============================] - 7s 3ms/step - loss: 0.7065 - acc: 0.6982 - val_loss: 0.7096 - val_acc: 0.7009\n",
      "Epoch 14/30\n",
      "1961/1961 [==============================] - 7s 3ms/step - loss: 0.6973 - acc: 0.7006 - val_loss: 0.7010 - val_acc: 0.7058\n",
      "Epoch 15/30\n",
      "1961/1961 [==============================] - 7s 4ms/step - loss: 0.6891 - acc: 0.7044 - val_loss: 0.7032 - val_acc: 0.7034\n",
      "Epoch 16/30\n",
      "1961/1961 [==============================] - 6s 3ms/step - loss: 0.6846 - acc: 0.7051 - val_loss: 0.7022 - val_acc: 0.7054\n",
      "Epoch 17/30\n",
      "1961/1961 [==============================] - 7s 3ms/step - loss: 0.6793 - acc: 0.7071 - val_loss: 0.6852 - val_acc: 0.7095\n",
      "Epoch 18/30\n",
      "1961/1961 [==============================] - 7s 3ms/step - loss: 0.6722 - acc: 0.7089 - val_loss: 0.6884 - val_acc: 0.7058\n",
      "Epoch 19/30\n",
      "1961/1961 [==============================] - 6s 3ms/step - loss: 0.6677 - acc: 0.7109 - val_loss: 0.6945 - val_acc: 0.7039\n",
      "Epoch 20/30\n",
      "1961/1961 [==============================] - 7s 3ms/step - loss: 0.6632 - acc: 0.7128 - val_loss: 0.6852 - val_acc: 0.7080\n",
      "Epoch 21/30\n",
      "1961/1961 [==============================] - 7s 3ms/step - loss: 0.6579 - acc: 0.7157 - val_loss: 0.6866 - val_acc: 0.7104\n",
      "Epoch 22/30\n",
      "1961/1961 [==============================] - 8s 4ms/step - loss: 0.6573 - acc: 0.7145 - val_loss: 0.6730 - val_acc: 0.7119\n",
      "Epoch 23/30\n",
      "1961/1961 [==============================] - 8s 4ms/step - loss: 0.6523 - acc: 0.7167 - val_loss: 0.6790 - val_acc: 0.7129\n",
      "Epoch 24/30\n",
      "1961/1961 [==============================] - 7s 4ms/step - loss: 0.6488 - acc: 0.7181 - val_loss: 0.6799 - val_acc: 0.7143\n",
      "Epoch 25/30\n",
      "1961/1961 [==============================] - 7s 4ms/step - loss: 0.6463 - acc: 0.7197 - val_loss: 0.6737 - val_acc: 0.7169\n",
      "Epoch 26/30\n",
      "1961/1961 [==============================] - 7s 3ms/step - loss: 0.6422 - acc: 0.7196 - val_loss: 0.6728 - val_acc: 0.7165\n",
      "Epoch 27/30\n",
      "1961/1961 [==============================] - 7s 3ms/step - loss: 0.6396 - acc: 0.7223 - val_loss: 0.6784 - val_acc: 0.7119\n",
      "Epoch 28/30\n",
      "1961/1961 [==============================] - 7s 3ms/step - loss: 0.6365 - acc: 0.7216 - val_loss: 0.6653 - val_acc: 0.7182\n",
      "Epoch 29/30\n",
      "1961/1961 [==============================] - 7s 3ms/step - loss: 0.6328 - acc: 0.7235 - val_loss: 0.6724 - val_acc: 0.7182\n",
      "Epoch 30/30\n",
      "1961/1961 [==============================] - 7s 4ms/step - loss: 0.6311 - acc: 0.7256 - val_loss: 0.6575 - val_acc: 0.7224\n"
     ]
    }
   ],
   "source": [
    "history = model3.fit(Z_train, y_train,\n",
    "                    validation_data = (Z_test, y_test),\n",
    "                    epochs = 30,\n",
    "                    batch_size = 64,\n",
    "                    verbose = 1)"
   ]
  },
  {
   "cell_type": "code",
   "execution_count": 143,
   "id": "352c8e0a-6017-4eb9-b861-c2b8f99cef22",
   "metadata": {},
   "outputs": [],
   "source": [
    "model4 = Sequential()\n",
    "model4.add(Dense(128,\n",
    "                input_shape = (1400,),\n",
    "                activation = 'relu'))\n",
    "model4.add(Dropout(0.2))\n",
    "model4.add(Dense(64, activation = 'relu'))\n",
    "model4.add(Dropout(0.2))\n",
    "model4.add(Dense(32, activation = 'relu'))\n",
    "model4.add(Dense(16, activation = 'relu'))\n",
    "model4.add(Dense(16, activation = 'relu'))\n",
    "\n",
    "model4.add(Dense(10, activation = 'softmax'))\n",
    "\n",
    "model4.compile(loss = 'categorical_crossentropy',\n",
    "              optimizer = 'adam',\n",
    "              metrics = ['acc'])"
   ]
  },
  {
   "cell_type": "code",
   "execution_count": 144,
   "id": "ae4bdf21-436c-455b-9615-c5587b7b2ade",
   "metadata": {},
   "outputs": [
    {
     "name": "stdout",
     "output_type": "stream",
     "text": [
      "Epoch 1/100\n",
      "981/981 [==============================] - 3s 3ms/step - loss: 1.2587 - acc: 0.5102 - val_loss: 1.0496 - val_acc: 0.5841\n",
      "Epoch 2/100\n",
      "981/981 [==============================] - 2s 2ms/step - loss: 1.0361 - acc: 0.5932 - val_loss: 0.9731 - val_acc: 0.6177\n",
      "Epoch 3/100\n",
      "981/981 [==============================] - 2s 3ms/step - loss: 0.9575 - acc: 0.6213 - val_loss: 0.9053 - val_acc: 0.6386\n",
      "Epoch 4/100\n",
      "981/981 [==============================] - 5s 5ms/step - loss: 0.9042 - acc: 0.6354 - val_loss: 0.8620 - val_acc: 0.6531\n",
      "Epoch 5/100\n",
      "981/981 [==============================] - 5s 6ms/step - loss: 0.8673 - acc: 0.6483 - val_loss: 0.8382 - val_acc: 0.6585\n",
      "Epoch 6/100\n",
      "981/981 [==============================] - 4s 5ms/step - loss: 0.8392 - acc: 0.6569 - val_loss: 0.8132 - val_acc: 0.6668\n",
      "Epoch 7/100\n",
      "981/981 [==============================] - 4s 4ms/step - loss: 0.8143 - acc: 0.6651 - val_loss: 0.7959 - val_acc: 0.6740\n",
      "Epoch 8/100\n",
      "981/981 [==============================] - 5s 5ms/step - loss: 0.7959 - acc: 0.6694 - val_loss: 0.7850 - val_acc: 0.6768\n",
      "Epoch 9/100\n",
      "981/981 [==============================] - 5s 5ms/step - loss: 0.7770 - acc: 0.6764 - val_loss: 0.7710 - val_acc: 0.6792\n",
      "Epoch 10/100\n",
      "981/981 [==============================] - 5s 5ms/step - loss: 0.7607 - acc: 0.6821 - val_loss: 0.7601 - val_acc: 0.6839\n",
      "Epoch 11/100\n",
      "981/981 [==============================] - 4s 4ms/step - loss: 0.7475 - acc: 0.6862 - val_loss: 0.7477 - val_acc: 0.6871\n",
      "Epoch 12/100\n",
      "981/981 [==============================] - 4s 4ms/step - loss: 0.7341 - acc: 0.6882 - val_loss: 0.7416 - val_acc: 0.6890\n",
      "Epoch 13/100\n",
      "981/981 [==============================] - 4s 4ms/step - loss: 0.7255 - acc: 0.6920 - val_loss: 0.7290 - val_acc: 0.6932\n",
      "Epoch 14/100\n",
      "981/981 [==============================] - 4s 4ms/step - loss: 0.7133 - acc: 0.6962 - val_loss: 0.7243 - val_acc: 0.6942\n",
      "Epoch 15/100\n",
      "981/981 [==============================] - 4s 4ms/step - loss: 0.7056 - acc: 0.6990 - val_loss: 0.7156 - val_acc: 0.6991\n",
      "Epoch 16/100\n",
      "981/981 [==============================] - 4s 4ms/step - loss: 0.6992 - acc: 0.7026 - val_loss: 0.7039 - val_acc: 0.7008\n",
      "Epoch 17/100\n",
      "981/981 [==============================] - 4s 4ms/step - loss: 0.6888 - acc: 0.7042 - val_loss: 0.7174 - val_acc: 0.7009\n",
      "Epoch 18/100\n",
      "981/981 [==============================] - 4s 4ms/step - loss: 0.6826 - acc: 0.7063 - val_loss: 0.6964 - val_acc: 0.7064\n",
      "Epoch 19/100\n",
      "981/981 [==============================] - 4s 4ms/step - loss: 0.6768 - acc: 0.7097 - val_loss: 0.6924 - val_acc: 0.7086\n",
      "Epoch 20/100\n",
      "981/981 [==============================] - 4s 4ms/step - loss: 0.6711 - acc: 0.7090 - val_loss: 0.6976 - val_acc: 0.7086\n",
      "Epoch 21/100\n",
      "981/981 [==============================] - 4s 4ms/step - loss: 0.6669 - acc: 0.7112 - val_loss: 0.6915 - val_acc: 0.7084\n",
      "Epoch 22/100\n",
      "981/981 [==============================] - 4s 4ms/step - loss: 0.6624 - acc: 0.7134 - val_loss: 0.6847 - val_acc: 0.7121\n",
      "Epoch 23/100\n",
      "981/981 [==============================] - 4s 4ms/step - loss: 0.6558 - acc: 0.7151 - val_loss: 0.6875 - val_acc: 0.7109\n",
      "Epoch 24/100\n",
      "981/981 [==============================] - 4s 4ms/step - loss: 0.6532 - acc: 0.7172 - val_loss: 0.6862 - val_acc: 0.7135\n",
      "Epoch 25/100\n",
      "981/981 [==============================] - 5s 5ms/step - loss: 0.6506 - acc: 0.7184 - val_loss: 0.6840 - val_acc: 0.7128\n",
      "Epoch 26/100\n",
      "981/981 [==============================] - 4s 4ms/step - loss: 0.6454 - acc: 0.7194 - val_loss: 0.6744 - val_acc: 0.7149\n",
      "Epoch 27/100\n",
      "981/981 [==============================] - 6s 6ms/step - loss: 0.6390 - acc: 0.7226 - val_loss: 0.6683 - val_acc: 0.7154\n",
      "Epoch 28/100\n",
      "981/981 [==============================] - 4s 4ms/step - loss: 0.6355 - acc: 0.7225 - val_loss: 0.6662 - val_acc: 0.7169\n",
      "Epoch 29/100\n",
      "981/981 [==============================] - 4s 4ms/step - loss: 0.6353 - acc: 0.7239 - val_loss: 0.6850 - val_acc: 0.7139\n",
      "Epoch 30/100\n",
      "981/981 [==============================] - 4s 4ms/step - loss: 0.6302 - acc: 0.7240 - val_loss: 0.6713 - val_acc: 0.7185\n",
      "Epoch 31/100\n",
      "981/981 [==============================] - 4s 4ms/step - loss: 0.6291 - acc: 0.7254 - val_loss: 0.6699 - val_acc: 0.7177\n",
      "Epoch 32/100\n",
      "981/981 [==============================] - 4s 4ms/step - loss: 0.6261 - acc: 0.7255 - val_loss: 0.6694 - val_acc: 0.7184\n",
      "Epoch 33/100\n",
      "981/981 [==============================] - 4s 4ms/step - loss: 0.6234 - acc: 0.7267 - val_loss: 0.6627 - val_acc: 0.7194\n",
      "Epoch 34/100\n",
      "981/981 [==============================] - 4s 4ms/step - loss: 0.6192 - acc: 0.7281 - val_loss: 0.6586 - val_acc: 0.7235\n",
      "Epoch 35/100\n",
      "981/981 [==============================] - 4s 4ms/step - loss: 0.6190 - acc: 0.7288 - val_loss: 0.6663 - val_acc: 0.7191\n",
      "Epoch 36/100\n",
      "981/981 [==============================] - 4s 4ms/step - loss: 0.6141 - acc: 0.7314 - val_loss: 0.6784 - val_acc: 0.7199\n",
      "Epoch 37/100\n",
      "981/981 [==============================] - 4s 4ms/step - loss: 0.6127 - acc: 0.7311 - val_loss: 0.6718 - val_acc: 0.7198\n",
      "Epoch 38/100\n",
      "981/981 [==============================] - 4s 4ms/step - loss: 0.6126 - acc: 0.7310 - val_loss: 0.6730 - val_acc: 0.7203\n",
      "Epoch 39/100\n",
      "981/981 [==============================] - 4s 4ms/step - loss: 0.6086 - acc: 0.7332 - val_loss: 0.6735 - val_acc: 0.7196\n",
      "Epoch 40/100\n",
      "981/981 [==============================] - 4s 4ms/step - loss: 0.6082 - acc: 0.7328 - val_loss: 0.6649 - val_acc: 0.7226\n",
      "Epoch 41/100\n",
      "981/981 [==============================] - 4s 4ms/step - loss: 0.6055 - acc: 0.7355 - val_loss: 0.6586 - val_acc: 0.7263\n",
      "Epoch 42/100\n",
      "981/981 [==============================] - 4s 4ms/step - loss: 0.6037 - acc: 0.7346 - val_loss: 0.6523 - val_acc: 0.7276\n",
      "Epoch 43/100\n",
      "981/981 [==============================] - 4s 4ms/step - loss: 0.6046 - acc: 0.7352 - val_loss: 0.6715 - val_acc: 0.7221\n",
      "Epoch 44/100\n",
      "981/981 [==============================] - 4s 4ms/step - loss: 0.6022 - acc: 0.7345 - val_loss: 0.6685 - val_acc: 0.7235\n",
      "Epoch 45/100\n",
      "981/981 [==============================] - 4s 4ms/step - loss: 0.5995 - acc: 0.7350 - val_loss: 0.6574 - val_acc: 0.7243\n",
      "Epoch 46/100\n",
      "981/981 [==============================] - 4s 5ms/step - loss: 0.5969 - acc: 0.7367 - val_loss: 0.6620 - val_acc: 0.7220\n",
      "Epoch 47/100\n",
      "981/981 [==============================] - 4s 4ms/step - loss: 0.5951 - acc: 0.7379 - val_loss: 0.6545 - val_acc: 0.7259\n",
      "Epoch 48/100\n",
      "981/981 [==============================] - 4s 4ms/step - loss: 0.5941 - acc: 0.7376 - val_loss: 0.6641 - val_acc: 0.7267\n",
      "Epoch 49/100\n",
      "981/981 [==============================] - 4s 4ms/step - loss: 0.5905 - acc: 0.7389 - val_loss: 0.6457 - val_acc: 0.7307\n",
      "Epoch 50/100\n",
      "981/981 [==============================] - 4s 4ms/step - loss: 0.5897 - acc: 0.7408 - val_loss: 0.6562 - val_acc: 0.7305\n",
      "Epoch 51/100\n",
      "981/981 [==============================] - 4s 4ms/step - loss: 0.5881 - acc: 0.7398 - val_loss: 0.6556 - val_acc: 0.7275\n",
      "Epoch 52/100\n",
      "981/981 [==============================] - 4s 4ms/step - loss: 0.5863 - acc: 0.7413 - val_loss: 0.6564 - val_acc: 0.7293\n",
      "Epoch 53/100\n",
      "981/981 [==============================] - 4s 4ms/step - loss: 0.5854 - acc: 0.7423 - val_loss: 0.6473 - val_acc: 0.7237\n",
      "Epoch 54/100\n",
      "981/981 [==============================] - 4s 4ms/step - loss: 0.5850 - acc: 0.7412 - val_loss: 0.6458 - val_acc: 0.7305\n",
      "Epoch 55/100\n",
      "981/981 [==============================] - 5s 5ms/step - loss: 0.5831 - acc: 0.7425 - val_loss: 0.6419 - val_acc: 0.7310\n",
      "Epoch 56/100\n",
      "981/981 [==============================] - 4s 4ms/step - loss: 0.5815 - acc: 0.7424 - val_loss: 0.6438 - val_acc: 0.7311\n",
      "Epoch 57/100\n",
      "981/981 [==============================] - 5s 5ms/step - loss: 0.5802 - acc: 0.7446 - val_loss: 0.6647 - val_acc: 0.7273\n",
      "Epoch 58/100\n",
      "981/981 [==============================] - 4s 4ms/step - loss: 0.5772 - acc: 0.7459 - val_loss: 0.6479 - val_acc: 0.7304\n",
      "Epoch 59/100\n",
      "981/981 [==============================] - 4s 4ms/step - loss: 0.5806 - acc: 0.7439 - val_loss: 0.6448 - val_acc: 0.7303\n",
      "Epoch 60/100\n",
      "981/981 [==============================] - 4s 4ms/step - loss: 0.5763 - acc: 0.7459 - val_loss: 0.6461 - val_acc: 0.7293\n",
      "Epoch 61/100\n",
      "981/981 [==============================] - 5s 5ms/step - loss: 0.5741 - acc: 0.7459 - val_loss: 0.6439 - val_acc: 0.7303\n",
      "Epoch 62/100\n",
      "981/981 [==============================] - 4s 4ms/step - loss: 0.5715 - acc: 0.7467 - val_loss: 0.6548 - val_acc: 0.7309\n",
      "Epoch 63/100\n",
      "981/981 [==============================] - 4s 4ms/step - loss: 0.5736 - acc: 0.7465 - val_loss: 0.6437 - val_acc: 0.7298\n",
      "Epoch 64/100\n",
      "981/981 [==============================] - 4s 4ms/step - loss: 0.5690 - acc: 0.7486 - val_loss: 0.6477 - val_acc: 0.7275\n",
      "Epoch 65/100\n",
      "981/981 [==============================] - 4s 4ms/step - loss: 0.5692 - acc: 0.7479 - val_loss: 0.6619 - val_acc: 0.7295\n",
      "Epoch 66/100\n",
      "981/981 [==============================] - 4s 5ms/step - loss: 0.5697 - acc: 0.7487 - val_loss: 0.6448 - val_acc: 0.7345\n",
      "Epoch 67/100\n",
      "981/981 [==============================] - 4s 4ms/step - loss: 0.5662 - acc: 0.7487 - val_loss: 0.6597 - val_acc: 0.7336\n",
      "Epoch 68/100\n",
      "981/981 [==============================] - 4s 4ms/step - loss: 0.5662 - acc: 0.7489 - val_loss: 0.6370 - val_acc: 0.7323\n",
      "Epoch 69/100\n",
      "981/981 [==============================] - 4s 4ms/step - loss: 0.5664 - acc: 0.7491 - val_loss: 0.6552 - val_acc: 0.7336\n",
      "Epoch 70/100\n",
      "981/981 [==============================] - 4s 4ms/step - loss: 0.5658 - acc: 0.7494 - val_loss: 0.6608 - val_acc: 0.7332\n",
      "Epoch 71/100\n",
      "981/981 [==============================] - 5s 5ms/step - loss: 0.5630 - acc: 0.7499 - val_loss: 0.6631 - val_acc: 0.7338\n",
      "Epoch 72/100\n",
      "981/981 [==============================] - 4s 4ms/step - loss: 0.5634 - acc: 0.7506 - val_loss: 0.6545 - val_acc: 0.7331\n",
      "Epoch 73/100\n",
      "981/981 [==============================] - 4s 4ms/step - loss: 0.5609 - acc: 0.7507 - val_loss: 0.6648 - val_acc: 0.7323\n",
      "Epoch 74/100\n",
      "981/981 [==============================] - 6s 6ms/step - loss: 0.5611 - acc: 0.7518 - val_loss: 0.6484 - val_acc: 0.7353\n",
      "Epoch 75/100\n",
      "981/981 [==============================] - 4s 4ms/step - loss: 0.5597 - acc: 0.7519 - val_loss: 0.6661 - val_acc: 0.7315\n",
      "Epoch 76/100\n",
      "981/981 [==============================] - 4s 4ms/step - loss: 0.5588 - acc: 0.7511 - val_loss: 0.6441 - val_acc: 0.7330\n",
      "Epoch 77/100\n",
      "981/981 [==============================] - 4s 4ms/step - loss: 0.5583 - acc: 0.7501 - val_loss: 0.6516 - val_acc: 0.7350\n",
      "Epoch 78/100\n",
      "981/981 [==============================] - 4s 4ms/step - loss: 0.5546 - acc: 0.7536 - val_loss: 0.6341 - val_acc: 0.7363\n",
      "Epoch 79/100\n",
      "981/981 [==============================] - 4s 4ms/step - loss: 0.5560 - acc: 0.7530 - val_loss: 0.6423 - val_acc: 0.7304\n",
      "Epoch 80/100\n",
      "981/981 [==============================] - 4s 4ms/step - loss: 0.5528 - acc: 0.7544 - val_loss: 0.6574 - val_acc: 0.7336\n",
      "Epoch 81/100\n",
      "981/981 [==============================] - 4s 4ms/step - loss: 0.5536 - acc: 0.7530 - val_loss: 0.6472 - val_acc: 0.7334\n",
      "Epoch 82/100\n",
      "981/981 [==============================] - 4s 4ms/step - loss: 0.5546 - acc: 0.7540 - val_loss: 0.6455 - val_acc: 0.7359\n",
      "Epoch 83/100\n",
      "981/981 [==============================] - 4s 4ms/step - loss: 0.5542 - acc: 0.7540 - val_loss: 0.6391 - val_acc: 0.7348\n",
      "Epoch 84/100\n",
      "981/981 [==============================] - 4s 4ms/step - loss: 0.5514 - acc: 0.7558 - val_loss: 0.6354 - val_acc: 0.7359\n",
      "Epoch 85/100\n",
      "981/981 [==============================] - 5s 5ms/step - loss: 0.5526 - acc: 0.7542 - val_loss: 0.6324 - val_acc: 0.7343\n",
      "Epoch 86/100\n",
      "981/981 [==============================] - 4s 4ms/step - loss: 0.5492 - acc: 0.7561 - val_loss: 0.6390 - val_acc: 0.7366\n",
      "Epoch 87/100\n",
      "981/981 [==============================] - 4s 4ms/step - loss: 0.5474 - acc: 0.7570 - val_loss: 0.6427 - val_acc: 0.7376\n",
      "Epoch 88/100\n",
      "981/981 [==============================] - 4s 4ms/step - loss: 0.5478 - acc: 0.7557 - val_loss: 0.6509 - val_acc: 0.7345\n",
      "Epoch 89/100\n",
      "981/981 [==============================] - 4s 4ms/step - loss: 0.5481 - acc: 0.7565 - val_loss: 0.6717 - val_acc: 0.7351\n",
      "Epoch 90/100\n",
      "981/981 [==============================] - 4s 4ms/step - loss: 0.5488 - acc: 0.7559 - val_loss: 0.6574 - val_acc: 0.7362\n",
      "Epoch 91/100\n",
      "981/981 [==============================] - 4s 4ms/step - loss: 0.5479 - acc: 0.7558 - val_loss: 0.6491 - val_acc: 0.7348\n",
      "Epoch 92/100\n",
      "981/981 [==============================] - 4s 4ms/step - loss: 0.5442 - acc: 0.7593 - val_loss: 0.6381 - val_acc: 0.7354\n",
      "Epoch 93/100\n",
      "981/981 [==============================] - 5s 5ms/step - loss: 0.5438 - acc: 0.7590 - val_loss: 0.6506 - val_acc: 0.7394\n",
      "Epoch 94/100\n",
      "981/981 [==============================] - 4s 4ms/step - loss: 0.5440 - acc: 0.7590 - val_loss: 0.6462 - val_acc: 0.7391\n",
      "Epoch 95/100\n",
      "981/981 [==============================] - 5s 5ms/step - loss: 0.5422 - acc: 0.7591 - val_loss: 0.6441 - val_acc: 0.7358\n",
      "Epoch 96/100\n",
      "981/981 [==============================] - 5s 5ms/step - loss: 0.5419 - acc: 0.7580 - val_loss: 0.6520 - val_acc: 0.7342\n",
      "Epoch 97/100\n",
      "981/981 [==============================] - 4s 4ms/step - loss: 0.5407 - acc: 0.7611 - val_loss: 0.6459 - val_acc: 0.7376\n",
      "Epoch 98/100\n",
      "981/981 [==============================] - 4s 4ms/step - loss: 0.5401 - acc: 0.7593 - val_loss: 0.6349 - val_acc: 0.7388\n",
      "Epoch 99/100\n",
      "981/981 [==============================] - 4s 4ms/step - loss: 0.5395 - acc: 0.7599 - val_loss: 0.6490 - val_acc: 0.7370\n",
      "Epoch 100/100\n",
      "981/981 [==============================] - 4s 4ms/step - loss: 0.5381 - acc: 0.7606 - val_loss: 0.6609 - val_acc: 0.7366\n"
     ]
    }
   ],
   "source": [
    "history = model4.fit(Z_train, y_train,\n",
    "                    validation_data = (Z_test, y_test),\n",
    "                    epochs = 100,\n",
    "                    batch_size = 128,\n",
    "                    verbose = 1)"
   ]
  },
  {
   "cell_type": "code",
   "execution_count": 145,
   "id": "d33a976b-458e-4cbc-b8a7-485fbb4fce1d",
   "metadata": {},
   "outputs": [],
   "source": [
    "preds4 = model4.predict(Z_test)"
   ]
  },
  {
   "cell_type": "code",
   "execution_count": 146,
   "id": "13e731d5-6095-4aa2-8de7-88cc2b5dd5ae",
   "metadata": {},
   "outputs": [
    {
     "data": {
      "image/png": "[encoded data removed]",
      "text/plain": [
       "<Figure size 720x720 with 2 Axes>"
      ]
     },
     "metadata": {
      "needs_background": "light"
     },
     "output_type": "display_data"
    }
   ],
   "source": [
    "rounded_preds4 = np.argmax(preds4, axis = -1)\n",
    "\n",
    "y_test4 = np.argmax(y_test, axis = -1)\n",
    "\n",
    "cm4 = confusion_matrix(y_test4, rounded_preds4)\n",
    "\n",
    "disp4 = ConfusionMatrixDisplay(confusion_matrix = cm,)\n",
    "fig, ax = plt.subplots(figsize=(10,10))\n",
    "disp.plot(ax=ax);\n"
   ]
  },
  {
   "cell_type": "code",
   "execution_count": null,
   "id": "aa27b1dc-47b8-4981-87de-067f302cc402",
   "metadata": {},
   "outputs": [],
   "source": []
  }
 ],
 "metadata": {
  "kernelspec": {
   "display_name": "Python [conda env:tensorflow]",
   "language": "python",
   "name": "conda-env-tensorflow-py"
  },
  "language_info": {
   "codemirror_mode": {
    "name": "ipython",
    "version": 3
   },
   "file_extension": ".py",
   "mimetype": "text/x-python",
   "name": "python",
   "nbconvert_exporter": "python",
   "pygments_lexer": "ipython3",
   "version": "3.10.4"
  }
 },
 "nbformat": 4,
 "nbformat_minor": 5
}
